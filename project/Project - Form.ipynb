{
 "cells": [
  {
   "cell_type": "markdown",
   "metadata": {},
   "source": [
    "# Project - Formandos terminados"
   ]
  },
  {
   "cell_type": "markdown",
   "metadata": {},
   "source": [
    "## 1 - Imports"
   ]
  },
  {
   "cell_type": "code",
   "execution_count": 1,
   "metadata": {},
   "outputs": [],
   "source": [
    "import pandas as pd\n",
    "from pandas import ExcelWriter\n",
    "from pandas import ExcelFile\n",
    "\n",
    "import seaborn as sn\n",
    "from matplotlib import pyplot as plt"
   ]
  },
  {
   "cell_type": "markdown",
   "metadata": {},
   "source": [
    "## 2 - Read File"
   ]
  },
  {
   "cell_type": "code",
   "execution_count": 2,
   "metadata": {},
   "outputs": [],
   "source": [
    "form = pd.read_excel(\"databases/Formandos_Terminados2018.xlsx\")"
   ]
  },
  {
   "cell_type": "code",
   "execution_count": 3,
   "metadata": {},
   "outputs": [
    {
     "data": {
      "text/plain": [
       "(124056, 63)"
      ]
     },
     "execution_count": 3,
     "metadata": {},
     "output_type": "execute_result"
    }
   ],
   "source": [
    "form.shape"
   ]
  },
  {
   "cell_type": "code",
   "execution_count": 5,
   "metadata": {},
   "outputs": [
    {
     "data": {
      "text/html": [
       "<div>\n",
       "<style scoped>\n",
       "    .dataframe tbody tr th:only-of-type {\n",
       "        vertical-align: middle;\n",
       "    }\n",
       "\n",
       "    .dataframe tbody tr th {\n",
       "        vertical-align: top;\n",
       "    }\n",
       "\n",
       "    .dataframe thead th {\n",
       "        text-align: right;\n",
       "    }\n",
       "</style>\n",
       "<table border=\"1\" class=\"dataframe\">\n",
       "  <thead>\n",
       "    <tr style=\"text-align: right;\">\n",
       "      <th></th>\n",
       "      <th>UTE_ID</th>\n",
       "      <th>CodCEFP</th>\n",
       "      <th>CodMedidaOrcam</th>\n",
       "      <th>Descritivo CodMedidaOrcam</th>\n",
       "      <th>Sexo</th>\n",
       "      <th>DataNascimento</th>\n",
       "      <th>IdadeEmAnos</th>\n",
       "      <th>Categoria</th>\n",
       "      <th>CodHabilitacao</th>\n",
       "      <th>Habilitacao</th>\n",
       "      <th>...</th>\n",
       "      <th>Mes9_Tipo</th>\n",
       "      <th>Mes10</th>\n",
       "      <th>Mes10_Remuneracao</th>\n",
       "      <th>Mes10_Tipo</th>\n",
       "      <th>Mes11</th>\n",
       "      <th>Mes11_Remuneracao</th>\n",
       "      <th>Mes11_Tipo</th>\n",
       "      <th>Mes12</th>\n",
       "      <th>Mes12_Remuneracao</th>\n",
       "      <th>Mes12_Tipo</th>\n",
       "    </tr>\n",
       "  </thead>\n",
       "  <tbody>\n",
       "    <tr>\n",
       "      <th>0</th>\n",
       "      <td>7206</td>\n",
       "      <td>308</td>\n",
       "      <td>D111206</td>\n",
       "      <td>Cursos de Especialização Tecnológica</td>\n",
       "      <td>M</td>\n",
       "      <td>1964-01-18</td>\n",
       "      <td>55</td>\n",
       "      <td>2</td>\n",
       "      <td>12</td>\n",
       "      <td>12 Anos</td>\n",
       "      <td>...</td>\n",
       "      <td>NaN</td>\n",
       "      <td>0</td>\n",
       "      <td>NaN</td>\n",
       "      <td>NaN</td>\n",
       "      <td>0</td>\n",
       "      <td>NaN</td>\n",
       "      <td>NaN</td>\n",
       "      <td>0</td>\n",
       "      <td>NaN</td>\n",
       "      <td>NaN</td>\n",
       "    </tr>\n",
       "    <tr>\n",
       "      <th>1</th>\n",
       "      <td>17170</td>\n",
       "      <td>206</td>\n",
       "      <td>D111206</td>\n",
       "      <td>Cursos de Especialização Tecnológica</td>\n",
       "      <td>F</td>\n",
       "      <td>1976-03-24</td>\n",
       "      <td>42</td>\n",
       "      <td>2</td>\n",
       "      <td>12</td>\n",
       "      <td>12 Anos</td>\n",
       "      <td>...</td>\n",
       "      <td>NaN</td>\n",
       "      <td>1</td>\n",
       "      <td>360.0</td>\n",
       "      <td>TCO</td>\n",
       "      <td>0</td>\n",
       "      <td>NaN</td>\n",
       "      <td>NaN</td>\n",
       "      <td>0</td>\n",
       "      <td>NaN</td>\n",
       "      <td>NaN</td>\n",
       "    </tr>\n",
       "  </tbody>\n",
       "</table>\n",
       "<p>2 rows × 63 columns</p>\n",
       "</div>"
      ],
      "text/plain": [
       "   UTE_ID  CodCEFP CodMedidaOrcam             Descritivo CodMedidaOrcam Sexo  \\\n",
       "0    7206      308        D111206  Cursos de Especialização Tecnológica    M   \n",
       "1   17170      206        D111206  Cursos de Especialização Tecnológica    F   \n",
       "\n",
       "  DataNascimento  IdadeEmAnos  Categoria CodHabilitacao Habilitacao  ...  \\\n",
       "0     1964-01-18           55          2             12     12 Anos  ...   \n",
       "1     1976-03-24           42          2             12     12 Anos  ...   \n",
       "\n",
       "  Mes9_Tipo Mes10 Mes10_Remuneracao Mes10_Tipo  Mes11 Mes11_Remuneracao  \\\n",
       "0       NaN     0               NaN        NaN      0               NaN   \n",
       "1       NaN     1             360.0        TCO      0               NaN   \n",
       "\n",
       "  Mes11_Tipo Mes12 Mes12_Remuneracao  Mes12_Tipo  \n",
       "0        NaN     0               NaN         NaN  \n",
       "1        NaN     0               NaN         NaN  \n",
       "\n",
       "[2 rows x 63 columns]"
      ]
     },
     "execution_count": 5,
     "metadata": {},
     "output_type": "execute_result"
    }
   ],
   "source": [
    "form.head(2)"
   ]
  },
  {
   "cell_type": "markdown",
   "metadata": {},
   "source": [
    "## 3 - Check nulls and variable values"
   ]
  },
  {
   "cell_type": "code",
   "execution_count": 65,
   "metadata": {},
   "outputs": [
    {
     "data": {
      "text/plain": [
       "UTE_ID                           0\n",
       "CodCEFP                          0\n",
       "CodMedidaOrcam                   0\n",
       "Descritivo CodMedidaOrcam        0\n",
       "Sexo                             0\n",
       "                             ...  \n",
       "Mes12                            0\n",
       "Mes12_Remuneracao            88193\n",
       "Mes12_Tipo                   88200\n",
       "SomaMesesRemunerados             0\n",
       "Sucessos                         0\n",
       "Length: 65, dtype: int64"
      ]
     },
     "execution_count": 65,
     "metadata": {},
     "output_type": "execute_result"
    }
   ],
   "source": [
    "form.isnull().sum()"
   ]
  },
  {
   "cell_type": "code",
   "execution_count": 66,
   "metadata": {},
   "outputs": [
    {
     "data": {
      "text/plain": [
       "45"
      ]
     },
     "execution_count": 66,
     "metadata": {},
     "output_type": "execute_result"
    }
   ],
   "source": [
    "# Número de valores únicos da variável AreaFormacao\n",
    "form[\"AreaFormacao\"].nunique()"
   ]
  },
  {
   "cell_type": "code",
   "execution_count": 67,
   "metadata": {},
   "outputs": [
    {
     "data": {
      "text/plain": [
       "array(['Desistente', 'Aprovado', 'Reprovado', 'Sem Classificação'],\n",
       "      dtype=object)"
      ]
     },
     "execution_count": 67,
     "metadata": {},
     "output_type": "execute_result"
    }
   ],
   "source": [
    "# Valores únicos da variável MotivoSaída\n",
    "form['MotivoSaída'].unique()"
   ]
  },
  {
   "cell_type": "markdown",
   "metadata": {},
   "source": [
    "As observações de interesse para o nosso trabalho são as que têm MotivoSaída = Aprovado. Visto que queremos utilizar para a recomendação apenas os utentes que terminaram a formação."
   ]
  },
  {
   "cell_type": "markdown",
   "metadata": {},
   "source": [
    "## 4 - Feature engeneering"
   ]
  },
  {
   "cell_type": "code",
   "execution_count": 6,
   "metadata": {},
   "outputs": [],
   "source": [
    "# Criar DataFrame apenas com formandos aprovados\n",
    "aprovados = form[form['MotivoSaída'] == 'Aprovado']"
   ]
  },
  {
   "cell_type": "markdown",
   "metadata": {},
   "source": [
    "#### 4.1 - Criação da variável SomaMesesRemunerados\n",
    "\n",
    "Apos selecionar os formandos com estado de conclusao «aprovado» vamos criar uma variável que permite quantificar o número de meses remunerados após o final da formação (\"SomaMesesRemunerados\"). \n",
    "Deste modo, é possivel criar uma variavel target com os casos em que existe remuneraçao igual ou superior a 6 meses após conclusão da intervençao (considerados casos positivos pelo IEFP)."
   ]
  },
  {
   "cell_type": "code",
   "execution_count": 7,
   "metadata": {},
   "outputs": [
    {
     "name": "stderr",
     "output_type": "stream",
     "text": [
      "<ipython-input-7-e57d2c68fda5>:1: SettingWithCopyWarning: \n",
      "A value is trying to be set on a copy of a slice from a DataFrame.\n",
      "Try using .loc[row_indexer,col_indexer] = value instead\n",
      "\n",
      "See the caveats in the documentation: https://pandas.pydata.org/pandas-docs/stable/user_guide/indexing.html#returning-a-view-versus-a-copy\n",
      "  aprovados[\"SomaMesesRemunerados\"] = 0\n",
      "<ipython-input-7-e57d2c68fda5>:6: SettingWithCopyWarning: \n",
      "A value is trying to be set on a copy of a slice from a DataFrame.\n",
      "Try using .loc[row_indexer,col_indexer] = value instead\n",
      "\n",
      "See the caveats in the documentation: https://pandas.pydata.org/pandas-docs/stable/user_guide/indexing.html#returning-a-view-versus-a-copy\n",
      "  aprovados[\"SomaMesesRemunerados\"] += aprovados[\"Mes\" + str(mes)]\n"
     ]
    }
   ],
   "source": [
    "aprovados[\"SomaMesesRemunerados\"] = 0\n",
    "form[\"SomaMesesRemunerados\"] = 0\n",
    "\n",
    "for i in range(1, 13):\n",
    "    mes = i\n",
    "    aprovados[\"SomaMesesRemunerados\"] += aprovados[\"Mes\" + str(mes)]\n",
    "    form[\"SomaMesesRemunerados\"] += form[\"Mes\" + str(mes)]"
   ]
  },
  {
   "cell_type": "code",
   "execution_count": 8,
   "metadata": {},
   "outputs": [
    {
     "data": {
      "text/plain": [
       "0     45.166152\n",
       "12    15.074769\n",
       "8      6.128649\n",
       "9      5.805839\n",
       "10     4.781628\n",
       "11     3.749110\n",
       "7      3.677902\n",
       "6      2.877997\n",
       "1      2.657251\n",
       "5      2.634702\n",
       "4      2.554000\n",
       "2      2.448374\n",
       "3      2.443627\n",
       "Name: SomaMesesRemunerados, dtype: float64"
      ]
     },
     "execution_count": 8,
     "metadata": {},
     "output_type": "execute_result"
    }
   ],
   "source": [
    "# Frequencias relativas do número de meses remunerados\n",
    "total = aprovados[\"SomaMesesRemunerados\"].count()\n",
    "estatistica_aprovados = aprovados[\"SomaMesesRemunerados\"].value_counts() / total * 100\n",
    "\n",
    "estatistica_aprovados"
   ]
  },
  {
   "cell_type": "code",
   "execution_count": 9,
   "metadata": {},
   "outputs": [
    {
     "data": {
      "image/png": "[encoded data removed]",
      "text/plain": [
       "<Figure size 576x396 with 1 Axes>"
      ]
     },
     "metadata": {
      "needs_background": "light"
     },
     "output_type": "display_data"
    }
   ],
   "source": [
    "# Gráfico para apresentação de estatísticas\n",
    "plt.style.use('seaborn-notebook')\n",
    "\n",
    "labels=[\"0\", \"1\", \"2\", \"3\", \"4\", \"5\", \"6\", \"7\", \"8\", \"9\", \"10\", \"11\", \"12\"] \n",
    "\n",
    "values = estatistica_aprovados.sort_index()\n",
    "\n",
    "plt.bar(labels, values, width=0.9)\n",
    "plt.title(\"Percentagem de intervenções segundo \\n o número de meses remunerados após formação\", size=18)\n",
    "plt.xlabel(\"Número de meses\")\n",
    "plt.ylabel(\"Percentagem de intervenções\")\n",
    "plt.grid(zorder=0)"
   ]
  },
  {
   "cell_type": "markdown",
   "metadata": {},
   "source": [
    "Podemos observar que cerca de 45% das intervenções não proporcionaram nenhuma remuneração aos utentes, nos 12 meses seguintes ao termino da formação. É ainda importante referir, que o segundo valor mais frequente é o 12, ou seja, maior parte dos utentes remunerados acaba por ficar empregado durante pelo menos 1 ano. "
   ]
  },
  {
   "cell_type": "markdown",
   "metadata": {},
   "source": [
    "#### 4.2 - Criação da variável Sucesso\n",
    "\n",
    "Criação da variável binária sucesso. Um caso de sucesso corresponde a um utente que nos 12 meses após o término da formação teve pelo menos 6 meses remunerados."
   ]
  },
  {
   "cell_type": "code",
   "execution_count": 10,
   "metadata": {},
   "outputs": [
    {
     "name": "stderr",
     "output_type": "stream",
     "text": [
      "<ipython-input-10-d52a863ec067>:3: SettingWithCopyWarning: \n",
      "A value is trying to be set on a copy of a slice from a DataFrame.\n",
      "Try using .loc[row_indexer,col_indexer] = value instead\n",
      "\n",
      "See the caveats in the documentation: https://pandas.pydata.org/pandas-docs/stable/user_guide/indexing.html#returning-a-view-versus-a-copy\n",
      "  aprovados[\"Sucessos\"] = 0\n",
      "<ipython-input-10-d52a863ec067>:6: SettingWithCopyWarning: \n",
      "A value is trying to be set on a copy of a slice from a DataFrame\n",
      "\n",
      "See the caveats in the documentation: https://pandas.pydata.org/pandas-docs/stable/user_guide/indexing.html#returning-a-view-versus-a-copy\n",
      "  form[\"Sucessos\"][(form[\"SomaMesesRemunerados\"] >= 6)] = 1\n",
      "<ipython-input-10-d52a863ec067>:7: SettingWithCopyWarning: \n",
      "A value is trying to be set on a copy of a slice from a DataFrame\n",
      "\n",
      "See the caveats in the documentation: https://pandas.pydata.org/pandas-docs/stable/user_guide/indexing.html#returning-a-view-versus-a-copy\n",
      "  aprovados[\"Sucessos\"][(aprovados[\"SomaMesesRemunerados\"] >= 6)] = 1\n",
      "C:\\Users\\sarro\\anaconda3\\lib\\site-packages\\pandas\\core\\generic.py:8765: SettingWithCopyWarning: \n",
      "A value is trying to be set on a copy of a slice from a DataFrame\n",
      "\n",
      "See the caveats in the documentation: https://pandas.pydata.org/pandas-docs/stable/user_guide/indexing.html#returning-a-view-versus-a-copy\n",
      "  self._update_inplace(new_data)\n"
     ]
    }
   ],
   "source": [
    "# iniciar nova coluna Sucessos, com todos os valores a zero\n",
    "form[\"Sucessos\"] = 0\n",
    "aprovados[\"Sucessos\"] = 0\n",
    "\n",
    "# Para as observações com mais de 6 meses de remuneração atribuir 1 à variável sucesso \n",
    "form[\"Sucessos\"][(form[\"SomaMesesRemunerados\"] >= 6)] = 1\n",
    "aprovados[\"Sucessos\"][(aprovados[\"SomaMesesRemunerados\"] >= 6)] = 1\n",
    "# !!!nota estamos a fazer a estatistica com valores de UTE_ID duplicados em alguns casos devido a prazos distintos"
   ]
  },
  {
   "cell_type": "code",
   "execution_count": 11,
   "metadata": {},
   "outputs": [
    {
     "data": {
      "text/plain": [
       "Text(0, 0.5, 'Número de interveções')"
      ]
     },
     "execution_count": 11,
     "metadata": {},
     "output_type": "execute_result"
    },
    {
     "data": {
      "image/png": "[encoded data removed]",
      "text/plain": [
       "<Figure size 576x396 with 1 Axes>"
      ]
     },
     "metadata": {
      "needs_background": "light"
     },
     "output_type": "display_data"
    }
   ],
   "source": [
    "# Gráfico relativo ao sucesso e insucesso\n",
    "\n",
    "outcome = [\"Sucesso\", \"Insucesso\"]\n",
    "\n",
    "values_succ = aprovados[\"Sucessos\"].value_counts()\n",
    "\n",
    "plt.bar(outcome, values_succ, width=0.9, color=[\"green\", \"red\"])\n",
    "plt.title(\"Quantidade de sucessos e insucessos\", size=18)\n",
    "plt.ylabel(\"Número de interveções\", size=15)"
   ]
  },
  {
   "cell_type": "markdown",
   "metadata": {},
   "source": [
    "#### 4.3 - Criação da variável DuracaoFormacao\n",
    "\n",
    "Criação de uma variável numérica que guarda a informação relativa à duração da formação (data fim - data inicio)"
   ]
  },
  {
   "cell_type": "code",
   "execution_count": 63,
   "metadata": {},
   "outputs": [
    {
     "name": "stderr",
     "output_type": "stream",
     "text": [
      "<ipython-input-63-083b377cb930>:1: SettingWithCopyWarning: \n",
      "A value is trying to be set on a copy of a slice from a DataFrame.\n",
      "Try using .loc[row_indexer,col_indexer] = value instead\n",
      "\n",
      "See the caveats in the documentation: https://pandas.pydata.org/pandas-docs/stable/user_guide/indexing.html#returning-a-view-versus-a-copy\n",
      "  aprovados[\"DuracaoFormacao\"] = aprovados[\"DataFim\"] - aprovados[\"DataInicio\"]\n"
     ]
    }
   ],
   "source": [
    "aprovados[\"DuracaoFormacao\"] = aprovados[\"DataFim\"] - aprovados[\"DataInicio\"]"
   ]
  },
  {
   "cell_type": "markdown",
   "metadata": {},
   "source": [
    "#### 4.4 - Transformação da variavel sexo\n",
    "\n",
    "Codificação da variável Sexo. Os valores 1's correspondem às mulheres e os 0's aos homens."
   ]
  },
  {
   "cell_type": "code",
   "execution_count": 64,
   "metadata": {},
   "outputs": [
    {
     "name": "stderr",
     "output_type": "stream",
     "text": [
      "<ipython-input-64-d1a810bf914c>:2: SettingWithCopyWarning: \n",
      "A value is trying to be set on a copy of a slice from a DataFrame.\n",
      "Try using .loc[row_indexer,col_indexer] = value instead\n",
      "\n",
      "See the caveats in the documentation: https://pandas.pydata.org/pandas-docs/stable/user_guide/indexing.html#returning-a-view-versus-a-copy\n",
      "  aprovados[\"Sexo\"] = pd.get_dummies(aprovados.Sexo)\n"
     ]
    }
   ],
   "source": [
    "# transformação da variável sexo \n",
    "aprovados[\"Sexo\"] = pd.get_dummies(aprovados.Sexo)"
   ]
  },
  {
   "cell_type": "code",
   "execution_count": 65,
   "metadata": {},
   "outputs": [
    {
     "data": {
      "text/plain": [
       "0    52949\n",
       "1    31311\n",
       "Name: Sexo, dtype: int64"
      ]
     },
     "execution_count": 65,
     "metadata": {},
     "output_type": "execute_result"
    }
   ],
   "source": [
    "# verificação\n",
    "aprovados.Sexo.value_counts()"
   ]
  },
  {
   "cell_type": "markdown",
   "metadata": {},
   "source": [
    "#### 4.5 - Transformação da variavel CodHabilitação\n",
    "\n",
    "Como estamos a trabalhar com a variável CodHabilitacao que é categórica ordinal, podemos converte-la numa variável numérica. Deste modo acrescentamos informação à variável. Vamos utilizar a seguinte escala:\n",
    "\n",
    "  - Não Sabe Ler/Escrever - 1\n",
    "  - Ler/Escrever sem grau de Ensino - 2\n",
    "  - 4 Anos - 4\n",
    "  - 6 Anos - 6\n",
    "  - 9 Anos - 9\n",
    "  - 11 Anos - 11\n",
    "  - 12 Anos -12\n",
    "  - Pós-Secundário - 13\n",
    "  - Bacharelato - 14\n",
    "  - Licenciatura - 15\n",
    "  - Mestrado - 17\n",
    "  - Doutoramento - 20\n"
   ]
  },
  {
   "cell_type": "code",
   "execution_count": 66,
   "metadata": {},
   "outputs": [
    {
     "name": "stderr",
     "output_type": "stream",
     "text": [
      "C:\\Users\\sarro\\anaconda3\\lib\\site-packages\\pandas\\core\\indexing.py:966: SettingWithCopyWarning: \n",
      "A value is trying to be set on a copy of a slice from a DataFrame.\n",
      "Try using .loc[row_indexer,col_indexer] = value instead\n",
      "\n",
      "See the caveats in the documentation: https://pandas.pydata.org/pandas-docs/stable/user_guide/indexing.html#returning-a-view-versus-a-copy\n",
      "  self.obj[item] = s\n"
     ]
    }
   ],
   "source": [
    "# alteração dos valores da variável CodHabilitação\n",
    "\n",
    "aprovados.loc[(aprovados.CodHabilitacao == 'NS'),'CodHabilitacao'] = 1\n",
    "aprovados.loc[(aprovados.CodHabilitacao == 'SL'),'CodHabilitacao'] = 2\n",
    "aprovados.loc[(aprovados.CodHabilitacao == '04'),'CodHabilitacao'] = 4\n",
    "aprovados.loc[(aprovados.CodHabilitacao == '06'),'CodHabilitacao'] = 6\n",
    "aprovados.loc[(aprovados.CodHabilitacao == '09'),'CodHabilitacao'] = 9\n",
    "aprovados.loc[(aprovados.CodHabilitacao == '11'),'CodHabilitacao'] = 11\n",
    "aprovados.loc[(aprovados.CodHabilitacao == '11'),'CodHabilitacao'] = 12\n",
    "aprovados.loc[(aprovados.CodHabilitacao == 'PS'),'CodHabilitacao'] = 13\n",
    "aprovados.loc[(aprovados.CodHabilitacao == 'BM'),'CodHabilitacao'] = 14\n",
    "aprovados.loc[(aprovados.CodHabilitacao == 'LC'),'CodHabilitacao'] = 15\n",
    "aprovados.loc[(aprovados.CodHabilitacao == 'MT'),'CodHabilitacao'] = 17\n",
    "aprovados.loc[(aprovados.CodHabilitacao == 'DT'),'CodHabilitacao'] = 20"
   ]
  },
  {
   "cell_type": "code",
   "execution_count": 67,
   "metadata": {},
   "outputs": [
    {
     "data": {
      "text/plain": [
       "12    28373\n",
       "9     22778\n",
       "15     9702\n",
       "6      9401\n",
       "4      6488\n",
       "11     2526\n",
       "2      1959\n",
       "17     1684\n",
       "14      584\n",
       "13      470\n",
       "1       218\n",
       "20       77\n",
       "Name: CodHabilitacao, dtype: int64"
      ]
     },
     "execution_count": 67,
     "metadata": {},
     "output_type": "execute_result"
    }
   ],
   "source": [
    "# verificação da transformação\n",
    "aprovados[\"CodHabilitacao\"].value_counts()"
   ]
  },
  {
   "cell_type": "code",
   "execution_count": 68,
   "metadata": {},
   "outputs": [
    {
     "data": {
      "text/plain": [
       "Text(0.5, 0, 'Nº de ocurrencias')"
      ]
     },
     "execution_count": 68,
     "metadata": {},
     "output_type": "execute_result"
    },
    {
     "data": {
      "image/png": "[encoded data removed]",
      "text/plain": [
       "<Figure size 576x396 with 1 Axes>"
      ]
     },
     "metadata": {
      "needs_background": "light"
     },
     "output_type": "display_data"
    }
   ],
   "source": [
    "# Gráfico relativo ao sucesso e insucesso\n",
    "\n",
    "freq_abs = aprovados[\"Habilitacao\"].value_counts()\n",
    "\n",
    "habilitações = [\"12 Anos\", \"9 Anos\", \"Licenciatura\", \"6 Anos\", \"4 Anos\", \n",
    "                \"11 Anos\", \"Ler/Escrever sem grau de Ensino\", \"Mestrado\", \n",
    "                \"Bacharelato\", \"Pós-Secundário\", \"Não Sabe Ler/Escrever\", \"Doutoramento\"]\n",
    "\n",
    "plt.barh(habilitações, freq_abs, color=[\"#00BFFF\", \"#1E90FF\", \"#4169E1\"])\n",
    "plt.title(\"Habilitações dos utentes que terminaram formações\", size=17)\n",
    "plt.xlabel(\"Nº de ocurrencias\", size=14)"
   ]
  },
  {
   "cell_type": "markdown",
   "metadata": {},
   "source": [
    "############################ coment"
   ]
  },
  {
   "cell_type": "markdown",
   "metadata": {},
   "source": [
    "#### 4.6 - Verificação dos duplicados na variável UTE_ID"
   ]
  },
  {
   "cell_type": "code",
   "execution_count": 69,
   "metadata": {},
   "outputs": [
    {
     "data": {
      "text/plain": [
       "84260"
      ]
     },
     "execution_count": 69,
     "metadata": {},
     "output_type": "execute_result"
    }
   ],
   "source": [
    "total = aprovados['UTE_ID'].count()\n",
    "total"
   ]
  },
  {
   "cell_type": "code",
   "execution_count": 70,
   "metadata": {},
   "outputs": [
    {
     "data": {
      "text/plain": [
       "72343"
      ]
     },
     "execution_count": 70,
     "metadata": {},
     "output_type": "execute_result"
    }
   ],
   "source": [
    "unicos = aprovados['UTE_ID'].nunique()\n",
    "unicos"
   ]
  },
  {
   "cell_type": "code",
   "execution_count": 71,
   "metadata": {},
   "outputs": [
    {
     "name": "stdout",
     "output_type": "stream",
     "text": [
      "Existem 11917 UTE_ID's repetidos\n"
     ]
    }
   ],
   "source": [
    "# calcular o número de UTE_ID's repetidos\n",
    "duplicados = total - unicos\n",
    "print(\"Existem \" + str(duplicados) + \" UTE_ID's repetidos\")"
   ]
  },
  {
   "cell_type": "code",
   "execution_count": 72,
   "metadata": {},
   "outputs": [
    {
     "data": {
      "text/html": [
       "<div>\n",
       "<style scoped>\n",
       "    .dataframe tbody tr th:only-of-type {\n",
       "        vertical-align: middle;\n",
       "    }\n",
       "\n",
       "    .dataframe tbody tr th {\n",
       "        vertical-align: top;\n",
       "    }\n",
       "\n",
       "    .dataframe thead th {\n",
       "        text-align: right;\n",
       "    }\n",
       "</style>\n",
       "<table border=\"1\" class=\"dataframe\">\n",
       "  <thead>\n",
       "    <tr style=\"text-align: right;\">\n",
       "      <th></th>\n",
       "      <th>UTE_ID</th>\n",
       "      <th>CodCEFP</th>\n",
       "      <th>CodMedidaOrcam</th>\n",
       "      <th>Descritivo CodMedidaOrcam</th>\n",
       "      <th>Sexo</th>\n",
       "      <th>DataNascimento</th>\n",
       "      <th>IdadeEmAnos</th>\n",
       "      <th>Categoria</th>\n",
       "      <th>CodHabilitacao</th>\n",
       "      <th>Habilitacao</th>\n",
       "      <th>...</th>\n",
       "      <th>Mes10_Remuneracao</th>\n",
       "      <th>Mes10_Tipo</th>\n",
       "      <th>Mes11</th>\n",
       "      <th>Mes11_Remuneracao</th>\n",
       "      <th>Mes11_Tipo</th>\n",
       "      <th>Mes12</th>\n",
       "      <th>Mes12_Remuneracao</th>\n",
       "      <th>Mes12_Tipo</th>\n",
       "      <th>SomaMesesRemunerados</th>\n",
       "      <th>Sucessos</th>\n",
       "    </tr>\n",
       "  </thead>\n",
       "  <tbody>\n",
       "    <tr>\n",
       "      <th>571</th>\n",
       "      <td>4485606</td>\n",
       "      <td>134</td>\n",
       "      <td>D111201</td>\n",
       "      <td>Cursos de Aprendizagem - Gestão Direta</td>\n",
       "      <td>M</td>\n",
       "      <td>1994-04-30</td>\n",
       "      <td>24</td>\n",
       "      <td>2</td>\n",
       "      <td>09</td>\n",
       "      <td>9 Anos</td>\n",
       "      <td>...</td>\n",
       "      <td>NaN</td>\n",
       "      <td>NaN</td>\n",
       "      <td>0</td>\n",
       "      <td>NaN</td>\n",
       "      <td>NaN</td>\n",
       "      <td>0</td>\n",
       "      <td>NaN</td>\n",
       "      <td>NaN</td>\n",
       "      <td>3</td>\n",
       "      <td>0</td>\n",
       "    </tr>\n",
       "    <tr>\n",
       "      <th>572</th>\n",
       "      <td>4485606</td>\n",
       "      <td>134</td>\n",
       "      <td>D111202</td>\n",
       "      <td>Cursos de Aprendizagem - Entidades Externas</td>\n",
       "      <td>M</td>\n",
       "      <td>1994-04-30</td>\n",
       "      <td>24</td>\n",
       "      <td>2</td>\n",
       "      <td>09</td>\n",
       "      <td>9 Anos</td>\n",
       "      <td>...</td>\n",
       "      <td>NaN</td>\n",
       "      <td>NaN</td>\n",
       "      <td>0</td>\n",
       "      <td>NaN</td>\n",
       "      <td>NaN</td>\n",
       "      <td>0</td>\n",
       "      <td>NaN</td>\n",
       "      <td>NaN</td>\n",
       "      <td>1</td>\n",
       "      <td>0</td>\n",
       "    </tr>\n",
       "  </tbody>\n",
       "</table>\n",
       "<p>2 rows × 65 columns</p>\n",
       "</div>"
      ],
      "text/plain": [
       "      UTE_ID  CodCEFP CodMedidaOrcam  \\\n",
       "571  4485606      134        D111201   \n",
       "572  4485606      134        D111202   \n",
       "\n",
       "                       Descritivo CodMedidaOrcam Sexo DataNascimento  \\\n",
       "571       Cursos de Aprendizagem - Gestão Direta    M     1994-04-30   \n",
       "572  Cursos de Aprendizagem - Entidades Externas    M     1994-04-30   \n",
       "\n",
       "     IdadeEmAnos  Categoria CodHabilitacao Habilitacao  ... Mes10_Remuneracao  \\\n",
       "571           24          2             09      9 Anos  ...               NaN   \n",
       "572           24          2             09      9 Anos  ...               NaN   \n",
       "\n",
       "    Mes10_Tipo Mes11 Mes11_Remuneracao  Mes11_Tipo Mes12 Mes12_Remuneracao  \\\n",
       "571        NaN     0               NaN         NaN     0               NaN   \n",
       "572        NaN     0               NaN         NaN     0               NaN   \n",
       "\n",
       "    Mes12_Tipo SomaMesesRemunerados  Sucessos  \n",
       "571        NaN                    3         0  \n",
       "572        NaN                    1         0  \n",
       "\n",
       "[2 rows x 65 columns]"
      ]
     },
     "execution_count": 72,
     "metadata": {},
     "output_type": "execute_result"
    }
   ],
   "source": [
    "# Verificar duas observações com o mesmo UTE_ID\n",
    "form[form['UTE_ID'] == 4485606]"
   ]
  },
  {
   "cell_type": "code",
   "execution_count": 73,
   "metadata": {},
   "outputs": [
    {
     "data": {
      "text/plain": [
       "571   2018-11-09\n",
       "572   2018-03-20\n",
       "Name: DataFim, dtype: datetime64[ns]"
      ]
     },
     "execution_count": 73,
     "metadata": {},
     "output_type": "execute_result"
    }
   ],
   "source": [
    "# ??\n",
    "form.DataFim[form.UTE_ID==4485606]"
   ]
  },
  {
   "cell_type": "code",
   "execution_count": 74,
   "metadata": {},
   "outputs": [
    {
     "data": {
      "text/html": [
       "<div>\n",
       "<style scoped>\n",
       "    .dataframe tbody tr th:only-of-type {\n",
       "        vertical-align: middle;\n",
       "    }\n",
       "\n",
       "    .dataframe tbody tr th {\n",
       "        vertical-align: top;\n",
       "    }\n",
       "\n",
       "    .dataframe thead th {\n",
       "        text-align: right;\n",
       "    }\n",
       "</style>\n",
       "<table border=\"1\" class=\"dataframe\">\n",
       "  <thead>\n",
       "    <tr style=\"text-align: right;\">\n",
       "      <th></th>\n",
       "      <th>UTE_ID</th>\n",
       "      <th>CodCEFP</th>\n",
       "      <th>CodMedidaOrcam</th>\n",
       "      <th>Descritivo CodMedidaOrcam</th>\n",
       "      <th>Sexo</th>\n",
       "      <th>DataNascimento</th>\n",
       "      <th>IdadeEmAnos</th>\n",
       "      <th>Categoria</th>\n",
       "      <th>CodHabilitacao</th>\n",
       "      <th>Habilitacao</th>\n",
       "      <th>...</th>\n",
       "      <th>Mes10_Remuneracao</th>\n",
       "      <th>Mes10_Tipo</th>\n",
       "      <th>Mes11</th>\n",
       "      <th>Mes11_Remuneracao</th>\n",
       "      <th>Mes11_Tipo</th>\n",
       "      <th>Mes12</th>\n",
       "      <th>Mes12_Remuneracao</th>\n",
       "      <th>Mes12_Tipo</th>\n",
       "      <th>SomaMesesRemunerados</th>\n",
       "      <th>Sucessos</th>\n",
       "    </tr>\n",
       "  </thead>\n",
       "  <tbody>\n",
       "    <tr>\n",
       "      <th>141</th>\n",
       "      <td>1864123</td>\n",
       "      <td>315</td>\n",
       "      <td>D111206</td>\n",
       "      <td>Cursos de Especialização Tecnológica</td>\n",
       "      <td>M</td>\n",
       "      <td>1964-04-05</td>\n",
       "      <td>54</td>\n",
       "      <td>2</td>\n",
       "      <td>PS</td>\n",
       "      <td>Pós-Secundário</td>\n",
       "      <td>...</td>\n",
       "      <td>729.0</td>\n",
       "      <td>TCO</td>\n",
       "      <td>0</td>\n",
       "      <td>NaN</td>\n",
       "      <td>NaN</td>\n",
       "      <td>0</td>\n",
       "      <td>NaN</td>\n",
       "      <td>NaN</td>\n",
       "      <td>2</td>\n",
       "      <td>0</td>\n",
       "    </tr>\n",
       "    <tr>\n",
       "      <th>326</th>\n",
       "      <td>3432294</td>\n",
       "      <td>313</td>\n",
       "      <td>D111206</td>\n",
       "      <td>Cursos de Especialização Tecnológica</td>\n",
       "      <td>M</td>\n",
       "      <td>1986-04-02</td>\n",
       "      <td>32</td>\n",
       "      <td>2</td>\n",
       "      <td>12</td>\n",
       "      <td>12 Anos</td>\n",
       "      <td>...</td>\n",
       "      <td>NaN</td>\n",
       "      <td>NaN</td>\n",
       "      <td>0</td>\n",
       "      <td>NaN</td>\n",
       "      <td>NaN</td>\n",
       "      <td>0</td>\n",
       "      <td>NaN</td>\n",
       "      <td>NaN</td>\n",
       "      <td>0</td>\n",
       "      <td>0</td>\n",
       "    </tr>\n",
       "    <tr>\n",
       "      <th>412</th>\n",
       "      <td>4065237</td>\n",
       "      <td>401</td>\n",
       "      <td>D111202</td>\n",
       "      <td>Cursos de Aprendizagem - Entidades Externas</td>\n",
       "      <td>F</td>\n",
       "      <td>1990-01-02</td>\n",
       "      <td>29</td>\n",
       "      <td>2</td>\n",
       "      <td>09</td>\n",
       "      <td>9 Anos</td>\n",
       "      <td>...</td>\n",
       "      <td>166.0</td>\n",
       "      <td>TCO</td>\n",
       "      <td>0</td>\n",
       "      <td>NaN</td>\n",
       "      <td>NaN</td>\n",
       "      <td>0</td>\n",
       "      <td>NaN</td>\n",
       "      <td>NaN</td>\n",
       "      <td>10</td>\n",
       "      <td>1</td>\n",
       "    </tr>\n",
       "    <tr>\n",
       "      <th>518</th>\n",
       "      <td>4379984</td>\n",
       "      <td>206</td>\n",
       "      <td>D111202</td>\n",
       "      <td>Cursos de Aprendizagem - Entidades Externas</td>\n",
       "      <td>F</td>\n",
       "      <td>1993-10-26</td>\n",
       "      <td>25</td>\n",
       "      <td>1</td>\n",
       "      <td>09</td>\n",
       "      <td>9 Anos</td>\n",
       "      <td>...</td>\n",
       "      <td>NaN</td>\n",
       "      <td>NaN</td>\n",
       "      <td>0</td>\n",
       "      <td>NaN</td>\n",
       "      <td>NaN</td>\n",
       "      <td>0</td>\n",
       "      <td>NaN</td>\n",
       "      <td>NaN</td>\n",
       "      <td>0</td>\n",
       "      <td>0</td>\n",
       "    </tr>\n",
       "    <tr>\n",
       "      <th>572</th>\n",
       "      <td>4485606</td>\n",
       "      <td>134</td>\n",
       "      <td>D111202</td>\n",
       "      <td>Cursos de Aprendizagem - Entidades Externas</td>\n",
       "      <td>M</td>\n",
       "      <td>1994-04-30</td>\n",
       "      <td>24</td>\n",
       "      <td>2</td>\n",
       "      <td>09</td>\n",
       "      <td>9 Anos</td>\n",
       "      <td>...</td>\n",
       "      <td>NaN</td>\n",
       "      <td>NaN</td>\n",
       "      <td>0</td>\n",
       "      <td>NaN</td>\n",
       "      <td>NaN</td>\n",
       "      <td>0</td>\n",
       "      <td>NaN</td>\n",
       "      <td>NaN</td>\n",
       "      <td>1</td>\n",
       "      <td>0</td>\n",
       "    </tr>\n",
       "  </tbody>\n",
       "</table>\n",
       "<p>5 rows × 65 columns</p>\n",
       "</div>"
      ],
      "text/plain": [
       "      UTE_ID  CodCEFP CodMedidaOrcam  \\\n",
       "141  1864123      315        D111206   \n",
       "326  3432294      313        D111206   \n",
       "412  4065237      401        D111202   \n",
       "518  4379984      206        D111202   \n",
       "572  4485606      134        D111202   \n",
       "\n",
       "                       Descritivo CodMedidaOrcam Sexo DataNascimento  \\\n",
       "141         Cursos de Especialização Tecnológica    M     1964-04-05   \n",
       "326         Cursos de Especialização Tecnológica    M     1986-04-02   \n",
       "412  Cursos de Aprendizagem - Entidades Externas    F     1990-01-02   \n",
       "518  Cursos de Aprendizagem - Entidades Externas    F     1993-10-26   \n",
       "572  Cursos de Aprendizagem - Entidades Externas    M     1994-04-30   \n",
       "\n",
       "     IdadeEmAnos  Categoria CodHabilitacao     Habilitacao  ...  \\\n",
       "141           54          2             PS  Pós-Secundário  ...   \n",
       "326           32          2             12         12 Anos  ...   \n",
       "412           29          2             09          9 Anos  ...   \n",
       "518           25          1             09          9 Anos  ...   \n",
       "572           24          2             09          9 Anos  ...   \n",
       "\n",
       "    Mes10_Remuneracao Mes10_Tipo Mes11 Mes11_Remuneracao  Mes11_Tipo Mes12  \\\n",
       "141             729.0        TCO     0               NaN         NaN     0   \n",
       "326               NaN        NaN     0               NaN         NaN     0   \n",
       "412             166.0        TCO     0               NaN         NaN     0   \n",
       "518               NaN        NaN     0               NaN         NaN     0   \n",
       "572               NaN        NaN     0               NaN         NaN     0   \n",
       "\n",
       "    Mes12_Remuneracao Mes12_Tipo SomaMesesRemunerados  Sucessos  \n",
       "141               NaN        NaN                    2         0  \n",
       "326               NaN        NaN                    0         0  \n",
       "412               NaN        NaN                   10         1  \n",
       "518               NaN        NaN                    0         0  \n",
       "572               NaN        NaN                    1         0  \n",
       "\n",
       "[5 rows x 65 columns]"
      ]
     },
     "execution_count": 74,
     "metadata": {},
     "output_type": "execute_result"
    }
   ],
   "source": [
    "#!!! avaliar alguns dos duplicados\n",
    "\n",
    "duplicados = form.duplicated(subset=['UTE_ID'])\n",
    "teste_duplicados = form[duplicados]\n",
    "teste_duplicados.head(5)"
   ]
  },
  {
   "cell_type": "markdown",
   "metadata": {},
   "source": [
    "## 5 - Criação do dataset final"
   ]
  },
  {
   "cell_type": "code",
   "execution_count": 75,
   "metadata": {},
   "outputs": [
    {
     "data": {
      "text/plain": [
       "Index(['UTE_ID', 'CodCEFP', 'CodMedidaOrcam', 'Descritivo CodMedidaOrcam',\n",
       "       'Sexo', 'DataNascimento', 'IdadeEmAnos', 'Categoria', 'CodHabilitacao',\n",
       "       'Habilitacao', 'CodFreguesia', 'Freguesia', 'CodNacionalidade',\n",
       "       'DNACIONALIDADE', 'CodDeficiencia', 'Deficiente', 'DataInscricao',\n",
       "       'DataInicio', 'DataFim', 'CodMotivoSaida', 'MotivoSaída', 'HorasForm',\n",
       "       'AreaFormacao', 'DescAreaFormacaoEscolar', 'NivelFormacaoAccao',\n",
       "       'CodSaidaProfissional', 'SaídaProfissional', 'Mes1', 'Mes1_Remuneracao',\n",
       "       'Mes1_Tipo', 'Mes2', 'Mes2_Remuneracao', 'Mes2_Tipo', 'Mes3',\n",
       "       'Mes3_Remuneracao', 'Mes3_Tipo', 'Mes4', 'Mes4_Remuneracao',\n",
       "       'Mes4_Tipo', 'Mes5', 'Mes5_Remuneracao', 'Mes5_Tipo', 'Mes6',\n",
       "       'Mes6_Remuneracao', 'Mes6_Tipo', 'Mes7', 'Mes7_Remuneracao',\n",
       "       'Mes7_Tipo', 'Mes8', 'Mes8_Remuneracao', 'Mes8_Tipo', 'Mes9',\n",
       "       'Mes9_Remuneracao', 'Mes9_Tipo', 'Mes10', 'Mes10_Remuneracao',\n",
       "       'Mes10_Tipo', 'Mes11', 'Mes11_Remuneracao', 'Mes11_Tipo', 'Mes12',\n",
       "       'Mes12_Remuneracao', 'Mes12_Tipo', 'SomaMesesRemunerados', 'Sucessos',\n",
       "       'DuracaoFormacao'],\n",
       "      dtype='object')"
      ]
     },
     "execution_count": 75,
     "metadata": {},
     "output_type": "execute_result"
    }
   ],
   "source": [
    "aprovados.columns"
   ]
  },
  {
   "cell_type": "code",
   "execution_count": 76,
   "metadata": {},
   "outputs": [
    {
     "data": {
      "text/plain": [
       "Index(['UTE_ID', 'CodCEFP', 'Sexo', 'CodHabilitacao', 'CodNacionalidade',\n",
       "       'HorasForm', 'AreaFormacao', 'NivelFormacaoAccao',\n",
       "       'CodSaidaProfissional', 'Sucessos', 'DuracaoFormacao'],\n",
       "      dtype='object')"
      ]
     },
     "execution_count": 76,
     "metadata": {},
     "output_type": "execute_result"
    }
   ],
   "source": [
    "final = aprovados.iloc[:, [0, 1, 4, 8, 12, 21, 22, 24, 25, 64, 65]]\n",
    "final.columns"
   ]
  },
  {
   "cell_type": "code",
   "execution_count": 77,
   "metadata": {},
   "outputs": [
    {
     "data": {
      "text/plain": [
       "(84260, 11)"
      ]
     },
     "execution_count": 77,
     "metadata": {},
     "output_type": "execute_result"
    }
   ],
   "source": [
    "final.shape"
   ]
  },
  {
   "cell_type": "code",
   "execution_count": 78,
   "metadata": {},
   "outputs": [
    {
     "data": {
      "text/plain": [
       "UTE_ID                     0\n",
       "CodCEFP                    0\n",
       "Sexo                       0\n",
       "CodHabilitacao             0\n",
       "CodNacionalidade           0\n",
       "HorasForm                523\n",
       "AreaFormacao               0\n",
       "NivelFormacaoAccao         0\n",
       "CodSaidaProfissional    2686\n",
       "Sucessos                   0\n",
       "DuracaoFormacao            0\n",
       "dtype: int64"
      ]
     },
     "execution_count": 78,
     "metadata": {},
     "output_type": "execute_result"
    }
   ],
   "source": [
    "final.isnull().sum()"
   ]
  },
  {
   "cell_type": "code",
   "execution_count": 79,
   "metadata": {},
   "outputs": [
    {
     "data": {
      "text/html": [
       "<div>\n",
       "<style scoped>\n",
       "    .dataframe tbody tr th:only-of-type {\n",
       "        vertical-align: middle;\n",
       "    }\n",
       "\n",
       "    .dataframe tbody tr th {\n",
       "        vertical-align: top;\n",
       "    }\n",
       "\n",
       "    .dataframe thead th {\n",
       "        text-align: right;\n",
       "    }\n",
       "</style>\n",
       "<table border=\"1\" class=\"dataframe\">\n",
       "  <thead>\n",
       "    <tr style=\"text-align: right;\">\n",
       "      <th></th>\n",
       "      <th>UTE_ID</th>\n",
       "      <th>CodCEFP</th>\n",
       "      <th>Sexo</th>\n",
       "      <th>HorasForm</th>\n",
       "      <th>AreaFormacao</th>\n",
       "      <th>Sucessos</th>\n",
       "      <th>DuracaoFormacao</th>\n",
       "    </tr>\n",
       "  </thead>\n",
       "  <tbody>\n",
       "    <tr>\n",
       "      <th>count</th>\n",
       "      <td>8.426000e+04</td>\n",
       "      <td>84260.000000</td>\n",
       "      <td>84260.000000</td>\n",
       "      <td>83737.000000</td>\n",
       "      <td>84260.000000</td>\n",
       "      <td>84260.000000</td>\n",
       "      <td>84260</td>\n",
       "    </tr>\n",
       "    <tr>\n",
       "      <th>mean</th>\n",
       "      <td>3.814435e+06</td>\n",
       "      <td>246.212165</td>\n",
       "      <td>0.371600</td>\n",
       "      <td>209.233266</td>\n",
       "      <td>569.551851</td>\n",
       "      <td>0.420959</td>\n",
       "      <td>144 days 22:27:30.548303</td>\n",
       "    </tr>\n",
       "    <tr>\n",
       "      <th>std</th>\n",
       "      <td>2.115313e+06</td>\n",
       "      <td>104.918408</td>\n",
       "      <td>0.483235</td>\n",
       "      <td>293.696885</td>\n",
       "      <td>230.026076</td>\n",
       "      <td>0.493716</td>\n",
       "      <td>205 days 11:12:22.074370</td>\n",
       "    </tr>\n",
       "    <tr>\n",
       "      <th>min</th>\n",
       "      <td>1.070000e+02</td>\n",
       "      <td>122.000000</td>\n",
       "      <td>0.000000</td>\n",
       "      <td>0.000000</td>\n",
       "      <td>10.000000</td>\n",
       "      <td>0.000000</td>\n",
       "      <td>0 days 00:00:00</td>\n",
       "    </tr>\n",
       "    <tr>\n",
       "      <th>25%</th>\n",
       "      <td>1.956730e+06</td>\n",
       "      <td>134.000000</td>\n",
       "      <td>0.000000</td>\n",
       "      <td>25.000000</td>\n",
       "      <td>344.000000</td>\n",
       "      <td>0.000000</td>\n",
       "      <td>25 days 00:00:00</td>\n",
       "    </tr>\n",
       "    <tr>\n",
       "      <th>50%</th>\n",
       "      <td>3.832564e+06</td>\n",
       "      <td>206.000000</td>\n",
       "      <td>0.000000</td>\n",
       "      <td>100.000000</td>\n",
       "      <td>542.000000</td>\n",
       "      <td>0.000000</td>\n",
       "      <td>69 days 00:00:00</td>\n",
       "    </tr>\n",
       "    <tr>\n",
       "      <th>75%</th>\n",
       "      <td>6.116765e+06</td>\n",
       "      <td>312.000000</td>\n",
       "      <td>1.000000</td>\n",
       "      <td>206.000000</td>\n",
       "      <td>762.000000</td>\n",
       "      <td>1.000000</td>\n",
       "      <td>131 days 00:00:00</td>\n",
       "    </tr>\n",
       "    <tr>\n",
       "      <th>max</th>\n",
       "      <td>6.831598e+06</td>\n",
       "      <td>502.000000</td>\n",
       "      <td>1.000000</td>\n",
       "      <td>2302.000000</td>\n",
       "      <td>999.000000</td>\n",
       "      <td>1.000000</td>\n",
       "      <td>1082 days 00:00:00</td>\n",
       "    </tr>\n",
       "  </tbody>\n",
       "</table>\n",
       "</div>"
      ],
      "text/plain": [
       "             UTE_ID       CodCEFP          Sexo     HorasForm  AreaFormacao  \\\n",
       "count  8.426000e+04  84260.000000  84260.000000  83737.000000  84260.000000   \n",
       "mean   3.814435e+06    246.212165      0.371600    209.233266    569.551851   \n",
       "std    2.115313e+06    104.918408      0.483235    293.696885    230.026076   \n",
       "min    1.070000e+02    122.000000      0.000000      0.000000     10.000000   \n",
       "25%    1.956730e+06    134.000000      0.000000     25.000000    344.000000   \n",
       "50%    3.832564e+06    206.000000      0.000000    100.000000    542.000000   \n",
       "75%    6.116765e+06    312.000000      1.000000    206.000000    762.000000   \n",
       "max    6.831598e+06    502.000000      1.000000   2302.000000    999.000000   \n",
       "\n",
       "           Sucessos           DuracaoFormacao  \n",
       "count  84260.000000                     84260  \n",
       "mean       0.420959  144 days 22:27:30.548303  \n",
       "std        0.493716  205 days 11:12:22.074370  \n",
       "min        0.000000           0 days 00:00:00  \n",
       "25%        0.000000          25 days 00:00:00  \n",
       "50%        0.000000          69 days 00:00:00  \n",
       "75%        1.000000         131 days 00:00:00  \n",
       "max        1.000000        1082 days 00:00:00  "
      ]
     },
     "execution_count": 79,
     "metadata": {},
     "output_type": "execute_result"
    }
   ],
   "source": [
    "final.describe()"
   ]
  },
  {
   "cell_type": "code",
   "execution_count": 59,
   "metadata": {},
   "outputs": [],
   "source": [
    "final.to_csv(\"databases/formandos_limpo.csv\")"
   ]
  }
 ],
 "metadata": {
  "kernelspec": {
   "display_name": "Python 3",
   "language": "python",
   "name": "python3"
  },
  "language_info": {
   "codemirror_mode": {
    "name": "ipython",
    "version": 3
   },
   "file_extension": ".py",
   "mimetype": "text/x-python",
   "name": "python",
   "nbconvert_exporter": "python",
   "pygments_lexer": "ipython3",
   "version": "3.8.3"
  }
 },
 "nbformat": 4,
 "nbformat_minor": 4
}
