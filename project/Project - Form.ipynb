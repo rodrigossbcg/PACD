{
 "cells": [
  {
   "cell_type": "markdown",
   "metadata": {},
   "source": [
    "<img src=\"images/intro.jpeg\">"
   ]
  },
  {
   "cell_type": "markdown",
   "metadata": {},
   "source": [
    "# Project - Formandos terminados"
   ]
  },
  {
   "cell_type": "markdown",
   "metadata": {},
   "source": [
    "<div style=\"background-color: #2f648a; border-radius: 5px;\"> \n",
    "    <center><h1 style=\"color: white; padding: 20px;\">1. Imports</h1></center>\n",
    "</div>"
   ]
  },
  {
   "cell_type": "code",
   "execution_count": 6,
   "metadata": {},
   "outputs": [],
   "source": [
    "import pandas as pd\n",
    "from pandas import ExcelWriter\n",
    "from pandas import ExcelFile\n",
    "\n",
    "import seaborn as sn\n",
    "from matplotlib import pyplot as plt"
   ]
  },
  {
   "cell_type": "markdown",
   "metadata": {},
   "source": [
    "<div style=\"background-color: #2f648a; border-radius: 5px;\"> \n",
    "    <center><h1 style=\"color: white; padding: 20px;\">2. Read File</h1></center>\n",
    "</div>"
   ]
  },
  {
   "cell_type": "code",
   "execution_count": 7,
   "metadata": {},
   "outputs": [],
   "source": [
    "form = pd.read_excel(\"databases/Formandos_Terminados2018.xlsx\")"
   ]
  },
  {
   "cell_type": "code",
   "execution_count": 8,
   "metadata": {},
   "outputs": [
    {
     "data": {
      "text/plain": [
       "(124056, 63)"
      ]
     },
     "execution_count": 8,
     "metadata": {},
     "output_type": "execute_result"
    }
   ],
   "source": [
    "form.shape"
   ]
  },
  {
   "cell_type": "code",
   "execution_count": 9,
   "metadata": {},
   "outputs": [
    {
     "data": {
      "text/html": [
       "<div>\n",
       "<style scoped>\n",
       "    .dataframe tbody tr th:only-of-type {\n",
       "        vertical-align: middle;\n",
       "    }\n",
       "\n",
       "    .dataframe tbody tr th {\n",
       "        vertical-align: top;\n",
       "    }\n",
       "\n",
       "    .dataframe thead th {\n",
       "        text-align: right;\n",
       "    }\n",
       "</style>\n",
       "<table border=\"1\" class=\"dataframe\">\n",
       "  <thead>\n",
       "    <tr style=\"text-align: right;\">\n",
       "      <th></th>\n",
       "      <th>UTE_ID</th>\n",
       "      <th>CodCEFP</th>\n",
       "      <th>CodMedidaOrcam</th>\n",
       "      <th>Descritivo CodMedidaOrcam</th>\n",
       "      <th>Sexo</th>\n",
       "      <th>DataNascimento</th>\n",
       "      <th>IdadeEmAnos</th>\n",
       "      <th>Categoria</th>\n",
       "      <th>CodHabilitacao</th>\n",
       "      <th>Habilitacao</th>\n",
       "      <th>...</th>\n",
       "      <th>Mes9_Tipo</th>\n",
       "      <th>Mes10</th>\n",
       "      <th>Mes10_Remuneracao</th>\n",
       "      <th>Mes10_Tipo</th>\n",
       "      <th>Mes11</th>\n",
       "      <th>Mes11_Remuneracao</th>\n",
       "      <th>Mes11_Tipo</th>\n",
       "      <th>Mes12</th>\n",
       "      <th>Mes12_Remuneracao</th>\n",
       "      <th>Mes12_Tipo</th>\n",
       "    </tr>\n",
       "  </thead>\n",
       "  <tbody>\n",
       "    <tr>\n",
       "      <th>0</th>\n",
       "      <td>7206</td>\n",
       "      <td>308</td>\n",
       "      <td>D111206</td>\n",
       "      <td>Cursos de Especialização Tecnológica</td>\n",
       "      <td>M</td>\n",
       "      <td>1964-01-18</td>\n",
       "      <td>55</td>\n",
       "      <td>2</td>\n",
       "      <td>12</td>\n",
       "      <td>12 Anos</td>\n",
       "      <td>...</td>\n",
       "      <td>NaN</td>\n",
       "      <td>0</td>\n",
       "      <td>NaN</td>\n",
       "      <td>NaN</td>\n",
       "      <td>0</td>\n",
       "      <td>NaN</td>\n",
       "      <td>NaN</td>\n",
       "      <td>0</td>\n",
       "      <td>NaN</td>\n",
       "      <td>NaN</td>\n",
       "    </tr>\n",
       "    <tr>\n",
       "      <th>1</th>\n",
       "      <td>17170</td>\n",
       "      <td>206</td>\n",
       "      <td>D111206</td>\n",
       "      <td>Cursos de Especialização Tecnológica</td>\n",
       "      <td>F</td>\n",
       "      <td>1976-03-24</td>\n",
       "      <td>42</td>\n",
       "      <td>2</td>\n",
       "      <td>12</td>\n",
       "      <td>12 Anos</td>\n",
       "      <td>...</td>\n",
       "      <td>NaN</td>\n",
       "      <td>1</td>\n",
       "      <td>360.0</td>\n",
       "      <td>TCO</td>\n",
       "      <td>0</td>\n",
       "      <td>NaN</td>\n",
       "      <td>NaN</td>\n",
       "      <td>0</td>\n",
       "      <td>NaN</td>\n",
       "      <td>NaN</td>\n",
       "    </tr>\n",
       "  </tbody>\n",
       "</table>\n",
       "<p>2 rows × 63 columns</p>\n",
       "</div>"
      ],
      "text/plain": [
       "   UTE_ID  CodCEFP CodMedidaOrcam             Descritivo CodMedidaOrcam Sexo  \\\n",
       "0    7206      308        D111206  Cursos de Especialização Tecnológica    M   \n",
       "1   17170      206        D111206  Cursos de Especialização Tecnológica    F   \n",
       "\n",
       "  DataNascimento  IdadeEmAnos  Categoria CodHabilitacao Habilitacao  ...  \\\n",
       "0     1964-01-18           55          2             12     12 Anos  ...   \n",
       "1     1976-03-24           42          2             12     12 Anos  ...   \n",
       "\n",
       "  Mes9_Tipo Mes10 Mes10_Remuneracao Mes10_Tipo  Mes11 Mes11_Remuneracao  \\\n",
       "0       NaN     0               NaN        NaN      0               NaN   \n",
       "1       NaN     1             360.0        TCO      0               NaN   \n",
       "\n",
       "  Mes11_Tipo Mes12 Mes12_Remuneracao  Mes12_Tipo  \n",
       "0        NaN     0               NaN         NaN  \n",
       "1        NaN     0               NaN         NaN  \n",
       "\n",
       "[2 rows x 63 columns]"
      ]
     },
     "execution_count": 9,
     "metadata": {},
     "output_type": "execute_result"
    }
   ],
   "source": [
    "form.head(2)"
   ]
  },
  {
   "cell_type": "markdown",
   "metadata": {},
   "source": [
    "<div style=\"background-color: #2f648a; border-radius: 5px;\"> \n",
    "    <center><h1 style=\"color: white; padding: 20px;\">3. Check nulls and variable values</h1></center>\n",
    "</div>"
   ]
  },
  {
   "cell_type": "code",
   "execution_count": 10,
   "metadata": {},
   "outputs": [
    {
     "data": {
      "text/plain": [
       "UTE_ID                           0\n",
       "CodCEFP                          0\n",
       "CodMedidaOrcam                   0\n",
       "Descritivo CodMedidaOrcam        0\n",
       "Sexo                             0\n",
       "                             ...  \n",
       "Mes11_Remuneracao            85805\n",
       "Mes11_Tipo                   85812\n",
       "Mes12                            0\n",
       "Mes12_Remuneracao            88193\n",
       "Mes12_Tipo                   88200\n",
       "Length: 63, dtype: int64"
      ]
     },
     "execution_count": 10,
     "metadata": {},
     "output_type": "execute_result"
    }
   ],
   "source": [
    "# valores nulos divididos por coluna\n",
    "form.isnull().sum()"
   ]
  },
  {
   "cell_type": "code",
   "execution_count": 11,
   "metadata": {},
   "outputs": [
    {
     "data": {
      "text/plain": [
       "45"
      ]
     },
     "execution_count": 11,
     "metadata": {},
     "output_type": "execute_result"
    }
   ],
   "source": [
    "# Número de valores únicos da variável AreaFormacao\n",
    "form[\"AreaFormacao\"].nunique()"
   ]
  },
  {
   "cell_type": "code",
   "execution_count": 12,
   "metadata": {},
   "outputs": [
    {
     "data": {
      "text/plain": [
       "32"
      ]
     },
     "execution_count": 12,
     "metadata": {},
     "output_type": "execute_result"
    }
   ],
   "source": [
    "# Número de centros de emprego\n",
    "form[\"CodCEFP\"].nunique()"
   ]
  },
  {
   "cell_type": "code",
   "execution_count": 8,
   "metadata": {},
   "outputs": [
    {
     "data": {
      "text/plain": [
       "12"
      ]
     },
     "execution_count": 8,
     "metadata": {},
     "output_type": "execute_result"
    }
   ],
   "source": [
    "# Número de Habilitações\n",
    "form[\"CodHabilitacao\"].nunique()"
   ]
  },
  {
   "cell_type": "code",
   "execution_count": 9,
   "metadata": {},
   "outputs": [
    {
     "data": {
      "text/plain": [
       "91"
      ]
     },
     "execution_count": 9,
     "metadata": {},
     "output_type": "execute_result"
    }
   ],
   "source": [
    "# Número de nacionalidades \n",
    "form[\"CodNacionalidade\"].nunique()"
   ]
  },
  {
   "cell_type": "code",
   "execution_count": 10,
   "metadata": {},
   "outputs": [
    {
     "data": {
      "text/plain": [
       "array(['Desistente', 'Aprovado', 'Reprovado', 'Sem Classificação'],\n",
       "      dtype=object)"
      ]
     },
     "execution_count": 10,
     "metadata": {},
     "output_type": "execute_result"
    }
   ],
   "source": [
    "# Valores únicos da variável MotivoSaída\n",
    "form['MotivoSaída'].unique()"
   ]
  },
  {
   "cell_type": "markdown",
   "metadata": {},
   "source": [
    "As observações de interesse para o nosso trabalho são as que têm MotivoSaída = Aprovado. Visto que queremos utilizar para a recomendação apenas os utentes que terminaram a formação."
   ]
  },
  {
   "cell_type": "markdown",
   "metadata": {},
   "source": [
    "<div style=\"background-color: #2f648a; border-radius: 5px;\"> \n",
    "    <center><h1 style=\"color: white; padding: 20px;\">4. Feature engeneering</h1></center>\n",
    "</div>"
   ]
  },
  {
   "cell_type": "code",
   "execution_count": 11,
   "metadata": {},
   "outputs": [],
   "source": [
    "# Criar DataFrame apenas com formandos aprovados\n",
    "aprovados = form[form['MotivoSaída'] == 'Aprovado']"
   ]
  },
  {
   "cell_type": "markdown",
   "metadata": {},
   "source": [
    "<div style=\"border: solid 4px #2f648a; border-radius: 5px;\"> \n",
    "    <center><h3 style=\"color: #2f648a; padding: 10px;\">4.1. Criação da variável SomaMesesRemunerados</h3></center>\n",
    "</div>\n",
    "\n",
    "Apos selecionar os formandos com estado de conclusao «aprovado» vamos criar uma variável que permite quantificar o número de meses remunerados após o final da formação (\"SomaMesesRemunerados\"). \n",
    "Deste modo, é possivel criar uma variavel target com os casos em que existe remuneraçao igual ou superior a 6 meses após conclusão da intervençao (considerados casos positivos pelo IEFP)."
   ]
  },
  {
   "cell_type": "code",
   "execution_count": 12,
   "metadata": {},
   "outputs": [
    {
     "name": "stderr",
     "output_type": "stream",
     "text": [
      "<ipython-input-12-e57d2c68fda5>:1: SettingWithCopyWarning: \n",
      "A value is trying to be set on a copy of a slice from a DataFrame.\n",
      "Try using .loc[row_indexer,col_indexer] = value instead\n",
      "\n",
      "See the caveats in the documentation: https://pandas.pydata.org/pandas-docs/stable/user_guide/indexing.html#returning-a-view-versus-a-copy\n",
      "  aprovados[\"SomaMesesRemunerados\"] = 0\n",
      "<ipython-input-12-e57d2c68fda5>:6: SettingWithCopyWarning: \n",
      "A value is trying to be set on a copy of a slice from a DataFrame.\n",
      "Try using .loc[row_indexer,col_indexer] = value instead\n",
      "\n",
      "See the caveats in the documentation: https://pandas.pydata.org/pandas-docs/stable/user_guide/indexing.html#returning-a-view-versus-a-copy\n",
      "  aprovados[\"SomaMesesRemunerados\"] += aprovados[\"Mes\" + str(mes)]\n"
     ]
    }
   ],
   "source": [
    "aprovados[\"SomaMesesRemunerados\"] = 0\n",
    "form[\"SomaMesesRemunerados\"] = 0\n",
    "\n",
    "for i in range(1, 13):\n",
    "    mes = i\n",
    "    aprovados[\"SomaMesesRemunerados\"] += aprovados[\"Mes\" + str(mes)]\n",
    "    form[\"SomaMesesRemunerados\"] += form[\"Mes\" + str(mes)]"
   ]
  },
  {
   "cell_type": "code",
   "execution_count": 13,
   "metadata": {},
   "outputs": [
    {
     "data": {
      "text/plain": [
       "0     45.166152\n",
       "12    15.074769\n",
       "8      6.128649\n",
       "9      5.805839\n",
       "10     4.781628\n",
       "11     3.749110\n",
       "7      3.677902\n",
       "6      2.877997\n",
       "1      2.657251\n",
       "5      2.634702\n",
       "4      2.554000\n",
       "2      2.448374\n",
       "3      2.443627\n",
       "Name: SomaMesesRemunerados, dtype: float64"
      ]
     },
     "execution_count": 13,
     "metadata": {},
     "output_type": "execute_result"
    }
   ],
   "source": [
    "# Frequencias relativas do número de meses remunerados\n",
    "total = aprovados[\"SomaMesesRemunerados\"].count()\n",
    "estatistica_aprovados = aprovados[\"SomaMesesRemunerados\"].value_counts() / total * 100\n",
    "\n",
    "estatistica_aprovados"
   ]
  },
  {
   "cell_type": "code",
   "execution_count": 14,
   "metadata": {},
   "outputs": [
    {
     "data": {
      "image/png": "[encoded data removed]",
      "text/plain": [
       "<Figure size 576x396 with 1 Axes>"
      ]
     },
     "metadata": {
      "needs_background": "light"
     },
     "output_type": "display_data"
    }
   ],
   "source": [
    "# Gráfico para apresentação de estatísticas\n",
    "plt.style.use('seaborn-notebook')\n",
    "\n",
    "labels=[\"0\", \"1\", \"2\", \"3\", \"4\", \"5\", \"6\", \"7\", \"8\", \"9\", \"10\", \"11\", \"12\"] \n",
    "\n",
    "values = estatistica_aprovados.sort_index()\n",
    "\n",
    "plt.bar(labels, values, width=0.9, color=[\"#1E90FF\"])\n",
    "plt.title(\"Percentagem de intervenções segundo \\n o número de meses remunerados após formação\", size=18)\n",
    "plt.xlabel(\"Número de meses\")\n",
    "plt.ylabel(\"Percentagem de intervenções\")\n",
    "plt.grid(zorder=0)"
   ]
  },
  {
   "cell_type": "markdown",
   "metadata": {},
   "source": [
    "Podemos observar que cerca de 45% das intervenções não proporcionaram nenhuma remuneração aos utentes, nos 12 meses seguintes ao termino da formação. É ainda importante referir, que o segundo valor mais frequente é o 12, ou seja, maior parte dos utentes remunerados acaba por ficar empregado durante pelo menos 1 ano. "
   ]
  },
  {
   "cell_type": "markdown",
   "metadata": {},
   "source": [
    "<div style=\"border: solid 4px #2f648a; border-radius: 5px;\"> \n",
    "    <center><h3 style=\"color: #2f648a; padding: 10px;\">4.2. Criação da variável Sucesso</h3></center>\n",
    "</div>\n",
    "\n",
    "Criação da variável binária sucesso. Um caso de sucesso corresponde a um utente que nos 12 meses após o término da formação teve pelo menos 6 meses remunerados."
   ]
  },
  {
   "cell_type": "code",
   "execution_count": 15,
   "metadata": {},
   "outputs": [
    {
     "name": "stderr",
     "output_type": "stream",
     "text": [
      "<ipython-input-15-d52a863ec067>:3: SettingWithCopyWarning: \n",
      "A value is trying to be set on a copy of a slice from a DataFrame.\n",
      "Try using .loc[row_indexer,col_indexer] = value instead\n",
      "\n",
      "See the caveats in the documentation: https://pandas.pydata.org/pandas-docs/stable/user_guide/indexing.html#returning-a-view-versus-a-copy\n",
      "  aprovados[\"Sucessos\"] = 0\n",
      "<ipython-input-15-d52a863ec067>:6: SettingWithCopyWarning: \n",
      "A value is trying to be set on a copy of a slice from a DataFrame\n",
      "\n",
      "See the caveats in the documentation: https://pandas.pydata.org/pandas-docs/stable/user_guide/indexing.html#returning-a-view-versus-a-copy\n",
      "  form[\"Sucessos\"][(form[\"SomaMesesRemunerados\"] >= 6)] = 1\n",
      "<ipython-input-15-d52a863ec067>:7: SettingWithCopyWarning: \n",
      "A value is trying to be set on a copy of a slice from a DataFrame\n",
      "\n",
      "See the caveats in the documentation: https://pandas.pydata.org/pandas-docs/stable/user_guide/indexing.html#returning-a-view-versus-a-copy\n",
      "  aprovados[\"Sucessos\"][(aprovados[\"SomaMesesRemunerados\"] >= 6)] = 1\n",
      "C:\\Users\\sarro\\anaconda3\\lib\\site-packages\\pandas\\core\\generic.py:8765: SettingWithCopyWarning: \n",
      "A value is trying to be set on a copy of a slice from a DataFrame\n",
      "\n",
      "See the caveats in the documentation: https://pandas.pydata.org/pandas-docs/stable/user_guide/indexing.html#returning-a-view-versus-a-copy\n",
      "  self._update_inplace(new_data)\n"
     ]
    }
   ],
   "source": [
    "# iniciar nova coluna Sucessos, com todos os valores a zero\n",
    "form[\"Sucessos\"] = 0\n",
    "aprovados[\"Sucessos\"] = 0\n",
    "\n",
    "# Para as observações com mais de 6 meses de remuneração atribuir 1 à variável sucesso \n",
    "form[\"Sucessos\"][(form[\"SomaMesesRemunerados\"] >= 6)] = 1\n",
    "aprovados[\"Sucessos\"][(aprovados[\"SomaMesesRemunerados\"] >= 6)] = 1\n",
    "# !!!nota estamos a fazer a estatistica com valores de UTE_ID duplicados em alguns casos devido a prazos distintos"
   ]
  },
  {
   "cell_type": "code",
   "execution_count": 16,
   "metadata": {},
   "outputs": [
    {
     "data": {
      "text/plain": [
       "Text(0, 0.5, 'Número de interveções')"
      ]
     },
     "execution_count": 16,
     "metadata": {},
     "output_type": "execute_result"
    },
    {
     "data": {
      "image/png": "[encoded data removed]",
      "text/plain": [
       "<Figure size 576x396 with 1 Axes>"
      ]
     },
     "metadata": {
      "needs_background": "light"
     },
     "output_type": "display_data"
    }
   ],
   "source": [
    "# Gráfico relativo ao sucesso e insucesso\n",
    "\n",
    "outcome = [\"Sucesso\", \"Insucesso\"]\n",
    "\n",
    "values_succ = aprovados[\"Sucessos\"].value_counts()\n",
    "\n",
    "plt.bar(outcome, values_succ, width=0.9, color=[\"#00BFFF\", \"#4169E1\"])\n",
    "plt.title(\"Quantidade de sucessos e insucessos\", size=18)\n",
    "plt.ylabel(\"Número de interveções\", size=15)"
   ]
  },
  {
   "cell_type": "markdown",
   "metadata": {},
   "source": [
    "<div style=\"border: solid 4px #2f648a; border-radius: 5px;\"> \n",
    "    <center><h3 style=\"color: #2f648a; padding: 10px;\">4.3. Criação da variável DuracaoFormacao</h3></center>\n",
    "</div>\n",
    "\n",
    "Criação de uma variável numérica que guarda a informação relativa à duração em dias da formação (data fim - data inicio)"
   ]
  },
  {
   "cell_type": "code",
   "execution_count": 17,
   "metadata": {},
   "outputs": [
    {
     "name": "stderr",
     "output_type": "stream",
     "text": [
      "<ipython-input-17-083b377cb930>:1: SettingWithCopyWarning: \n",
      "A value is trying to be set on a copy of a slice from a DataFrame.\n",
      "Try using .loc[row_indexer,col_indexer] = value instead\n",
      "\n",
      "See the caveats in the documentation: https://pandas.pydata.org/pandas-docs/stable/user_guide/indexing.html#returning-a-view-versus-a-copy\n",
      "  aprovados[\"DuracaoFormacao\"] = aprovados[\"DataFim\"] - aprovados[\"DataInicio\"]\n"
     ]
    }
   ],
   "source": [
    "aprovados[\"DuracaoFormacao\"] = aprovados[\"DataFim\"] - aprovados[\"DataInicio\"]"
   ]
  },
  {
   "cell_type": "code",
   "execution_count": null,
   "metadata": {},
   "outputs": [],
   "source": []
  },
  {
   "cell_type": "markdown",
   "metadata": {},
   "source": [
    "<div style=\"border: solid 4px #2f648a; border-radius: 5px;\"> \n",
    "    <center><h3 style=\"color: #2f648a; padding: 10px;\">4.4. Transformação da variavel sexo</h3></center>\n",
    "</div>\n",
    "\n",
    "Codificação da variável Sexo. Os valores 1's correspondem às mulheres e os 0's aos homens."
   ]
  },
  {
   "cell_type": "code",
   "execution_count": 18,
   "metadata": {},
   "outputs": [
    {
     "name": "stderr",
     "output_type": "stream",
     "text": [
      "<ipython-input-18-d1a810bf914c>:2: SettingWithCopyWarning: \n",
      "A value is trying to be set on a copy of a slice from a DataFrame.\n",
      "Try using .loc[row_indexer,col_indexer] = value instead\n",
      "\n",
      "See the caveats in the documentation: https://pandas.pydata.org/pandas-docs/stable/user_guide/indexing.html#returning-a-view-versus-a-copy\n",
      "  aprovados[\"Sexo\"] = pd.get_dummies(aprovados.Sexo)\n"
     ]
    }
   ],
   "source": [
    "# transformação da variável sexo \n",
    "aprovados[\"Sexo\"] = pd.get_dummies(aprovados.Sexo)"
   ]
  },
  {
   "cell_type": "code",
   "execution_count": 19,
   "metadata": {},
   "outputs": [
    {
     "data": {
      "text/plain": [
       "1    52949\n",
       "0    31311\n",
       "Name: Sexo, dtype: int64"
      ]
     },
     "execution_count": 19,
     "metadata": {},
     "output_type": "execute_result"
    }
   ],
   "source": [
    "# verificação\n",
    "aprovados.Sexo.value_counts()"
   ]
  },
  {
   "cell_type": "markdown",
   "metadata": {},
   "source": [
    "<div style=\"border: solid 4px #2f648a; border-radius: 5px;\"> \n",
    "    <center><h3 style=\"color: #2f648a; padding: 10px;\">4.5. Transformação da variavel CodHabilitação</h3></center>\n",
    "</div>\n",
    "\n",
    "Como estamos a trabalhar com a variável CodHabilitacao que é categórica ordinal, podemos converte-la numa variável numérica. Deste modo acrescentamos informação à variável. Vamos utilizar a seguinte escala:\n",
    "\n",
    "  - Não Sabe Ler/Escrever - 1\n",
    "  - Ler/Escrever sem grau de Ensino - 2\n",
    "  - 4 Anos - 4\n",
    "  - 6 Anos - 6\n",
    "  - 9 Anos - 9\n",
    "  - 11 Anos - 11\n",
    "  - 12 Anos -12\n",
    "  - Pós-Secundário - 13\n",
    "  - Bacharelato - 14\n",
    "  - Licenciatura - 15\n",
    "  - Mestrado - 17\n",
    "  - Doutoramento - 20\n"
   ]
  },
  {
   "cell_type": "code",
   "execution_count": 20,
   "metadata": {},
   "outputs": [
    {
     "name": "stderr",
     "output_type": "stream",
     "text": [
      "C:\\Users\\sarro\\anaconda3\\lib\\site-packages\\pandas\\core\\indexing.py:966: SettingWithCopyWarning: \n",
      "A value is trying to be set on a copy of a slice from a DataFrame.\n",
      "Try using .loc[row_indexer,col_indexer] = value instead\n",
      "\n",
      "See the caveats in the documentation: https://pandas.pydata.org/pandas-docs/stable/user_guide/indexing.html#returning-a-view-versus-a-copy\n",
      "  self.obj[item] = s\n"
     ]
    }
   ],
   "source": [
    "# alteração dos valores da variável CodHabilitação\n",
    "\n",
    "aprovados.loc[(aprovados.CodHabilitacao == 'NS'),'CodHabilitacao'] = 1\n",
    "aprovados.loc[(aprovados.CodHabilitacao == 'SL'),'CodHabilitacao'] = 2\n",
    "aprovados.loc[(aprovados.CodHabilitacao == '04'),'CodHabilitacao'] = 4\n",
    "aprovados.loc[(aprovados.CodHabilitacao == '06'),'CodHabilitacao'] = 6\n",
    "aprovados.loc[(aprovados.CodHabilitacao == '09'),'CodHabilitacao'] = 9\n",
    "aprovados.loc[(aprovados.CodHabilitacao == '11'),'CodHabilitacao'] = 11\n",
    "aprovados.loc[(aprovados.CodHabilitacao == '11'),'CodHabilitacao'] = 12\n",
    "aprovados.loc[(aprovados.CodHabilitacao == 'PS'),'CodHabilitacao'] = 13\n",
    "aprovados.loc[(aprovados.CodHabilitacao == 'BM'),'CodHabilitacao'] = 14\n",
    "aprovados.loc[(aprovados.CodHabilitacao == 'LC'),'CodHabilitacao'] = 15\n",
    "aprovados.loc[(aprovados.CodHabilitacao == 'MT'),'CodHabilitacao'] = 17\n",
    "aprovados.loc[(aprovados.CodHabilitacao == 'DT'),'CodHabilitacao'] = 20"
   ]
  },
  {
   "cell_type": "code",
   "execution_count": 21,
   "metadata": {
    "scrolled": true
   },
   "outputs": [
    {
     "data": {
      "text/plain": [
       "12    28373\n",
       "9     22778\n",
       "15     9702\n",
       "6      9401\n",
       "4      6488\n",
       "11     2526\n",
       "2      1959\n",
       "17     1684\n",
       "14      584\n",
       "13      470\n",
       "1       218\n",
       "20       77\n",
       "Name: CodHabilitacao, dtype: int64"
      ]
     },
     "execution_count": 21,
     "metadata": {},
     "output_type": "execute_result"
    }
   ],
   "source": [
    "# verificação da transformação\n",
    "aprovados[\"CodHabilitacao\"].value_counts()"
   ]
  },
  {
   "cell_type": "code",
   "execution_count": 22,
   "metadata": {},
   "outputs": [
    {
     "data": {
      "text/plain": [
       "Text(0.5, 0, 'Nº de ocurrencias')"
      ]
     },
     "execution_count": 22,
     "metadata": {},
     "output_type": "execute_result"
    },
    {
     "data": {
      "image/png": "[encoded data removed]",
      "text/plain": [
       "<Figure size 576x396 with 1 Axes>"
      ]
     },
     "metadata": {
      "needs_background": "light"
     },
     "output_type": "display_data"
    }
   ],
   "source": [
    "# Gráfico relativo ao sucesso e insucesso\n",
    "\n",
    "freq_abs = aprovados[\"Habilitacao\"].value_counts()\n",
    "\n",
    "habilitações = [\"12 Anos\", \"9 Anos\", \"Licenciatura\", \"6 Anos\", \"4 Anos\", \n",
    "                \"11 Anos\", \"Ler/Escrever sem grau de Ensino\", \"Mestrado\", \n",
    "                \"Bacharelato\", \"Pós-Secundário\", \"Não Sabe Ler/Escrever\", \"Doutoramento\"]\n",
    "\n",
    "plt.barh(habilitações, freq_abs, color=[\"#00BFFF\", \"#1E90FF\", \"#4169E1\"])\n",
    "plt.title(\"Habilitações dos utentes que terminaram formações\", size=17)\n",
    "plt.xlabel(\"Nº de ocurrencias\", size=14)"
   ]
  },
  {
   "cell_type": "markdown",
   "metadata": {},
   "source": [
    "O nível de habilitação mais frequente é o 12º ano, com 28373 ocorrências. É ainda importante referir que existem poucas ocorrências de utentes com mestrados, bacharelatos e doutoramentos. As duas observações menos frequentes representam extremos opostos, utentes doutorados e utentes que não sabem ler nem escrever."
   ]
  },
  {
   "cell_type": "markdown",
   "metadata": {},
   "source": [
    "<div style=\"border: solid 4px #2f648a; border-radius: 5px;\"> \n",
    "    <center><h3 style=\"color: #2f648a; padding: 10px;\">4.6. Verificação de duplicados na variável UTE_ID</h3></center>\n",
    "</div>"
   ]
  },
  {
   "cell_type": "code",
   "execution_count": 23,
   "metadata": {},
   "outputs": [
    {
     "data": {
      "text/plain": [
       "84260"
      ]
     },
     "execution_count": 23,
     "metadata": {},
     "output_type": "execute_result"
    }
   ],
   "source": [
    "total = aprovados['UTE_ID'].count()\n",
    "total"
   ]
  },
  {
   "cell_type": "code",
   "execution_count": 24,
   "metadata": {},
   "outputs": [
    {
     "data": {
      "text/plain": [
       "72343"
      ]
     },
     "execution_count": 24,
     "metadata": {},
     "output_type": "execute_result"
    }
   ],
   "source": [
    "unicos = aprovados['UTE_ID'].nunique()\n",
    "unicos"
   ]
  },
  {
   "cell_type": "code",
   "execution_count": 25,
   "metadata": {},
   "outputs": [
    {
     "name": "stdout",
     "output_type": "stream",
     "text": [
      "Existem 11917 UTE_ID's repetidos\n"
     ]
    }
   ],
   "source": [
    "# calcular o número de UTE_ID's repetidos\n",
    "duplicados = total - unicos\n",
    "print(\"Existem \" + str(duplicados) + \" UTE_ID's repetidos\")"
   ]
  },
  {
   "cell_type": "code",
   "execution_count": 26,
   "metadata": {},
   "outputs": [
    {
     "data": {
      "text/html": [
       "<div>\n",
       "<style scoped>\n",
       "    .dataframe tbody tr th:only-of-type {\n",
       "        vertical-align: middle;\n",
       "    }\n",
       "\n",
       "    .dataframe tbody tr th {\n",
       "        vertical-align: top;\n",
       "    }\n",
       "\n",
       "    .dataframe thead th {\n",
       "        text-align: right;\n",
       "    }\n",
       "</style>\n",
       "<table border=\"1\" class=\"dataframe\">\n",
       "  <thead>\n",
       "    <tr style=\"text-align: right;\">\n",
       "      <th></th>\n",
       "      <th>UTE_ID</th>\n",
       "      <th>CodCEFP</th>\n",
       "      <th>CodMedidaOrcam</th>\n",
       "      <th>Descritivo CodMedidaOrcam</th>\n",
       "      <th>Sexo</th>\n",
       "      <th>DataNascimento</th>\n",
       "      <th>IdadeEmAnos</th>\n",
       "      <th>Categoria</th>\n",
       "      <th>CodHabilitacao</th>\n",
       "      <th>Habilitacao</th>\n",
       "      <th>...</th>\n",
       "      <th>Mes10_Remuneracao</th>\n",
       "      <th>Mes10_Tipo</th>\n",
       "      <th>Mes11</th>\n",
       "      <th>Mes11_Remuneracao</th>\n",
       "      <th>Mes11_Tipo</th>\n",
       "      <th>Mes12</th>\n",
       "      <th>Mes12_Remuneracao</th>\n",
       "      <th>Mes12_Tipo</th>\n",
       "      <th>SomaMesesRemunerados</th>\n",
       "      <th>Sucessos</th>\n",
       "    </tr>\n",
       "  </thead>\n",
       "  <tbody>\n",
       "    <tr>\n",
       "      <th>42</th>\n",
       "      <td>1130793</td>\n",
       "      <td>132</td>\n",
       "      <td>D111206</td>\n",
       "      <td>Cursos de Especialização Tecnológica</td>\n",
       "      <td>M</td>\n",
       "      <td>1975-10-12</td>\n",
       "      <td>43</td>\n",
       "      <td>3</td>\n",
       "      <td>12</td>\n",
       "      <td>12 Anos</td>\n",
       "      <td>...</td>\n",
       "      <td>538.0</td>\n",
       "      <td>TCO</td>\n",
       "      <td>1</td>\n",
       "      <td>728.0</td>\n",
       "      <td>TCO</td>\n",
       "      <td>1</td>\n",
       "      <td>303.0</td>\n",
       "      <td>TCO</td>\n",
       "      <td>6</td>\n",
       "      <td>1</td>\n",
       "    </tr>\n",
       "  </tbody>\n",
       "</table>\n",
       "<p>1 rows × 65 columns</p>\n",
       "</div>"
      ],
      "text/plain": [
       "     UTE_ID  CodCEFP CodMedidaOrcam             Descritivo CodMedidaOrcam  \\\n",
       "42  1130793      132        D111206  Cursos de Especialização Tecnológica   \n",
       "\n",
       "   Sexo DataNascimento  IdadeEmAnos  Categoria CodHabilitacao Habilitacao  \\\n",
       "42    M     1975-10-12           43          3             12     12 Anos   \n",
       "\n",
       "    ... Mes10_Remuneracao Mes10_Tipo Mes11 Mes11_Remuneracao  Mes11_Tipo  \\\n",
       "42  ...             538.0        TCO     1             728.0         TCO   \n",
       "\n",
       "   Mes12 Mes12_Remuneracao Mes12_Tipo SomaMesesRemunerados  Sucessos  \n",
       "42     1             303.0        TCO                    6         1  \n",
       "\n",
       "[1 rows x 65 columns]"
      ]
     },
     "execution_count": 26,
     "metadata": {},
     "output_type": "execute_result"
    }
   ],
   "source": [
    "# Verificar duas observações com o mesmo UTE_ID\n",
    "form[form['UTE_ID'] == 1130793]"
   ]
  },
  {
   "cell_type": "code",
   "execution_count": 27,
   "metadata": {},
   "outputs": [
    {
     "data": {
      "text/plain": [
       "42   2018-06-13\n",
       "Name: DataFim, dtype: datetime64[ns]"
      ]
     },
     "execution_count": 27,
     "metadata": {},
     "output_type": "execute_result"
    }
   ],
   "source": [
    "# ??\n",
    "form.DataFim[form.UTE_ID==1130793]"
   ]
  },
  {
   "cell_type": "code",
   "execution_count": 28,
   "metadata": {},
   "outputs": [
    {
     "data": {
      "text/plain": [
       "Index(['UTE_ID', 'CodCEFP', 'CodMedidaOrcam', 'Descritivo CodMedidaOrcam',\n",
       "       'Sexo', 'DataNascimento', 'IdadeEmAnos', 'Categoria', 'CodHabilitacao',\n",
       "       'Habilitacao', 'CodFreguesia', 'Freguesia', 'CodNacionalidade',\n",
       "       'DNACIONALIDADE', 'CodDeficiencia', 'Deficiente', 'DataInscricao',\n",
       "       'DataInicio', 'DataFim', 'CodMotivoSaida', 'MotivoSaída', 'HorasForm',\n",
       "       'AreaFormacao', 'DescAreaFormacaoEscolar', 'NivelFormacaoAccao',\n",
       "       'CodSaidaProfissional', 'SaídaProfissional', 'Mes1', 'Mes1_Remuneracao',\n",
       "       'Mes1_Tipo', 'Mes2', 'Mes2_Remuneracao', 'Mes2_Tipo', 'Mes3',\n",
       "       'Mes3_Remuneracao', 'Mes3_Tipo', 'Mes4', 'Mes4_Remuneracao',\n",
       "       'Mes4_Tipo', 'Mes5', 'Mes5_Remuneracao', 'Mes5_Tipo', 'Mes6',\n",
       "       'Mes6_Remuneracao', 'Mes6_Tipo', 'Mes7', 'Mes7_Remuneracao',\n",
       "       'Mes7_Tipo', 'Mes8', 'Mes8_Remuneracao', 'Mes8_Tipo', 'Mes9',\n",
       "       'Mes9_Remuneracao', 'Mes9_Tipo', 'Mes10', 'Mes10_Remuneracao',\n",
       "       'Mes10_Tipo', 'Mes11', 'Mes11_Remuneracao', 'Mes11_Tipo', 'Mes12',\n",
       "       'Mes12_Remuneracao', 'Mes12_Tipo', 'SomaMesesRemunerados', 'Sucessos'],\n",
       "      dtype='object')"
      ]
     },
     "execution_count": 28,
     "metadata": {},
     "output_type": "execute_result"
    }
   ],
   "source": [
    "form.columns"
   ]
  },
  {
   "cell_type": "code",
   "execution_count": 29,
   "metadata": {},
   "outputs": [
    {
     "data": {
      "text/html": [
       "<div>\n",
       "<style scoped>\n",
       "    .dataframe tbody tr th:only-of-type {\n",
       "        vertical-align: middle;\n",
       "    }\n",
       "\n",
       "    .dataframe tbody tr th {\n",
       "        vertical-align: top;\n",
       "    }\n",
       "\n",
       "    .dataframe thead th {\n",
       "        text-align: right;\n",
       "    }\n",
       "</style>\n",
       "<table border=\"1\" class=\"dataframe\">\n",
       "  <thead>\n",
       "    <tr style=\"text-align: right;\">\n",
       "      <th></th>\n",
       "      <th>Mes1</th>\n",
       "      <th>Mes2</th>\n",
       "      <th>Mes3</th>\n",
       "      <th>Mes4</th>\n",
       "      <th>Mes5</th>\n",
       "      <th>Mes6</th>\n",
       "      <th>Mes7</th>\n",
       "      <th>Mes8</th>\n",
       "      <th>Mes9</th>\n",
       "      <th>Mes10</th>\n",
       "      <th>Mes11</th>\n",
       "      <th>Mes12</th>\n",
       "      <th>SomaMesesRemunerados</th>\n",
       "      <th>Sucessos</th>\n",
       "    </tr>\n",
       "  </thead>\n",
       "  <tbody>\n",
       "    <tr>\n",
       "      <th>411</th>\n",
       "      <td>1</td>\n",
       "      <td>1</td>\n",
       "      <td>1</td>\n",
       "      <td>1</td>\n",
       "      <td>1</td>\n",
       "      <td>1</td>\n",
       "      <td>0</td>\n",
       "      <td>0</td>\n",
       "      <td>0</td>\n",
       "      <td>0</td>\n",
       "      <td>0</td>\n",
       "      <td>0</td>\n",
       "      <td>6</td>\n",
       "      <td>1</td>\n",
       "    </tr>\n",
       "    <tr>\n",
       "      <th>412</th>\n",
       "      <td>1</td>\n",
       "      <td>1</td>\n",
       "      <td>1</td>\n",
       "      <td>1</td>\n",
       "      <td>1</td>\n",
       "      <td>1</td>\n",
       "      <td>1</td>\n",
       "      <td>1</td>\n",
       "      <td>1</td>\n",
       "      <td>1</td>\n",
       "      <td>0</td>\n",
       "      <td>0</td>\n",
       "      <td>10</td>\n",
       "      <td>1</td>\n",
       "    </tr>\n",
       "  </tbody>\n",
       "</table>\n",
       "</div>"
      ],
      "text/plain": [
       "     Mes1  Mes2  Mes3  Mes4  Mes5  Mes6  Mes7  Mes8  Mes9  Mes10  Mes11  \\\n",
       "411     1     1     1     1     1     1     0     0     0      0      0   \n",
       "412     1     1     1     1     1     1     1     1     1      1      0   \n",
       "\n",
       "     Mes12  SomaMesesRemunerados  Sucessos  \n",
       "411      0                     6         1  \n",
       "412      0                    10         1  "
      ]
     },
     "execution_count": 29,
     "metadata": {},
     "output_type": "execute_result"
    }
   ],
   "source": [
    "form[form['UTE_ID'] == 4065237][['Mes1', 'Mes2', 'Mes3','Mes4','Mes5','Mes6','Mes7', 'Mes8','Mes9', 'Mes10','Mes11', 'Mes12', 'SomaMesesRemunerados', 'Sucessos']]"
   ]
  },
  {
   "cell_type": "code",
   "execution_count": 30,
   "metadata": {},
   "outputs": [
    {
     "data": {
      "text/html": [
       "<div>\n",
       "<style scoped>\n",
       "    .dataframe tbody tr th:only-of-type {\n",
       "        vertical-align: middle;\n",
       "    }\n",
       "\n",
       "    .dataframe tbody tr th {\n",
       "        vertical-align: top;\n",
       "    }\n",
       "\n",
       "    .dataframe thead th {\n",
       "        text-align: right;\n",
       "    }\n",
       "</style>\n",
       "<table border=\"1\" class=\"dataframe\">\n",
       "  <thead>\n",
       "    <tr style=\"text-align: right;\">\n",
       "      <th></th>\n",
       "      <th>UTE_ID</th>\n",
       "      <th>Mes1</th>\n",
       "      <th>Mes2</th>\n",
       "      <th>Mes3</th>\n",
       "      <th>Mes4</th>\n",
       "      <th>Mes5</th>\n",
       "      <th>Mes6</th>\n",
       "      <th>Mes7</th>\n",
       "      <th>Mes8</th>\n",
       "      <th>Mes9</th>\n",
       "      <th>Mes10</th>\n",
       "      <th>Mes11</th>\n",
       "      <th>Mes12</th>\n",
       "      <th>SomaMesesRemunerados</th>\n",
       "      <th>Sucessos</th>\n",
       "    </tr>\n",
       "  </thead>\n",
       "  <tbody>\n",
       "    <tr>\n",
       "      <th>42</th>\n",
       "      <td>1130793</td>\n",
       "      <td>0</td>\n",
       "      <td>0</td>\n",
       "      <td>0</td>\n",
       "      <td>0</td>\n",
       "      <td>1</td>\n",
       "      <td>1</td>\n",
       "      <td>1</td>\n",
       "      <td>0</td>\n",
       "      <td>0</td>\n",
       "      <td>1</td>\n",
       "      <td>1</td>\n",
       "      <td>1</td>\n",
       "      <td>6</td>\n",
       "      <td>1</td>\n",
       "    </tr>\n",
       "    <tr>\n",
       "      <th>151</th>\n",
       "      <td>1950919</td>\n",
       "      <td>0</td>\n",
       "      <td>0</td>\n",
       "      <td>0</td>\n",
       "      <td>0</td>\n",
       "      <td>0</td>\n",
       "      <td>0</td>\n",
       "      <td>1</td>\n",
       "      <td>1</td>\n",
       "      <td>1</td>\n",
       "      <td>1</td>\n",
       "      <td>1</td>\n",
       "      <td>1</td>\n",
       "      <td>6</td>\n",
       "      <td>1</td>\n",
       "    </tr>\n",
       "    <tr>\n",
       "      <th>201</th>\n",
       "      <td>2261280</td>\n",
       "      <td>0</td>\n",
       "      <td>0</td>\n",
       "      <td>0</td>\n",
       "      <td>0</td>\n",
       "      <td>0</td>\n",
       "      <td>0</td>\n",
       "      <td>1</td>\n",
       "      <td>1</td>\n",
       "      <td>1</td>\n",
       "      <td>1</td>\n",
       "      <td>1</td>\n",
       "      <td>1</td>\n",
       "      <td>6</td>\n",
       "      <td>1</td>\n",
       "    </tr>\n",
       "    <tr>\n",
       "      <th>241</th>\n",
       "      <td>2697312</td>\n",
       "      <td>0</td>\n",
       "      <td>0</td>\n",
       "      <td>0</td>\n",
       "      <td>0</td>\n",
       "      <td>1</td>\n",
       "      <td>1</td>\n",
       "      <td>1</td>\n",
       "      <td>1</td>\n",
       "      <td>1</td>\n",
       "      <td>1</td>\n",
       "      <td>0</td>\n",
       "      <td>0</td>\n",
       "      <td>6</td>\n",
       "      <td>1</td>\n",
       "    </tr>\n",
       "    <tr>\n",
       "      <th>243</th>\n",
       "      <td>2717148</td>\n",
       "      <td>0</td>\n",
       "      <td>0</td>\n",
       "      <td>0</td>\n",
       "      <td>0</td>\n",
       "      <td>0</td>\n",
       "      <td>1</td>\n",
       "      <td>1</td>\n",
       "      <td>0</td>\n",
       "      <td>1</td>\n",
       "      <td>1</td>\n",
       "      <td>1</td>\n",
       "      <td>1</td>\n",
       "      <td>6</td>\n",
       "      <td>1</td>\n",
       "    </tr>\n",
       "    <tr>\n",
       "      <th>...</th>\n",
       "      <td>...</td>\n",
       "      <td>...</td>\n",
       "      <td>...</td>\n",
       "      <td>...</td>\n",
       "      <td>...</td>\n",
       "      <td>...</td>\n",
       "      <td>...</td>\n",
       "      <td>...</td>\n",
       "      <td>...</td>\n",
       "      <td>...</td>\n",
       "      <td>...</td>\n",
       "      <td>...</td>\n",
       "      <td>...</td>\n",
       "      <td>...</td>\n",
       "      <td>...</td>\n",
       "    </tr>\n",
       "    <tr>\n",
       "      <th>123876</th>\n",
       "      <td>4511717</td>\n",
       "      <td>1</td>\n",
       "      <td>0</td>\n",
       "      <td>0</td>\n",
       "      <td>0</td>\n",
       "      <td>0</td>\n",
       "      <td>0</td>\n",
       "      <td>0</td>\n",
       "      <td>1</td>\n",
       "      <td>1</td>\n",
       "      <td>1</td>\n",
       "      <td>1</td>\n",
       "      <td>1</td>\n",
       "      <td>6</td>\n",
       "      <td>1</td>\n",
       "    </tr>\n",
       "    <tr>\n",
       "      <th>123916</th>\n",
       "      <td>4899784</td>\n",
       "      <td>1</td>\n",
       "      <td>1</td>\n",
       "      <td>1</td>\n",
       "      <td>1</td>\n",
       "      <td>1</td>\n",
       "      <td>0</td>\n",
       "      <td>0</td>\n",
       "      <td>0</td>\n",
       "      <td>0</td>\n",
       "      <td>0</td>\n",
       "      <td>0</td>\n",
       "      <td>1</td>\n",
       "      <td>6</td>\n",
       "      <td>1</td>\n",
       "    </tr>\n",
       "    <tr>\n",
       "      <th>123954</th>\n",
       "      <td>5731979</td>\n",
       "      <td>0</td>\n",
       "      <td>0</td>\n",
       "      <td>0</td>\n",
       "      <td>0</td>\n",
       "      <td>0</td>\n",
       "      <td>0</td>\n",
       "      <td>1</td>\n",
       "      <td>1</td>\n",
       "      <td>1</td>\n",
       "      <td>1</td>\n",
       "      <td>1</td>\n",
       "      <td>1</td>\n",
       "      <td>6</td>\n",
       "      <td>1</td>\n",
       "    </tr>\n",
       "    <tr>\n",
       "      <th>123955</th>\n",
       "      <td>5736896</td>\n",
       "      <td>0</td>\n",
       "      <td>0</td>\n",
       "      <td>0</td>\n",
       "      <td>0</td>\n",
       "      <td>0</td>\n",
       "      <td>0</td>\n",
       "      <td>1</td>\n",
       "      <td>1</td>\n",
       "      <td>1</td>\n",
       "      <td>1</td>\n",
       "      <td>1</td>\n",
       "      <td>1</td>\n",
       "      <td>6</td>\n",
       "      <td>1</td>\n",
       "    </tr>\n",
       "    <tr>\n",
       "      <th>123987</th>\n",
       "      <td>6219645</td>\n",
       "      <td>1</td>\n",
       "      <td>1</td>\n",
       "      <td>1</td>\n",
       "      <td>1</td>\n",
       "      <td>1</td>\n",
       "      <td>1</td>\n",
       "      <td>0</td>\n",
       "      <td>0</td>\n",
       "      <td>0</td>\n",
       "      <td>0</td>\n",
       "      <td>0</td>\n",
       "      <td>0</td>\n",
       "      <td>6</td>\n",
       "      <td>1</td>\n",
       "    </tr>\n",
       "  </tbody>\n",
       "</table>\n",
       "<p>3773 rows × 15 columns</p>\n",
       "</div>"
      ],
      "text/plain": [
       "         UTE_ID  Mes1  Mes2  Mes3  Mes4  Mes5  Mes6  Mes7  Mes8  Mes9  Mes10  \\\n",
       "42      1130793     0     0     0     0     1     1     1     0     0      1   \n",
       "151     1950919     0     0     0     0     0     0     1     1     1      1   \n",
       "201     2261280     0     0     0     0     0     0     1     1     1      1   \n",
       "241     2697312     0     0     0     0     1     1     1     1     1      1   \n",
       "243     2717148     0     0     0     0     0     1     1     0     1      1   \n",
       "...         ...   ...   ...   ...   ...   ...   ...   ...   ...   ...    ...   \n",
       "123876  4511717     1     0     0     0     0     0     0     1     1      1   \n",
       "123916  4899784     1     1     1     1     1     0     0     0     0      0   \n",
       "123954  5731979     0     0     0     0     0     0     1     1     1      1   \n",
       "123955  5736896     0     0     0     0     0     0     1     1     1      1   \n",
       "123987  6219645     1     1     1     1     1     1     0     0     0      0   \n",
       "\n",
       "        Mes11  Mes12  SomaMesesRemunerados  Sucessos  \n",
       "42          1      1                     6         1  \n",
       "151         1      1                     6         1  \n",
       "201         1      1                     6         1  \n",
       "241         0      0                     6         1  \n",
       "243         1      1                     6         1  \n",
       "...       ...    ...                   ...       ...  \n",
       "123876      1      1                     6         1  \n",
       "123916      0      1                     6         1  \n",
       "123954      1      1                     6         1  \n",
       "123955      1      1                     6         1  \n",
       "123987      0      0                     6         1  \n",
       "\n",
       "[3773 rows x 15 columns]"
      ]
     },
     "execution_count": 30,
     "metadata": {},
     "output_type": "execute_result"
    }
   ],
   "source": [
    "form[form['SomaMesesRemunerados'] == 6].iloc[:,[0,27,30,33,36,39,42,45,48,51,54,57,60,63,64]]"
   ]
  },
  {
   "cell_type": "code",
   "execution_count": 31,
   "metadata": {},
   "outputs": [
    {
     "data": {
      "text/html": [
       "<div>\n",
       "<style scoped>\n",
       "    .dataframe tbody tr th:only-of-type {\n",
       "        vertical-align: middle;\n",
       "    }\n",
       "\n",
       "    .dataframe tbody tr th {\n",
       "        vertical-align: top;\n",
       "    }\n",
       "\n",
       "    .dataframe thead th {\n",
       "        text-align: right;\n",
       "    }\n",
       "</style>\n",
       "<table border=\"1\" class=\"dataframe\">\n",
       "  <thead>\n",
       "    <tr style=\"text-align: right;\">\n",
       "      <th></th>\n",
       "      <th>UTE_ID</th>\n",
       "      <th>CodCEFP</th>\n",
       "      <th>CodMedidaOrcam</th>\n",
       "      <th>Descritivo CodMedidaOrcam</th>\n",
       "      <th>Sexo</th>\n",
       "      <th>DataNascimento</th>\n",
       "      <th>IdadeEmAnos</th>\n",
       "      <th>Categoria</th>\n",
       "      <th>CodHabilitacao</th>\n",
       "      <th>Habilitacao</th>\n",
       "      <th>...</th>\n",
       "      <th>Mes10_Remuneracao</th>\n",
       "      <th>Mes10_Tipo</th>\n",
       "      <th>Mes11</th>\n",
       "      <th>Mes11_Remuneracao</th>\n",
       "      <th>Mes11_Tipo</th>\n",
       "      <th>Mes12</th>\n",
       "      <th>Mes12_Remuneracao</th>\n",
       "      <th>Mes12_Tipo</th>\n",
       "      <th>SomaMesesRemunerados</th>\n",
       "      <th>Sucessos</th>\n",
       "    </tr>\n",
       "  </thead>\n",
       "  <tbody>\n",
       "    <tr>\n",
       "      <th>141</th>\n",
       "      <td>1864123</td>\n",
       "      <td>315</td>\n",
       "      <td>D111206</td>\n",
       "      <td>Cursos de Especialização Tecnológica</td>\n",
       "      <td>M</td>\n",
       "      <td>1964-04-05</td>\n",
       "      <td>54</td>\n",
       "      <td>2</td>\n",
       "      <td>PS</td>\n",
       "      <td>Pós-Secundário</td>\n",
       "      <td>...</td>\n",
       "      <td>729.0</td>\n",
       "      <td>TCO</td>\n",
       "      <td>0</td>\n",
       "      <td>NaN</td>\n",
       "      <td>NaN</td>\n",
       "      <td>0</td>\n",
       "      <td>NaN</td>\n",
       "      <td>NaN</td>\n",
       "      <td>2</td>\n",
       "      <td>0</td>\n",
       "    </tr>\n",
       "    <tr>\n",
       "      <th>326</th>\n",
       "      <td>3432294</td>\n",
       "      <td>313</td>\n",
       "      <td>D111206</td>\n",
       "      <td>Cursos de Especialização Tecnológica</td>\n",
       "      <td>M</td>\n",
       "      <td>1986-04-02</td>\n",
       "      <td>32</td>\n",
       "      <td>2</td>\n",
       "      <td>12</td>\n",
       "      <td>12 Anos</td>\n",
       "      <td>...</td>\n",
       "      <td>NaN</td>\n",
       "      <td>NaN</td>\n",
       "      <td>0</td>\n",
       "      <td>NaN</td>\n",
       "      <td>NaN</td>\n",
       "      <td>0</td>\n",
       "      <td>NaN</td>\n",
       "      <td>NaN</td>\n",
       "      <td>0</td>\n",
       "      <td>0</td>\n",
       "    </tr>\n",
       "    <tr>\n",
       "      <th>412</th>\n",
       "      <td>4065237</td>\n",
       "      <td>401</td>\n",
       "      <td>D111202</td>\n",
       "      <td>Cursos de Aprendizagem - Entidades Externas</td>\n",
       "      <td>F</td>\n",
       "      <td>1990-01-02</td>\n",
       "      <td>29</td>\n",
       "      <td>2</td>\n",
       "      <td>09</td>\n",
       "      <td>9 Anos</td>\n",
       "      <td>...</td>\n",
       "      <td>166.0</td>\n",
       "      <td>TCO</td>\n",
       "      <td>0</td>\n",
       "      <td>NaN</td>\n",
       "      <td>NaN</td>\n",
       "      <td>0</td>\n",
       "      <td>NaN</td>\n",
       "      <td>NaN</td>\n",
       "      <td>10</td>\n",
       "      <td>1</td>\n",
       "    </tr>\n",
       "    <tr>\n",
       "      <th>518</th>\n",
       "      <td>4379984</td>\n",
       "      <td>206</td>\n",
       "      <td>D111202</td>\n",
       "      <td>Cursos de Aprendizagem - Entidades Externas</td>\n",
       "      <td>F</td>\n",
       "      <td>1993-10-26</td>\n",
       "      <td>25</td>\n",
       "      <td>1</td>\n",
       "      <td>09</td>\n",
       "      <td>9 Anos</td>\n",
       "      <td>...</td>\n",
       "      <td>NaN</td>\n",
       "      <td>NaN</td>\n",
       "      <td>0</td>\n",
       "      <td>NaN</td>\n",
       "      <td>NaN</td>\n",
       "      <td>0</td>\n",
       "      <td>NaN</td>\n",
       "      <td>NaN</td>\n",
       "      <td>0</td>\n",
       "      <td>0</td>\n",
       "    </tr>\n",
       "    <tr>\n",
       "      <th>572</th>\n",
       "      <td>4485606</td>\n",
       "      <td>134</td>\n",
       "      <td>D111202</td>\n",
       "      <td>Cursos de Aprendizagem - Entidades Externas</td>\n",
       "      <td>M</td>\n",
       "      <td>1994-04-30</td>\n",
       "      <td>24</td>\n",
       "      <td>2</td>\n",
       "      <td>09</td>\n",
       "      <td>9 Anos</td>\n",
       "      <td>...</td>\n",
       "      <td>NaN</td>\n",
       "      <td>NaN</td>\n",
       "      <td>0</td>\n",
       "      <td>NaN</td>\n",
       "      <td>NaN</td>\n",
       "      <td>0</td>\n",
       "      <td>NaN</td>\n",
       "      <td>NaN</td>\n",
       "      <td>1</td>\n",
       "      <td>0</td>\n",
       "    </tr>\n",
       "  </tbody>\n",
       "</table>\n",
       "<p>5 rows × 65 columns</p>\n",
       "</div>"
      ],
      "text/plain": [
       "      UTE_ID  CodCEFP CodMedidaOrcam  \\\n",
       "141  1864123      315        D111206   \n",
       "326  3432294      313        D111206   \n",
       "412  4065237      401        D111202   \n",
       "518  4379984      206        D111202   \n",
       "572  4485606      134        D111202   \n",
       "\n",
       "                       Descritivo CodMedidaOrcam Sexo DataNascimento  \\\n",
       "141         Cursos de Especialização Tecnológica    M     1964-04-05   \n",
       "326         Cursos de Especialização Tecnológica    M     1986-04-02   \n",
       "412  Cursos de Aprendizagem - Entidades Externas    F     1990-01-02   \n",
       "518  Cursos de Aprendizagem - Entidades Externas    F     1993-10-26   \n",
       "572  Cursos de Aprendizagem - Entidades Externas    M     1994-04-30   \n",
       "\n",
       "     IdadeEmAnos  Categoria CodHabilitacao     Habilitacao  ...  \\\n",
       "141           54          2             PS  Pós-Secundário  ...   \n",
       "326           32          2             12         12 Anos  ...   \n",
       "412           29          2             09          9 Anos  ...   \n",
       "518           25          1             09          9 Anos  ...   \n",
       "572           24          2             09          9 Anos  ...   \n",
       "\n",
       "    Mes10_Remuneracao Mes10_Tipo Mes11 Mes11_Remuneracao  Mes11_Tipo Mes12  \\\n",
       "141             729.0        TCO     0               NaN         NaN     0   \n",
       "326               NaN        NaN     0               NaN         NaN     0   \n",
       "412             166.0        TCO     0               NaN         NaN     0   \n",
       "518               NaN        NaN     0               NaN         NaN     0   \n",
       "572               NaN        NaN     0               NaN         NaN     0   \n",
       "\n",
       "    Mes12_Remuneracao Mes12_Tipo SomaMesesRemunerados  Sucessos  \n",
       "141               NaN        NaN                    2         0  \n",
       "326               NaN        NaN                    0         0  \n",
       "412               NaN        NaN                   10         1  \n",
       "518               NaN        NaN                    0         0  \n",
       "572               NaN        NaN                    1         0  \n",
       "\n",
       "[5 rows x 65 columns]"
      ]
     },
     "execution_count": 31,
     "metadata": {},
     "output_type": "execute_result"
    }
   ],
   "source": [
    "#!!! avaliar alguns dos duplicados\n",
    "\n",
    "duplicados = form.duplicated(subset=['UTE_ID'])\n",
    "teste_duplicados = form[duplicados]\n",
    "teste_duplicados.head(5)"
   ]
  },
  {
   "cell_type": "code",
   "execution_count": 32,
   "metadata": {},
   "outputs": [],
   "source": [
    "aprovados = aprovados.drop_duplicates(subset=[\"UTE_ID\"])"
   ]
  },
  {
   "cell_type": "markdown",
   "metadata": {},
   "source": [
    "<div style=\"background-color: #2f648a; border-radius: 5px;\"> \n",
    "    <center><h1 style=\"color: white; padding: 20px;\">5. Criação do dataset final</h1></center>\n",
    "</div>"
   ]
  },
  {
   "cell_type": "code",
   "execution_count": 33,
   "metadata": {},
   "outputs": [
    {
     "data": {
      "text/plain": [
       "Index(['UTE_ID', 'CodCEFP', 'CodMedidaOrcam', 'Descritivo CodMedidaOrcam',\n",
       "       'Sexo', 'DataNascimento', 'IdadeEmAnos', 'Categoria', 'CodHabilitacao',\n",
       "       'Habilitacao', 'CodFreguesia', 'Freguesia', 'CodNacionalidade',\n",
       "       'DNACIONALIDADE', 'CodDeficiencia', 'Deficiente', 'DataInscricao',\n",
       "       'DataInicio', 'DataFim', 'CodMotivoSaida', 'MotivoSaída', 'HorasForm',\n",
       "       'AreaFormacao', 'DescAreaFormacaoEscolar', 'NivelFormacaoAccao',\n",
       "       'CodSaidaProfissional', 'SaídaProfissional', 'Mes1', 'Mes1_Remuneracao',\n",
       "       'Mes1_Tipo', 'Mes2', 'Mes2_Remuneracao', 'Mes2_Tipo', 'Mes3',\n",
       "       'Mes3_Remuneracao', 'Mes3_Tipo', 'Mes4', 'Mes4_Remuneracao',\n",
       "       'Mes4_Tipo', 'Mes5', 'Mes5_Remuneracao', 'Mes5_Tipo', 'Mes6',\n",
       "       'Mes6_Remuneracao', 'Mes6_Tipo', 'Mes7', 'Mes7_Remuneracao',\n",
       "       'Mes7_Tipo', 'Mes8', 'Mes8_Remuneracao', 'Mes8_Tipo', 'Mes9',\n",
       "       'Mes9_Remuneracao', 'Mes9_Tipo', 'Mes10', 'Mes10_Remuneracao',\n",
       "       'Mes10_Tipo', 'Mes11', 'Mes11_Remuneracao', 'Mes11_Tipo', 'Mes12',\n",
       "       'Mes12_Remuneracao', 'Mes12_Tipo', 'SomaMesesRemunerados', 'Sucessos',\n",
       "       'DuracaoFormacao'],\n",
       "      dtype='object')"
      ]
     },
     "execution_count": 33,
     "metadata": {},
     "output_type": "execute_result"
    }
   ],
   "source": [
    "aprovados.columns"
   ]
  },
  {
   "cell_type": "code",
   "execution_count": 34,
   "metadata": {},
   "outputs": [
    {
     "data": {
      "text/plain": [
       "Index(['UTE_ID', 'CodCEFP', 'Sexo', 'IdadeEmAnos', 'CodHabilitacao',\n",
       "       'CodNacionalidade', 'HorasForm', 'AreaFormacao', 'NivelFormacaoAccao',\n",
       "       'CodSaidaProfissional', 'Sucessos', 'DuracaoFormacao'],\n",
       "      dtype='object')"
      ]
     },
     "execution_count": 34,
     "metadata": {},
     "output_type": "execute_result"
    }
   ],
   "source": [
    "final = aprovados.iloc[:, [0, 1, 4, 6, 8, 12, 21, 22, 24, 25, 64, 65]]\n",
    "final.columns"
   ]
  },
  {
   "cell_type": "code",
   "execution_count": 35,
   "metadata": {},
   "outputs": [
    {
     "data": {
      "text/plain": [
       "(72343, 12)"
      ]
     },
     "execution_count": 35,
     "metadata": {},
     "output_type": "execute_result"
    }
   ],
   "source": [
    "final.shape"
   ]
  },
  {
   "cell_type": "code",
   "execution_count": 36,
   "metadata": {},
   "outputs": [
    {
     "data": {
      "text/plain": [
       "UTE_ID                     0\n",
       "CodCEFP                    0\n",
       "Sexo                       0\n",
       "IdadeEmAnos                0\n",
       "CodHabilitacao             0\n",
       "CodNacionalidade           0\n",
       "HorasForm                478\n",
       "AreaFormacao               0\n",
       "NivelFormacaoAccao         0\n",
       "CodSaidaProfissional    2505\n",
       "Sucessos                   0\n",
       "DuracaoFormacao            0\n",
       "dtype: int64"
      ]
     },
     "execution_count": 36,
     "metadata": {},
     "output_type": "execute_result"
    }
   ],
   "source": [
    "final.isnull().sum()"
   ]
  },
  {
   "cell_type": "code",
   "execution_count": 37,
   "metadata": {},
   "outputs": [],
   "source": [
    "final = final.dropna()"
   ]
  },
  {
   "cell_type": "code",
   "execution_count": 38,
   "metadata": {},
   "outputs": [],
   "source": [
    "final.to_csv(\"databases/formandos_limpo.csv\")"
   ]
  }
 ],
 "metadata": {
  "kernelspec": {
   "display_name": "Python 3",
   "language": "python",
   "name": "python3"
  },
  "language_info": {
   "codemirror_mode": {
    "name": "ipython",
    "version": 3
   },
   "file_extension": ".py",
   "mimetype": "text/x-python",
   "name": "python",
   "nbconvert_exporter": "python",
   "pygments_lexer": "ipython3",
   "version": "3.8.3"
  }
 },
 "nbformat": 4,
 "nbformat_minor": 4
}
