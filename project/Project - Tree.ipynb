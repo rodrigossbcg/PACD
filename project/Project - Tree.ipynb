{
 "cells": [
  {
   "cell_type": "markdown",
   "metadata": {},
   "source": [
    "<img src=\"images/intro.jpeg\">"
   ]
  },
  {
   "cell_type": "markdown",
   "metadata": {},
   "source": [
    "# Project - Tree"
   ]
  },
  {
   "cell_type": "markdown",
   "metadata": {},
   "source": [
    "<div style=\"background-color: #2f648a; border-radius: 5px;\"> \n",
    "    <center><h1 style=\"color: white; padding: 20px;\">1. Imports</h1></center>\n",
    "</div>"
   ]
  },
  {
   "cell_type": "code",
   "execution_count": 4,
   "metadata": {},
   "outputs": [],
   "source": [
    "import pandas as pd\n",
    "from pandas import ExcelWriter\n",
    "from pandas import ExcelFile\n",
    "from datetime import datetime\n",
    "import seaborn as sn\n",
    "from matplotlib import pyplot as plt"
   ]
  },
  {
   "cell_type": "markdown",
   "metadata": {},
   "source": [
    "<div style=\"background-color: #2f648a; border-radius: 5px;\"> \n",
    "    <center><h1 style=\"color: white; padding: 20px;\">2. Read files </h1></center>\n",
    "</div>"
   ]
  },
  {
   "cell_type": "markdown",
   "metadata": {},
   "source": [
    "<div style=\"border: solid 4px #2f648a; border-radius: 5px;\"> \n",
    "    <center><h3 style=\"color: #2f648a; padding: 10px;\">2.1 Leitura da bases de dados dos formandos</h3></center>\n",
    "</div>"
   ]
  },
  {
   "cell_type": "code",
   "execution_count": 5,
   "metadata": {},
   "outputs": [
    {
     "name": "stderr",
     "output_type": "stream",
     "text": [
      "C:\\Users\\sarro\\anaconda3\\lib\\site-packages\\IPython\\core\\interactiveshell.py:3071: DtypeWarning: Columns (10) have mixed types.Specify dtype option on import or set low_memory=False.\n",
      "  has_raised = await self.run_ast_nodes(code_ast.body, cell_name,\n"
     ]
    }
   ],
   "source": [
    "form = pd.read_csv(\"databases/formandos_limpo.csv\")"
   ]
  },
  {
   "cell_type": "code",
   "execution_count": 6,
   "metadata": {},
   "outputs": [],
   "source": [
    "# delete column produced by the csv\n",
    "del form['Unnamed: 0']"
   ]
  },
  {
   "cell_type": "code",
   "execution_count": 7,
   "metadata": {},
   "outputs": [
    {
     "data": {
      "text/plain": [
       "(69378, 12)"
      ]
     },
     "execution_count": 7,
     "metadata": {},
     "output_type": "execute_result"
    }
   ],
   "source": [
    "form.shape"
   ]
  },
  {
   "cell_type": "code",
   "execution_count": 8,
   "metadata": {},
   "outputs": [
    {
     "data": {
      "text/html": [
       "<div>\n",
       "<style scoped>\n",
       "    .dataframe tbody tr th:only-of-type {\n",
       "        vertical-align: middle;\n",
       "    }\n",
       "\n",
       "    .dataframe tbody tr th {\n",
       "        vertical-align: top;\n",
       "    }\n",
       "\n",
       "    .dataframe thead th {\n",
       "        text-align: right;\n",
       "    }\n",
       "</style>\n",
       "<table border=\"1\" class=\"dataframe\">\n",
       "  <thead>\n",
       "    <tr style=\"text-align: right;\">\n",
       "      <th></th>\n",
       "      <th>UTE_ID</th>\n",
       "      <th>CodCEFP</th>\n",
       "      <th>Sexo</th>\n",
       "      <th>IdadeEmAnos</th>\n",
       "      <th>CodHabilitacao</th>\n",
       "      <th>CodNacionalidade</th>\n",
       "      <th>HorasForm</th>\n",
       "      <th>AreaFormacao</th>\n",
       "      <th>NivelFormacaoAccao</th>\n",
       "      <th>CodSaidaProfissional</th>\n",
       "      <th>Sucessos</th>\n",
       "      <th>DuracaoFormacao</th>\n",
       "    </tr>\n",
       "  </thead>\n",
       "  <tbody>\n",
       "    <tr>\n",
       "      <th>0</th>\n",
       "      <td>24054</td>\n",
       "      <td>201</td>\n",
       "      <td>1</td>\n",
       "      <td>41</td>\n",
       "      <td>12</td>\n",
       "      <td>PT</td>\n",
       "      <td>1504.0</td>\n",
       "      <td>521</td>\n",
       "      <td>5</td>\n",
       "      <td>52174</td>\n",
       "      <td>0</td>\n",
       "      <td>375 days 00:00:00.000000000</td>\n",
       "    </tr>\n",
       "    <tr>\n",
       "      <th>1</th>\n",
       "      <td>39165</td>\n",
       "      <td>309</td>\n",
       "      <td>0</td>\n",
       "      <td>45</td>\n",
       "      <td>12</td>\n",
       "      <td>PT</td>\n",
       "      <td>1300.0</td>\n",
       "      <td>481</td>\n",
       "      <td>5</td>\n",
       "      <td>4816</td>\n",
       "      <td>0</td>\n",
       "      <td>325 days 00:00:00.000000000</td>\n",
       "    </tr>\n",
       "    <tr>\n",
       "      <th>2</th>\n",
       "      <td>77485</td>\n",
       "      <td>402</td>\n",
       "      <td>0</td>\n",
       "      <td>51</td>\n",
       "      <td>12</td>\n",
       "      <td>PT</td>\n",
       "      <td>211.0</td>\n",
       "      <td>481</td>\n",
       "      <td>5</td>\n",
       "      <td>4817</td>\n",
       "      <td>0</td>\n",
       "      <td>434 days 00:00:00.000000000</td>\n",
       "    </tr>\n",
       "    <tr>\n",
       "      <th>3</th>\n",
       "      <td>145884</td>\n",
       "      <td>501</td>\n",
       "      <td>0</td>\n",
       "      <td>53</td>\n",
       "      <td>12</td>\n",
       "      <td>PT</td>\n",
       "      <td>465.0</td>\n",
       "      <td>812</td>\n",
       "      <td>5</td>\n",
       "      <td>8126</td>\n",
       "      <td>0</td>\n",
       "      <td>382 days 00:00:00.000000000</td>\n",
       "    </tr>\n",
       "    <tr>\n",
       "      <th>4</th>\n",
       "      <td>155241</td>\n",
       "      <td>501</td>\n",
       "      <td>1</td>\n",
       "      <td>51</td>\n",
       "      <td>12</td>\n",
       "      <td>PT</td>\n",
       "      <td>447.0</td>\n",
       "      <td>812</td>\n",
       "      <td>5</td>\n",
       "      <td>8126</td>\n",
       "      <td>1</td>\n",
       "      <td>382 days 00:00:00.000000000</td>\n",
       "    </tr>\n",
       "  </tbody>\n",
       "</table>\n",
       "</div>"
      ],
      "text/plain": [
       "   UTE_ID  CodCEFP  Sexo  IdadeEmAnos  CodHabilitacao CodNacionalidade  \\\n",
       "0   24054      201     1           41              12               PT   \n",
       "1   39165      309     0           45              12               PT   \n",
       "2   77485      402     0           51              12               PT   \n",
       "3  145884      501     0           53              12               PT   \n",
       "4  155241      501     1           51              12               PT   \n",
       "\n",
       "   HorasForm  AreaFormacao NivelFormacaoAccao CodSaidaProfissional  Sucessos  \\\n",
       "0     1504.0           521                  5                52174         0   \n",
       "1     1300.0           481                  5                 4816         0   \n",
       "2      211.0           481                  5                 4817         0   \n",
       "3      465.0           812                  5                 8126         0   \n",
       "4      447.0           812                  5                 8126         1   \n",
       "\n",
       "               DuracaoFormacao  \n",
       "0  375 days 00:00:00.000000000  \n",
       "1  325 days 00:00:00.000000000  \n",
       "2  434 days 00:00:00.000000000  \n",
       "3  382 days 00:00:00.000000000  \n",
       "4  382 days 00:00:00.000000000  "
      ]
     },
     "execution_count": 8,
     "metadata": {},
     "output_type": "execute_result"
    }
   ],
   "source": [
    "form.head()"
   ]
  },
  {
   "cell_type": "markdown",
   "metadata": {},
   "source": [
    "<div style=\"border: solid 4px #2f648a; border-radius: 5px;\"> \n",
    "    <center><h3 style=\"color: #2f648a; padding: 10px;\">2.2 Leitura da bases de dados dos cursos</h3></center>\n",
    "</div>"
   ]
  },
  {
   "cell_type": "code",
   "execution_count": 9,
   "metadata": {},
   "outputs": [],
   "source": [
    "cursos = pd.read_csv(\"databases/cursos.csv\")"
   ]
  },
  {
   "cell_type": "code",
   "execution_count": 10,
   "metadata": {},
   "outputs": [],
   "source": [
    "# delete column produced by the csv\n",
    "del cursos['Unnamed: 0']"
   ]
  },
  {
   "cell_type": "code",
   "execution_count": 11,
   "metadata": {},
   "outputs": [
    {
     "data": {
      "text/plain": [
       "(162138, 7)"
      ]
     },
     "execution_count": 11,
     "metadata": {},
     "output_type": "execute_result"
    }
   ],
   "source": [
    "cursos.shape"
   ]
  },
  {
   "cell_type": "code",
   "execution_count": 12,
   "metadata": {},
   "outputs": [
    {
     "data": {
      "text/html": [
       "<div>\n",
       "<style scoped>\n",
       "    .dataframe tbody tr th:only-of-type {\n",
       "        vertical-align: middle;\n",
       "    }\n",
       "\n",
       "    .dataframe tbody tr th {\n",
       "        vertical-align: top;\n",
       "    }\n",
       "\n",
       "    .dataframe thead th {\n",
       "        text-align: right;\n",
       "    }\n",
       "</style>\n",
       "<table border=\"1\" class=\"dataframe\">\n",
       "  <thead>\n",
       "    <tr style=\"text-align: right;\">\n",
       "      <th></th>\n",
       "      <th>UTE_ID</th>\n",
       "      <th>F_CCURSO</th>\n",
       "      <th>F_DCURSO</th>\n",
       "      <th>F_HORAS</th>\n",
       "      <th>TIPO_UTENTE</th>\n",
       "      <th>CATEGORIA</th>\n",
       "      <th>DCATEGORIA</th>\n",
       "    </tr>\n",
       "  </thead>\n",
       "  <tbody>\n",
       "    <tr>\n",
       "      <th>0</th>\n",
       "      <td>5963829</td>\n",
       "      <td>FM089AC</td>\n",
       "      <td>COMUNICAÇÃO ASSERTIVA E TÉCNICAS DE PROCURA DE...</td>\n",
       "      <td>25.0</td>\n",
       "      <td>A</td>\n",
       "      <td>5</td>\n",
       "      <td>OCUPADO</td>\n",
       "    </tr>\n",
       "    <tr>\n",
       "      <th>1</th>\n",
       "      <td>4320275</td>\n",
       "      <td>811141A</td>\n",
       "      <td>TÉCNICO/A DE RESTAURANTE/BAR</td>\n",
       "      <td>3525.0</td>\n",
       "      <td>A</td>\n",
       "      <td>5</td>\n",
       "      <td>OCUPADO</td>\n",
       "    </tr>\n",
       "    <tr>\n",
       "      <th>2</th>\n",
       "      <td>5124212</td>\n",
       "      <td>81114ZZ</td>\n",
       "      <td>TÉCNICO/A DE RESTAURANTE/BAR (UFCD)</td>\n",
       "      <td>1050.0</td>\n",
       "      <td>A</td>\n",
       "      <td>5</td>\n",
       "      <td>OCUPADO</td>\n",
       "    </tr>\n",
       "    <tr>\n",
       "      <th>3</th>\n",
       "      <td>4787421</td>\n",
       "      <td>81205ZZ</td>\n",
       "      <td>TURISMO AMBIENTAL E RURAL</td>\n",
       "      <td>1425.0</td>\n",
       "      <td>A</td>\n",
       "      <td>5</td>\n",
       "      <td>OCUPADO</td>\n",
       "    </tr>\n",
       "    <tr>\n",
       "      <th>4</th>\n",
       "      <td>5522037</td>\n",
       "      <td>FM089AC</td>\n",
       "      <td>COMUNICAÇÃO ASSERTIVA E TÉCNICAS DE PROCURA DE...</td>\n",
       "      <td>25.0</td>\n",
       "      <td>A</td>\n",
       "      <td>5</td>\n",
       "      <td>OCUPADO</td>\n",
       "    </tr>\n",
       "  </tbody>\n",
       "</table>\n",
       "</div>"
      ],
      "text/plain": [
       "    UTE_ID F_CCURSO                                           F_DCURSO  \\\n",
       "0  5963829  FM089AC  COMUNICAÇÃO ASSERTIVA E TÉCNICAS DE PROCURA DE...   \n",
       "1  4320275  811141A                       TÉCNICO/A DE RESTAURANTE/BAR   \n",
       "2  5124212  81114ZZ                TÉCNICO/A DE RESTAURANTE/BAR (UFCD)   \n",
       "3  4787421  81205ZZ                          TURISMO AMBIENTAL E RURAL   \n",
       "4  5522037  FM089AC  COMUNICAÇÃO ASSERTIVA E TÉCNICAS DE PROCURA DE...   \n",
       "\n",
       "   F_HORAS TIPO_UTENTE  CATEGORIA DCATEGORIA  \n",
       "0     25.0           A          5    OCUPADO  \n",
       "1   3525.0           A          5    OCUPADO  \n",
       "2   1050.0           A          5    OCUPADO  \n",
       "3   1425.0           A          5    OCUPADO  \n",
       "4     25.0           A          5    OCUPADO  "
      ]
     },
     "execution_count": 12,
     "metadata": {},
     "output_type": "execute_result"
    }
   ],
   "source": [
    "cursos.head()"
   ]
  },
  {
   "cell_type": "markdown",
   "metadata": {},
   "source": [
    "<div style=\"border: solid 4px #2f648a; border-radius: 5px;\"> \n",
    "    <center><h3 style=\"color: #2f648a; padding: 10px;\">2.3 Leitura da bases de dados dos pedidos</h3></center>\n",
    "</div>"
   ]
  },
  {
   "cell_type": "code",
   "execution_count": 13,
   "metadata": {},
   "outputs": [],
   "source": [
    "pedidos = pd.read_csv(\"databases/pedidos.csv\")"
   ]
  },
  {
   "cell_type": "code",
   "execution_count": 14,
   "metadata": {},
   "outputs": [
    {
     "data": {
      "text/plain": [
       "(384551, 8)"
      ]
     },
     "execution_count": 14,
     "metadata": {},
     "output_type": "execute_result"
    }
   ],
   "source": [
    "pedidos.shape"
   ]
  },
  {
   "cell_type": "code",
   "execution_count": 15,
   "metadata": {},
   "outputs": [
    {
     "data": {
      "text/plain": [
       "Unnamed: 0           0\n",
       "UTE_ID               0\n",
       "IDADE                0\n",
       "SEXO                 0\n",
       "CATEGORIA            0\n",
       "DCATEGORIA           0\n",
       "CPP_PRETENDIDA     260\n",
       "DCPP_PRETENDIDA    260\n",
       "dtype: int64"
      ]
     },
     "execution_count": 15,
     "metadata": {},
     "output_type": "execute_result"
    }
   ],
   "source": [
    "pedidos.isnull().sum()"
   ]
  },
  {
   "cell_type": "code",
   "execution_count": 16,
   "metadata": {},
   "outputs": [
    {
     "data": {
      "text/html": [
       "<div>\n",
       "<style scoped>\n",
       "    .dataframe tbody tr th:only-of-type {\n",
       "        vertical-align: middle;\n",
       "    }\n",
       "\n",
       "    .dataframe tbody tr th {\n",
       "        vertical-align: top;\n",
       "    }\n",
       "\n",
       "    .dataframe thead th {\n",
       "        text-align: right;\n",
       "    }\n",
       "</style>\n",
       "<table border=\"1\" class=\"dataframe\">\n",
       "  <thead>\n",
       "    <tr style=\"text-align: right;\">\n",
       "      <th></th>\n",
       "      <th>Unnamed: 0</th>\n",
       "      <th>UTE_ID</th>\n",
       "      <th>IDADE</th>\n",
       "      <th>SEXO</th>\n",
       "      <th>CATEGORIA</th>\n",
       "      <th>DCATEGORIA</th>\n",
       "      <th>CPP_PRETENDIDA</th>\n",
       "      <th>DCPP_PRETENDIDA</th>\n",
       "    </tr>\n",
       "  </thead>\n",
       "  <tbody>\n",
       "    <tr>\n",
       "      <th>0</th>\n",
       "      <td>0</td>\n",
       "      <td>4853974</td>\n",
       "      <td>34</td>\n",
       "      <td>M</td>\n",
       "      <td>1</td>\n",
       "      <td>DESEMPREGADO-1º EMPREGO</td>\n",
       "      <td>52230.0</td>\n",
       "      <td>VENDEDOR EM LOJA (ESTABELECIMENTO)</td>\n",
       "    </tr>\n",
       "    <tr>\n",
       "      <th>1</th>\n",
       "      <td>1</td>\n",
       "      <td>4853974</td>\n",
       "      <td>34</td>\n",
       "      <td>M</td>\n",
       "      <td>5</td>\n",
       "      <td>OCUPADO</td>\n",
       "      <td>52230.0</td>\n",
       "      <td>VENDEDOR EM LOJA (ESTABELECIMENTO)</td>\n",
       "    </tr>\n",
       "    <tr>\n",
       "      <th>2</th>\n",
       "      <td>2</td>\n",
       "      <td>1102550</td>\n",
       "      <td>56</td>\n",
       "      <td>M</td>\n",
       "      <td>2</td>\n",
       "      <td>DESEMPREGADO-NOVO EMPREGO</td>\n",
       "      <td>63100.0</td>\n",
       "      <td>AGRICULTOR DE SUBSISTÊNCIA</td>\n",
       "    </tr>\n",
       "    <tr>\n",
       "      <th>3</th>\n",
       "      <td>3</td>\n",
       "      <td>1102550</td>\n",
       "      <td>56</td>\n",
       "      <td>M</td>\n",
       "      <td>2</td>\n",
       "      <td>DESEMPREGADO-NOVO EMPREGO</td>\n",
       "      <td>63100.0</td>\n",
       "      <td>AGRICULTOR DE SUBSISTÊNCIA</td>\n",
       "    </tr>\n",
       "    <tr>\n",
       "      <th>4</th>\n",
       "      <td>4</td>\n",
       "      <td>6172405</td>\n",
       "      <td>23</td>\n",
       "      <td>M</td>\n",
       "      <td>2</td>\n",
       "      <td>DESEMPREGADO-NOVO EMPREGO</td>\n",
       "      <td>82110.0</td>\n",
       "      <td>MONTADOR DE MAQUINARIA MECÂNICA</td>\n",
       "    </tr>\n",
       "  </tbody>\n",
       "</table>\n",
       "</div>"
      ],
      "text/plain": [
       "   Unnamed: 0   UTE_ID  IDADE SEXO  CATEGORIA                 DCATEGORIA  \\\n",
       "0           0  4853974     34    M          1    DESEMPREGADO-1º EMPREGO   \n",
       "1           1  4853974     34    M          5                    OCUPADO   \n",
       "2           2  1102550     56    M          2  DESEMPREGADO-NOVO EMPREGO   \n",
       "3           3  1102550     56    M          2  DESEMPREGADO-NOVO EMPREGO   \n",
       "4           4  6172405     23    M          2  DESEMPREGADO-NOVO EMPREGO   \n",
       "\n",
       "   CPP_PRETENDIDA                     DCPP_PRETENDIDA  \n",
       "0         52230.0  VENDEDOR EM LOJA (ESTABELECIMENTO)  \n",
       "1         52230.0  VENDEDOR EM LOJA (ESTABELECIMENTO)  \n",
       "2         63100.0          AGRICULTOR DE SUBSISTÊNCIA  \n",
       "3         63100.0          AGRICULTOR DE SUBSISTÊNCIA  \n",
       "4         82110.0     MONTADOR DE MAQUINARIA MECÂNICA  "
      ]
     },
     "execution_count": 16,
     "metadata": {},
     "output_type": "execute_result"
    }
   ],
   "source": [
    "pedidos.head()"
   ]
  },
  {
   "cell_type": "markdown",
   "metadata": {},
   "source": [
    "<div style=\"background-color: #2f648a; border-radius: 5px;\">\n",
    "    <center><h1 style=\"color: white; padding: 20px;\">3. Junção das duas bases de dados</h1></center>\n",
    "</div>"
   ]
  },
  {
   "cell_type": "code",
   "execution_count": 17,
   "metadata": {},
   "outputs": [],
   "source": [
    "merged = form.merge(cursos, on=\"UTE_ID\", how=\"inner\")"
   ]
  },
  {
   "cell_type": "code",
   "execution_count": 18,
   "metadata": {},
   "outputs": [
    {
     "data": {
      "text/plain": [
       "(109595, 18)"
      ]
     },
     "execution_count": 18,
     "metadata": {},
     "output_type": "execute_result"
    }
   ],
   "source": [
    "merged.shape"
   ]
  },
  {
   "cell_type": "code",
   "execution_count": 19,
   "metadata": {},
   "outputs": [
    {
     "data": {
      "text/html": [
       "<div>\n",
       "<style scoped>\n",
       "    .dataframe tbody tr th:only-of-type {\n",
       "        vertical-align: middle;\n",
       "    }\n",
       "\n",
       "    .dataframe tbody tr th {\n",
       "        vertical-align: top;\n",
       "    }\n",
       "\n",
       "    .dataframe thead th {\n",
       "        text-align: right;\n",
       "    }\n",
       "</style>\n",
       "<table border=\"1\" class=\"dataframe\">\n",
       "  <thead>\n",
       "    <tr style=\"text-align: right;\">\n",
       "      <th></th>\n",
       "      <th>UTE_ID</th>\n",
       "      <th>CodCEFP</th>\n",
       "      <th>Sexo</th>\n",
       "      <th>IdadeEmAnos</th>\n",
       "      <th>CodHabilitacao</th>\n",
       "      <th>CodNacionalidade</th>\n",
       "      <th>HorasForm</th>\n",
       "      <th>AreaFormacao</th>\n",
       "      <th>NivelFormacaoAccao</th>\n",
       "      <th>CodSaidaProfissional</th>\n",
       "      <th>Sucessos</th>\n",
       "      <th>DuracaoFormacao</th>\n",
       "      <th>F_CCURSO</th>\n",
       "      <th>F_DCURSO</th>\n",
       "      <th>F_HORAS</th>\n",
       "      <th>TIPO_UTENTE</th>\n",
       "      <th>CATEGORIA</th>\n",
       "      <th>DCATEGORIA</th>\n",
       "    </tr>\n",
       "  </thead>\n",
       "  <tbody>\n",
       "    <tr>\n",
       "      <th>0</th>\n",
       "      <td>24054</td>\n",
       "      <td>201</td>\n",
       "      <td>1</td>\n",
       "      <td>41</td>\n",
       "      <td>12</td>\n",
       "      <td>PT</td>\n",
       "      <td>1504.0</td>\n",
       "      <td>521</td>\n",
       "      <td>5</td>\n",
       "      <td>52174</td>\n",
       "      <td>0</td>\n",
       "      <td>375 days 00:00:00.000000000</td>\n",
       "      <td>62110ZZ</td>\n",
       "      <td>OPERADOR/A AGRÍCOLA (UFCD)</td>\n",
       "      <td>825.0</td>\n",
       "      <td>A</td>\n",
       "      <td>5</td>\n",
       "      <td>OCUPADO</td>\n",
       "    </tr>\n",
       "    <tr>\n",
       "      <th>1</th>\n",
       "      <td>24054</td>\n",
       "      <td>201</td>\n",
       "      <td>1</td>\n",
       "      <td>41</td>\n",
       "      <td>12</td>\n",
       "      <td>PT</td>\n",
       "      <td>1504.0</td>\n",
       "      <td>521</td>\n",
       "      <td>5</td>\n",
       "      <td>52174</td>\n",
       "      <td>0</td>\n",
       "      <td>375 days 00:00:00.000000000</td>\n",
       "      <td>521641E</td>\n",
       "      <td>TÉCNICO/A ESPECIALISTA EM TECNOLOGIA MECATRÓNICA</td>\n",
       "      <td>1560.0</td>\n",
       "      <td>A</td>\n",
       "      <td>5</td>\n",
       "      <td>OCUPADO</td>\n",
       "    </tr>\n",
       "    <tr>\n",
       "      <th>2</th>\n",
       "      <td>39165</td>\n",
       "      <td>309</td>\n",
       "      <td>0</td>\n",
       "      <td>45</td>\n",
       "      <td>12</td>\n",
       "      <td>PT</td>\n",
       "      <td>1300.0</td>\n",
       "      <td>481</td>\n",
       "      <td>5</td>\n",
       "      <td>4816</td>\n",
       "      <td>0</td>\n",
       "      <td>325 days 00:00:00.000000000</td>\n",
       "      <td>48102ZZ</td>\n",
       "      <td>TÉCNICO/A DE INFORMÁTICA - SISTEMAS</td>\n",
       "      <td>1025.0</td>\n",
       "      <td>A</td>\n",
       "      <td>5</td>\n",
       "      <td>OCUPADO</td>\n",
       "    </tr>\n",
       "    <tr>\n",
       "      <th>3</th>\n",
       "      <td>39165</td>\n",
       "      <td>309</td>\n",
       "      <td>0</td>\n",
       "      <td>45</td>\n",
       "      <td>12</td>\n",
       "      <td>PT</td>\n",
       "      <td>1300.0</td>\n",
       "      <td>481</td>\n",
       "      <td>5</td>\n",
       "      <td>4816</td>\n",
       "      <td>0</td>\n",
       "      <td>325 days 00:00:00.000000000</td>\n",
       "      <td>481061E</td>\n",
       "      <td>GESTÃO DE REDES E SISTEMAS INFORMÁTICOS</td>\n",
       "      <td>1375.0</td>\n",
       "      <td>A</td>\n",
       "      <td>5</td>\n",
       "      <td>OCUPADO</td>\n",
       "    </tr>\n",
       "    <tr>\n",
       "      <th>4</th>\n",
       "      <td>77485</td>\n",
       "      <td>402</td>\n",
       "      <td>0</td>\n",
       "      <td>51</td>\n",
       "      <td>12</td>\n",
       "      <td>PT</td>\n",
       "      <td>211.0</td>\n",
       "      <td>481</td>\n",
       "      <td>5</td>\n",
       "      <td>4817</td>\n",
       "      <td>0</td>\n",
       "      <td>434 days 00:00:00.000000000</td>\n",
       "      <td>48102ZZ</td>\n",
       "      <td>TÉCNICO/A DE INFORMÁTICA - SISTEMAS</td>\n",
       "      <td>1025.0</td>\n",
       "      <td>A</td>\n",
       "      <td>5</td>\n",
       "      <td>OCUPADO</td>\n",
       "    </tr>\n",
       "  </tbody>\n",
       "</table>\n",
       "</div>"
      ],
      "text/plain": [
       "   UTE_ID  CodCEFP  Sexo  IdadeEmAnos  CodHabilitacao CodNacionalidade  \\\n",
       "0   24054      201     1           41              12               PT   \n",
       "1   24054      201     1           41              12               PT   \n",
       "2   39165      309     0           45              12               PT   \n",
       "3   39165      309     0           45              12               PT   \n",
       "4   77485      402     0           51              12               PT   \n",
       "\n",
       "   HorasForm  AreaFormacao NivelFormacaoAccao CodSaidaProfissional  Sucessos  \\\n",
       "0     1504.0           521                  5                52174         0   \n",
       "1     1504.0           521                  5                52174         0   \n",
       "2     1300.0           481                  5                 4816         0   \n",
       "3     1300.0           481                  5                 4816         0   \n",
       "4      211.0           481                  5                 4817         0   \n",
       "\n",
       "               DuracaoFormacao F_CCURSO  \\\n",
       "0  375 days 00:00:00.000000000  62110ZZ   \n",
       "1  375 days 00:00:00.000000000  521641E   \n",
       "2  325 days 00:00:00.000000000  48102ZZ   \n",
       "3  325 days 00:00:00.000000000  481061E   \n",
       "4  434 days 00:00:00.000000000  48102ZZ   \n",
       "\n",
       "                                           F_DCURSO  F_HORAS TIPO_UTENTE  \\\n",
       "0                        OPERADOR/A AGRÍCOLA (UFCD)    825.0           A   \n",
       "1  TÉCNICO/A ESPECIALISTA EM TECNOLOGIA MECATRÓNICA   1560.0           A   \n",
       "2               TÉCNICO/A DE INFORMÁTICA - SISTEMAS   1025.0           A   \n",
       "3           GESTÃO DE REDES E SISTEMAS INFORMÁTICOS   1375.0           A   \n",
       "4               TÉCNICO/A DE INFORMÁTICA - SISTEMAS   1025.0           A   \n",
       "\n",
       "   CATEGORIA DCATEGORIA  \n",
       "0          5    OCUPADO  \n",
       "1          5    OCUPADO  \n",
       "2          5    OCUPADO  \n",
       "3          5    OCUPADO  \n",
       "4          5    OCUPADO  "
      ]
     },
     "execution_count": 19,
     "metadata": {},
     "output_type": "execute_result"
    }
   ],
   "source": [
    "merged.head()"
   ]
  },
  {
   "cell_type": "markdown",
   "metadata": {},
   "source": [
    "<div style=\"background-color: #2f648a; border-radius: 5px;\">\n",
    "    <center><h1 style=\"color: white; padding: 20px;\">4. Taxa de sucesso por curso</h1></center>\n",
    "</div>"
   ]
  },
  {
   "cell_type": "code",
   "execution_count": 20,
   "metadata": {},
   "outputs": [
    {
     "data": {
      "text/html": [
       "<div>\n",
       "<style scoped>\n",
       "    .dataframe tbody tr th:only-of-type {\n",
       "        vertical-align: middle;\n",
       "    }\n",
       "\n",
       "    .dataframe tbody tr th {\n",
       "        vertical-align: top;\n",
       "    }\n",
       "\n",
       "    .dataframe thead th {\n",
       "        text-align: right;\n",
       "    }\n",
       "</style>\n",
       "<table border=\"1\" class=\"dataframe\">\n",
       "  <thead>\n",
       "    <tr style=\"text-align: right;\">\n",
       "      <th></th>\n",
       "      <th>Count</th>\n",
       "    </tr>\n",
       "    <tr>\n",
       "      <th>F_DCURSO</th>\n",
       "      <th></th>\n",
       "    </tr>\n",
       "  </thead>\n",
       "  <tbody>\n",
       "    <tr>\n",
       "      <th>ARRANJOS FLORAIS E DECORAÇÃO</th>\n",
       "      <td>20</td>\n",
       "    </tr>\n",
       "    <tr>\n",
       "      <th>INTRODUÇÃO AOS CUIDADOS DE BELEZA</th>\n",
       "      <td>21</td>\n",
       "    </tr>\n",
       "    <tr>\n",
       "      <th>LOGÍSTICA - CADEIA DE ABASTECIMENTO (B3) Q+</th>\n",
       "      <td>11</td>\n",
       "    </tr>\n",
       "    <tr>\n",
       "      <th>LÍNGUA ESPANHOLA - ATENDIMENTO E VENDAS</th>\n",
       "      <td>59</td>\n",
       "    </tr>\n",
       "    <tr>\n",
       "      <th>LÍNGUA ESPANHOLA - INFORMAÇÃO E ATENDIMENTO TÉCNICO</th>\n",
       "      <td>2</td>\n",
       "    </tr>\n",
       "    <tr>\n",
       "      <th>...</th>\n",
       "      <td>...</td>\n",
       "    </tr>\n",
       "    <tr>\n",
       "      <th>WEB E MULTIMÉDIA</th>\n",
       "      <td>28</td>\n",
       "    </tr>\n",
       "    <tr>\n",
       "      <th>WINDOWS SERVER - REDE E SERVIÇOS</th>\n",
       "      <td>4</td>\n",
       "    </tr>\n",
       "    <tr>\n",
       "      <th>WORLDSKILLS KAZAN 2019 - FORMAÇÃO ESPECÍFICA EM SOLDADURA</th>\n",
       "      <td>1</td>\n",
       "    </tr>\n",
       "    <tr>\n",
       "      <th>ÇÃO EDUCATIVA - PROTEÇÃO E RESPOSTAS SOCIAIS PARA CRIANÇAS E JOVENS (B3) Q+</th>\n",
       "      <td>1</td>\n",
       "    </tr>\n",
       "    <tr>\n",
       "      <th>ÉTICA, DEONTOLOGIA E COMUNICAÇÃO EMPRESARIAL</th>\n",
       "      <td>14</td>\n",
       "    </tr>\n",
       "  </tbody>\n",
       "</table>\n",
       "<p>942 rows × 1 columns</p>\n",
       "</div>"
      ],
      "text/plain": [
       "                                                    Count\n",
       "F_DCURSO                                                 \n",
       " ARRANJOS FLORAIS E DECORAÇÃO                          20\n",
       " INTRODUÇÃO AOS CUIDADOS DE BELEZA                     21\n",
       " LOGÍSTICA - CADEIA DE ABASTECIMENTO (B3) Q+           11\n",
       " LÍNGUA ESPANHOLA - ATENDIMENTO E VENDAS               59\n",
       " LÍNGUA ESPANHOLA - INFORMAÇÃO E ATENDIMENTO TÉ...      2\n",
       "...                                                   ...\n",
       "WEB E MULTIMÉDIA                                       28\n",
       "WINDOWS SERVER - REDE E SERVIÇOS                        4\n",
       "WORLDSKILLS KAZAN 2019 - FORMAÇÃO ESPECÍFICA EM...      1\n",
       "ÇÃO EDUCATIVA - PROTEÇÃO E RESPOSTAS SOCIAIS PA...      1\n",
       "ÉTICA, DEONTOLOGIA E COMUNICAÇÃO EMPRESARIAL           14\n",
       "\n",
       "[942 rows x 1 columns]"
      ]
     },
     "execution_count": 20,
     "metadata": {},
     "output_type": "execute_result"
    }
   ],
   "source": [
    "# criar tabela com contagem de cada formação\n",
    "count_form = merged[['F_DCURSO', \"UTE_ID\"]] \\\n",
    "            .groupby(\"F_DCURSO\") \\\n",
    "            .count() \\\n",
    "            .rename(columns = {'UTE_ID': 'Count'})\n",
    "\n",
    "count_form"
   ]
  },
  {
   "cell_type": "code",
   "execution_count": 21,
   "metadata": {},
   "outputs": [
    {
     "data": {
      "text/html": [
       "<div>\n",
       "<style scoped>\n",
       "    .dataframe tbody tr th:only-of-type {\n",
       "        vertical-align: middle;\n",
       "    }\n",
       "\n",
       "    .dataframe tbody tr th {\n",
       "        vertical-align: top;\n",
       "    }\n",
       "\n",
       "    .dataframe thead th {\n",
       "        text-align: right;\n",
       "    }\n",
       "</style>\n",
       "<table border=\"1\" class=\"dataframe\">\n",
       "  <thead>\n",
       "    <tr style=\"text-align: right;\">\n",
       "      <th></th>\n",
       "      <th>Count_succ</th>\n",
       "    </tr>\n",
       "    <tr>\n",
       "      <th>F_DCURSO</th>\n",
       "      <th></th>\n",
       "    </tr>\n",
       "  </thead>\n",
       "  <tbody>\n",
       "    <tr>\n",
       "      <th>ARRANJOS FLORAIS E DECORAÇÃO</th>\n",
       "      <td>2</td>\n",
       "    </tr>\n",
       "    <tr>\n",
       "      <th>INTRODUÇÃO AOS CUIDADOS DE BELEZA</th>\n",
       "      <td>5</td>\n",
       "    </tr>\n",
       "    <tr>\n",
       "      <th>LOGÍSTICA - CADEIA DE ABASTECIMENTO (B3) Q+</th>\n",
       "      <td>1</td>\n",
       "    </tr>\n",
       "    <tr>\n",
       "      <th>LÍNGUA ESPANHOLA - ATENDIMENTO E VENDAS</th>\n",
       "      <td>9</td>\n",
       "    </tr>\n",
       "    <tr>\n",
       "      <th>TÉCNICO/A DE BANCA E SEGUROS</th>\n",
       "      <td>2</td>\n",
       "    </tr>\n",
       "    <tr>\n",
       "      <th>...</th>\n",
       "      <td>...</td>\n",
       "    </tr>\n",
       "    <tr>\n",
       "      <th>VIDREIRO/A</th>\n",
       "      <td>43</td>\n",
       "    </tr>\n",
       "    <tr>\n",
       "      <th>WEB E MULTIMÉDIA</th>\n",
       "      <td>2</td>\n",
       "    </tr>\n",
       "    <tr>\n",
       "      <th>WINDOWS SERVER - REDE E SERVIÇOS</th>\n",
       "      <td>1</td>\n",
       "    </tr>\n",
       "    <tr>\n",
       "      <th>WORLDSKILLS KAZAN 2019 - FORMAÇÃO ESPECÍFICA EM SOLDADURA</th>\n",
       "      <td>1</td>\n",
       "    </tr>\n",
       "    <tr>\n",
       "      <th>ÉTICA, DEONTOLOGIA E COMUNICAÇÃO EMPRESARIAL</th>\n",
       "      <td>5</td>\n",
       "    </tr>\n",
       "  </tbody>\n",
       "</table>\n",
       "<p>715 rows × 1 columns</p>\n",
       "</div>"
      ],
      "text/plain": [
       "                                                    Count_succ\n",
       "F_DCURSO                                                      \n",
       " ARRANJOS FLORAIS E DECORAÇÃO                                2\n",
       " INTRODUÇÃO AOS CUIDADOS DE BELEZA                           5\n",
       " LOGÍSTICA - CADEIA DE ABASTECIMENTO (B3) Q+                 1\n",
       " LÍNGUA ESPANHOLA - ATENDIMENTO E VENDAS                     9\n",
       " TÉCNICO/A DE BANCA E SEGUROS                                2\n",
       "...                                                        ...\n",
       "VIDREIRO/A                                                  43\n",
       "WEB E MULTIMÉDIA                                             2\n",
       "WINDOWS SERVER - REDE E SERVIÇOS                             1\n",
       "WORLDSKILLS KAZAN 2019 - FORMAÇÃO ESPECÍFICA EM...           1\n",
       "ÉTICA, DEONTOLOGIA E COMUNICAÇÃO EMPRESARIAL                 5\n",
       "\n",
       "[715 rows x 1 columns]"
      ]
     },
     "execution_count": 21,
     "metadata": {},
     "output_type": "execute_result"
    }
   ],
   "source": [
    "# filtrar apenas os casos de sucesso\n",
    "succ = merged[merged[\"Sucessos\"]==1]\n",
    "\n",
    "\n",
    "# criar tabela com contagem de cada formação com outcome <sucesso>\n",
    "count_form_succ = succ[['F_DCURSO', \"UTE_ID\"]] \\\n",
    "            .groupby(\"F_DCURSO\") \\\n",
    "            .count() \\\n",
    "            .rename(columns = {'UTE_ID': 'Count_succ'})\n",
    "\n",
    "count_form_succ"
   ]
  },
  {
   "cell_type": "code",
   "execution_count": 22,
   "metadata": {},
   "outputs": [
    {
     "data": {
      "text/html": [
       "<div>\n",
       "<style scoped>\n",
       "    .dataframe tbody tr th:only-of-type {\n",
       "        vertical-align: middle;\n",
       "    }\n",
       "\n",
       "    .dataframe tbody tr th {\n",
       "        vertical-align: top;\n",
       "    }\n",
       "\n",
       "    .dataframe thead th {\n",
       "        text-align: right;\n",
       "    }\n",
       "</style>\n",
       "<table border=\"1\" class=\"dataframe\">\n",
       "  <thead>\n",
       "    <tr style=\"text-align: right;\">\n",
       "      <th></th>\n",
       "      <th>Count</th>\n",
       "      <th>Count_succ</th>\n",
       "    </tr>\n",
       "    <tr>\n",
       "      <th>F_DCURSO</th>\n",
       "      <th></th>\n",
       "      <th></th>\n",
       "    </tr>\n",
       "  </thead>\n",
       "  <tbody>\n",
       "    <tr>\n",
       "      <th>ARRANJOS FLORAIS E DECORAÇÃO</th>\n",
       "      <td>20</td>\n",
       "      <td>2.0</td>\n",
       "    </tr>\n",
       "    <tr>\n",
       "      <th>INTRODUÇÃO AOS CUIDADOS DE BELEZA</th>\n",
       "      <td>21</td>\n",
       "      <td>5.0</td>\n",
       "    </tr>\n",
       "    <tr>\n",
       "      <th>LOGÍSTICA - CADEIA DE ABASTECIMENTO (B3) Q+</th>\n",
       "      <td>11</td>\n",
       "      <td>1.0</td>\n",
       "    </tr>\n",
       "    <tr>\n",
       "      <th>LÍNGUA ESPANHOLA - ATENDIMENTO E VENDAS</th>\n",
       "      <td>59</td>\n",
       "      <td>9.0</td>\n",
       "    </tr>\n",
       "    <tr>\n",
       "      <th>LÍNGUA ESPANHOLA - INFORMAÇÃO E ATENDIMENTO TÉCNICO</th>\n",
       "      <td>2</td>\n",
       "      <td>0.0</td>\n",
       "    </tr>\n",
       "    <tr>\n",
       "      <th>...</th>\n",
       "      <td>...</td>\n",
       "      <td>...</td>\n",
       "    </tr>\n",
       "    <tr>\n",
       "      <th>WEB E MULTIMÉDIA</th>\n",
       "      <td>28</td>\n",
       "      <td>2.0</td>\n",
       "    </tr>\n",
       "    <tr>\n",
       "      <th>WINDOWS SERVER - REDE E SERVIÇOS</th>\n",
       "      <td>4</td>\n",
       "      <td>1.0</td>\n",
       "    </tr>\n",
       "    <tr>\n",
       "      <th>WORLDSKILLS KAZAN 2019 - FORMAÇÃO ESPECÍFICA EM SOLDADURA</th>\n",
       "      <td>1</td>\n",
       "      <td>1.0</td>\n",
       "    </tr>\n",
       "    <tr>\n",
       "      <th>ÇÃO EDUCATIVA - PROTEÇÃO E RESPOSTAS SOCIAIS PARA CRIANÇAS E JOVENS (B3) Q+</th>\n",
       "      <td>1</td>\n",
       "      <td>0.0</td>\n",
       "    </tr>\n",
       "    <tr>\n",
       "      <th>ÉTICA, DEONTOLOGIA E COMUNICAÇÃO EMPRESARIAL</th>\n",
       "      <td>14</td>\n",
       "      <td>5.0</td>\n",
       "    </tr>\n",
       "  </tbody>\n",
       "</table>\n",
       "<p>942 rows × 2 columns</p>\n",
       "</div>"
      ],
      "text/plain": [
       "                                                    Count  Count_succ\n",
       "F_DCURSO                                                             \n",
       " ARRANJOS FLORAIS E DECORAÇÃO                          20         2.0\n",
       " INTRODUÇÃO AOS CUIDADOS DE BELEZA                     21         5.0\n",
       " LOGÍSTICA - CADEIA DE ABASTECIMENTO (B3) Q+           11         1.0\n",
       " LÍNGUA ESPANHOLA - ATENDIMENTO E VENDAS               59         9.0\n",
       " LÍNGUA ESPANHOLA - INFORMAÇÃO E ATENDIMENTO TÉ...      2         0.0\n",
       "...                                                   ...         ...\n",
       "WEB E MULTIMÉDIA                                       28         2.0\n",
       "WINDOWS SERVER - REDE E SERVIÇOS                        4         1.0\n",
       "WORLDSKILLS KAZAN 2019 - FORMAÇÃO ESPECÍFICA EM...      1         1.0\n",
       "ÇÃO EDUCATIVA - PROTEÇÃO E RESPOSTAS SOCIAIS PA...      1         0.0\n",
       "ÉTICA, DEONTOLOGIA E COMUNICAÇÃO EMPRESARIAL           14         5.0\n",
       "\n",
       "[942 rows x 2 columns]"
      ]
     },
     "execution_count": 22,
     "metadata": {},
     "output_type": "execute_result"
    }
   ],
   "source": [
    "# merge both dataframe based on F_CCURSO\n",
    "merge_count = count_form.merge(count_form_succ, on=\"F_DCURSO\", how=\"left\")\n",
    "\n",
    "# change NAN to zeros\n",
    "merge_count[\"Count_succ\"] = merge_count[\"Count_succ\"].fillna(0)\n",
    "merge_count"
   ]
  },
  {
   "cell_type": "code",
   "execution_count": 23,
   "metadata": {},
   "outputs": [
    {
     "data": {
      "text/html": [
       "<div>\n",
       "<style scoped>\n",
       "    .dataframe tbody tr th:only-of-type {\n",
       "        vertical-align: middle;\n",
       "    }\n",
       "\n",
       "    .dataframe tbody tr th {\n",
       "        vertical-align: top;\n",
       "    }\n",
       "\n",
       "    .dataframe thead th {\n",
       "        text-align: right;\n",
       "    }\n",
       "</style>\n",
       "<table border=\"1\" class=\"dataframe\">\n",
       "  <thead>\n",
       "    <tr style=\"text-align: right;\">\n",
       "      <th></th>\n",
       "      <th>Count</th>\n",
       "      <th>Count_succ</th>\n",
       "      <th>succ_rate</th>\n",
       "    </tr>\n",
       "    <tr>\n",
       "      <th>F_DCURSO</th>\n",
       "      <th></th>\n",
       "      <th></th>\n",
       "      <th></th>\n",
       "    </tr>\n",
       "  </thead>\n",
       "  <tbody>\n",
       "    <tr>\n",
       "      <th>ARRANJOS FLORAIS E DECORAÇÃO</th>\n",
       "      <td>20</td>\n",
       "      <td>2.0</td>\n",
       "      <td>0.100000</td>\n",
       "    </tr>\n",
       "    <tr>\n",
       "      <th>INTRODUÇÃO AOS CUIDADOS DE BELEZA</th>\n",
       "      <td>21</td>\n",
       "      <td>5.0</td>\n",
       "      <td>0.238095</td>\n",
       "    </tr>\n",
       "    <tr>\n",
       "      <th>LOGÍSTICA - CADEIA DE ABASTECIMENTO (B3) Q+</th>\n",
       "      <td>11</td>\n",
       "      <td>1.0</td>\n",
       "      <td>0.090909</td>\n",
       "    </tr>\n",
       "    <tr>\n",
       "      <th>LÍNGUA ESPANHOLA - ATENDIMENTO E VENDAS</th>\n",
       "      <td>59</td>\n",
       "      <td>9.0</td>\n",
       "      <td>0.152542</td>\n",
       "    </tr>\n",
       "    <tr>\n",
       "      <th>LÍNGUA ESPANHOLA - INFORMAÇÃO E ATENDIMENTO TÉCNICO</th>\n",
       "      <td>2</td>\n",
       "      <td>0.0</td>\n",
       "      <td>0.000000</td>\n",
       "    </tr>\n",
       "    <tr>\n",
       "      <th>...</th>\n",
       "      <td>...</td>\n",
       "      <td>...</td>\n",
       "      <td>...</td>\n",
       "    </tr>\n",
       "    <tr>\n",
       "      <th>WEB E MULTIMÉDIA</th>\n",
       "      <td>28</td>\n",
       "      <td>2.0</td>\n",
       "      <td>0.071429</td>\n",
       "    </tr>\n",
       "    <tr>\n",
       "      <th>WINDOWS SERVER - REDE E SERVIÇOS</th>\n",
       "      <td>4</td>\n",
       "      <td>1.0</td>\n",
       "      <td>0.250000</td>\n",
       "    </tr>\n",
       "    <tr>\n",
       "      <th>WORLDSKILLS KAZAN 2019 - FORMAÇÃO ESPECÍFICA EM SOLDADURA</th>\n",
       "      <td>1</td>\n",
       "      <td>1.0</td>\n",
       "      <td>1.000000</td>\n",
       "    </tr>\n",
       "    <tr>\n",
       "      <th>ÇÃO EDUCATIVA - PROTEÇÃO E RESPOSTAS SOCIAIS PARA CRIANÇAS E JOVENS (B3) Q+</th>\n",
       "      <td>1</td>\n",
       "      <td>0.0</td>\n",
       "      <td>0.000000</td>\n",
       "    </tr>\n",
       "    <tr>\n",
       "      <th>ÉTICA, DEONTOLOGIA E COMUNICAÇÃO EMPRESARIAL</th>\n",
       "      <td>14</td>\n",
       "      <td>5.0</td>\n",
       "      <td>0.357143</td>\n",
       "    </tr>\n",
       "  </tbody>\n",
       "</table>\n",
       "<p>942 rows × 3 columns</p>\n",
       "</div>"
      ],
      "text/plain": [
       "                                                    Count  Count_succ  \\\n",
       "F_DCURSO                                                                \n",
       " ARRANJOS FLORAIS E DECORAÇÃO                          20         2.0   \n",
       " INTRODUÇÃO AOS CUIDADOS DE BELEZA                     21         5.0   \n",
       " LOGÍSTICA - CADEIA DE ABASTECIMENTO (B3) Q+           11         1.0   \n",
       " LÍNGUA ESPANHOLA - ATENDIMENTO E VENDAS               59         9.0   \n",
       " LÍNGUA ESPANHOLA - INFORMAÇÃO E ATENDIMENTO TÉ...      2         0.0   \n",
       "...                                                   ...         ...   \n",
       "WEB E MULTIMÉDIA                                       28         2.0   \n",
       "WINDOWS SERVER - REDE E SERVIÇOS                        4         1.0   \n",
       "WORLDSKILLS KAZAN 2019 - FORMAÇÃO ESPECÍFICA EM...      1         1.0   \n",
       "ÇÃO EDUCATIVA - PROTEÇÃO E RESPOSTAS SOCIAIS PA...      1         0.0   \n",
       "ÉTICA, DEONTOLOGIA E COMUNICAÇÃO EMPRESARIAL           14         5.0   \n",
       "\n",
       "                                                    succ_rate  \n",
       "F_DCURSO                                                       \n",
       " ARRANJOS FLORAIS E DECORAÇÃO                        0.100000  \n",
       " INTRODUÇÃO AOS CUIDADOS DE BELEZA                   0.238095  \n",
       " LOGÍSTICA - CADEIA DE ABASTECIMENTO (B3) Q+         0.090909  \n",
       " LÍNGUA ESPANHOLA - ATENDIMENTO E VENDAS             0.152542  \n",
       " LÍNGUA ESPANHOLA - INFORMAÇÃO E ATENDIMENTO TÉ...   0.000000  \n",
       "...                                                       ...  \n",
       "WEB E MULTIMÉDIA                                     0.071429  \n",
       "WINDOWS SERVER - REDE E SERVIÇOS                     0.250000  \n",
       "WORLDSKILLS KAZAN 2019 - FORMAÇÃO ESPECÍFICA EM...   1.000000  \n",
       "ÇÃO EDUCATIVA - PROTEÇÃO E RESPOSTAS SOCIAIS PA...   0.000000  \n",
       "ÉTICA, DEONTOLOGIA E COMUNICAÇÃO EMPRESARIAL         0.357143  \n",
       "\n",
       "[942 rows x 3 columns]"
      ]
     },
     "execution_count": 23,
     "metadata": {},
     "output_type": "execute_result"
    }
   ],
   "source": [
    "# criar uma variável para guardar a taxa de sucesso de cada curso após a sua conclusão\n",
    "merge_count[\"succ_rate\"] = merge_count[\"Count_succ\"] / merge_count[\"Count\"]\n",
    "merge_count"
   ]
  },
  {
   "cell_type": "markdown",
   "metadata": {},
   "source": [
    "<div style=\"background-color: #2f648a; border-radius: 5px;\">\n",
    "    <center><h1 style=\"color: white; padding: 20px;\">5. Recommender System (Tree)</h1></center>\n",
    "</div>"
   ]
  },
  {
   "cell_type": "code",
   "execution_count": 27,
   "metadata": {},
   "outputs": [],
   "source": [
    "# input utilizador\n",
    "\n",
    "# descrição do utente\n",
    "idade = 30\n",
    "hab = 12\n",
    "\n",
    "# descrição do curso pretendido\n",
    "horas = 500\n",
    "centro = 309\n",
    "area = 481"
   ]
  },
  {
   "cell_type": "code",
   "execution_count": 28,
   "metadata": {},
   "outputs": [
    {
     "data": {
      "text/plain": [
       "(109595, 18)"
      ]
     },
     "execution_count": 28,
     "metadata": {},
     "output_type": "execute_result"
    }
   ],
   "source": [
    "merged.shape"
   ]
  },
  {
   "cell_type": "code",
   "execution_count": 31,
   "metadata": {},
   "outputs": [],
   "source": [
    "semelhantes = merged"
   ]
  },
  {
   "cell_type": "code",
   "execution_count": 26,
   "metadata": {},
   "outputs": [
    {
     "ename": "NameError",
     "evalue": "name 'sexo' is not defined",
     "output_type": "error",
     "traceback": [
      "\u001b[1;31m---------------------------------------------------------------------------\u001b[0m",
      "\u001b[1;31mNameError\u001b[0m                                 Traceback (most recent call last)",
      "\u001b[1;32m<ipython-input-26-98ca550f4ec5>\u001b[0m in \u001b[0;36m<module>\u001b[1;34m\u001b[0m\n\u001b[0;32m      1\u001b[0m \u001b[1;31m# aplicar filtros relativos ao sexo do utente\u001b[0m\u001b[1;33m\u001b[0m\u001b[1;33m\u001b[0m\u001b[1;33m\u001b[0m\u001b[0m\n\u001b[1;32m----> 2\u001b[1;33m \u001b[0msemelhantes\u001b[0m \u001b[1;33m=\u001b[0m \u001b[0mmerged\u001b[0m\u001b[1;33m[\u001b[0m\u001b[0mmerged\u001b[0m\u001b[1;33m[\u001b[0m\u001b[1;34m\"Sexo\"\u001b[0m\u001b[1;33m]\u001b[0m\u001b[1;33m==\u001b[0m\u001b[0msexo\u001b[0m\u001b[1;33m]\u001b[0m\u001b[1;33m\u001b[0m\u001b[1;33m\u001b[0m\u001b[0m\n\u001b[0m",
      "\u001b[1;31mNameError\u001b[0m: name 'sexo' is not defined"
     ]
    }
   ],
   "source": [
    "# aplicar filtros relativos ao sexo do utente\n",
    "semelhantes = merged[merged[\"Sexo\"]==sexo]"
   ]
  },
  {
   "cell_type": "code",
   "execution_count": 32,
   "metadata": {
    "scrolled": true
   },
   "outputs": [
    {
     "data": {
      "text/plain": [
       "(109595, 18)"
      ]
     },
     "execution_count": 32,
     "metadata": {},
     "output_type": "execute_result"
    }
   ],
   "source": [
    "semelhantes.shape"
   ]
  },
  {
   "cell_type": "code",
   "execution_count": 33,
   "metadata": {},
   "outputs": [],
   "source": [
    "# criação de duas variáveis relativas à idade minima e máxima na qual vamos basear o filtro \n",
    "scale = semelhantes[\"IdadeEmAnos\"].max() - semelhantes[\"IdadeEmAnos\"].min()\n",
    "\n",
    "proportion = 0.15\n",
    "\n",
    "min_age = idade - scale * 0.15\n",
    "max_age = idade + scale * 0.15\n",
    "\n",
    "# aplicar filtros relativos à idade do utente\n",
    "semelhantes = semelhantes[(semelhantes[\"IdadeEmAnos\"] > min_age) & (semelhantes[\"IdadeEmAnos\"] < max_age)]"
   ]
  },
  {
   "cell_type": "code",
   "execution_count": 34,
   "metadata": {},
   "outputs": [
    {
     "data": {
      "text/plain": [
       "(33638, 18)"
      ]
     },
     "execution_count": 34,
     "metadata": {},
     "output_type": "execute_result"
    }
   ],
   "source": [
    "semelhantes.shape"
   ]
  },
  {
   "cell_type": "code",
   "execution_count": 35,
   "metadata": {},
   "outputs": [],
   "source": [
    "# criação de duas variáveis relativas ao tempo minimo e máximo em horas da formação.\n",
    "scale = semelhantes[\"HorasForm\"].max() - semelhantes[\"HorasForm\"].min()\n",
    "\n",
    "proportion = 0.10\n",
    "\n",
    "min_hours = idade - scale * 0.15\n",
    "max_hours = idade + scale * 0.15\n",
    "\n",
    "# aplicar filtros relativos à idade do utente\n",
    "semelhantes = semelhantes[(semelhantes[\"HorasForm\"] > min_hours) & (semelhantes[\"HorasForm\"] < max_hours)]"
   ]
  },
  {
   "cell_type": "code",
   "execution_count": 36,
   "metadata": {},
   "outputs": [
    {
     "data": {
      "text/plain": [
       "(26238, 18)"
      ]
     },
     "execution_count": 36,
     "metadata": {},
     "output_type": "execute_result"
    }
   ],
   "source": [
    "semelhantes.shape"
   ]
  },
  {
   "cell_type": "code",
   "execution_count": 37,
   "metadata": {},
   "outputs": [],
   "source": [
    "# aplicar filtros relativos ao sexo do utente\n",
    "semelhantes = semelhantes[semelhantes[\"CodCEFP\"]==centro]"
   ]
  },
  {
   "cell_type": "code",
   "execution_count": 38,
   "metadata": {},
   "outputs": [
    {
     "data": {
      "text/plain": [
       "(601, 18)"
      ]
     },
     "execution_count": 38,
     "metadata": {},
     "output_type": "execute_result"
    }
   ],
   "source": [
    "semelhantes.shape"
   ]
  },
  {
   "cell_type": "code",
   "execution_count": 39,
   "metadata": {},
   "outputs": [],
   "source": [
    "# aplicar filtros relativos à AreaFormacao do utente\n",
    "semelhantes = semelhantes[semelhantes[\"AreaFormacao\"]==area]"
   ]
  },
  {
   "cell_type": "code",
   "execution_count": 40,
   "metadata": {},
   "outputs": [
    {
     "data": {
      "text/plain": [
       "(13, 18)"
      ]
     },
     "execution_count": 40,
     "metadata": {},
     "output_type": "execute_result"
    }
   ],
   "source": [
    "semelhantes.shape"
   ]
  },
  {
   "cell_type": "markdown",
   "metadata": {},
   "source": [
    "<div style=\"background-color: #2f648a; border-radius: 5px;\">\n",
    "    <center><h1 style=\"color: white; padding: 20px;\">6. Output</h1></center>\n",
    "</div>"
   ]
  },
  {
   "cell_type": "markdown",
   "metadata": {},
   "source": [
    "<div style=\"border: solid 4px #2f648a; border-radius: 5px;\"> \n",
    "    <center><h3 style=\"color: #2f648a; padding: 10px;\">6.1 Frequência absoluta</h3></center>\n",
    "</div>"
   ]
  },
  {
   "cell_type": "code",
   "execution_count": 41,
   "metadata": {},
   "outputs": [
    {
     "data": {
      "text/html": [
       "<div>\n",
       "<style scoped>\n",
       "    .dataframe tbody tr th:only-of-type {\n",
       "        vertical-align: middle;\n",
       "    }\n",
       "\n",
       "    .dataframe tbody tr th {\n",
       "        vertical-align: top;\n",
       "    }\n",
       "\n",
       "    .dataframe thead th {\n",
       "        text-align: right;\n",
       "    }\n",
       "</style>\n",
       "<table border=\"1\" class=\"dataframe\">\n",
       "  <thead>\n",
       "    <tr style=\"text-align: right;\">\n",
       "      <th></th>\n",
       "      <th>F_DCURSO</th>\n",
       "    </tr>\n",
       "  </thead>\n",
       "  <tbody>\n",
       "    <tr>\n",
       "      <th>OPERADOR/A DE INFORMÁTICA</th>\n",
       "      <td>10</td>\n",
       "    </tr>\n",
       "    <tr>\n",
       "      <th>MECÂNICO/A DE AUTOMÓVEIS LIGEIROS</th>\n",
       "      <td>1</td>\n",
       "    </tr>\n",
       "    <tr>\n",
       "      <th>TÉCNICO/A DE INFORMÁTICA - SISTEMAS</th>\n",
       "      <td>1</td>\n",
       "    </tr>\n",
       "    <tr>\n",
       "      <th>ASSISTENTE ADMINISTRATIVO/A</th>\n",
       "      <td>1</td>\n",
       "    </tr>\n",
       "  </tbody>\n",
       "</table>\n",
       "</div>"
      ],
      "text/plain": [
       "                                     F_DCURSO\n",
       "OPERADOR/A DE INFORMÁTICA                  10\n",
       "MECÂNICO/A DE AUTOMÓVEIS LIGEIROS           1\n",
       "TÉCNICO/A DE INFORMÁTICA - SISTEMAS         1\n",
       "ASSISTENTE ADMINISTRATIVO/A                 1"
      ]
     },
     "execution_count": 41,
     "metadata": {},
     "output_type": "execute_result"
    }
   ],
   "source": [
    "abs_freq = pd.DataFrame(semelhantes[\"F_DCURSO\"].value_counts())\n",
    "abs_freq"
   ]
  },
  {
   "cell_type": "code",
   "execution_count": 43,
   "metadata": {},
   "outputs": [
    {
     "data": {
      "text/plain": [
       "['OPERADOR/A DE INFORMÁTICA',\n",
       " 'MECÂNICO/A DE AUTOMÓVEIS LIGEIROS',\n",
       " 'TÉCNICO/A DE INFORMÁTICA - SISTEMAS',\n",
       " 'ASSISTENTE ADMINISTRATIVO/A']"
      ]
     },
     "execution_count": 43,
     "metadata": {},
     "output_type": "execute_result"
    }
   ],
   "source": [
    "# guardar indíce dos cursos do output\n",
    "index = abs_freq.index\n",
    "indexes = []\n",
    "\n",
    "for i in index:\n",
    "    indexes.append(i)\n",
    "\n",
    "indexes"
   ]
  },
  {
   "cell_type": "markdown",
   "metadata": {},
   "source": [
    "<div style=\"border: solid 4px #2f648a; border-radius: 5px;\"> \n",
    "    <center><h3 style=\"color: #2f648a; padding: 10px;\">6.2 Adicionar taxa de sucesso</h3></center>\n",
    "</div>"
   ]
  },
  {
   "cell_type": "code",
   "execution_count": 44,
   "metadata": {},
   "outputs": [
    {
     "data": {
      "text/html": [
       "<div>\n",
       "<style scoped>\n",
       "    .dataframe tbody tr th:only-of-type {\n",
       "        vertical-align: middle;\n",
       "    }\n",
       "\n",
       "    .dataframe tbody tr th {\n",
       "        vertical-align: top;\n",
       "    }\n",
       "\n",
       "    .dataframe thead th {\n",
       "        text-align: right;\n",
       "    }\n",
       "</style>\n",
       "<table border=\"1\" class=\"dataframe\">\n",
       "  <thead>\n",
       "    <tr style=\"text-align: right;\">\n",
       "      <th></th>\n",
       "      <th>Count</th>\n",
       "      <th>Count_succ</th>\n",
       "      <th>succ_rate</th>\n",
       "    </tr>\n",
       "    <tr>\n",
       "      <th>F_DCURSO</th>\n",
       "      <th></th>\n",
       "      <th></th>\n",
       "      <th></th>\n",
       "    </tr>\n",
       "  </thead>\n",
       "  <tbody>\n",
       "    <tr>\n",
       "      <th>OPERADOR/A DE INFORMÁTICA</th>\n",
       "      <td>3545</td>\n",
       "      <td>1024.0</td>\n",
       "      <td>0.288858</td>\n",
       "    </tr>\n",
       "    <tr>\n",
       "      <th>MECÂNICO/A DE AUTOMÓVEIS LIGEIROS</th>\n",
       "      <td>47</td>\n",
       "      <td>14.0</td>\n",
       "      <td>0.297872</td>\n",
       "    </tr>\n",
       "    <tr>\n",
       "      <th>TÉCNICO/A DE INFORMÁTICA - SISTEMAS</th>\n",
       "      <td>1338</td>\n",
       "      <td>298.0</td>\n",
       "      <td>0.222720</td>\n",
       "    </tr>\n",
       "    <tr>\n",
       "      <th>ASSISTENTE ADMINISTRATIVO/A</th>\n",
       "      <td>2287</td>\n",
       "      <td>870.0</td>\n",
       "      <td>0.380411</td>\n",
       "    </tr>\n",
       "  </tbody>\n",
       "</table>\n",
       "</div>"
      ],
      "text/plain": [
       "                                     Count  Count_succ  succ_rate\n",
       "F_DCURSO                                                         \n",
       "OPERADOR/A DE INFORMÁTICA             3545      1024.0   0.288858\n",
       "MECÂNICO/A DE AUTOMÓVEIS LIGEIROS       47        14.0   0.297872\n",
       "TÉCNICO/A DE INFORMÁTICA - SISTEMAS   1338       298.0   0.222720\n",
       "ASSISTENTE ADMINISTRATIVO/A           2287       870.0   0.380411"
      ]
     },
     "execution_count": 44,
     "metadata": {},
     "output_type": "execute_result"
    }
   ],
   "source": [
    "succ_rate = merge_count.loc[indexes]\n",
    "succ_rate"
   ]
  },
  {
   "cell_type": "markdown",
   "metadata": {},
   "source": [
    "<div style=\"border: solid 4px #2f648a; border-radius: 5px;\"> \n",
    "    <center><h3 style=\"color: #2f648a; padding: 10px;\">6.3 Final score</h3></center>\n",
    "</div>"
   ]
  },
  {
   "cell_type": "code",
   "execution_count": 45,
   "metadata": {},
   "outputs": [
    {
     "data": {
      "text/html": [
       "<div>\n",
       "<style scoped>\n",
       "    .dataframe tbody tr th:only-of-type {\n",
       "        vertical-align: middle;\n",
       "    }\n",
       "\n",
       "    .dataframe tbody tr th {\n",
       "        vertical-align: top;\n",
       "    }\n",
       "\n",
       "    .dataframe thead th {\n",
       "        text-align: right;\n",
       "    }\n",
       "</style>\n",
       "<table border=\"1\" class=\"dataframe\">\n",
       "  <thead>\n",
       "    <tr style=\"text-align: right;\">\n",
       "      <th></th>\n",
       "      <th>F_DCURSO</th>\n",
       "      <th>Count</th>\n",
       "      <th>Count_succ</th>\n",
       "      <th>succ_rate</th>\n",
       "      <th>final_score</th>\n",
       "    </tr>\n",
       "    <tr>\n",
       "      <th>F_DCURSO</th>\n",
       "      <th></th>\n",
       "      <th></th>\n",
       "      <th></th>\n",
       "      <th></th>\n",
       "      <th></th>\n",
       "    </tr>\n",
       "  </thead>\n",
       "  <tbody>\n",
       "    <tr>\n",
       "      <th>OPERADOR/A DE INFORMÁTICA</th>\n",
       "      <td>10</td>\n",
       "      <td>3545</td>\n",
       "      <td>1024.0</td>\n",
       "      <td>0.288858</td>\n",
       "      <td>2.888575</td>\n",
       "    </tr>\n",
       "    <tr>\n",
       "      <th>MECÂNICO/A DE AUTOMÓVEIS LIGEIROS</th>\n",
       "      <td>1</td>\n",
       "      <td>47</td>\n",
       "      <td>14.0</td>\n",
       "      <td>0.297872</td>\n",
       "      <td>0.297872</td>\n",
       "    </tr>\n",
       "    <tr>\n",
       "      <th>TÉCNICO/A DE INFORMÁTICA - SISTEMAS</th>\n",
       "      <td>1</td>\n",
       "      <td>1338</td>\n",
       "      <td>298.0</td>\n",
       "      <td>0.222720</td>\n",
       "      <td>0.222720</td>\n",
       "    </tr>\n",
       "    <tr>\n",
       "      <th>ASSISTENTE ADMINISTRATIVO/A</th>\n",
       "      <td>1</td>\n",
       "      <td>2287</td>\n",
       "      <td>870.0</td>\n",
       "      <td>0.380411</td>\n",
       "      <td>0.380411</td>\n",
       "    </tr>\n",
       "  </tbody>\n",
       "</table>\n",
       "</div>"
      ],
      "text/plain": [
       "                                     F_DCURSO  Count  Count_succ  succ_rate  \\\n",
       "F_DCURSO                                                                      \n",
       "OPERADOR/A DE INFORMÁTICA                  10   3545      1024.0   0.288858   \n",
       "MECÂNICO/A DE AUTOMÓVEIS LIGEIROS           1     47        14.0   0.297872   \n",
       "TÉCNICO/A DE INFORMÁTICA - SISTEMAS         1   1338       298.0   0.222720   \n",
       "ASSISTENTE ADMINISTRATIVO/A                 1   2287       870.0   0.380411   \n",
       "\n",
       "                                     final_score  \n",
       "F_DCURSO                                          \n",
       "OPERADOR/A DE INFORMÁTICA               2.888575  \n",
       "MECÂNICO/A DE AUTOMÓVEIS LIGEIROS       0.297872  \n",
       "TÉCNICO/A DE INFORMÁTICA - SISTEMAS     0.222720  \n",
       "ASSISTENTE ADMINISTRATIVO/A             0.380411  "
      ]
     },
     "execution_count": 45,
     "metadata": {},
     "output_type": "execute_result"
    }
   ],
   "source": [
    "output = pd.concat([abs_freq, succ_rate], axis=1)\n",
    "output[\"final_score\"] = output[\"F_DCURSO\"] * output[\"succ_rate\"]\n",
    "output"
   ]
  },
  {
   "cell_type": "markdown",
   "metadata": {},
   "source": [
    "<div style=\"border: solid 4px #2f648a; border-radius: 5px;\"> \n",
    "    <center><h3 style=\"color: #2f648a; padding: 10px;\">6.4 Graph</h3></center>\n",
    "</div>"
   ]
  },
  {
   "cell_type": "code",
   "execution_count": 46,
   "metadata": {},
   "outputs": [
    {
     "data": {
      "text/plain": [
       "Text(0.5, 1.0, 'Formações recomendadas')"
      ]
     },
     "execution_count": 46,
     "metadata": {},
     "output_type": "execute_result"
    },
    {
     "data": {
      "image/png": "[encoded data removed]",
      "text/plain": [
       "<Figure size 432x288 with 1 Axes>"
      ]
     },
     "metadata": {
      "needs_background": "light"
     },
     "output_type": "display_data"
    }
   ],
   "source": [
    "# Gráfico relativo ao sucesso e insucesso\n",
    "\n",
    "plt.barh(indexes, output[\"final_score\"], color=[\"#00BFFF\", \"#1E90FF\", \"#4169E1\"])\n",
    "plt.title(\"Formações recomendadas\", size=17)"
   ]
  }
 ],
 "metadata": {
  "kernelspec": {
   "display_name": "Python 3",
   "language": "python",
   "name": "python3"
  },
  "language_info": {
   "codemirror_mode": {
    "name": "ipython",
    "version": 3
   },
   "file_extension": ".py",
   "mimetype": "text/x-python",
   "name": "python",
   "nbconvert_exporter": "python",
   "pygments_lexer": "ipython3",
   "version": "3.8.3"
  }
 },
 "nbformat": 4,
 "nbformat_minor": 4
}
