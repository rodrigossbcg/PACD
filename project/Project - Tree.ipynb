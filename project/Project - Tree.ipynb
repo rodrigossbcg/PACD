{
 "cells": [
  {
   "cell_type": "markdown",
   "metadata": {},
   "source": [
    "<img src=\"images/intro.jpeg\">"
   ]
  },
  {
   "cell_type": "markdown",
   "metadata": {},
   "source": [
    "<center><h1><b>Project - Tree</b></h1></center>"
   ]
  },
  {
   "cell_type": "markdown",
   "metadata": {},
   "source": [
    "<div style=\"background-color: #047800; border-radius: 5px;\"> \n",
    "    <center><h1 style=\"color: white; padding: 20px;\">1. Imports</h1></center>\n",
    "</div>"
   ]
  },
  {
   "cell_type": "code",
   "execution_count": 15,
   "metadata": {},
   "outputs": [],
   "source": [
    "import pandas as pd\n",
    "from pandas import ExcelWriter\n",
    "from pandas import ExcelFile\n",
    "from datetime import datetime\n",
    "import seaborn as sn\n",
    "from matplotlib import pyplot as plt"
   ]
  },
  {
   "cell_type": "markdown",
   "metadata": {},
   "source": [
    "<div style=\"background-color: #047800; border-radius: 5px;\"> \n",
    "    <center><h1 style=\"color: white; padding: 20px;\">2. Read files </h1></center>\n",
    "</div>"
   ]
  },
  {
   "cell_type": "markdown",
   "metadata": {},
   "source": [
    "<div style=\"border: solid 4px #047800; border-radius: 5px;\"> \n",
    "    <center><h3 style=\"color: #047800; padding: 10px;\">2.1 Leitura da bases de dados dos formandos</h3></center>\n",
    "</div>"
   ]
  },
  {
   "cell_type": "code",
   "execution_count": 16,
   "metadata": {},
   "outputs": [
    {
     "name": "stderr",
     "output_type": "stream",
     "text": [
      "C:\\Users\\sarro\\anaconda3\\lib\\site-packages\\IPython\\core\\interactiveshell.py:3071: DtypeWarning: Columns (11) have mixed types.Specify dtype option on import or set low_memory=False.\n",
      "  has_raised = await self.run_ast_nodes(code_ast.body, cell_name,\n"
     ]
    }
   ],
   "source": [
    "form = pd.read_csv(\"databases/formandos_limpo.csv\")"
   ]
  },
  {
   "cell_type": "code",
   "execution_count": 17,
   "metadata": {},
   "outputs": [],
   "source": [
    "# delete column produced by the csv\n",
    "del form['Unnamed: 0']"
   ]
  },
  {
   "cell_type": "code",
   "execution_count": 18,
   "metadata": {},
   "outputs": [
    {
     "data": {
      "text/plain": [
       "(69378, 13)"
      ]
     },
     "execution_count": 18,
     "metadata": {},
     "output_type": "execute_result"
    }
   ],
   "source": [
    "form.shape"
   ]
  },
  {
   "cell_type": "code",
   "execution_count": 19,
   "metadata": {},
   "outputs": [
    {
     "data": {
      "text/html": [
       "<div>\n",
       "<style scoped>\n",
       "    .dataframe tbody tr th:only-of-type {\n",
       "        vertical-align: middle;\n",
       "    }\n",
       "\n",
       "    .dataframe tbody tr th {\n",
       "        vertical-align: top;\n",
       "    }\n",
       "\n",
       "    .dataframe thead th {\n",
       "        text-align: right;\n",
       "    }\n",
       "</style>\n",
       "<table border=\"1\" class=\"dataframe\">\n",
       "  <thead>\n",
       "    <tr style=\"text-align: right;\">\n",
       "      <th></th>\n",
       "      <th>UTE_ID</th>\n",
       "      <th>CodCEFP</th>\n",
       "      <th>Descritivo CodMedidaOrcam</th>\n",
       "      <th>Sexo</th>\n",
       "      <th>IdadeEmAnos</th>\n",
       "      <th>CodHabilitacao</th>\n",
       "      <th>CodNacionalidade</th>\n",
       "      <th>HorasForm</th>\n",
       "      <th>AreaFormacao</th>\n",
       "      <th>NivelFormacaoAccao</th>\n",
       "      <th>CodSaidaProfissional</th>\n",
       "      <th>Sucessos</th>\n",
       "      <th>DuracaoFormacao</th>\n",
       "    </tr>\n",
       "  </thead>\n",
       "  <tbody>\n",
       "    <tr>\n",
       "      <th>0</th>\n",
       "      <td>24054</td>\n",
       "      <td>201</td>\n",
       "      <td>Cursos de Especialização Tecnológica</td>\n",
       "      <td>1</td>\n",
       "      <td>41</td>\n",
       "      <td>12</td>\n",
       "      <td>PT</td>\n",
       "      <td>1504.0</td>\n",
       "      <td>521</td>\n",
       "      <td>5</td>\n",
       "      <td>52174</td>\n",
       "      <td>0</td>\n",
       "      <td>375 days 00:00:00.000000000</td>\n",
       "    </tr>\n",
       "    <tr>\n",
       "      <th>1</th>\n",
       "      <td>39165</td>\n",
       "      <td>309</td>\n",
       "      <td>Cursos de Especialização Tecnológica</td>\n",
       "      <td>0</td>\n",
       "      <td>45</td>\n",
       "      <td>12</td>\n",
       "      <td>PT</td>\n",
       "      <td>1300.0</td>\n",
       "      <td>481</td>\n",
       "      <td>5</td>\n",
       "      <td>4816</td>\n",
       "      <td>0</td>\n",
       "      <td>325 days 00:00:00.000000000</td>\n",
       "    </tr>\n",
       "    <tr>\n",
       "      <th>2</th>\n",
       "      <td>77485</td>\n",
       "      <td>402</td>\n",
       "      <td>Cursos de Especialização Tecnológica</td>\n",
       "      <td>0</td>\n",
       "      <td>51</td>\n",
       "      <td>12</td>\n",
       "      <td>PT</td>\n",
       "      <td>211.0</td>\n",
       "      <td>481</td>\n",
       "      <td>5</td>\n",
       "      <td>4817</td>\n",
       "      <td>0</td>\n",
       "      <td>434 days 00:00:00.000000000</td>\n",
       "    </tr>\n",
       "    <tr>\n",
       "      <th>3</th>\n",
       "      <td>145884</td>\n",
       "      <td>501</td>\n",
       "      <td>Cursos de Especialização Tecnológica</td>\n",
       "      <td>0</td>\n",
       "      <td>53</td>\n",
       "      <td>12</td>\n",
       "      <td>PT</td>\n",
       "      <td>465.0</td>\n",
       "      <td>812</td>\n",
       "      <td>5</td>\n",
       "      <td>8126</td>\n",
       "      <td>0</td>\n",
       "      <td>382 days 00:00:00.000000000</td>\n",
       "    </tr>\n",
       "    <tr>\n",
       "      <th>4</th>\n",
       "      <td>155241</td>\n",
       "      <td>501</td>\n",
       "      <td>Cursos de Especialização Tecnológica</td>\n",
       "      <td>1</td>\n",
       "      <td>51</td>\n",
       "      <td>12</td>\n",
       "      <td>PT</td>\n",
       "      <td>447.0</td>\n",
       "      <td>812</td>\n",
       "      <td>5</td>\n",
       "      <td>8126</td>\n",
       "      <td>1</td>\n",
       "      <td>382 days 00:00:00.000000000</td>\n",
       "    </tr>\n",
       "  </tbody>\n",
       "</table>\n",
       "</div>"
      ],
      "text/plain": [
       "   UTE_ID  CodCEFP             Descritivo CodMedidaOrcam  Sexo  IdadeEmAnos  \\\n",
       "0   24054      201  Cursos de Especialização Tecnológica     1           41   \n",
       "1   39165      309  Cursos de Especialização Tecnológica     0           45   \n",
       "2   77485      402  Cursos de Especialização Tecnológica     0           51   \n",
       "3  145884      501  Cursos de Especialização Tecnológica     0           53   \n",
       "4  155241      501  Cursos de Especialização Tecnológica     1           51   \n",
       "\n",
       "   CodHabilitacao CodNacionalidade  HorasForm  AreaFormacao  \\\n",
       "0              12               PT     1504.0           521   \n",
       "1              12               PT     1300.0           481   \n",
       "2              12               PT      211.0           481   \n",
       "3              12               PT      465.0           812   \n",
       "4              12               PT      447.0           812   \n",
       "\n",
       "  NivelFormacaoAccao CodSaidaProfissional  Sucessos  \\\n",
       "0                  5                52174         0   \n",
       "1                  5                 4816         0   \n",
       "2                  5                 4817         0   \n",
       "3                  5                 8126         0   \n",
       "4                  5                 8126         1   \n",
       "\n",
       "               DuracaoFormacao  \n",
       "0  375 days 00:00:00.000000000  \n",
       "1  325 days 00:00:00.000000000  \n",
       "2  434 days 00:00:00.000000000  \n",
       "3  382 days 00:00:00.000000000  \n",
       "4  382 days 00:00:00.000000000  "
      ]
     },
     "execution_count": 19,
     "metadata": {},
     "output_type": "execute_result"
    }
   ],
   "source": [
    "form.head()"
   ]
  },
  {
   "cell_type": "markdown",
   "metadata": {},
   "source": [
    "<div style=\"border: solid 4px #047800; border-radius: 5px;\"> \n",
    "    <center><h3 style=\"color: #047800; padding: 10px;\">2.2 Leitura da bases de dados dos cursos</h3></center>\n",
    "</div>"
   ]
  },
  {
   "cell_type": "code",
   "execution_count": 20,
   "metadata": {},
   "outputs": [],
   "source": [
    "cursos = pd.read_csv(\"databases/cursos.csv\")"
   ]
  },
  {
   "cell_type": "code",
   "execution_count": 21,
   "metadata": {},
   "outputs": [],
   "source": [
    "# delete column produced by the csv\n",
    "del cursos['Unnamed: 0']"
   ]
  },
  {
   "cell_type": "code",
   "execution_count": 22,
   "metadata": {},
   "outputs": [
    {
     "data": {
      "text/plain": [
       "(162138, 8)"
      ]
     },
     "execution_count": 22,
     "metadata": {},
     "output_type": "execute_result"
    }
   ],
   "source": [
    "cursos.shape"
   ]
  },
  {
   "cell_type": "code",
   "execution_count": 23,
   "metadata": {},
   "outputs": [
    {
     "data": {
      "text/html": [
       "<div>\n",
       "<style scoped>\n",
       "    .dataframe tbody tr th:only-of-type {\n",
       "        vertical-align: middle;\n",
       "    }\n",
       "\n",
       "    .dataframe tbody tr th {\n",
       "        vertical-align: top;\n",
       "    }\n",
       "\n",
       "    .dataframe thead th {\n",
       "        text-align: right;\n",
       "    }\n",
       "</style>\n",
       "<table border=\"1\" class=\"dataframe\">\n",
       "  <thead>\n",
       "    <tr style=\"text-align: right;\">\n",
       "      <th></th>\n",
       "      <th>UTE_ID</th>\n",
       "      <th>F_CCURSO</th>\n",
       "      <th>F_DCURSO</th>\n",
       "      <th>F_HORAS</th>\n",
       "      <th>TIPO_UTENTE</th>\n",
       "      <th>F_CAREA_FORM</th>\n",
       "      <th>CATEGORIA</th>\n",
       "      <th>DCATEGORIA</th>\n",
       "    </tr>\n",
       "  </thead>\n",
       "  <tbody>\n",
       "    <tr>\n",
       "      <th>0</th>\n",
       "      <td>5963829</td>\n",
       "      <td>FM089AC</td>\n",
       "      <td>COMUNICAÇÃO ASSERTIVA E TÉCNICAS DE PROCURA DE...</td>\n",
       "      <td>25.0</td>\n",
       "      <td>A</td>\n",
       "      <td>999.0</td>\n",
       "      <td>5</td>\n",
       "      <td>OCUPADO</td>\n",
       "    </tr>\n",
       "    <tr>\n",
       "      <th>1</th>\n",
       "      <td>4320275</td>\n",
       "      <td>811141A</td>\n",
       "      <td>TÉCNICO/A DE RESTAURANTE/BAR</td>\n",
       "      <td>3525.0</td>\n",
       "      <td>A</td>\n",
       "      <td>811.0</td>\n",
       "      <td>5</td>\n",
       "      <td>OCUPADO</td>\n",
       "    </tr>\n",
       "    <tr>\n",
       "      <th>2</th>\n",
       "      <td>5124212</td>\n",
       "      <td>81114ZZ</td>\n",
       "      <td>TÉCNICO/A DE RESTAURANTE/BAR (UFCD)</td>\n",
       "      <td>1050.0</td>\n",
       "      <td>A</td>\n",
       "      <td>811.0</td>\n",
       "      <td>5</td>\n",
       "      <td>OCUPADO</td>\n",
       "    </tr>\n",
       "    <tr>\n",
       "      <th>3</th>\n",
       "      <td>4787421</td>\n",
       "      <td>81205ZZ</td>\n",
       "      <td>TURISMO AMBIENTAL E RURAL</td>\n",
       "      <td>1425.0</td>\n",
       "      <td>A</td>\n",
       "      <td>812.0</td>\n",
       "      <td>5</td>\n",
       "      <td>OCUPADO</td>\n",
       "    </tr>\n",
       "    <tr>\n",
       "      <th>4</th>\n",
       "      <td>5522037</td>\n",
       "      <td>FM089AC</td>\n",
       "      <td>COMUNICAÇÃO ASSERTIVA E TÉCNICAS DE PROCURA DE...</td>\n",
       "      <td>25.0</td>\n",
       "      <td>A</td>\n",
       "      <td>999.0</td>\n",
       "      <td>5</td>\n",
       "      <td>OCUPADO</td>\n",
       "    </tr>\n",
       "  </tbody>\n",
       "</table>\n",
       "</div>"
      ],
      "text/plain": [
       "    UTE_ID F_CCURSO                                           F_DCURSO  \\\n",
       "0  5963829  FM089AC  COMUNICAÇÃO ASSERTIVA E TÉCNICAS DE PROCURA DE...   \n",
       "1  4320275  811141A                       TÉCNICO/A DE RESTAURANTE/BAR   \n",
       "2  5124212  81114ZZ                TÉCNICO/A DE RESTAURANTE/BAR (UFCD)   \n",
       "3  4787421  81205ZZ                          TURISMO AMBIENTAL E RURAL   \n",
       "4  5522037  FM089AC  COMUNICAÇÃO ASSERTIVA E TÉCNICAS DE PROCURA DE...   \n",
       "\n",
       "   F_HORAS TIPO_UTENTE  F_CAREA_FORM  CATEGORIA DCATEGORIA  \n",
       "0     25.0           A         999.0          5    OCUPADO  \n",
       "1   3525.0           A         811.0          5    OCUPADO  \n",
       "2   1050.0           A         811.0          5    OCUPADO  \n",
       "3   1425.0           A         812.0          5    OCUPADO  \n",
       "4     25.0           A         999.0          5    OCUPADO  "
      ]
     },
     "execution_count": 23,
     "metadata": {},
     "output_type": "execute_result"
    }
   ],
   "source": [
    "cursos.head()"
   ]
  },
  {
   "cell_type": "markdown",
   "metadata": {},
   "source": [
    "<div style=\"border: solid 4px #047800; border-radius: 5px;\"> \n",
    "    <center><h3 style=\"color: #047800; padding: 10px;\">2.3 Leitura da bases de dados dos centros de emprego</h3></center>\n",
    "</div>"
   ]
  },
  {
   "cell_type": "code",
   "execution_count": 24,
   "metadata": {},
   "outputs": [
    {
     "data": {
      "text/html": [
       "<div>\n",
       "<style scoped>\n",
       "    .dataframe tbody tr th:only-of-type {\n",
       "        vertical-align: middle;\n",
       "    }\n",
       "\n",
       "    .dataframe tbody tr th {\n",
       "        vertical-align: top;\n",
       "    }\n",
       "\n",
       "    .dataframe thead th {\n",
       "        text-align: right;\n",
       "    }\n",
       "</style>\n",
       "<table border=\"1\" class=\"dataframe\">\n",
       "  <thead>\n",
       "    <tr style=\"text-align: right;\">\n",
       "      <th></th>\n",
       "      <th>CodCEFP</th>\n",
       "      <th>Zona</th>\n",
       "    </tr>\n",
       "  </thead>\n",
       "  <tbody>\n",
       "    <tr>\n",
       "      <th>0</th>\n",
       "      <td>302</td>\n",
       "      <td>Lisboa e Vale do Tejo</td>\n",
       "    </tr>\n",
       "    <tr>\n",
       "      <th>1</th>\n",
       "      <td>148</td>\n",
       "      <td>Norte</td>\n",
       "    </tr>\n",
       "    <tr>\n",
       "      <th>2</th>\n",
       "      <td>150</td>\n",
       "      <td>Norte</td>\n",
       "    </tr>\n",
       "    <tr>\n",
       "      <th>3</th>\n",
       "      <td>136</td>\n",
       "      <td>Norte</td>\n",
       "    </tr>\n",
       "    <tr>\n",
       "      <th>4</th>\n",
       "      <td>303</td>\n",
       "      <td>Lisboa e Vale do Tejo</td>\n",
       "    </tr>\n",
       "  </tbody>\n",
       "</table>\n",
       "</div>"
      ],
      "text/plain": [
       "   CodCEFP                   Zona\n",
       "0      302  Lisboa e Vale do Tejo\n",
       "1      148                  Norte\n",
       "2      150                  Norte\n",
       "3      136                  Norte\n",
       "4      303  Lisboa e Vale do Tejo"
      ]
     },
     "execution_count": 24,
     "metadata": {},
     "output_type": "execute_result"
    }
   ],
   "source": [
    "# ler ficheiro com informação dos centros de emprego por zona\n",
    "centros = pd.read_excel(\"databases/AgrupamentoCentrosRegiao.xlsx\")\n",
    "centros.head(5)"
   ]
  },
  {
   "cell_type": "code",
   "execution_count": 25,
   "metadata": {},
   "outputs": [
    {
     "data": {
      "text/plain": [
       "(54, 2)"
      ]
     },
     "execution_count": 25,
     "metadata": {},
     "output_type": "execute_result"
    }
   ],
   "source": [
    "centros.shape"
   ]
  },
  {
   "cell_type": "markdown",
   "metadata": {},
   "source": [
    "<div style=\"background-color: #047800; border-radius: 5px;\">\n",
    "    <center><h1 style=\"color: white; padding: 20px;\">3. Junção das bases de dados</h1></center>\n",
    "</div>"
   ]
  },
  {
   "cell_type": "code",
   "execution_count": 26,
   "metadata": {},
   "outputs": [],
   "source": [
    "merged = form.merge(cursos, on=\"UTE_ID\", how=\"inner\")"
   ]
  },
  {
   "cell_type": "code",
   "execution_count": 27,
   "metadata": {},
   "outputs": [
    {
     "data": {
      "text/plain": [
       "(109595, 20)"
      ]
     },
     "execution_count": 27,
     "metadata": {},
     "output_type": "execute_result"
    }
   ],
   "source": [
    "merged.shape"
   ]
  },
  {
   "cell_type": "code",
   "execution_count": 28,
   "metadata": {},
   "outputs": [
    {
     "data": {
      "text/html": [
       "<div>\n",
       "<style scoped>\n",
       "    .dataframe tbody tr th:only-of-type {\n",
       "        vertical-align: middle;\n",
       "    }\n",
       "\n",
       "    .dataframe tbody tr th {\n",
       "        vertical-align: top;\n",
       "    }\n",
       "\n",
       "    .dataframe thead th {\n",
       "        text-align: right;\n",
       "    }\n",
       "</style>\n",
       "<table border=\"1\" class=\"dataframe\">\n",
       "  <thead>\n",
       "    <tr style=\"text-align: right;\">\n",
       "      <th></th>\n",
       "      <th>UTE_ID</th>\n",
       "      <th>CodCEFP</th>\n",
       "      <th>Descritivo CodMedidaOrcam</th>\n",
       "      <th>Sexo</th>\n",
       "      <th>IdadeEmAnos</th>\n",
       "      <th>CodHabilitacao</th>\n",
       "      <th>CodNacionalidade</th>\n",
       "      <th>HorasForm</th>\n",
       "      <th>AreaFormacao</th>\n",
       "      <th>NivelFormacaoAccao</th>\n",
       "      <th>CodSaidaProfissional</th>\n",
       "      <th>Sucessos</th>\n",
       "      <th>DuracaoFormacao</th>\n",
       "      <th>F_CCURSO</th>\n",
       "      <th>F_DCURSO</th>\n",
       "      <th>F_HORAS</th>\n",
       "      <th>TIPO_UTENTE</th>\n",
       "      <th>F_CAREA_FORM</th>\n",
       "      <th>CATEGORIA</th>\n",
       "      <th>DCATEGORIA</th>\n",
       "    </tr>\n",
       "  </thead>\n",
       "  <tbody>\n",
       "    <tr>\n",
       "      <th>0</th>\n",
       "      <td>24054</td>\n",
       "      <td>201</td>\n",
       "      <td>Cursos de Especialização Tecnológica</td>\n",
       "      <td>1</td>\n",
       "      <td>41</td>\n",
       "      <td>12</td>\n",
       "      <td>PT</td>\n",
       "      <td>1504.0</td>\n",
       "      <td>521</td>\n",
       "      <td>5</td>\n",
       "      <td>52174</td>\n",
       "      <td>0</td>\n",
       "      <td>375 days 00:00:00.000000000</td>\n",
       "      <td>62110ZZ</td>\n",
       "      <td>OPERADOR/A AGRÍCOLA (UFCD)</td>\n",
       "      <td>825.0</td>\n",
       "      <td>A</td>\n",
       "      <td>621.0</td>\n",
       "      <td>5</td>\n",
       "      <td>OCUPADO</td>\n",
       "    </tr>\n",
       "    <tr>\n",
       "      <th>1</th>\n",
       "      <td>24054</td>\n",
       "      <td>201</td>\n",
       "      <td>Cursos de Especialização Tecnológica</td>\n",
       "      <td>1</td>\n",
       "      <td>41</td>\n",
       "      <td>12</td>\n",
       "      <td>PT</td>\n",
       "      <td>1504.0</td>\n",
       "      <td>521</td>\n",
       "      <td>5</td>\n",
       "      <td>52174</td>\n",
       "      <td>0</td>\n",
       "      <td>375 days 00:00:00.000000000</td>\n",
       "      <td>521641E</td>\n",
       "      <td>TÉCNICO/A ESPECIALISTA EM TECNOLOGIA MECATRÓNICA</td>\n",
       "      <td>1560.0</td>\n",
       "      <td>A</td>\n",
       "      <td>521.0</td>\n",
       "      <td>5</td>\n",
       "      <td>OCUPADO</td>\n",
       "    </tr>\n",
       "    <tr>\n",
       "      <th>2</th>\n",
       "      <td>39165</td>\n",
       "      <td>309</td>\n",
       "      <td>Cursos de Especialização Tecnológica</td>\n",
       "      <td>0</td>\n",
       "      <td>45</td>\n",
       "      <td>12</td>\n",
       "      <td>PT</td>\n",
       "      <td>1300.0</td>\n",
       "      <td>481</td>\n",
       "      <td>5</td>\n",
       "      <td>4816</td>\n",
       "      <td>0</td>\n",
       "      <td>325 days 00:00:00.000000000</td>\n",
       "      <td>48102ZZ</td>\n",
       "      <td>TÉCNICO/A DE INFORMÁTICA - SISTEMAS</td>\n",
       "      <td>1025.0</td>\n",
       "      <td>A</td>\n",
       "      <td>481.0</td>\n",
       "      <td>5</td>\n",
       "      <td>OCUPADO</td>\n",
       "    </tr>\n",
       "  </tbody>\n",
       "</table>\n",
       "</div>"
      ],
      "text/plain": [
       "   UTE_ID  CodCEFP             Descritivo CodMedidaOrcam  Sexo  IdadeEmAnos  \\\n",
       "0   24054      201  Cursos de Especialização Tecnológica     1           41   \n",
       "1   24054      201  Cursos de Especialização Tecnológica     1           41   \n",
       "2   39165      309  Cursos de Especialização Tecnológica     0           45   \n",
       "\n",
       "   CodHabilitacao CodNacionalidade  HorasForm  AreaFormacao  \\\n",
       "0              12               PT     1504.0           521   \n",
       "1              12               PT     1504.0           521   \n",
       "2              12               PT     1300.0           481   \n",
       "\n",
       "  NivelFormacaoAccao CodSaidaProfissional  Sucessos  \\\n",
       "0                  5                52174         0   \n",
       "1                  5                52174         0   \n",
       "2                  5                 4816         0   \n",
       "\n",
       "               DuracaoFormacao F_CCURSO  \\\n",
       "0  375 days 00:00:00.000000000  62110ZZ   \n",
       "1  375 days 00:00:00.000000000  521641E   \n",
       "2  325 days 00:00:00.000000000  48102ZZ   \n",
       "\n",
       "                                           F_DCURSO  F_HORAS TIPO_UTENTE  \\\n",
       "0                        OPERADOR/A AGRÍCOLA (UFCD)    825.0           A   \n",
       "1  TÉCNICO/A ESPECIALISTA EM TECNOLOGIA MECATRÓNICA   1560.0           A   \n",
       "2               TÉCNICO/A DE INFORMÁTICA - SISTEMAS   1025.0           A   \n",
       "\n",
       "   F_CAREA_FORM  CATEGORIA DCATEGORIA  \n",
       "0         621.0          5    OCUPADO  \n",
       "1         521.0          5    OCUPADO  \n",
       "2         481.0          5    OCUPADO  "
      ]
     },
     "execution_count": 28,
     "metadata": {},
     "output_type": "execute_result"
    }
   ],
   "source": [
    "merged.head(3)"
   ]
  },
  {
   "cell_type": "code",
   "execution_count": 29,
   "metadata": {},
   "outputs": [
    {
     "data": {
      "text/html": [
       "<div>\n",
       "<style scoped>\n",
       "    .dataframe tbody tr th:only-of-type {\n",
       "        vertical-align: middle;\n",
       "    }\n",
       "\n",
       "    .dataframe tbody tr th {\n",
       "        vertical-align: top;\n",
       "    }\n",
       "\n",
       "    .dataframe thead th {\n",
       "        text-align: right;\n",
       "    }\n",
       "</style>\n",
       "<table border=\"1\" class=\"dataframe\">\n",
       "  <thead>\n",
       "    <tr style=\"text-align: right;\">\n",
       "      <th></th>\n",
       "      <th>UTE_ID</th>\n",
       "      <th>CodCEFP</th>\n",
       "      <th>Descritivo CodMedidaOrcam</th>\n",
       "      <th>Sexo</th>\n",
       "      <th>IdadeEmAnos</th>\n",
       "      <th>CodHabilitacao</th>\n",
       "      <th>CodNacionalidade</th>\n",
       "      <th>HorasForm</th>\n",
       "      <th>AreaFormacao</th>\n",
       "      <th>NivelFormacaoAccao</th>\n",
       "      <th>...</th>\n",
       "      <th>Sucessos</th>\n",
       "      <th>DuracaoFormacao</th>\n",
       "      <th>F_CCURSO</th>\n",
       "      <th>F_DCURSO</th>\n",
       "      <th>F_HORAS</th>\n",
       "      <th>TIPO_UTENTE</th>\n",
       "      <th>F_CAREA_FORM</th>\n",
       "      <th>CATEGORIA</th>\n",
       "      <th>DCATEGORIA</th>\n",
       "      <th>Zona</th>\n",
       "    </tr>\n",
       "  </thead>\n",
       "  <tbody>\n",
       "    <tr>\n",
       "      <th>0</th>\n",
       "      <td>24054</td>\n",
       "      <td>201</td>\n",
       "      <td>Cursos de Especialização Tecnológica</td>\n",
       "      <td>1</td>\n",
       "      <td>41</td>\n",
       "      <td>12</td>\n",
       "      <td>PT</td>\n",
       "      <td>1504.0</td>\n",
       "      <td>521</td>\n",
       "      <td>5</td>\n",
       "      <td>...</td>\n",
       "      <td>0</td>\n",
       "      <td>375 days 00:00:00.000000000</td>\n",
       "      <td>62110ZZ</td>\n",
       "      <td>OPERADOR/A AGRÍCOLA (UFCD)</td>\n",
       "      <td>825.0</td>\n",
       "      <td>A</td>\n",
       "      <td>621.0</td>\n",
       "      <td>5</td>\n",
       "      <td>OCUPADO</td>\n",
       "      <td>Centro</td>\n",
       "    </tr>\n",
       "    <tr>\n",
       "      <th>1</th>\n",
       "      <td>24054</td>\n",
       "      <td>201</td>\n",
       "      <td>Cursos de Especialização Tecnológica</td>\n",
       "      <td>1</td>\n",
       "      <td>41</td>\n",
       "      <td>12</td>\n",
       "      <td>PT</td>\n",
       "      <td>1504.0</td>\n",
       "      <td>521</td>\n",
       "      <td>5</td>\n",
       "      <td>...</td>\n",
       "      <td>0</td>\n",
       "      <td>375 days 00:00:00.000000000</td>\n",
       "      <td>521641E</td>\n",
       "      <td>TÉCNICO/A ESPECIALISTA EM TECNOLOGIA MECATRÓNICA</td>\n",
       "      <td>1560.0</td>\n",
       "      <td>A</td>\n",
       "      <td>521.0</td>\n",
       "      <td>5</td>\n",
       "      <td>OCUPADO</td>\n",
       "      <td>Centro</td>\n",
       "    </tr>\n",
       "    <tr>\n",
       "      <th>2</th>\n",
       "      <td>39165</td>\n",
       "      <td>309</td>\n",
       "      <td>Cursos de Especialização Tecnológica</td>\n",
       "      <td>0</td>\n",
       "      <td>45</td>\n",
       "      <td>12</td>\n",
       "      <td>PT</td>\n",
       "      <td>1300.0</td>\n",
       "      <td>481</td>\n",
       "      <td>5</td>\n",
       "      <td>...</td>\n",
       "      <td>0</td>\n",
       "      <td>325 days 00:00:00.000000000</td>\n",
       "      <td>48102ZZ</td>\n",
       "      <td>TÉCNICO/A DE INFORMÁTICA - SISTEMAS</td>\n",
       "      <td>1025.0</td>\n",
       "      <td>A</td>\n",
       "      <td>481.0</td>\n",
       "      <td>5</td>\n",
       "      <td>OCUPADO</td>\n",
       "      <td>Lisboa e Vale do Tejo</td>\n",
       "    </tr>\n",
       "    <tr>\n",
       "      <th>3</th>\n",
       "      <td>39165</td>\n",
       "      <td>309</td>\n",
       "      <td>Cursos de Especialização Tecnológica</td>\n",
       "      <td>0</td>\n",
       "      <td>45</td>\n",
       "      <td>12</td>\n",
       "      <td>PT</td>\n",
       "      <td>1300.0</td>\n",
       "      <td>481</td>\n",
       "      <td>5</td>\n",
       "      <td>...</td>\n",
       "      <td>0</td>\n",
       "      <td>325 days 00:00:00.000000000</td>\n",
       "      <td>481061E</td>\n",
       "      <td>GESTÃO DE REDES E SISTEMAS INFORMÁTICOS</td>\n",
       "      <td>1375.0</td>\n",
       "      <td>A</td>\n",
       "      <td>481.0</td>\n",
       "      <td>5</td>\n",
       "      <td>OCUPADO</td>\n",
       "      <td>Lisboa e Vale do Tejo</td>\n",
       "    </tr>\n",
       "    <tr>\n",
       "      <th>4</th>\n",
       "      <td>77485</td>\n",
       "      <td>402</td>\n",
       "      <td>Cursos de Especialização Tecnológica</td>\n",
       "      <td>0</td>\n",
       "      <td>51</td>\n",
       "      <td>12</td>\n",
       "      <td>PT</td>\n",
       "      <td>211.0</td>\n",
       "      <td>481</td>\n",
       "      <td>5</td>\n",
       "      <td>...</td>\n",
       "      <td>0</td>\n",
       "      <td>434 days 00:00:00.000000000</td>\n",
       "      <td>48102ZZ</td>\n",
       "      <td>TÉCNICO/A DE INFORMÁTICA - SISTEMAS</td>\n",
       "      <td>1025.0</td>\n",
       "      <td>A</td>\n",
       "      <td>481.0</td>\n",
       "      <td>5</td>\n",
       "      <td>OCUPADO</td>\n",
       "      <td>Alentejo</td>\n",
       "    </tr>\n",
       "  </tbody>\n",
       "</table>\n",
       "<p>5 rows × 21 columns</p>\n",
       "</div>"
      ],
      "text/plain": [
       "   UTE_ID  CodCEFP             Descritivo CodMedidaOrcam  Sexo  IdadeEmAnos  \\\n",
       "0   24054      201  Cursos de Especialização Tecnológica     1           41   \n",
       "1   24054      201  Cursos de Especialização Tecnológica     1           41   \n",
       "2   39165      309  Cursos de Especialização Tecnológica     0           45   \n",
       "3   39165      309  Cursos de Especialização Tecnológica     0           45   \n",
       "4   77485      402  Cursos de Especialização Tecnológica     0           51   \n",
       "\n",
       "   CodHabilitacao CodNacionalidade  HorasForm  AreaFormacao  \\\n",
       "0              12               PT     1504.0           521   \n",
       "1              12               PT     1504.0           521   \n",
       "2              12               PT     1300.0           481   \n",
       "3              12               PT     1300.0           481   \n",
       "4              12               PT      211.0           481   \n",
       "\n",
       "  NivelFormacaoAccao  ... Sucessos              DuracaoFormacao F_CCURSO  \\\n",
       "0                  5  ...        0  375 days 00:00:00.000000000  62110ZZ   \n",
       "1                  5  ...        0  375 days 00:00:00.000000000  521641E   \n",
       "2                  5  ...        0  325 days 00:00:00.000000000  48102ZZ   \n",
       "3                  5  ...        0  325 days 00:00:00.000000000  481061E   \n",
       "4                  5  ...        0  434 days 00:00:00.000000000  48102ZZ   \n",
       "\n",
       "                                           F_DCURSO F_HORAS  TIPO_UTENTE  \\\n",
       "0                        OPERADOR/A AGRÍCOLA (UFCD)   825.0            A   \n",
       "1  TÉCNICO/A ESPECIALISTA EM TECNOLOGIA MECATRÓNICA  1560.0            A   \n",
       "2               TÉCNICO/A DE INFORMÁTICA - SISTEMAS  1025.0            A   \n",
       "3           GESTÃO DE REDES E SISTEMAS INFORMÁTICOS  1375.0            A   \n",
       "4               TÉCNICO/A DE INFORMÁTICA - SISTEMAS  1025.0            A   \n",
       "\n",
       "  F_CAREA_FORM  CATEGORIA  DCATEGORIA                   Zona  \n",
       "0        621.0          5     OCUPADO                 Centro  \n",
       "1        521.0          5     OCUPADO                 Centro  \n",
       "2        481.0          5     OCUPADO  Lisboa e Vale do Tejo  \n",
       "3        481.0          5     OCUPADO  Lisboa e Vale do Tejo  \n",
       "4        481.0          5     OCUPADO               Alentejo  \n",
       "\n",
       "[5 rows x 21 columns]"
      ]
     },
     "execution_count": 29,
     "metadata": {},
     "output_type": "execute_result"
    }
   ],
   "source": [
    "merged = merged.merge(centros, on=\"CodCEFP\", how=\"left\")\n",
    "merged.head(5)"
   ]
  },
  {
   "cell_type": "code",
   "execution_count": 30,
   "metadata": {},
   "outputs": [],
   "source": [
    "# NEEDED FOR THE DJANGO INTERFACE TO WORK\n",
    "merged_interface = merged[[\"UTE_ID\", \"CodCEFP\", \"IdadeEmAnos\", \"CodHabilitacao\", \n",
    "                           \"AreaFormacao\", \"HorasForm\", \"F_DCURSO\"]]\n",
    "\n",
    "merged_interface.to_csv(\"databases/interface_django_tree.csv\")"
   ]
  },
  {
   "cell_type": "code",
   "execution_count": 31,
   "metadata": {},
   "outputs": [
    {
     "data": {
      "text/plain": [
       "UTE_ID              int64\n",
       "CodCEFP             int64\n",
       "IdadeEmAnos         int64\n",
       "CodHabilitacao      int64\n",
       "AreaFormacao        int64\n",
       "HorasForm         float64\n",
       "F_DCURSO           object\n",
       "dtype: object"
      ]
     },
     "execution_count": 31,
     "metadata": {},
     "output_type": "execute_result"
    }
   ],
   "source": [
    "merged_interface.dtypes"
   ]
  },
  {
   "cell_type": "markdown",
   "metadata": {},
   "source": [
    "<div style=\"background-color: #047800; border-radius: 5px;\">\n",
    "    <center><h1 style=\"color: white; padding: 20px;\">4. Taxa de sucesso por curso</h1></center>\n",
    "</div>"
   ]
  },
  {
   "cell_type": "code",
   "execution_count": 60,
   "metadata": {},
   "outputs": [
    {
     "data": {
      "text/html": [
       "<div>\n",
       "<style scoped>\n",
       "    .dataframe tbody tr th:only-of-type {\n",
       "        vertical-align: middle;\n",
       "    }\n",
       "\n",
       "    .dataframe tbody tr th {\n",
       "        vertical-align: top;\n",
       "    }\n",
       "\n",
       "    .dataframe thead th {\n",
       "        text-align: right;\n",
       "    }\n",
       "</style>\n",
       "<table border=\"1\" class=\"dataframe\">\n",
       "  <thead>\n",
       "    <tr style=\"text-align: right;\">\n",
       "      <th></th>\n",
       "      <th>Count</th>\n",
       "    </tr>\n",
       "    <tr>\n",
       "      <th>F_DCURSO</th>\n",
       "      <th></th>\n",
       "    </tr>\n",
       "  </thead>\n",
       "  <tbody>\n",
       "    <tr>\n",
       "      <th>ARRANJOS FLORAIS E DECORAÇÃO</th>\n",
       "      <td>20</td>\n",
       "    </tr>\n",
       "    <tr>\n",
       "      <th>INTRODUÇÃO AOS CUIDADOS DE BELEZA</th>\n",
       "      <td>21</td>\n",
       "    </tr>\n",
       "    <tr>\n",
       "      <th>LOGÍSTICA - CADEIA DE ABASTECIMENTO (B3) Q+</th>\n",
       "      <td>11</td>\n",
       "    </tr>\n",
       "    <tr>\n",
       "      <th>LÍNGUA ESPANHOLA - ATENDIMENTO E VENDAS</th>\n",
       "      <td>59</td>\n",
       "    </tr>\n",
       "    <tr>\n",
       "      <th>LÍNGUA ESPANHOLA - INFORMAÇÃO E ATENDIMENTO TÉCNICO</th>\n",
       "      <td>2</td>\n",
       "    </tr>\n",
       "    <tr>\n",
       "      <th>...</th>\n",
       "      <td>...</td>\n",
       "    </tr>\n",
       "    <tr>\n",
       "      <th>WEB E MULTIMÉDIA</th>\n",
       "      <td>28</td>\n",
       "    </tr>\n",
       "    <tr>\n",
       "      <th>WINDOWS SERVER - REDE E SERVIÇOS</th>\n",
       "      <td>4</td>\n",
       "    </tr>\n",
       "    <tr>\n",
       "      <th>WORLDSKILLS KAZAN 2019 - FORMAÇÃO ESPECÍFICA EM SOLDADURA</th>\n",
       "      <td>1</td>\n",
       "    </tr>\n",
       "    <tr>\n",
       "      <th>ÇÃO EDUCATIVA - PROTEÇÃO E RESPOSTAS SOCIAIS PARA CRIANÇAS E JOVENS (B3) Q+</th>\n",
       "      <td>1</td>\n",
       "    </tr>\n",
       "    <tr>\n",
       "      <th>ÉTICA, DEONTOLOGIA E COMUNICAÇÃO EMPRESARIAL</th>\n",
       "      <td>14</td>\n",
       "    </tr>\n",
       "  </tbody>\n",
       "</table>\n",
       "<p>942 rows × 1 columns</p>\n",
       "</div>"
      ],
      "text/plain": [
       "                                                    Count\n",
       "F_DCURSO                                                 \n",
       " ARRANJOS FLORAIS E DECORAÇÃO                          20\n",
       " INTRODUÇÃO AOS CUIDADOS DE BELEZA                     21\n",
       " LOGÍSTICA - CADEIA DE ABASTECIMENTO (B3) Q+           11\n",
       " LÍNGUA ESPANHOLA - ATENDIMENTO E VENDAS               59\n",
       " LÍNGUA ESPANHOLA - INFORMAÇÃO E ATENDIMENTO TÉ...      2\n",
       "...                                                   ...\n",
       "WEB E MULTIMÉDIA                                       28\n",
       "WINDOWS SERVER - REDE E SERVIÇOS                        4\n",
       "WORLDSKILLS KAZAN 2019 - FORMAÇÃO ESPECÍFICA EM...      1\n",
       "ÇÃO EDUCATIVA - PROTEÇÃO E RESPOSTAS SOCIAIS PA...      1\n",
       "ÉTICA, DEONTOLOGIA E COMUNICAÇÃO EMPRESARIAL           14\n",
       "\n",
       "[942 rows x 1 columns]"
      ]
     },
     "execution_count": 60,
     "metadata": {},
     "output_type": "execute_result"
    }
   ],
   "source": [
    "# criar tabela com contagem de cada formação\n",
    "count_form = merged[['F_DCURSO', \"UTE_ID\"]] \\\n",
    "            .groupby(\"F_DCURSO\") \\\n",
    "            .count() \\\n",
    "            .rename(columns = {'UTE_ID': 'Count'})\n",
    "\n",
    "count_form"
   ]
  },
  {
   "cell_type": "code",
   "execution_count": 33,
   "metadata": {},
   "outputs": [
    {
     "data": {
      "text/html": [
       "<div>\n",
       "<style scoped>\n",
       "    .dataframe tbody tr th:only-of-type {\n",
       "        vertical-align: middle;\n",
       "    }\n",
       "\n",
       "    .dataframe tbody tr th {\n",
       "        vertical-align: top;\n",
       "    }\n",
       "\n",
       "    .dataframe thead th {\n",
       "        text-align: right;\n",
       "    }\n",
       "</style>\n",
       "<table border=\"1\" class=\"dataframe\">\n",
       "  <thead>\n",
       "    <tr style=\"text-align: right;\">\n",
       "      <th></th>\n",
       "      <th>Count_succ</th>\n",
       "    </tr>\n",
       "    <tr>\n",
       "      <th>F_DCURSO</th>\n",
       "      <th></th>\n",
       "    </tr>\n",
       "  </thead>\n",
       "  <tbody>\n",
       "    <tr>\n",
       "      <th>ARRANJOS FLORAIS E DECORAÇÃO</th>\n",
       "      <td>2</td>\n",
       "    </tr>\n",
       "    <tr>\n",
       "      <th>INTRODUÇÃO AOS CUIDADOS DE BELEZA</th>\n",
       "      <td>5</td>\n",
       "    </tr>\n",
       "    <tr>\n",
       "      <th>LOGÍSTICA - CADEIA DE ABASTECIMENTO (B3) Q+</th>\n",
       "      <td>1</td>\n",
       "    </tr>\n",
       "    <tr>\n",
       "      <th>LÍNGUA ESPANHOLA - ATENDIMENTO E VENDAS</th>\n",
       "      <td>9</td>\n",
       "    </tr>\n",
       "    <tr>\n",
       "      <th>TÉCNICO/A DE BANCA E SEGUROS</th>\n",
       "      <td>2</td>\n",
       "    </tr>\n",
       "    <tr>\n",
       "      <th>...</th>\n",
       "      <td>...</td>\n",
       "    </tr>\n",
       "    <tr>\n",
       "      <th>VIDREIRO/A</th>\n",
       "      <td>43</td>\n",
       "    </tr>\n",
       "    <tr>\n",
       "      <th>WEB E MULTIMÉDIA</th>\n",
       "      <td>2</td>\n",
       "    </tr>\n",
       "    <tr>\n",
       "      <th>WINDOWS SERVER - REDE E SERVIÇOS</th>\n",
       "      <td>1</td>\n",
       "    </tr>\n",
       "    <tr>\n",
       "      <th>WORLDSKILLS KAZAN 2019 - FORMAÇÃO ESPECÍFICA EM SOLDADURA</th>\n",
       "      <td>1</td>\n",
       "    </tr>\n",
       "    <tr>\n",
       "      <th>ÉTICA, DEONTOLOGIA E COMUNICAÇÃO EMPRESARIAL</th>\n",
       "      <td>5</td>\n",
       "    </tr>\n",
       "  </tbody>\n",
       "</table>\n",
       "<p>715 rows × 1 columns</p>\n",
       "</div>"
      ],
      "text/plain": [
       "                                                    Count_succ\n",
       "F_DCURSO                                                      \n",
       " ARRANJOS FLORAIS E DECORAÇÃO                                2\n",
       " INTRODUÇÃO AOS CUIDADOS DE BELEZA                           5\n",
       " LOGÍSTICA - CADEIA DE ABASTECIMENTO (B3) Q+                 1\n",
       " LÍNGUA ESPANHOLA - ATENDIMENTO E VENDAS                     9\n",
       " TÉCNICO/A DE BANCA E SEGUROS                                2\n",
       "...                                                        ...\n",
       "VIDREIRO/A                                                  43\n",
       "WEB E MULTIMÉDIA                                             2\n",
       "WINDOWS SERVER - REDE E SERVIÇOS                             1\n",
       "WORLDSKILLS KAZAN 2019 - FORMAÇÃO ESPECÍFICA EM...           1\n",
       "ÉTICA, DEONTOLOGIA E COMUNICAÇÃO EMPRESARIAL                 5\n",
       "\n",
       "[715 rows x 1 columns]"
      ]
     },
     "execution_count": 33,
     "metadata": {},
     "output_type": "execute_result"
    }
   ],
   "source": [
    "# filtrar apenas os casos de sucesso\n",
    "succ = merged[merged[\"Sucessos\"]==1]\n",
    "\n",
    "\n",
    "# criar tabela com contagem de cada formação com outcome <sucesso>\n",
    "count_form_succ = succ[['F_DCURSO', \"UTE_ID\"]] \\\n",
    "            .groupby(\"F_DCURSO\") \\\n",
    "            .count() \\\n",
    "            .rename(columns = {'UTE_ID': 'Count_succ'})\n",
    "\n",
    "count_form_succ"
   ]
  },
  {
   "cell_type": "code",
   "execution_count": 34,
   "metadata": {},
   "outputs": [
    {
     "data": {
      "text/html": [
       "<div>\n",
       "<style scoped>\n",
       "    .dataframe tbody tr th:only-of-type {\n",
       "        vertical-align: middle;\n",
       "    }\n",
       "\n",
       "    .dataframe tbody tr th {\n",
       "        vertical-align: top;\n",
       "    }\n",
       "\n",
       "    .dataframe thead th {\n",
       "        text-align: right;\n",
       "    }\n",
       "</style>\n",
       "<table border=\"1\" class=\"dataframe\">\n",
       "  <thead>\n",
       "    <tr style=\"text-align: right;\">\n",
       "      <th></th>\n",
       "      <th>Count</th>\n",
       "      <th>Count_succ</th>\n",
       "    </tr>\n",
       "    <tr>\n",
       "      <th>F_DCURSO</th>\n",
       "      <th></th>\n",
       "      <th></th>\n",
       "    </tr>\n",
       "  </thead>\n",
       "  <tbody>\n",
       "    <tr>\n",
       "      <th>ARRANJOS FLORAIS E DECORAÇÃO</th>\n",
       "      <td>20</td>\n",
       "      <td>2.0</td>\n",
       "    </tr>\n",
       "    <tr>\n",
       "      <th>INTRODUÇÃO AOS CUIDADOS DE BELEZA</th>\n",
       "      <td>21</td>\n",
       "      <td>5.0</td>\n",
       "    </tr>\n",
       "    <tr>\n",
       "      <th>LOGÍSTICA - CADEIA DE ABASTECIMENTO (B3) Q+</th>\n",
       "      <td>11</td>\n",
       "      <td>1.0</td>\n",
       "    </tr>\n",
       "    <tr>\n",
       "      <th>LÍNGUA ESPANHOLA - ATENDIMENTO E VENDAS</th>\n",
       "      <td>59</td>\n",
       "      <td>9.0</td>\n",
       "    </tr>\n",
       "    <tr>\n",
       "      <th>LÍNGUA ESPANHOLA - INFORMAÇÃO E ATENDIMENTO TÉCNICO</th>\n",
       "      <td>2</td>\n",
       "      <td>0.0</td>\n",
       "    </tr>\n",
       "    <tr>\n",
       "      <th>...</th>\n",
       "      <td>...</td>\n",
       "      <td>...</td>\n",
       "    </tr>\n",
       "    <tr>\n",
       "      <th>WEB E MULTIMÉDIA</th>\n",
       "      <td>28</td>\n",
       "      <td>2.0</td>\n",
       "    </tr>\n",
       "    <tr>\n",
       "      <th>WINDOWS SERVER - REDE E SERVIÇOS</th>\n",
       "      <td>4</td>\n",
       "      <td>1.0</td>\n",
       "    </tr>\n",
       "    <tr>\n",
       "      <th>WORLDSKILLS KAZAN 2019 - FORMAÇÃO ESPECÍFICA EM SOLDADURA</th>\n",
       "      <td>1</td>\n",
       "      <td>1.0</td>\n",
       "    </tr>\n",
       "    <tr>\n",
       "      <th>ÇÃO EDUCATIVA - PROTEÇÃO E RESPOSTAS SOCIAIS PARA CRIANÇAS E JOVENS (B3) Q+</th>\n",
       "      <td>1</td>\n",
       "      <td>0.0</td>\n",
       "    </tr>\n",
       "    <tr>\n",
       "      <th>ÉTICA, DEONTOLOGIA E COMUNICAÇÃO EMPRESARIAL</th>\n",
       "      <td>14</td>\n",
       "      <td>5.0</td>\n",
       "    </tr>\n",
       "  </tbody>\n",
       "</table>\n",
       "<p>942 rows × 2 columns</p>\n",
       "</div>"
      ],
      "text/plain": [
       "                                                    Count  Count_succ\n",
       "F_DCURSO                                                             \n",
       " ARRANJOS FLORAIS E DECORAÇÃO                          20         2.0\n",
       " INTRODUÇÃO AOS CUIDADOS DE BELEZA                     21         5.0\n",
       " LOGÍSTICA - CADEIA DE ABASTECIMENTO (B3) Q+           11         1.0\n",
       " LÍNGUA ESPANHOLA - ATENDIMENTO E VENDAS               59         9.0\n",
       " LÍNGUA ESPANHOLA - INFORMAÇÃO E ATENDIMENTO TÉ...      2         0.0\n",
       "...                                                   ...         ...\n",
       "WEB E MULTIMÉDIA                                       28         2.0\n",
       "WINDOWS SERVER - REDE E SERVIÇOS                        4         1.0\n",
       "WORLDSKILLS KAZAN 2019 - FORMAÇÃO ESPECÍFICA EM...      1         1.0\n",
       "ÇÃO EDUCATIVA - PROTEÇÃO E RESPOSTAS SOCIAIS PA...      1         0.0\n",
       "ÉTICA, DEONTOLOGIA E COMUNICAÇÃO EMPRESARIAL           14         5.0\n",
       "\n",
       "[942 rows x 2 columns]"
      ]
     },
     "execution_count": 34,
     "metadata": {},
     "output_type": "execute_result"
    }
   ],
   "source": [
    "# merge both dataframe based on F_CCURSO\n",
    "merge_count = count_form.merge(count_form_succ, on=\"F_DCURSO\", how=\"left\")\n",
    "\n",
    "# change NAN to zeros\n",
    "merge_count[\"Count_succ\"] = merge_count[\"Count_succ\"].fillna(0)\n",
    "merge_count"
   ]
  },
  {
   "cell_type": "code",
   "execution_count": 35,
   "metadata": {},
   "outputs": [
    {
     "data": {
      "text/html": [
       "<div>\n",
       "<style scoped>\n",
       "    .dataframe tbody tr th:only-of-type {\n",
       "        vertical-align: middle;\n",
       "    }\n",
       "\n",
       "    .dataframe tbody tr th {\n",
       "        vertical-align: top;\n",
       "    }\n",
       "\n",
       "    .dataframe thead th {\n",
       "        text-align: right;\n",
       "    }\n",
       "</style>\n",
       "<table border=\"1\" class=\"dataframe\">\n",
       "  <thead>\n",
       "    <tr style=\"text-align: right;\">\n",
       "      <th></th>\n",
       "      <th>Count</th>\n",
       "      <th>Count_succ</th>\n",
       "      <th>succ_rate</th>\n",
       "    </tr>\n",
       "    <tr>\n",
       "      <th>F_DCURSO</th>\n",
       "      <th></th>\n",
       "      <th></th>\n",
       "      <th></th>\n",
       "    </tr>\n",
       "  </thead>\n",
       "  <tbody>\n",
       "    <tr>\n",
       "      <th>ARRANJOS FLORAIS E DECORAÇÃO</th>\n",
       "      <td>20</td>\n",
       "      <td>2.0</td>\n",
       "      <td>0.100000</td>\n",
       "    </tr>\n",
       "    <tr>\n",
       "      <th>INTRODUÇÃO AOS CUIDADOS DE BELEZA</th>\n",
       "      <td>21</td>\n",
       "      <td>5.0</td>\n",
       "      <td>0.238095</td>\n",
       "    </tr>\n",
       "    <tr>\n",
       "      <th>LOGÍSTICA - CADEIA DE ABASTECIMENTO (B3) Q+</th>\n",
       "      <td>11</td>\n",
       "      <td>1.0</td>\n",
       "      <td>0.090909</td>\n",
       "    </tr>\n",
       "    <tr>\n",
       "      <th>LÍNGUA ESPANHOLA - ATENDIMENTO E VENDAS</th>\n",
       "      <td>59</td>\n",
       "      <td>9.0</td>\n",
       "      <td>0.152542</td>\n",
       "    </tr>\n",
       "    <tr>\n",
       "      <th>LÍNGUA ESPANHOLA - INFORMAÇÃO E ATENDIMENTO TÉCNICO</th>\n",
       "      <td>2</td>\n",
       "      <td>0.0</td>\n",
       "      <td>0.000000</td>\n",
       "    </tr>\n",
       "    <tr>\n",
       "      <th>...</th>\n",
       "      <td>...</td>\n",
       "      <td>...</td>\n",
       "      <td>...</td>\n",
       "    </tr>\n",
       "    <tr>\n",
       "      <th>WEB E MULTIMÉDIA</th>\n",
       "      <td>28</td>\n",
       "      <td>2.0</td>\n",
       "      <td>0.071429</td>\n",
       "    </tr>\n",
       "    <tr>\n",
       "      <th>WINDOWS SERVER - REDE E SERVIÇOS</th>\n",
       "      <td>4</td>\n",
       "      <td>1.0</td>\n",
       "      <td>0.250000</td>\n",
       "    </tr>\n",
       "    <tr>\n",
       "      <th>WORLDSKILLS KAZAN 2019 - FORMAÇÃO ESPECÍFICA EM SOLDADURA</th>\n",
       "      <td>1</td>\n",
       "      <td>1.0</td>\n",
       "      <td>1.000000</td>\n",
       "    </tr>\n",
       "    <tr>\n",
       "      <th>ÇÃO EDUCATIVA - PROTEÇÃO E RESPOSTAS SOCIAIS PARA CRIANÇAS E JOVENS (B3) Q+</th>\n",
       "      <td>1</td>\n",
       "      <td>0.0</td>\n",
       "      <td>0.000000</td>\n",
       "    </tr>\n",
       "    <tr>\n",
       "      <th>ÉTICA, DEONTOLOGIA E COMUNICAÇÃO EMPRESARIAL</th>\n",
       "      <td>14</td>\n",
       "      <td>5.0</td>\n",
       "      <td>0.357143</td>\n",
       "    </tr>\n",
       "  </tbody>\n",
       "</table>\n",
       "<p>942 rows × 3 columns</p>\n",
       "</div>"
      ],
      "text/plain": [
       "                                                    Count  Count_succ  \\\n",
       "F_DCURSO                                                                \n",
       " ARRANJOS FLORAIS E DECORAÇÃO                          20         2.0   \n",
       " INTRODUÇÃO AOS CUIDADOS DE BELEZA                     21         5.0   \n",
       " LOGÍSTICA - CADEIA DE ABASTECIMENTO (B3) Q+           11         1.0   \n",
       " LÍNGUA ESPANHOLA - ATENDIMENTO E VENDAS               59         9.0   \n",
       " LÍNGUA ESPANHOLA - INFORMAÇÃO E ATENDIMENTO TÉ...      2         0.0   \n",
       "...                                                   ...         ...   \n",
       "WEB E MULTIMÉDIA                                       28         2.0   \n",
       "WINDOWS SERVER - REDE E SERVIÇOS                        4         1.0   \n",
       "WORLDSKILLS KAZAN 2019 - FORMAÇÃO ESPECÍFICA EM...      1         1.0   \n",
       "ÇÃO EDUCATIVA - PROTEÇÃO E RESPOSTAS SOCIAIS PA...      1         0.0   \n",
       "ÉTICA, DEONTOLOGIA E COMUNICAÇÃO EMPRESARIAL           14         5.0   \n",
       "\n",
       "                                                    succ_rate  \n",
       "F_DCURSO                                                       \n",
       " ARRANJOS FLORAIS E DECORAÇÃO                        0.100000  \n",
       " INTRODUÇÃO AOS CUIDADOS DE BELEZA                   0.238095  \n",
       " LOGÍSTICA - CADEIA DE ABASTECIMENTO (B3) Q+         0.090909  \n",
       " LÍNGUA ESPANHOLA - ATENDIMENTO E VENDAS             0.152542  \n",
       " LÍNGUA ESPANHOLA - INFORMAÇÃO E ATENDIMENTO TÉ...   0.000000  \n",
       "...                                                       ...  \n",
       "WEB E MULTIMÉDIA                                     0.071429  \n",
       "WINDOWS SERVER - REDE E SERVIÇOS                     0.250000  \n",
       "WORLDSKILLS KAZAN 2019 - FORMAÇÃO ESPECÍFICA EM...   1.000000  \n",
       "ÇÃO EDUCATIVA - PROTEÇÃO E RESPOSTAS SOCIAIS PA...   0.000000  \n",
       "ÉTICA, DEONTOLOGIA E COMUNICAÇÃO EMPRESARIAL         0.357143  \n",
       "\n",
       "[942 rows x 3 columns]"
      ]
     },
     "execution_count": 35,
     "metadata": {},
     "output_type": "execute_result"
    }
   ],
   "source": [
    "# criar uma variável para guardar a taxa de sucesso de cada curso após a sua conclusão\n",
    "merge_count[\"succ_rate\"] = merge_count[\"Count_succ\"] / merge_count[\"Count\"]\n",
    "merge_count"
   ]
  },
  {
   "cell_type": "code",
   "execution_count": 36,
   "metadata": {},
   "outputs": [],
   "source": [
    "merge_count.to_csv(\"databases/succ_rate.csv\")"
   ]
  },
  {
   "cell_type": "markdown",
   "metadata": {},
   "source": [
    "<div style=\"background-color: #047800; border-radius: 5px;\">\n",
    "    <center><h1 style=\"color: white; padding: 20px;\">5. Recommender System (Tree)</h1></center>\n",
    "</div>"
   ]
  },
  {
   "cell_type": "markdown",
   "metadata": {},
   "source": [
    "<div style=\"border: solid 4px #047800; border-radius: 5px;\"> \n",
    "    <center><h3 style=\"color: #047800; padding: 10px;\">5.1 Input</h3></center>\n",
    "</div>"
   ]
  },
  {
   "cell_type": "code",
   "execution_count": 37,
   "metadata": {},
   "outputs": [],
   "source": [
    "# input utilizador\n",
    "\n",
    "# descrição do utente\n",
    "idade = 45\n",
    "hab = 9\n",
    "\n",
    "# descrição do curso pretendido\n",
    "horas = 1000\n",
    "centro = 309\n",
    "area = 481"
   ]
  },
  {
   "cell_type": "code",
   "execution_count": 38,
   "metadata": {},
   "outputs": [
    {
     "data": {
      "text/plain": [
       "(109595, 21)"
      ]
     },
     "execution_count": 38,
     "metadata": {},
     "output_type": "execute_result"
    }
   ],
   "source": [
    "merged.shape"
   ]
  },
  {
   "cell_type": "code",
   "execution_count": 39,
   "metadata": {},
   "outputs": [],
   "source": [
    "semelhantes = merged"
   ]
  },
  {
   "cell_type": "markdown",
   "metadata": {},
   "source": [
    "<div style=\"border: solid 4px #047800; border-radius: 5px;\"> \n",
    "    <center><h3 style=\"color: #047800; padding: 10px;\">5.2 Filtro da variável Idade</h3></center>\n",
    "</div>"
   ]
  },
  {
   "cell_type": "code",
   "execution_count": 40,
   "metadata": {},
   "outputs": [],
   "source": [
    "# criação de duas variáveis relativas à idade minima e máxima na qual vamos basear o filtro \n",
    "scale = semelhantes[\"IdadeEmAnos\"].max() - semelhantes[\"IdadeEmAnos\"].min()\n",
    "\n",
    "proportion = 0.15\n",
    "\n",
    "min_age = idade - scale * 0.15\n",
    "max_age = idade + scale * 0.15\n",
    "\n",
    "# aplicar filtros relativos à idade do utente\n",
    "semelhantes = semelhantes[(semelhantes[\"IdadeEmAnos\"] > min_age) & (semelhantes[\"IdadeEmAnos\"] < max_age)]"
   ]
  },
  {
   "cell_type": "code",
   "execution_count": 41,
   "metadata": {},
   "outputs": [],
   "source": [
    "##################Comentário####################\n",
    "\n",
    "# Este criterio não faz sentido se fizermos o clustering pq ao fazer a proporção de 0.15 estamos a considerar\n",
    "# todo o universo e com o clustering podiamos refinar isto:\n",
    "# de duas uma ou colocamos a idade do cluster correspondente \n",
    "# ou fazemos uma seleção com um desvio baseado na idade do input e o valor do cluster\n",
    "# "
   ]
  },
  {
   "cell_type": "code",
   "execution_count": 42,
   "metadata": {},
   "outputs": [
    {
     "data": {
      "text/plain": [
       "(44412, 21)"
      ]
     },
     "execution_count": 42,
     "metadata": {},
     "output_type": "execute_result"
    }
   ],
   "source": [
    "semelhantes.shape"
   ]
  },
  {
   "cell_type": "markdown",
   "metadata": {},
   "source": [
    "<div style=\"border: solid 4px #047800; border-radius: 5px;\"> \n",
    "    <center><h3 style=\"color: #047800; padding: 10px;\">5.3 Filtro da variável Horas da Formação</h3></center>\n",
    "</div>"
   ]
  },
  {
   "cell_type": "code",
   "execution_count": 43,
   "metadata": {},
   "outputs": [],
   "source": [
    "# criação de duas variáveis relativas ao tempo minimo e máximo em horas da formação.\n",
    "scale = semelhantes[\"HorasForm\"].max() - semelhantes[\"HorasForm\"].min()\n",
    "\n",
    "proportion = 0.10\n",
    "\n",
    "min_hours = idade - scale * 0.15\n",
    "max_hours = idade + scale * 0.15\n",
    "\n",
    "# aplicar filtros relativos à idade do utente\n",
    "semelhantes = semelhantes[(semelhantes[\"HorasForm\"] > min_hours) & (semelhantes[\"HorasForm\"] < max_hours)]"
   ]
  },
  {
   "cell_type": "code",
   "execution_count": 44,
   "metadata": {},
   "outputs": [],
   "source": [
    "##################Comentário####################\n",
    "# na arvore que vai ser aplicada ao cluster e ao resultado do novo user ele vai estar dentro de um range de horas\n",
    "# de formaçao logo evitamos a dificuldade de estar a varrer um range com um criterio de 0.15"
   ]
  },
  {
   "cell_type": "code",
   "execution_count": 45,
   "metadata": {},
   "outputs": [
    {
     "data": {
      "text/plain": [
       "(38143, 21)"
      ]
     },
     "execution_count": 45,
     "metadata": {},
     "output_type": "execute_result"
    }
   ],
   "source": [
    "semelhantes.shape"
   ]
  },
  {
   "cell_type": "markdown",
   "metadata": {},
   "source": [
    "<div style=\"border: solid 4px #047800; border-radius: 5px;\"> \n",
    "    <center><h3 style=\"color: #047800; padding: 10px;\">5.4 Filtro da variável Centro de Formação (Zona)</h3></center>\n",
    "</div>"
   ]
  },
  {
   "cell_type": "code",
   "execution_count": 46,
   "metadata": {},
   "outputs": [
    {
     "data": {
      "text/plain": [
       "'Lisboa e Vale do Tejo'"
      ]
     },
     "execution_count": 46,
     "metadata": {},
     "output_type": "execute_result"
    }
   ],
   "source": [
    "# receber Centro e devolver Zona do País\n",
    "zona = centros[centros[\"CodCEFP\"] == centro][\"Zona\"]\n",
    "zona_index = zona.index[0]\n",
    "zona = zona[zona_index]\n",
    "zona"
   ]
  },
  {
   "cell_type": "code",
   "execution_count": 47,
   "metadata": {},
   "outputs": [],
   "source": [
    "# aplicar filtros relativos ao centro de emprego do utente\n",
    "semelhantes = semelhantes[semelhantes[\"Zona\"]==zona]"
   ]
  },
  {
   "cell_type": "code",
   "execution_count": 48,
   "metadata": {},
   "outputs": [],
   "source": [
    "##################Comentário####################\n",
    "# os valores por cluster são por zonas/regiões o que permitia obter mais resulltados "
   ]
  },
  {
   "cell_type": "code",
   "execution_count": 49,
   "metadata": {},
   "outputs": [
    {
     "data": {
      "text/plain": [
       "(10561, 21)"
      ]
     },
     "execution_count": 49,
     "metadata": {},
     "output_type": "execute_result"
    }
   ],
   "source": [
    "semelhantes.shape"
   ]
  },
  {
   "cell_type": "markdown",
   "metadata": {},
   "source": [
    "<div style=\"border: solid 4px #047800; border-radius: 5px;\"> \n",
    "    <center><h3 style=\"color: #047800; padding: 10px;\">5.5 Filtro da variável Area de Formação</h3></center>\n",
    "</div>"
   ]
  },
  {
   "cell_type": "code",
   "execution_count": 50,
   "metadata": {},
   "outputs": [],
   "source": [
    "# aplicar filtros relativos à AreaFormacao do utente\n",
    "semelhantes = semelhantes[semelhantes[\"AreaFormacao\"]==area]"
   ]
  },
  {
   "cell_type": "code",
   "execution_count": 51,
   "metadata": {},
   "outputs": [
    {
     "data": {
      "text/plain": [
       "(1186, 21)"
      ]
     },
     "execution_count": 51,
     "metadata": {},
     "output_type": "execute_result"
    }
   ],
   "source": [
    "semelhantes.shape"
   ]
  },
  {
   "cell_type": "markdown",
   "metadata": {},
   "source": [
    "<div style=\"background-color: #047800; border-radius: 5px;\">\n",
    "    <center><h1 style=\"color: white; padding: 20px;\">6. Output</h1></center>\n",
    "</div>"
   ]
  },
  {
   "cell_type": "markdown",
   "metadata": {},
   "source": [
    "<div style=\"border: solid 4px #047800; border-radius: 5px;\"> \n",
    "    <center><h3 style=\"color: #047800; padding: 10px;\">6.1 Frequência absoluta</h3></center>\n",
    "</div>"
   ]
  },
  {
   "cell_type": "code",
   "execution_count": 52,
   "metadata": {},
   "outputs": [
    {
     "data": {
      "text/html": [
       "<div>\n",
       "<style scoped>\n",
       "    .dataframe tbody tr th:only-of-type {\n",
       "        vertical-align: middle;\n",
       "    }\n",
       "\n",
       "    .dataframe tbody tr th {\n",
       "        vertical-align: top;\n",
       "    }\n",
       "\n",
       "    .dataframe thead th {\n",
       "        text-align: right;\n",
       "    }\n",
       "</style>\n",
       "<table border=\"1\" class=\"dataframe\">\n",
       "  <thead>\n",
       "    <tr style=\"text-align: right;\">\n",
       "      <th></th>\n",
       "      <th>F_DCURSO</th>\n",
       "    </tr>\n",
       "  </thead>\n",
       "  <tbody>\n",
       "    <tr>\n",
       "      <th>OPERADOR/A DE INFORMÁTICA</th>\n",
       "      <td>418</td>\n",
       "    </tr>\n",
       "    <tr>\n",
       "      <th>TÉCNICO/A DE INFORMÁTICA - SISTEMAS</th>\n",
       "      <td>115</td>\n",
       "    </tr>\n",
       "    <tr>\n",
       "      <th>ASSISTENTE ADMINISTRATIVO/A</th>\n",
       "      <td>52</td>\n",
       "    </tr>\n",
       "    <tr>\n",
       "      <th>INFORMÁTICA</th>\n",
       "      <td>29</td>\n",
       "    </tr>\n",
       "    <tr>\n",
       "      <th>TÉCNICAS DE APOIO À GESTÃO (UFCD)</th>\n",
       "      <td>29</td>\n",
       "    </tr>\n",
       "    <tr>\n",
       "      <th>TÉCNICO/A DE INFORMÁTICA - INSTALAÇÃO E GESTÃO DE REDES</th>\n",
       "      <td>28</td>\n",
       "    </tr>\n",
       "    <tr>\n",
       "      <th>INFORMÁTICA - PROCESSADOR DE TEXTO E FOLHA DE CÁLCULO</th>\n",
       "      <td>22</td>\n",
       "    </tr>\n",
       "    <tr>\n",
       "      <th>PRÁTICAS ADMINISTRATIVAS</th>\n",
       "      <td>21</td>\n",
       "    </tr>\n",
       "    <tr>\n",
       "      <th>COMPETÊNCIAS EMPREENDEDORAS E TÉCNICAS DE PROCURA DE EMPREGO - FORMAÇÃO TRANSVERSAL</th>\n",
       "      <td>19</td>\n",
       "    </tr>\n",
       "    <tr>\n",
       "      <th>FORMAÇÃO CONTÍNUA DE FORMADORES</th>\n",
       "      <td>17</td>\n",
       "    </tr>\n",
       "  </tbody>\n",
       "</table>\n",
       "</div>"
      ],
      "text/plain": [
       "                                                    F_DCURSO\n",
       "OPERADOR/A DE INFORMÁTICA                                418\n",
       "TÉCNICO/A DE INFORMÁTICA - SISTEMAS                      115\n",
       "ASSISTENTE ADMINISTRATIVO/A                               52\n",
       "INFORMÁTICA                                               29\n",
       "TÉCNICAS DE APOIO À GESTÃO (UFCD)                         29\n",
       "TÉCNICO/A DE INFORMÁTICA - INSTALAÇÃO E GESTÃO ...        28\n",
       "INFORMÁTICA - PROCESSADOR DE TEXTO E FOLHA DE C...        22\n",
       "PRÁTICAS ADMINISTRATIVAS                                  21\n",
       "COMPETÊNCIAS EMPREENDEDORAS E TÉCNICAS DE PROCU...        19\n",
       "FORMAÇÃO CONTÍNUA DE FORMADORES                           17"
      ]
     },
     "execution_count": 52,
     "metadata": {},
     "output_type": "execute_result"
    }
   ],
   "source": [
    "abs_freq = pd.DataFrame(semelhantes[\"F_DCURSO\"].value_counts())\n",
    "abs_freq.head(10)"
   ]
  },
  {
   "cell_type": "code",
   "execution_count": 53,
   "metadata": {},
   "outputs": [
    {
     "data": {
      "text/plain": [
       "['OPERADOR/A DE INFORMÁTICA',\n",
       " 'TÉCNICO/A DE INFORMÁTICA - SISTEMAS',\n",
       " 'ASSISTENTE ADMINISTRATIVO/A',\n",
       " 'INFORMÁTICA',\n",
       " 'TÉCNICAS DE APOIO À GESTÃO (UFCD)',\n",
       " 'TÉCNICO/A DE INFORMÁTICA - INSTALAÇÃO E GESTÃO DE REDES',\n",
       " 'INFORMÁTICA - PROCESSADOR DE TEXTO E FOLHA DE CÁLCULO',\n",
       " 'PRÁTICAS ADMINISTRATIVAS',\n",
       " 'COMPETÊNCIAS EMPREENDEDORAS E TÉCNICAS DE PROCURA DE EMPREGO - FORMAÇÃO TRANSVERSAL',\n",
       " 'FORMAÇÃO CONTÍNUA DE FORMADORES']"
      ]
     },
     "execution_count": 53,
     "metadata": {},
     "output_type": "execute_result"
    }
   ],
   "source": [
    "# guardar indíce dos cursos do output\n",
    "index = abs_freq.index\n",
    "indexes = []\n",
    "\n",
    "for i in index:\n",
    "    indexes.append(i)\n",
    "\n",
    "indexes[0:10]"
   ]
  },
  {
   "cell_type": "markdown",
   "metadata": {},
   "source": [
    "<div style=\"border: solid 4px #047800; border-radius: 5px;\"> \n",
    "    <center><h3 style=\"color: #047800; padding: 10px;\">6.2 Adicionar taxa de sucesso</h3></center>\n",
    "</div>"
   ]
  },
  {
   "cell_type": "code",
   "execution_count": 54,
   "metadata": {},
   "outputs": [
    {
     "data": {
      "text/html": [
       "<div>\n",
       "<style scoped>\n",
       "    .dataframe tbody tr th:only-of-type {\n",
       "        vertical-align: middle;\n",
       "    }\n",
       "\n",
       "    .dataframe tbody tr th {\n",
       "        vertical-align: top;\n",
       "    }\n",
       "\n",
       "    .dataframe thead th {\n",
       "        text-align: right;\n",
       "    }\n",
       "</style>\n",
       "<table border=\"1\" class=\"dataframe\">\n",
       "  <thead>\n",
       "    <tr style=\"text-align: right;\">\n",
       "      <th></th>\n",
       "      <th>Count</th>\n",
       "      <th>Count_succ</th>\n",
       "      <th>succ_rate</th>\n",
       "    </tr>\n",
       "    <tr>\n",
       "      <th>F_DCURSO</th>\n",
       "      <th></th>\n",
       "      <th></th>\n",
       "      <th></th>\n",
       "    </tr>\n",
       "  </thead>\n",
       "  <tbody>\n",
       "    <tr>\n",
       "      <th>OPERADOR/A DE INFORMÁTICA</th>\n",
       "      <td>3545</td>\n",
       "      <td>1024.0</td>\n",
       "      <td>0.288858</td>\n",
       "    </tr>\n",
       "    <tr>\n",
       "      <th>TÉCNICO/A DE INFORMÁTICA - SISTEMAS</th>\n",
       "      <td>1338</td>\n",
       "      <td>298.0</td>\n",
       "      <td>0.222720</td>\n",
       "    </tr>\n",
       "    <tr>\n",
       "      <th>ASSISTENTE ADMINISTRATIVO/A</th>\n",
       "      <td>2287</td>\n",
       "      <td>870.0</td>\n",
       "      <td>0.380411</td>\n",
       "    </tr>\n",
       "    <tr>\n",
       "      <th>INFORMÁTICA</th>\n",
       "      <td>101</td>\n",
       "      <td>22.0</td>\n",
       "      <td>0.217822</td>\n",
       "    </tr>\n",
       "    <tr>\n",
       "      <th>TÉCNICAS DE APOIO À GESTÃO (UFCD)</th>\n",
       "      <td>1942</td>\n",
       "      <td>574.0</td>\n",
       "      <td>0.295572</td>\n",
       "    </tr>\n",
       "  </tbody>\n",
       "</table>\n",
       "</div>"
      ],
      "text/plain": [
       "                                     Count  Count_succ  succ_rate\n",
       "F_DCURSO                                                         \n",
       "OPERADOR/A DE INFORMÁTICA             3545      1024.0   0.288858\n",
       "TÉCNICO/A DE INFORMÁTICA - SISTEMAS   1338       298.0   0.222720\n",
       "ASSISTENTE ADMINISTRATIVO/A           2287       870.0   0.380411\n",
       "INFORMÁTICA                            101        22.0   0.217822\n",
       "TÉCNICAS DE APOIO À GESTÃO (UFCD)     1942       574.0   0.295572"
      ]
     },
     "execution_count": 54,
     "metadata": {},
     "output_type": "execute_result"
    }
   ],
   "source": [
    "succ_rate = merge_count.loc[indexes]\n",
    "succ_rate.head(5)"
   ]
  },
  {
   "cell_type": "code",
   "execution_count": 55,
   "metadata": {},
   "outputs": [
    {
     "data": {
      "text/html": [
       "<div>\n",
       "<style scoped>\n",
       "    .dataframe tbody tr th:only-of-type {\n",
       "        vertical-align: middle;\n",
       "    }\n",
       "\n",
       "    .dataframe tbody tr th {\n",
       "        vertical-align: top;\n",
       "    }\n",
       "\n",
       "    .dataframe thead th {\n",
       "        text-align: right;\n",
       "    }\n",
       "</style>\n",
       "<table border=\"1\" class=\"dataframe\">\n",
       "  <thead>\n",
       "    <tr style=\"text-align: right;\">\n",
       "      <th></th>\n",
       "      <th>F_DCURSO</th>\n",
       "      <th>Count</th>\n",
       "      <th>Count_succ</th>\n",
       "      <th>succ_rate</th>\n",
       "    </tr>\n",
       "    <tr>\n",
       "      <th>F_DCURSO</th>\n",
       "      <th></th>\n",
       "      <th></th>\n",
       "      <th></th>\n",
       "      <th></th>\n",
       "    </tr>\n",
       "  </thead>\n",
       "  <tbody>\n",
       "    <tr>\n",
       "      <th>OPERADOR/A DE INFORMÁTICA</th>\n",
       "      <td>418</td>\n",
       "      <td>3545</td>\n",
       "      <td>1024.0</td>\n",
       "      <td>0.288858</td>\n",
       "    </tr>\n",
       "    <tr>\n",
       "      <th>TÉCNICO/A DE INFORMÁTICA - SISTEMAS</th>\n",
       "      <td>115</td>\n",
       "      <td>1338</td>\n",
       "      <td>298.0</td>\n",
       "      <td>0.222720</td>\n",
       "    </tr>\n",
       "    <tr>\n",
       "      <th>ASSISTENTE ADMINISTRATIVO/A</th>\n",
       "      <td>52</td>\n",
       "      <td>2287</td>\n",
       "      <td>870.0</td>\n",
       "      <td>0.380411</td>\n",
       "    </tr>\n",
       "    <tr>\n",
       "      <th>INFORMÁTICA</th>\n",
       "      <td>29</td>\n",
       "      <td>101</td>\n",
       "      <td>22.0</td>\n",
       "      <td>0.217822</td>\n",
       "    </tr>\n",
       "    <tr>\n",
       "      <th>TÉCNICAS DE APOIO À GESTÃO (UFCD)</th>\n",
       "      <td>29</td>\n",
       "      <td>1942</td>\n",
       "      <td>574.0</td>\n",
       "      <td>0.295572</td>\n",
       "    </tr>\n",
       "  </tbody>\n",
       "</table>\n",
       "</div>"
      ],
      "text/plain": [
       "                                     F_DCURSO  Count  Count_succ  succ_rate\n",
       "F_DCURSO                                                                   \n",
       "OPERADOR/A DE INFORMÁTICA                 418   3545      1024.0   0.288858\n",
       "TÉCNICO/A DE INFORMÁTICA - SISTEMAS       115   1338       298.0   0.222720\n",
       "ASSISTENTE ADMINISTRATIVO/A                52   2287       870.0   0.380411\n",
       "INFORMÁTICA                                29    101        22.0   0.217822\n",
       "TÉCNICAS DE APOIO À GESTÃO (UFCD)          29   1942       574.0   0.295572"
      ]
     },
     "execution_count": 55,
     "metadata": {},
     "output_type": "execute_result"
    }
   ],
   "source": [
    "output = pd.concat([abs_freq, succ_rate], axis=1)\n",
    "output.head(5)"
   ]
  },
  {
   "cell_type": "markdown",
   "metadata": {},
   "source": [
    "<div style=\"border: solid 4px #047800; border-radius: 5px;\"> \n",
    "    <center><h3 style=\"color: #047800; padding: 10px;\">6.3 Final score</h3></center>\n",
    "</div>"
   ]
  },
  {
   "cell_type": "code",
   "execution_count": 56,
   "metadata": {},
   "outputs": [
    {
     "data": {
      "text/html": [
       "<div>\n",
       "<style scoped>\n",
       "    .dataframe tbody tr th:only-of-type {\n",
       "        vertical-align: middle;\n",
       "    }\n",
       "\n",
       "    .dataframe tbody tr th {\n",
       "        vertical-align: top;\n",
       "    }\n",
       "\n",
       "    .dataframe thead th {\n",
       "        text-align: right;\n",
       "    }\n",
       "</style>\n",
       "<table border=\"1\" class=\"dataframe\">\n",
       "  <thead>\n",
       "    <tr style=\"text-align: right;\">\n",
       "      <th></th>\n",
       "      <th>F_DCURSO</th>\n",
       "      <th>Count</th>\n",
       "      <th>Count_succ</th>\n",
       "      <th>succ_rate</th>\n",
       "      <th>final_score</th>\n",
       "    </tr>\n",
       "    <tr>\n",
       "      <th>F_DCURSO</th>\n",
       "      <th></th>\n",
       "      <th></th>\n",
       "      <th></th>\n",
       "      <th></th>\n",
       "      <th></th>\n",
       "    </tr>\n",
       "  </thead>\n",
       "  <tbody>\n",
       "    <tr>\n",
       "      <th>OPERADOR/A DE INFORMÁTICA</th>\n",
       "      <td>418</td>\n",
       "      <td>3545</td>\n",
       "      <td>1024.0</td>\n",
       "      <td>0.288858</td>\n",
       "      <td>122.832454</td>\n",
       "    </tr>\n",
       "    <tr>\n",
       "      <th>TÉCNICO/A DE INFORMÁTICA - SISTEMAS</th>\n",
       "      <td>115</td>\n",
       "      <td>1338</td>\n",
       "      <td>298.0</td>\n",
       "      <td>0.222720</td>\n",
       "      <td>26.187855</td>\n",
       "    </tr>\n",
       "    <tr>\n",
       "      <th>ASSISTENTE ADMINISTRATIVO/A</th>\n",
       "      <td>52</td>\n",
       "      <td>2287</td>\n",
       "      <td>870.0</td>\n",
       "      <td>0.380411</td>\n",
       "      <td>20.041373</td>\n",
       "    </tr>\n",
       "    <tr>\n",
       "      <th>FORMAÇÃO CONTÍNUA DE FORMADORES</th>\n",
       "      <td>17</td>\n",
       "      <td>251</td>\n",
       "      <td>205.0</td>\n",
       "      <td>0.816733</td>\n",
       "      <td>13.969462</td>\n",
       "    </tr>\n",
       "    <tr>\n",
       "      <th>TÉCNICAS DE APOIO À GESTÃO (UFCD)</th>\n",
       "      <td>29</td>\n",
       "      <td>1942</td>\n",
       "      <td>574.0</td>\n",
       "      <td>0.295572</td>\n",
       "      <td>8.716576</td>\n",
       "    </tr>\n",
       "  </tbody>\n",
       "</table>\n",
       "</div>"
      ],
      "text/plain": [
       "                                     F_DCURSO  Count  Count_succ  succ_rate  \\\n",
       "F_DCURSO                                                                      \n",
       "OPERADOR/A DE INFORMÁTICA                 418   3545      1024.0   0.288858   \n",
       "TÉCNICO/A DE INFORMÁTICA - SISTEMAS       115   1338       298.0   0.222720   \n",
       "ASSISTENTE ADMINISTRATIVO/A                52   2287       870.0   0.380411   \n",
       "FORMAÇÃO CONTÍNUA DE FORMADORES            17    251       205.0   0.816733   \n",
       "TÉCNICAS DE APOIO À GESTÃO (UFCD)          29   1942       574.0   0.295572   \n",
       "\n",
       "                                     final_score  \n",
       "F_DCURSO                                          \n",
       "OPERADOR/A DE INFORMÁTICA             122.832454  \n",
       "TÉCNICO/A DE INFORMÁTICA - SISTEMAS    26.187855  \n",
       "ASSISTENTE ADMINISTRATIVO/A            20.041373  \n",
       "FORMAÇÃO CONTÍNUA DE FORMADORES        13.969462  \n",
       "TÉCNICAS DE APOIO À GESTÃO (UFCD)       8.716576  "
      ]
     },
     "execution_count": 56,
     "metadata": {},
     "output_type": "execute_result"
    }
   ],
   "source": [
    "# adicionar 0.05 à taxa de sucesso, deste modo, se esta for 0 o curso tem alguma probabilidade de recomendação\n",
    "output[\"final_score\"] = output[\"F_DCURSO\"] * (output[\"succ_rate\"] + 0.005)\n",
    "\n",
    "# ordenar tabela pelo score final\n",
    "output = output.sort_values(\"final_score\", ascending=False)\n",
    "output.head(5)"
   ]
  },
  {
   "cell_type": "markdown",
   "metadata": {},
   "source": [
    "<div style=\"border: solid 4px #047800; border-radius: 5px;\"> \n",
    "    <center><h3 style=\"color: #047800; padding: 10px;\">6.4 Graph</h3></center>\n",
    "</div>"
   ]
  },
  {
   "cell_type": "code",
   "execution_count": 57,
   "metadata": {},
   "outputs": [
    {
     "data": {
      "text/plain": [
       "F_DCURSO\n",
       "OPERADOR/A DE INFORMÁTICA                                  122.832454\n",
       "TÉCNICO/A DE INFORMÁTICA - SISTEMAS                         26.187855\n",
       "ASSISTENTE ADMINISTRATIVO/A                                 20.041373\n",
       "FORMAÇÃO CONTÍNUA DE FORMADORES                             13.969462\n",
       "TÉCNICAS DE APOIO À GESTÃO (UFCD)                            8.716576\n",
       "TÉCNICO/A DE INFORMÁTICA - INSTALAÇÃO E GESTÃO DE REDES      8.540000\n",
       "INFORMÁTICA - PROCESSADOR DE TEXTO E FOLHA DE CÁLCULO        7.323115\n",
       "ASSISTENTE FAMILIAR E DE APOIO À COMUNIDADE (UFCD)           7.024123\n",
       "INFORMÁTICA                                                  6.461832\n",
       "TÉCNICO/A DE SECRETARIADO                                    6.254339\n",
       "Name: final_score, dtype: float64"
      ]
     },
     "execution_count": 57,
     "metadata": {},
     "output_type": "execute_result"
    }
   ],
   "source": [
    "final_scores = output[\"final_score\"][0:10]\n",
    "final_scores"
   ]
  },
  {
   "cell_type": "code",
   "execution_count": 58,
   "metadata": {},
   "outputs": [
    {
     "data": {
      "text/plain": [
       "Index(['OPERADOR/A DE INFORMÁTICA', 'TÉCNICO/A DE INFORMÁTICA - SISTEMAS',\n",
       "       'ASSISTENTE ADMINISTRATIVO/A', 'FORMAÇÃO CONTÍNUA DE FORMADORES',\n",
       "       'TÉCNICAS DE APOIO À GESTÃO (UFCD)',\n",
       "       'TÉCNICO/A DE INFORMÁTICA - INSTALAÇÃO E GESTÃO DE REDES',\n",
       "       'INFORMÁTICA - PROCESSADOR DE TEXTO E FOLHA DE CÁLCULO',\n",
       "       'ASSISTENTE FAMILIAR E DE APOIO À COMUNIDADE (UFCD)', 'INFORMÁTICA',\n",
       "       'TÉCNICO/A DE SECRETARIADO'],\n",
       "      dtype='object', name='F_DCURSO')"
      ]
     },
     "execution_count": 58,
     "metadata": {},
     "output_type": "execute_result"
    }
   ],
   "source": [
    "final_indexes = output.index[0:10]\n",
    "final_indexes"
   ]
  },
  {
   "cell_type": "code",
   "execution_count": 59,
   "metadata": {},
   "outputs": [
    {
     "data": {
      "text/plain": [
       "Text(0.5, 1.0, 'Top 10 - Formações recomendadas')"
      ]
     },
     "execution_count": 59,
     "metadata": {},
     "output_type": "execute_result"
    },
    {
     "data": {
      "image/png": "[encoded data removed]",
      "text/plain": [
       "<Figure size 432x288 with 1 Axes>"
      ]
     },
     "metadata": {
      "needs_background": "light"
     },
     "output_type": "display_data"
    }
   ],
   "source": [
    "# Gráfico relativo ao sucesso e insucesso\n",
    "\n",
    "plt.barh(final_indexes, final_scores, color=[\"#00BFFF\", \"#1E90FF\", \"#4169E1\"])\n",
    "plt.title(\"Top 10 - Formações recomendadas\", size=17)"
   ]
  }
 ],
 "metadata": {
  "kernelspec": {
   "display_name": "Python 3",
   "language": "python",
   "name": "python3"
  },
  "language_info": {
   "codemirror_mode": {
    "name": "ipython",
    "version": 3
   },
   "file_extension": ".py",
   "mimetype": "text/x-python",
   "name": "python",
   "nbconvert_exporter": "python",
   "pygments_lexer": "ipython3",
   "version": "3.8.3"
  }
 },
 "nbformat": 4,
 "nbformat_minor": 4
}
