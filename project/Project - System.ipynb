{
 "cells": [
  {
   "cell_type": "markdown",
   "metadata": {},
   "source": [
    "<img src=\"images/intro.jpeg\">"
   ]
  },
  {
   "cell_type": "markdown",
   "metadata": {},
   "source": [
    "# Project - Tentativa"
   ]
  },
  {
   "cell_type": "markdown",
   "metadata": {},
   "source": [
    "<div style=\"background-color: #2f648a; border-radius: 5px;\"> \n",
    "    <center><h1 style=\"color: white; padding: 20px;\">1. Imports</h1></center>\n",
    "</div>"
   ]
  },
  {
   "cell_type": "code",
   "execution_count": 132,
   "metadata": {},
   "outputs": [],
   "source": [
    "import pandas as pd\n",
    "from pandas import ExcelWriter\n",
    "from pandas import ExcelFile\n",
    "from datetime import datetime\n",
    "import seaborn as sn\n",
    "from matplotlib import pyplot as plt"
   ]
  },
  {
   "cell_type": "markdown",
   "metadata": {},
   "source": [
    "<div style=\"background-color: #2f648a; border-radius: 5px;\"> \n",
    "    <center><h1 style=\"color: white; padding: 20px;\">2. Read files </h1></center>\n",
    "</div>"
   ]
  },
  {
   "cell_type": "markdown",
   "metadata": {},
   "source": [
    "<div style=\"border: solid 4px #2f648a; border-radius: 5px;\"> \n",
    "    <center><h3 style=\"color: #2f648a; padding: 10px;\">2.1 Leitura da bases de dados dos formandos</h3></center>\n",
    "</div>"
   ]
  },
  {
   "cell_type": "code",
   "execution_count": 133,
   "metadata": {},
   "outputs": [
    {
     "name": "stderr",
     "output_type": "stream",
     "text": [
      "C:\\Users\\sarro\\anaconda3\\lib\\site-packages\\IPython\\core\\interactiveshell.py:3071: DtypeWarning: Columns (10) have mixed types.Specify dtype option on import or set low_memory=False.\n",
      "  has_raised = await self.run_ast_nodes(code_ast.body, cell_name,\n"
     ]
    }
   ],
   "source": [
    "form = pd.read_csv(\"databases/formandos_limpo.csv\")"
   ]
  },
  {
   "cell_type": "code",
   "execution_count": 134,
   "metadata": {},
   "outputs": [],
   "source": [
    "# delete column produced by the csv\n",
    "del form['Unnamed: 0']"
   ]
  },
  {
   "cell_type": "code",
   "execution_count": 135,
   "metadata": {},
   "outputs": [
    {
     "data": {
      "text/plain": [
       "(72343, 12)"
      ]
     },
     "execution_count": 135,
     "metadata": {},
     "output_type": "execute_result"
    }
   ],
   "source": [
    "form.shape"
   ]
  },
  {
   "cell_type": "code",
   "execution_count": 136,
   "metadata": {},
   "outputs": [
    {
     "data": {
      "text/html": [
       "<div>\n",
       "<style scoped>\n",
       "    .dataframe tbody tr th:only-of-type {\n",
       "        vertical-align: middle;\n",
       "    }\n",
       "\n",
       "    .dataframe tbody tr th {\n",
       "        vertical-align: top;\n",
       "    }\n",
       "\n",
       "    .dataframe thead th {\n",
       "        text-align: right;\n",
       "    }\n",
       "</style>\n",
       "<table border=\"1\" class=\"dataframe\">\n",
       "  <thead>\n",
       "    <tr style=\"text-align: right;\">\n",
       "      <th></th>\n",
       "      <th>UTE_ID</th>\n",
       "      <th>CodCEFP</th>\n",
       "      <th>Sexo</th>\n",
       "      <th>IdadeEmAnos</th>\n",
       "      <th>CodHabilitacao</th>\n",
       "      <th>CodNacionalidade</th>\n",
       "      <th>HorasForm</th>\n",
       "      <th>AreaFormacao</th>\n",
       "      <th>NivelFormacaoAccao</th>\n",
       "      <th>CodSaidaProfissional</th>\n",
       "      <th>Sucessos</th>\n",
       "      <th>DuracaoFormacao</th>\n",
       "    </tr>\n",
       "  </thead>\n",
       "  <tbody>\n",
       "    <tr>\n",
       "      <th>0</th>\n",
       "      <td>24054</td>\n",
       "      <td>201</td>\n",
       "      <td>1</td>\n",
       "      <td>41</td>\n",
       "      <td>12</td>\n",
       "      <td>PT</td>\n",
       "      <td>1504.0</td>\n",
       "      <td>521</td>\n",
       "      <td>5</td>\n",
       "      <td>52174</td>\n",
       "      <td>0</td>\n",
       "      <td>375 days 00:00:00.000000000</td>\n",
       "    </tr>\n",
       "    <tr>\n",
       "      <th>1</th>\n",
       "      <td>39165</td>\n",
       "      <td>309</td>\n",
       "      <td>0</td>\n",
       "      <td>45</td>\n",
       "      <td>12</td>\n",
       "      <td>PT</td>\n",
       "      <td>1300.0</td>\n",
       "      <td>481</td>\n",
       "      <td>5</td>\n",
       "      <td>4816</td>\n",
       "      <td>0</td>\n",
       "      <td>325 days 00:00:00.000000000</td>\n",
       "    </tr>\n",
       "    <tr>\n",
       "      <th>2</th>\n",
       "      <td>77485</td>\n",
       "      <td>402</td>\n",
       "      <td>0</td>\n",
       "      <td>51</td>\n",
       "      <td>12</td>\n",
       "      <td>PT</td>\n",
       "      <td>211.0</td>\n",
       "      <td>481</td>\n",
       "      <td>5</td>\n",
       "      <td>4817</td>\n",
       "      <td>0</td>\n",
       "      <td>434 days 00:00:00.000000000</td>\n",
       "    </tr>\n",
       "    <tr>\n",
       "      <th>3</th>\n",
       "      <td>145884</td>\n",
       "      <td>501</td>\n",
       "      <td>0</td>\n",
       "      <td>53</td>\n",
       "      <td>12</td>\n",
       "      <td>PT</td>\n",
       "      <td>465.0</td>\n",
       "      <td>812</td>\n",
       "      <td>5</td>\n",
       "      <td>8126</td>\n",
       "      <td>0</td>\n",
       "      <td>382 days 00:00:00.000000000</td>\n",
       "    </tr>\n",
       "    <tr>\n",
       "      <th>4</th>\n",
       "      <td>155241</td>\n",
       "      <td>501</td>\n",
       "      <td>1</td>\n",
       "      <td>51</td>\n",
       "      <td>12</td>\n",
       "      <td>PT</td>\n",
       "      <td>447.0</td>\n",
       "      <td>812</td>\n",
       "      <td>5</td>\n",
       "      <td>8126</td>\n",
       "      <td>1</td>\n",
       "      <td>382 days 00:00:00.000000000</td>\n",
       "    </tr>\n",
       "  </tbody>\n",
       "</table>\n",
       "</div>"
      ],
      "text/plain": [
       "   UTE_ID  CodCEFP  Sexo  IdadeEmAnos  CodHabilitacao CodNacionalidade  \\\n",
       "0   24054      201     1           41              12               PT   \n",
       "1   39165      309     0           45              12               PT   \n",
       "2   77485      402     0           51              12               PT   \n",
       "3  145884      501     0           53              12               PT   \n",
       "4  155241      501     1           51              12               PT   \n",
       "\n",
       "   HorasForm  AreaFormacao NivelFormacaoAccao CodSaidaProfissional  Sucessos  \\\n",
       "0     1504.0           521                  5                52174         0   \n",
       "1     1300.0           481                  5                 4816         0   \n",
       "2      211.0           481                  5                 4817         0   \n",
       "3      465.0           812                  5                 8126         0   \n",
       "4      447.0           812                  5                 8126         1   \n",
       "\n",
       "               DuracaoFormacao  \n",
       "0  375 days 00:00:00.000000000  \n",
       "1  325 days 00:00:00.000000000  \n",
       "2  434 days 00:00:00.000000000  \n",
       "3  382 days 00:00:00.000000000  \n",
       "4  382 days 00:00:00.000000000  "
      ]
     },
     "execution_count": 136,
     "metadata": {},
     "output_type": "execute_result"
    }
   ],
   "source": [
    "form.head()"
   ]
  },
  {
   "cell_type": "markdown",
   "metadata": {},
   "source": [
    "<div style=\"border: solid 4px #2f648a; border-radius: 5px;\"> \n",
    "    <center><h3 style=\"color: #2f648a; padding: 10px;\">2.2 Leitura da bases de dados dos cursos</h3></center>\n",
    "</div>"
   ]
  },
  {
   "cell_type": "code",
   "execution_count": 137,
   "metadata": {},
   "outputs": [],
   "source": [
    "cursos = pd.read_csv(\"databases/cursos.csv\")"
   ]
  },
  {
   "cell_type": "code",
   "execution_count": 138,
   "metadata": {},
   "outputs": [],
   "source": [
    "# delete column produced by the csv\n",
    "del cursos['Unnamed: 0']"
   ]
  },
  {
   "cell_type": "code",
   "execution_count": 139,
   "metadata": {},
   "outputs": [
    {
     "data": {
      "text/plain": [
       "(67278, 3)"
      ]
     },
     "execution_count": 139,
     "metadata": {},
     "output_type": "execute_result"
    }
   ],
   "source": [
    "cursos.shape"
   ]
  },
  {
   "cell_type": "code",
   "execution_count": 140,
   "metadata": {},
   "outputs": [
    {
     "data": {
      "text/html": [
       "<div>\n",
       "<style scoped>\n",
       "    .dataframe tbody tr th:only-of-type {\n",
       "        vertical-align: middle;\n",
       "    }\n",
       "\n",
       "    .dataframe tbody tr th {\n",
       "        vertical-align: top;\n",
       "    }\n",
       "\n",
       "    .dataframe thead th {\n",
       "        text-align: right;\n",
       "    }\n",
       "</style>\n",
       "<table border=\"1\" class=\"dataframe\">\n",
       "  <thead>\n",
       "    <tr style=\"text-align: right;\">\n",
       "      <th></th>\n",
       "      <th>UTE_ID</th>\n",
       "      <th>F_CCURSO</th>\n",
       "      <th>F_DCURSO</th>\n",
       "    </tr>\n",
       "  </thead>\n",
       "  <tbody>\n",
       "    <tr>\n",
       "      <th>0</th>\n",
       "      <td>5963829</td>\n",
       "      <td>FM089AC</td>\n",
       "      <td>COMUNICAÇÃO ASSERTIVA E TÉCNICAS DE PROCURA DE...</td>\n",
       "    </tr>\n",
       "    <tr>\n",
       "      <th>1</th>\n",
       "      <td>4320275</td>\n",
       "      <td>811141A</td>\n",
       "      <td>TÉCNICO/A DE RESTAURANTE/BAR</td>\n",
       "    </tr>\n",
       "    <tr>\n",
       "      <th>2</th>\n",
       "      <td>5124212</td>\n",
       "      <td>81114ZZ</td>\n",
       "      <td>TÉCNICO/A DE RESTAURANTE/BAR (UFCD)</td>\n",
       "    </tr>\n",
       "    <tr>\n",
       "      <th>3</th>\n",
       "      <td>4787421</td>\n",
       "      <td>81205ZZ</td>\n",
       "      <td>TURISMO AMBIENTAL E RURAL</td>\n",
       "    </tr>\n",
       "    <tr>\n",
       "      <th>4</th>\n",
       "      <td>5522037</td>\n",
       "      <td>FM089AC</td>\n",
       "      <td>COMUNICAÇÃO ASSERTIVA E TÉCNICAS DE PROCURA DE...</td>\n",
       "    </tr>\n",
       "  </tbody>\n",
       "</table>\n",
       "</div>"
      ],
      "text/plain": [
       "    UTE_ID F_CCURSO                                           F_DCURSO\n",
       "0  5963829  FM089AC  COMUNICAÇÃO ASSERTIVA E TÉCNICAS DE PROCURA DE...\n",
       "1  4320275  811141A                       TÉCNICO/A DE RESTAURANTE/BAR\n",
       "2  5124212  81114ZZ                TÉCNICO/A DE RESTAURANTE/BAR (UFCD)\n",
       "3  4787421  81205ZZ                          TURISMO AMBIENTAL E RURAL\n",
       "4  5522037  FM089AC  COMUNICAÇÃO ASSERTIVA E TÉCNICAS DE PROCURA DE..."
      ]
     },
     "execution_count": 140,
     "metadata": {},
     "output_type": "execute_result"
    }
   ],
   "source": [
    "cursos.head()"
   ]
  },
  {
   "cell_type": "markdown",
   "metadata": {},
   "source": [
    "<div style=\"border: solid 4px #2f648a; border-radius: 5px;\"> \n",
    "    <center><h3 style=\"color: #2f648a; padding: 10px;\">2.3 Leitura da bases de dados dos pedidos</h3></center>\n",
    "</div>"
   ]
  },
  {
   "cell_type": "code",
   "execution_count": 141,
   "metadata": {},
   "outputs": [
    {
     "name": "stderr",
     "output_type": "stream",
     "text": [
      "C:\\Users\\sarro\\anaconda3\\lib\\site-packages\\IPython\\core\\interactiveshell.py:3071: DtypeWarning: Columns (4) have mixed types.Specify dtype option on import or set low_memory=False.\n",
      "  has_raised = await self.run_ast_nodes(code_ast.body, cell_name,\n"
     ]
    }
   ],
   "source": [
    "pedidos = pd.read_csv(\"databases/pedidos.csv\")"
   ]
  },
  {
   "cell_type": "code",
   "execution_count": 142,
   "metadata": {},
   "outputs": [
    {
     "data": {
      "text/plain": [
       "(384551, 6)"
      ]
     },
     "execution_count": 142,
     "metadata": {},
     "output_type": "execute_result"
    }
   ],
   "source": [
    "pedidos.shape"
   ]
  },
  {
   "cell_type": "code",
   "execution_count": 143,
   "metadata": {},
   "outputs": [
    {
     "data": {
      "text/html": [
       "<div>\n",
       "<style scoped>\n",
       "    .dataframe tbody tr th:only-of-type {\n",
       "        vertical-align: middle;\n",
       "    }\n",
       "\n",
       "    .dataframe tbody tr th {\n",
       "        vertical-align: top;\n",
       "    }\n",
       "\n",
       "    .dataframe thead th {\n",
       "        text-align: right;\n",
       "    }\n",
       "</style>\n",
       "<table border=\"1\" class=\"dataframe\">\n",
       "  <thead>\n",
       "    <tr style=\"text-align: right;\">\n",
       "      <th></th>\n",
       "      <th>Unnamed: 0</th>\n",
       "      <th>UTE_ID</th>\n",
       "      <th>CENTROA</th>\n",
       "      <th>DCENTRO_AB</th>\n",
       "      <th>FREGUESIA</th>\n",
       "      <th>DFREGUESIA</th>\n",
       "    </tr>\n",
       "  </thead>\n",
       "  <tbody>\n",
       "    <tr>\n",
       "      <th>0</th>\n",
       "      <td>0</td>\n",
       "      <td>4853974</td>\n",
       "      <td>123</td>\n",
       "      <td>CTEF Bragança</td>\n",
       "      <td>040544</td>\n",
       "      <td>U.F. DE TALHINHAS E BAGUEIXE</td>\n",
       "    </tr>\n",
       "    <tr>\n",
       "      <th>1</th>\n",
       "      <td>1</td>\n",
       "      <td>4853974</td>\n",
       "      <td>123</td>\n",
       "      <td>CTEF Bragança</td>\n",
       "      <td>040544</td>\n",
       "      <td>U.F. DE TALHINHAS E BAGUEIXE</td>\n",
       "    </tr>\n",
       "    <tr>\n",
       "      <th>2</th>\n",
       "      <td>2</td>\n",
       "      <td>1102550</td>\n",
       "      <td>123</td>\n",
       "      <td>CTEF Bragança</td>\n",
       "      <td>040544</td>\n",
       "      <td>U.F. DE TALHINHAS E BAGUEIXE</td>\n",
       "    </tr>\n",
       "    <tr>\n",
       "      <th>3</th>\n",
       "      <td>3</td>\n",
       "      <td>1102550</td>\n",
       "      <td>123</td>\n",
       "      <td>CTEF Bragança</td>\n",
       "      <td>040544</td>\n",
       "      <td>U.F. DE TALHINHAS E BAGUEIXE</td>\n",
       "    </tr>\n",
       "    <tr>\n",
       "      <th>4</th>\n",
       "      <td>4</td>\n",
       "      <td>6172405</td>\n",
       "      <td>123</td>\n",
       "      <td>CTEF Bragança</td>\n",
       "      <td>040544</td>\n",
       "      <td>U.F. DE TALHINHAS E BAGUEIXE</td>\n",
       "    </tr>\n",
       "  </tbody>\n",
       "</table>\n",
       "</div>"
      ],
      "text/plain": [
       "   Unnamed: 0   UTE_ID  CENTROA     DCENTRO_AB FREGUESIA  \\\n",
       "0           0  4853974      123  CTEF Bragança    040544   \n",
       "1           1  4853974      123  CTEF Bragança    040544   \n",
       "2           2  1102550      123  CTEF Bragança    040544   \n",
       "3           3  1102550      123  CTEF Bragança    040544   \n",
       "4           4  6172405      123  CTEF Bragança    040544   \n",
       "\n",
       "                     DFREGUESIA  \n",
       "0  U.F. DE TALHINHAS E BAGUEIXE  \n",
       "1  U.F. DE TALHINHAS E BAGUEIXE  \n",
       "2  U.F. DE TALHINHAS E BAGUEIXE  \n",
       "3  U.F. DE TALHINHAS E BAGUEIXE  \n",
       "4  U.F. DE TALHINHAS E BAGUEIXE  "
      ]
     },
     "execution_count": 143,
     "metadata": {},
     "output_type": "execute_result"
    }
   ],
   "source": [
    "pedidos.head()"
   ]
  },
  {
   "cell_type": "markdown",
   "metadata": {},
   "source": [
    "<div style=\"background-color: #2f648a; border-radius: 5px;\">\n",
    "    <center><h1 style=\"color: white; padding: 20px;\">3. Junção das duas bases de dados</h1></center>\n",
    "</div>"
   ]
  },
  {
   "cell_type": "code",
   "execution_count": 144,
   "metadata": {},
   "outputs": [],
   "source": [
    "merged = form.merge(cursos, on=\"UTE_ID\", how=\"inner\")"
   ]
  },
  {
   "cell_type": "code",
   "execution_count": 145,
   "metadata": {},
   "outputs": [
    {
     "data": {
      "text/plain": [
       "(57698, 14)"
      ]
     },
     "execution_count": 145,
     "metadata": {},
     "output_type": "execute_result"
    }
   ],
   "source": [
    "merged.shape"
   ]
  },
  {
   "cell_type": "code",
   "execution_count": 146,
   "metadata": {},
   "outputs": [
    {
     "data": {
      "text/html": [
       "<div>\n",
       "<style scoped>\n",
       "    .dataframe tbody tr th:only-of-type {\n",
       "        vertical-align: middle;\n",
       "    }\n",
       "\n",
       "    .dataframe tbody tr th {\n",
       "        vertical-align: top;\n",
       "    }\n",
       "\n",
       "    .dataframe thead th {\n",
       "        text-align: right;\n",
       "    }\n",
       "</style>\n",
       "<table border=\"1\" class=\"dataframe\">\n",
       "  <thead>\n",
       "    <tr style=\"text-align: right;\">\n",
       "      <th></th>\n",
       "      <th>UTE_ID</th>\n",
       "      <th>CodCEFP</th>\n",
       "      <th>Sexo</th>\n",
       "      <th>IdadeEmAnos</th>\n",
       "      <th>CodHabilitacao</th>\n",
       "      <th>CodNacionalidade</th>\n",
       "      <th>HorasForm</th>\n",
       "      <th>AreaFormacao</th>\n",
       "      <th>NivelFormacaoAccao</th>\n",
       "      <th>CodSaidaProfissional</th>\n",
       "      <th>Sucessos</th>\n",
       "      <th>DuracaoFormacao</th>\n",
       "      <th>F_CCURSO</th>\n",
       "      <th>F_DCURSO</th>\n",
       "    </tr>\n",
       "  </thead>\n",
       "  <tbody>\n",
       "    <tr>\n",
       "      <th>0</th>\n",
       "      <td>24054</td>\n",
       "      <td>201</td>\n",
       "      <td>1</td>\n",
       "      <td>41</td>\n",
       "      <td>12</td>\n",
       "      <td>PT</td>\n",
       "      <td>1504.0</td>\n",
       "      <td>521</td>\n",
       "      <td>5</td>\n",
       "      <td>52174</td>\n",
       "      <td>0</td>\n",
       "      <td>375 days 00:00:00.000000000</td>\n",
       "      <td>62110ZZ</td>\n",
       "      <td>OPERADOR/A AGRÍCOLA (UFCD)</td>\n",
       "    </tr>\n",
       "    <tr>\n",
       "      <th>1</th>\n",
       "      <td>39165</td>\n",
       "      <td>309</td>\n",
       "      <td>0</td>\n",
       "      <td>45</td>\n",
       "      <td>12</td>\n",
       "      <td>PT</td>\n",
       "      <td>1300.0</td>\n",
       "      <td>481</td>\n",
       "      <td>5</td>\n",
       "      <td>4816</td>\n",
       "      <td>0</td>\n",
       "      <td>325 days 00:00:00.000000000</td>\n",
       "      <td>48102ZZ</td>\n",
       "      <td>TÉCNICO/A DE INFORMÁTICA - SISTEMAS</td>\n",
       "    </tr>\n",
       "    <tr>\n",
       "      <th>2</th>\n",
       "      <td>77485</td>\n",
       "      <td>402</td>\n",
       "      <td>0</td>\n",
       "      <td>51</td>\n",
       "      <td>12</td>\n",
       "      <td>PT</td>\n",
       "      <td>211.0</td>\n",
       "      <td>481</td>\n",
       "      <td>5</td>\n",
       "      <td>4817</td>\n",
       "      <td>0</td>\n",
       "      <td>434 days 00:00:00.000000000</td>\n",
       "      <td>48102ZZ</td>\n",
       "      <td>TÉCNICO/A DE INFORMÁTICA - SISTEMAS</td>\n",
       "    </tr>\n",
       "    <tr>\n",
       "      <th>3</th>\n",
       "      <td>347421</td>\n",
       "      <td>204</td>\n",
       "      <td>0</td>\n",
       "      <td>50</td>\n",
       "      <td>12</td>\n",
       "      <td>PT</td>\n",
       "      <td>649.0</td>\n",
       "      <td>523</td>\n",
       "      <td>5</td>\n",
       "      <td>52321</td>\n",
       "      <td>1</td>\n",
       "      <td>351 days 00:00:00.000000000</td>\n",
       "      <td>34401ZZ</td>\n",
       "      <td>TÉCNICO/A DE CONTABILIDADE</td>\n",
       "    </tr>\n",
       "    <tr>\n",
       "      <th>4</th>\n",
       "      <td>397308</td>\n",
       "      <td>206</td>\n",
       "      <td>1</td>\n",
       "      <td>45</td>\n",
       "      <td>12</td>\n",
       "      <td>PT</td>\n",
       "      <td>1011.0</td>\n",
       "      <td>341</td>\n",
       "      <td>5</td>\n",
       "      <td>3419</td>\n",
       "      <td>0</td>\n",
       "      <td>343 days 00:00:00.000000000</td>\n",
       "      <td>34102ZZ</td>\n",
       "      <td>TÉCNICO/A COMERCIAL (UFCD)</td>\n",
       "    </tr>\n",
       "  </tbody>\n",
       "</table>\n",
       "</div>"
      ],
      "text/plain": [
       "   UTE_ID  CodCEFP  Sexo  IdadeEmAnos  CodHabilitacao CodNacionalidade  \\\n",
       "0   24054      201     1           41              12               PT   \n",
       "1   39165      309     0           45              12               PT   \n",
       "2   77485      402     0           51              12               PT   \n",
       "3  347421      204     0           50              12               PT   \n",
       "4  397308      206     1           45              12               PT   \n",
       "\n",
       "   HorasForm  AreaFormacao NivelFormacaoAccao CodSaidaProfissional  Sucessos  \\\n",
       "0     1504.0           521                  5                52174         0   \n",
       "1     1300.0           481                  5                 4816         0   \n",
       "2      211.0           481                  5                 4817         0   \n",
       "3      649.0           523                  5                52321         1   \n",
       "4     1011.0           341                  5                 3419         0   \n",
       "\n",
       "               DuracaoFormacao F_CCURSO                             F_DCURSO  \n",
       "0  375 days 00:00:00.000000000  62110ZZ           OPERADOR/A AGRÍCOLA (UFCD)  \n",
       "1  325 days 00:00:00.000000000  48102ZZ  TÉCNICO/A DE INFORMÁTICA - SISTEMAS  \n",
       "2  434 days 00:00:00.000000000  48102ZZ  TÉCNICO/A DE INFORMÁTICA - SISTEMAS  \n",
       "3  351 days 00:00:00.000000000  34401ZZ           TÉCNICO/A DE CONTABILIDADE  \n",
       "4  343 days 00:00:00.000000000  34102ZZ           TÉCNICO/A COMERCIAL (UFCD)  "
      ]
     },
     "execution_count": 146,
     "metadata": {},
     "output_type": "execute_result"
    }
   ],
   "source": [
    "merged.head()"
   ]
  },
  {
   "cell_type": "markdown",
   "metadata": {},
   "source": [
    "<div style=\"background-color: #2f648a; border-radius: 5px;\">\n",
    "    <center><h1 style=\"color: white; padding: 20px;\">4. Taxa de sucesso por curso</h1></center>\n",
    "</div>"
   ]
  },
  {
   "cell_type": "code",
   "execution_count": 147,
   "metadata": {},
   "outputs": [
    {
     "data": {
      "text/html": [
       "<div>\n",
       "<style scoped>\n",
       "    .dataframe tbody tr th:only-of-type {\n",
       "        vertical-align: middle;\n",
       "    }\n",
       "\n",
       "    .dataframe tbody tr th {\n",
       "        vertical-align: top;\n",
       "    }\n",
       "\n",
       "    .dataframe thead th {\n",
       "        text-align: right;\n",
       "    }\n",
       "</style>\n",
       "<table border=\"1\" class=\"dataframe\">\n",
       "  <thead>\n",
       "    <tr style=\"text-align: right;\">\n",
       "      <th></th>\n",
       "      <th>Count</th>\n",
       "    </tr>\n",
       "    <tr>\n",
       "      <th>F_DCURSO</th>\n",
       "      <th></th>\n",
       "    </tr>\n",
       "  </thead>\n",
       "  <tbody>\n",
       "    <tr>\n",
       "      <th>ARRANJOS FLORAIS E DECORAÇÃO</th>\n",
       "      <td>6</td>\n",
       "    </tr>\n",
       "    <tr>\n",
       "      <th>INTRODUÇÃO AOS CUIDADOS DE BELEZA</th>\n",
       "      <td>58</td>\n",
       "    </tr>\n",
       "    <tr>\n",
       "      <th>LOGÍSTICA - CADEIA DE ABASTECIMENTO (B3) Q+</th>\n",
       "      <td>2</td>\n",
       "    </tr>\n",
       "    <tr>\n",
       "      <th>LÍNGUA ESPANHOLA - ATENDIMENTO E VENDAS</th>\n",
       "      <td>5</td>\n",
       "    </tr>\n",
       "    <tr>\n",
       "      <th>TÉCNICO/A DE BANCA E SEGUROS</th>\n",
       "      <td>12</td>\n",
       "    </tr>\n",
       "    <tr>\n",
       "      <th>...</th>\n",
       "      <td>...</td>\n",
       "    </tr>\n",
       "    <tr>\n",
       "      <th>TÉCNICO/A VITIVINÍCOLA (UFCD)</th>\n",
       "      <td>45</td>\n",
       "    </tr>\n",
       "    <tr>\n",
       "      <th>VENDAS E APOIO AO CLIENTE</th>\n",
       "      <td>10</td>\n",
       "    </tr>\n",
       "    <tr>\n",
       "      <th>VIDREIRO/A</th>\n",
       "      <td>5</td>\n",
       "    </tr>\n",
       "    <tr>\n",
       "      <th>WEB E MULTIMÉDIA</th>\n",
       "      <td>26</td>\n",
       "    </tr>\n",
       "    <tr>\n",
       "      <th>ÉTICA, DEONTOLOGIA E COMUNICAÇÃO EMPRESARIAL</th>\n",
       "      <td>2</td>\n",
       "    </tr>\n",
       "  </tbody>\n",
       "</table>\n",
       "<p>634 rows × 1 columns</p>\n",
       "</div>"
      ],
      "text/plain": [
       "                                              Count\n",
       "F_DCURSO                                           \n",
       " ARRANJOS FLORAIS E DECORAÇÃO                     6\n",
       " INTRODUÇÃO AOS CUIDADOS DE BELEZA               58\n",
       " LOGÍSTICA - CADEIA DE ABASTECIMENTO (B3) Q+      2\n",
       " LÍNGUA ESPANHOLA - ATENDIMENTO E VENDAS          5\n",
       " TÉCNICO/A DE BANCA E SEGUROS                    12\n",
       "...                                             ...\n",
       "TÉCNICO/A VITIVINÍCOLA (UFCD)                    45\n",
       "VENDAS E APOIO AO CLIENTE                        10\n",
       "VIDREIRO/A                                        5\n",
       "WEB E MULTIMÉDIA                                 26\n",
       "ÉTICA, DEONTOLOGIA E COMUNICAÇÃO EMPRESARIAL      2\n",
       "\n",
       "[634 rows x 1 columns]"
      ]
     },
     "execution_count": 147,
     "metadata": {},
     "output_type": "execute_result"
    }
   ],
   "source": [
    "# criar tabela com contagem de cada formação\n",
    "count_form = merged[['F_DCURSO', \"UTE_ID\"]] \\\n",
    "            .groupby(\"F_DCURSO\") \\\n",
    "            .count() \\\n",
    "            .rename(columns = {'UTE_ID': 'Count'})\n",
    "\n",
    "count_form"
   ]
  },
  {
   "cell_type": "code",
   "execution_count": 148,
   "metadata": {},
   "outputs": [
    {
     "data": {
      "text/html": [
       "<div>\n",
       "<style scoped>\n",
       "    .dataframe tbody tr th:only-of-type {\n",
       "        vertical-align: middle;\n",
       "    }\n",
       "\n",
       "    .dataframe tbody tr th {\n",
       "        vertical-align: top;\n",
       "    }\n",
       "\n",
       "    .dataframe thead th {\n",
       "        text-align: right;\n",
       "    }\n",
       "</style>\n",
       "<table border=\"1\" class=\"dataframe\">\n",
       "  <thead>\n",
       "    <tr style=\"text-align: right;\">\n",
       "      <th></th>\n",
       "      <th>Count_succ</th>\n",
       "    </tr>\n",
       "    <tr>\n",
       "      <th>F_DCURSO</th>\n",
       "      <th></th>\n",
       "    </tr>\n",
       "  </thead>\n",
       "  <tbody>\n",
       "    <tr>\n",
       "      <th>ARRANJOS FLORAIS E DECORAÇÃO</th>\n",
       "      <td>1</td>\n",
       "    </tr>\n",
       "    <tr>\n",
       "      <th>INTRODUÇÃO AOS CUIDADOS DE BELEZA</th>\n",
       "      <td>9</td>\n",
       "    </tr>\n",
       "    <tr>\n",
       "      <th>TÉCNICO/A DE BANCA E SEGUROS</th>\n",
       "      <td>1</td>\n",
       "    </tr>\n",
       "    <tr>\n",
       "      <th>TÉCNICO/A DE DISTRIBUIÇÃO\\n (UFCD)</th>\n",
       "      <td>125</td>\n",
       "    </tr>\n",
       "    <tr>\n",
       "      <th>TÉCNICO/A DE INDÚSTRIAS ALIMENTARES (UFCD)</th>\n",
       "      <td>11</td>\n",
       "    </tr>\n",
       "    <tr>\n",
       "      <th>...</th>\n",
       "      <td>...</td>\n",
       "    </tr>\n",
       "    <tr>\n",
       "      <th>TÉCNICO/A INSTALADOR/A DE SISTEMAS TÉRMICOS DE ENERGIAS RENOVÁVEIS</th>\n",
       "      <td>10</td>\n",
       "    </tr>\n",
       "    <tr>\n",
       "      <th>TÉCNICO/A VITIVINÍCOLA (UFCD)</th>\n",
       "      <td>11</td>\n",
       "    </tr>\n",
       "    <tr>\n",
       "      <th>VENDAS E APOIO AO CLIENTE</th>\n",
       "      <td>4</td>\n",
       "    </tr>\n",
       "    <tr>\n",
       "      <th>VIDREIRO/A</th>\n",
       "      <td>2</td>\n",
       "    </tr>\n",
       "    <tr>\n",
       "      <th>WEB E MULTIMÉDIA</th>\n",
       "      <td>2</td>\n",
       "    </tr>\n",
       "  </tbody>\n",
       "</table>\n",
       "<p>460 rows × 1 columns</p>\n",
       "</div>"
      ],
      "text/plain": [
       "                                                    Count_succ\n",
       "F_DCURSO                                                      \n",
       " ARRANJOS FLORAIS E DECORAÇÃO                                1\n",
       " INTRODUÇÃO AOS CUIDADOS DE BELEZA                           9\n",
       " TÉCNICO/A DE BANCA E SEGUROS                                1\n",
       " TÉCNICO/A DE DISTRIBUIÇÃO\\n (UFCD)                        125\n",
       " TÉCNICO/A DE INDÚSTRIAS ALIMENTARES (UFCD)                 11\n",
       "...                                                        ...\n",
       "TÉCNICO/A INSTALADOR/A DE SISTEMAS TÉRMICOS DE ...          10\n",
       "TÉCNICO/A VITIVINÍCOLA (UFCD)                               11\n",
       "VENDAS E APOIO AO CLIENTE                                    4\n",
       "VIDREIRO/A                                                   2\n",
       "WEB E MULTIMÉDIA                                             2\n",
       "\n",
       "[460 rows x 1 columns]"
      ]
     },
     "execution_count": 148,
     "metadata": {},
     "output_type": "execute_result"
    }
   ],
   "source": [
    "# filtrar apenas os casos de sucesso\n",
    "succ = merged[merged[\"Sucessos\"]==1]\n",
    "\n",
    "\n",
    "# criar tabela com contagem de cada formação com outcome <sucesso>\n",
    "count_form_succ = succ[['F_DCURSO', \"UTE_ID\"]] \\\n",
    "            .groupby(\"F_DCURSO\") \\\n",
    "            .count() \\\n",
    "            .rename(columns = {'UTE_ID': 'Count_succ'})\n",
    "\n",
    "count_form_succ"
   ]
  },
  {
   "cell_type": "code",
   "execution_count": 149,
   "metadata": {},
   "outputs": [
    {
     "data": {
      "text/html": [
       "<div>\n",
       "<style scoped>\n",
       "    .dataframe tbody tr th:only-of-type {\n",
       "        vertical-align: middle;\n",
       "    }\n",
       "\n",
       "    .dataframe tbody tr th {\n",
       "        vertical-align: top;\n",
       "    }\n",
       "\n",
       "    .dataframe thead th {\n",
       "        text-align: right;\n",
       "    }\n",
       "</style>\n",
       "<table border=\"1\" class=\"dataframe\">\n",
       "  <thead>\n",
       "    <tr style=\"text-align: right;\">\n",
       "      <th></th>\n",
       "      <th>Count</th>\n",
       "      <th>Count_succ</th>\n",
       "    </tr>\n",
       "    <tr>\n",
       "      <th>F_DCURSO</th>\n",
       "      <th></th>\n",
       "      <th></th>\n",
       "    </tr>\n",
       "  </thead>\n",
       "  <tbody>\n",
       "    <tr>\n",
       "      <th>ARRANJOS FLORAIS E DECORAÇÃO</th>\n",
       "      <td>6</td>\n",
       "      <td>1.0</td>\n",
       "    </tr>\n",
       "    <tr>\n",
       "      <th>INTRODUÇÃO AOS CUIDADOS DE BELEZA</th>\n",
       "      <td>58</td>\n",
       "      <td>9.0</td>\n",
       "    </tr>\n",
       "    <tr>\n",
       "      <th>LOGÍSTICA - CADEIA DE ABASTECIMENTO (B3) Q+</th>\n",
       "      <td>2</td>\n",
       "      <td>0.0</td>\n",
       "    </tr>\n",
       "    <tr>\n",
       "      <th>LÍNGUA ESPANHOLA - ATENDIMENTO E VENDAS</th>\n",
       "      <td>5</td>\n",
       "      <td>0.0</td>\n",
       "    </tr>\n",
       "    <tr>\n",
       "      <th>TÉCNICO/A DE BANCA E SEGUROS</th>\n",
       "      <td>12</td>\n",
       "      <td>1.0</td>\n",
       "    </tr>\n",
       "    <tr>\n",
       "      <th>...</th>\n",
       "      <td>...</td>\n",
       "      <td>...</td>\n",
       "    </tr>\n",
       "    <tr>\n",
       "      <th>TÉCNICO/A VITIVINÍCOLA (UFCD)</th>\n",
       "      <td>45</td>\n",
       "      <td>11.0</td>\n",
       "    </tr>\n",
       "    <tr>\n",
       "      <th>VENDAS E APOIO AO CLIENTE</th>\n",
       "      <td>10</td>\n",
       "      <td>4.0</td>\n",
       "    </tr>\n",
       "    <tr>\n",
       "      <th>VIDREIRO/A</th>\n",
       "      <td>5</td>\n",
       "      <td>2.0</td>\n",
       "    </tr>\n",
       "    <tr>\n",
       "      <th>WEB E MULTIMÉDIA</th>\n",
       "      <td>26</td>\n",
       "      <td>2.0</td>\n",
       "    </tr>\n",
       "    <tr>\n",
       "      <th>ÉTICA, DEONTOLOGIA E COMUNICAÇÃO EMPRESARIAL</th>\n",
       "      <td>2</td>\n",
       "      <td>0.0</td>\n",
       "    </tr>\n",
       "  </tbody>\n",
       "</table>\n",
       "<p>634 rows × 2 columns</p>\n",
       "</div>"
      ],
      "text/plain": [
       "                                              Count  Count_succ\n",
       "F_DCURSO                                                       \n",
       " ARRANJOS FLORAIS E DECORAÇÃO                     6         1.0\n",
       " INTRODUÇÃO AOS CUIDADOS DE BELEZA               58         9.0\n",
       " LOGÍSTICA - CADEIA DE ABASTECIMENTO (B3) Q+      2         0.0\n",
       " LÍNGUA ESPANHOLA - ATENDIMENTO E VENDAS          5         0.0\n",
       " TÉCNICO/A DE BANCA E SEGUROS                    12         1.0\n",
       "...                                             ...         ...\n",
       "TÉCNICO/A VITIVINÍCOLA (UFCD)                    45        11.0\n",
       "VENDAS E APOIO AO CLIENTE                        10         4.0\n",
       "VIDREIRO/A                                        5         2.0\n",
       "WEB E MULTIMÉDIA                                 26         2.0\n",
       "ÉTICA, DEONTOLOGIA E COMUNICAÇÃO EMPRESARIAL      2         0.0\n",
       "\n",
       "[634 rows x 2 columns]"
      ]
     },
     "execution_count": 149,
     "metadata": {},
     "output_type": "execute_result"
    }
   ],
   "source": [
    "# merge both dataframe based on F_CCURSO\n",
    "merge_count = count_form.merge(count_form_succ, on=\"F_DCURSO\", how=\"left\")\n",
    "\n",
    "# change NAN to zeros\n",
    "merge_count[\"Count_succ\"] = merge_count[\"Count_succ\"].fillna(0)\n",
    "merge_count"
   ]
  },
  {
   "cell_type": "code",
   "execution_count": 150,
   "metadata": {},
   "outputs": [
    {
     "data": {
      "text/html": [
       "<div>\n",
       "<style scoped>\n",
       "    .dataframe tbody tr th:only-of-type {\n",
       "        vertical-align: middle;\n",
       "    }\n",
       "\n",
       "    .dataframe tbody tr th {\n",
       "        vertical-align: top;\n",
       "    }\n",
       "\n",
       "    .dataframe thead th {\n",
       "        text-align: right;\n",
       "    }\n",
       "</style>\n",
       "<table border=\"1\" class=\"dataframe\">\n",
       "  <thead>\n",
       "    <tr style=\"text-align: right;\">\n",
       "      <th></th>\n",
       "      <th>Count</th>\n",
       "      <th>Count_succ</th>\n",
       "      <th>succ_rate</th>\n",
       "    </tr>\n",
       "    <tr>\n",
       "      <th>F_DCURSO</th>\n",
       "      <th></th>\n",
       "      <th></th>\n",
       "      <th></th>\n",
       "    </tr>\n",
       "  </thead>\n",
       "  <tbody>\n",
       "    <tr>\n",
       "      <th>ARRANJOS FLORAIS E DECORAÇÃO</th>\n",
       "      <td>6</td>\n",
       "      <td>1.0</td>\n",
       "      <td>0.166667</td>\n",
       "    </tr>\n",
       "    <tr>\n",
       "      <th>INTRODUÇÃO AOS CUIDADOS DE BELEZA</th>\n",
       "      <td>58</td>\n",
       "      <td>9.0</td>\n",
       "      <td>0.155172</td>\n",
       "    </tr>\n",
       "    <tr>\n",
       "      <th>LOGÍSTICA - CADEIA DE ABASTECIMENTO (B3) Q+</th>\n",
       "      <td>2</td>\n",
       "      <td>0.0</td>\n",
       "      <td>0.000000</td>\n",
       "    </tr>\n",
       "    <tr>\n",
       "      <th>LÍNGUA ESPANHOLA - ATENDIMENTO E VENDAS</th>\n",
       "      <td>5</td>\n",
       "      <td>0.0</td>\n",
       "      <td>0.000000</td>\n",
       "    </tr>\n",
       "    <tr>\n",
       "      <th>TÉCNICO/A DE BANCA E SEGUROS</th>\n",
       "      <td>12</td>\n",
       "      <td>1.0</td>\n",
       "      <td>0.083333</td>\n",
       "    </tr>\n",
       "    <tr>\n",
       "      <th>...</th>\n",
       "      <td>...</td>\n",
       "      <td>...</td>\n",
       "      <td>...</td>\n",
       "    </tr>\n",
       "    <tr>\n",
       "      <th>TÉCNICO/A VITIVINÍCOLA (UFCD)</th>\n",
       "      <td>45</td>\n",
       "      <td>11.0</td>\n",
       "      <td>0.244444</td>\n",
       "    </tr>\n",
       "    <tr>\n",
       "      <th>VENDAS E APOIO AO CLIENTE</th>\n",
       "      <td>10</td>\n",
       "      <td>4.0</td>\n",
       "      <td>0.400000</td>\n",
       "    </tr>\n",
       "    <tr>\n",
       "      <th>VIDREIRO/A</th>\n",
       "      <td>5</td>\n",
       "      <td>2.0</td>\n",
       "      <td>0.400000</td>\n",
       "    </tr>\n",
       "    <tr>\n",
       "      <th>WEB E MULTIMÉDIA</th>\n",
       "      <td>26</td>\n",
       "      <td>2.0</td>\n",
       "      <td>0.076923</td>\n",
       "    </tr>\n",
       "    <tr>\n",
       "      <th>ÉTICA, DEONTOLOGIA E COMUNICAÇÃO EMPRESARIAL</th>\n",
       "      <td>2</td>\n",
       "      <td>0.0</td>\n",
       "      <td>0.000000</td>\n",
       "    </tr>\n",
       "  </tbody>\n",
       "</table>\n",
       "<p>634 rows × 3 columns</p>\n",
       "</div>"
      ],
      "text/plain": [
       "                                              Count  Count_succ  succ_rate\n",
       "F_DCURSO                                                                  \n",
       " ARRANJOS FLORAIS E DECORAÇÃO                     6         1.0   0.166667\n",
       " INTRODUÇÃO AOS CUIDADOS DE BELEZA               58         9.0   0.155172\n",
       " LOGÍSTICA - CADEIA DE ABASTECIMENTO (B3) Q+      2         0.0   0.000000\n",
       " LÍNGUA ESPANHOLA - ATENDIMENTO E VENDAS          5         0.0   0.000000\n",
       " TÉCNICO/A DE BANCA E SEGUROS                    12         1.0   0.083333\n",
       "...                                             ...         ...        ...\n",
       "TÉCNICO/A VITIVINÍCOLA (UFCD)                    45        11.0   0.244444\n",
       "VENDAS E APOIO AO CLIENTE                        10         4.0   0.400000\n",
       "VIDREIRO/A                                        5         2.0   0.400000\n",
       "WEB E MULTIMÉDIA                                 26         2.0   0.076923\n",
       "ÉTICA, DEONTOLOGIA E COMUNICAÇÃO EMPRESARIAL      2         0.0   0.000000\n",
       "\n",
       "[634 rows x 3 columns]"
      ]
     },
     "execution_count": 150,
     "metadata": {},
     "output_type": "execute_result"
    }
   ],
   "source": [
    "# criar uma variável para guardar a taxa de sucesso de cada curso após a sua conclusão\n",
    "merge_count[\"succ_rate\"] = merge_count[\"Count_succ\"] / merge_count[\"Count\"]\n",
    "merge_count"
   ]
  },
  {
   "cell_type": "markdown",
   "metadata": {},
   "source": [
    "<div style=\"background-color: #2f648a; border-radius: 5px;\">\n",
    "    <center><h1 style=\"color: white; padding: 20px;\">5. Recommender System</h1></center>\n",
    "</div>"
   ]
  },
  {
   "cell_type": "code",
   "execution_count": 151,
   "metadata": {},
   "outputs": [],
   "source": [
    "# input utilizador\n",
    "\n",
    "# descrição do utente\n",
    "sexo = 1\n",
    "idade = 30\n",
    "hab = 12\n",
    "\n",
    "# descrição do curso pretendido\n",
    "horas = 500\n",
    "centro = 309\n",
    "area = 481"
   ]
  },
  {
   "cell_type": "code",
   "execution_count": 152,
   "metadata": {},
   "outputs": [
    {
     "data": {
      "text/plain": [
       "(57698, 14)"
      ]
     },
     "execution_count": 152,
     "metadata": {},
     "output_type": "execute_result"
    }
   ],
   "source": [
    "merged.shape"
   ]
  },
  {
   "cell_type": "code",
   "execution_count": 153,
   "metadata": {},
   "outputs": [],
   "source": [
    "# aplicar filtros relativos ao sexo do utente\n",
    "semelhantes = merged[merged[\"Sexo\"]==sexo]"
   ]
  },
  {
   "cell_type": "code",
   "execution_count": 154,
   "metadata": {},
   "outputs": [
    {
     "data": {
      "text/plain": [
       "(42180, 14)"
      ]
     },
     "execution_count": 154,
     "metadata": {},
     "output_type": "execute_result"
    }
   ],
   "source": [
    "semelhantes.shape"
   ]
  },
  {
   "cell_type": "code",
   "execution_count": 155,
   "metadata": {},
   "outputs": [],
   "source": [
    "# criação de duas variáveis relativas à idade minima e máxima na qual vamos basear o filtro \n",
    "scale = semelhantes[\"IdadeEmAnos\"].max() - semelhantes[\"IdadeEmAnos\"].min()\n",
    "\n",
    "proportion = 0.15\n",
    "\n",
    "min_age = idade - scale * 0.15\n",
    "max_age = idade + scale * 0.15\n",
    "\n",
    "# aplicar filtros relativos à idade do utente\n",
    "semelhantes = semelhantes[(semelhantes[\"IdadeEmAnos\"] > min_age) & (semelhantes[\"IdadeEmAnos\"] < max_age)]"
   ]
  },
  {
   "cell_type": "code",
   "execution_count": 156,
   "metadata": {},
   "outputs": [
    {
     "data": {
      "text/plain": [
       "(12442, 14)"
      ]
     },
     "execution_count": 156,
     "metadata": {},
     "output_type": "execute_result"
    }
   ],
   "source": [
    "semelhantes.shape"
   ]
  },
  {
   "cell_type": "code",
   "execution_count": 157,
   "metadata": {},
   "outputs": [],
   "source": [
    "# criação de duas variáveis relativas ao tempo minimo e máximo em horas da formação.\n",
    "scale = semelhantes[\"HorasForm\"].max() - semelhantes[\"HorasForm\"].min()\n",
    "\n",
    "proportion = 0.10\n",
    "\n",
    "min_hours = idade - scale * 0.15\n",
    "max_hours = idade + scale * 0.15\n",
    "\n",
    "# aplicar filtros relativos à idade do utente\n",
    "semelhantes = semelhantes[(semelhantes[\"HorasForm\"] > min_hours) & (semelhantes[\"HorasForm\"] < max_hours)]"
   ]
  },
  {
   "cell_type": "code",
   "execution_count": 158,
   "metadata": {},
   "outputs": [
    {
     "data": {
      "text/plain": [
       "(11117, 14)"
      ]
     },
     "execution_count": 158,
     "metadata": {},
     "output_type": "execute_result"
    }
   ],
   "source": [
    "semelhantes.shape"
   ]
  },
  {
   "cell_type": "code",
   "execution_count": 159,
   "metadata": {},
   "outputs": [],
   "source": [
    "# aplicar filtros relativos ao sexo do utente\n",
    "semelhantes = semelhantes[semelhantes[\"CodCEFP\"]==centro]"
   ]
  },
  {
   "cell_type": "code",
   "execution_count": 160,
   "metadata": {},
   "outputs": [
    {
     "data": {
      "text/plain": [
       "(82, 14)"
      ]
     },
     "execution_count": 160,
     "metadata": {},
     "output_type": "execute_result"
    }
   ],
   "source": [
    "semelhantes.shape"
   ]
  },
  {
   "cell_type": "code",
   "execution_count": 161,
   "metadata": {},
   "outputs": [],
   "source": [
    "# aplicar filtros relativos à AreaFormacao do utente\n",
    "semelhantes = semelhantes[semelhantes[\"AreaFormacao\"]==area]"
   ]
  },
  {
   "cell_type": "code",
   "execution_count": 162,
   "metadata": {},
   "outputs": [
    {
     "data": {
      "text/plain": [
       "(4, 14)"
      ]
     },
     "execution_count": 162,
     "metadata": {},
     "output_type": "execute_result"
    }
   ],
   "source": [
    "semelhantes.shape"
   ]
  },
  {
   "cell_type": "markdown",
   "metadata": {},
   "source": [
    "<div style=\"background-color: #2f648a; border-radius: 5px;\">\n",
    "    <center><h1 style=\"color: white; padding: 20px;\">6. Output</h1></center>\n",
    "</div>"
   ]
  },
  {
   "cell_type": "code",
   "execution_count": 163,
   "metadata": {},
   "outputs": [
    {
     "data": {
      "text/plain": [
       "ASSISTENTE ADMINISTRATIVO/A    2\n",
       "OPERADOR/A DE INFORMÁTICA      2\n",
       "Name: F_DCURSO, dtype: int64"
      ]
     },
     "execution_count": 163,
     "metadata": {},
     "output_type": "execute_result"
    }
   ],
   "source": [
    "semelhantes[\"F_DCURSO\"].value_counts()"
   ]
  },
  {
   "cell_type": "code",
   "execution_count": null,
   "metadata": {},
   "outputs": [],
   "source": []
  }
 ],
 "metadata": {
  "kernelspec": {
   "display_name": "Python 3",
   "language": "python",
   "name": "python3"
  },
  "language_info": {
   "codemirror_mode": {
    "name": "ipython",
    "version": 3
   },
   "file_extension": ".py",
   "mimetype": "text/x-python",
   "name": "python",
   "nbconvert_exporter": "python",
   "pygments_lexer": "ipython3",
   "version": "3.8.3"
  }
 },
 "nbformat": 4,
 "nbformat_minor": 4
}
