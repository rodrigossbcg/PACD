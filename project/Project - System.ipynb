{
 "cells": [
  {
   "cell_type": "markdown",
   "metadata": {},
   "source": [
    "<img src=\"images/intro.jpeg\">"
   ]
  },
  {
   "cell_type": "markdown",
   "metadata": {},
   "source": [
    "# Project - Tentativa"
   ]
  },
  {
   "cell_type": "markdown",
   "metadata": {},
   "source": [
    "<div style=\"background-color: #2f648a; border-radius: 5px;\"> \n",
    "    <center><h1 style=\"color: white; padding: 20px;\">1. Imports</h1></center>\n",
    "</div>"
   ]
  },
  {
   "cell_type": "code",
   "execution_count": 1,
   "metadata": {},
   "outputs": [],
   "source": [
    "import pandas as pd\n",
    "from pandas import ExcelWriter\n",
    "from pandas import ExcelFile\n",
    "from datetime import datetime\n",
    "import seaborn as sn\n",
    "from matplotlib import pyplot as plt"
   ]
  },
  {
   "cell_type": "markdown",
   "metadata": {},
   "source": [
    "<div style=\"background-color: #2f648a; border-radius: 5px;\"> \n",
    "    <center><h1 style=\"color: white; padding: 20px;\">2. Read files </h1></center>\n",
    "</div>"
   ]
  },
  {
   "cell_type": "markdown",
   "metadata": {},
   "source": [
    "<div style=\"border: solid 4px #2f648a; border-radius: 5px;\"> \n",
    "    <center><h3 style=\"color: #2f648a; padding: 10px;\">2.1 Leitura da bases de dados dos formandos</h3></center>\n",
    "</div>"
   ]
  },
  {
   "cell_type": "code",
   "execution_count": 2,
   "metadata": {},
   "outputs": [
    {
     "name": "stderr",
     "output_type": "stream",
     "text": [
      "C:\\Users\\sarro\\anaconda3\\lib\\site-packages\\IPython\\core\\interactiveshell.py:3071: DtypeWarning: Columns (10) have mixed types.Specify dtype option on import or set low_memory=False.\n",
      "  has_raised = await self.run_ast_nodes(code_ast.body, cell_name,\n"
     ]
    }
   ],
   "source": [
    "form = pd.read_csv(\"databases/formandos_limpo.csv\")"
   ]
  },
  {
   "cell_type": "code",
   "execution_count": 3,
   "metadata": {},
   "outputs": [],
   "source": [
    "# delete column produced by the csv\n",
    "del form['Unnamed: 0']"
   ]
  },
  {
   "cell_type": "code",
   "execution_count": 4,
   "metadata": {},
   "outputs": [
    {
     "data": {
      "text/plain": [
       "(72343, 12)"
      ]
     },
     "execution_count": 4,
     "metadata": {},
     "output_type": "execute_result"
    }
   ],
   "source": [
    "form.shape"
   ]
  },
  {
   "cell_type": "code",
   "execution_count": 6,
   "metadata": {},
   "outputs": [
    {
     "data": {
      "text/html": [
       "<div>\n",
       "<style scoped>\n",
       "    .dataframe tbody tr th:only-of-type {\n",
       "        vertical-align: middle;\n",
       "    }\n",
       "\n",
       "    .dataframe tbody tr th {\n",
       "        vertical-align: top;\n",
       "    }\n",
       "\n",
       "    .dataframe thead th {\n",
       "        text-align: right;\n",
       "    }\n",
       "</style>\n",
       "<table border=\"1\" class=\"dataframe\">\n",
       "  <thead>\n",
       "    <tr style=\"text-align: right;\">\n",
       "      <th></th>\n",
       "      <th>UTE_ID</th>\n",
       "      <th>CodCEFP</th>\n",
       "      <th>Sexo</th>\n",
       "      <th>IdadeEmAnos</th>\n",
       "      <th>CodHabilitacao</th>\n",
       "      <th>CodNacionalidade</th>\n",
       "      <th>HorasForm</th>\n",
       "      <th>AreaFormacao</th>\n",
       "      <th>NivelFormacaoAccao</th>\n",
       "      <th>CodSaidaProfissional</th>\n",
       "      <th>Sucessos</th>\n",
       "      <th>DuracaoFormacao</th>\n",
       "    </tr>\n",
       "  </thead>\n",
       "  <tbody>\n",
       "    <tr>\n",
       "      <th>0</th>\n",
       "      <td>24054</td>\n",
       "      <td>201</td>\n",
       "      <td>1</td>\n",
       "      <td>41</td>\n",
       "      <td>12</td>\n",
       "      <td>PT</td>\n",
       "      <td>1504.0</td>\n",
       "      <td>521</td>\n",
       "      <td>5</td>\n",
       "      <td>52174</td>\n",
       "      <td>0</td>\n",
       "      <td>375 days 00:00:00.000000000</td>\n",
       "    </tr>\n",
       "    <tr>\n",
       "      <th>1</th>\n",
       "      <td>39165</td>\n",
       "      <td>309</td>\n",
       "      <td>0</td>\n",
       "      <td>45</td>\n",
       "      <td>12</td>\n",
       "      <td>PT</td>\n",
       "      <td>1300.0</td>\n",
       "      <td>481</td>\n",
       "      <td>5</td>\n",
       "      <td>4816</td>\n",
       "      <td>0</td>\n",
       "      <td>325 days 00:00:00.000000000</td>\n",
       "    </tr>\n",
       "    <tr>\n",
       "      <th>2</th>\n",
       "      <td>77485</td>\n",
       "      <td>402</td>\n",
       "      <td>0</td>\n",
       "      <td>51</td>\n",
       "      <td>12</td>\n",
       "      <td>PT</td>\n",
       "      <td>211.0</td>\n",
       "      <td>481</td>\n",
       "      <td>5</td>\n",
       "      <td>4817</td>\n",
       "      <td>0</td>\n",
       "      <td>434 days 00:00:00.000000000</td>\n",
       "    </tr>\n",
       "    <tr>\n",
       "      <th>3</th>\n",
       "      <td>145884</td>\n",
       "      <td>501</td>\n",
       "      <td>0</td>\n",
       "      <td>53</td>\n",
       "      <td>12</td>\n",
       "      <td>PT</td>\n",
       "      <td>465.0</td>\n",
       "      <td>812</td>\n",
       "      <td>5</td>\n",
       "      <td>8126</td>\n",
       "      <td>0</td>\n",
       "      <td>382 days 00:00:00.000000000</td>\n",
       "    </tr>\n",
       "    <tr>\n",
       "      <th>4</th>\n",
       "      <td>155241</td>\n",
       "      <td>501</td>\n",
       "      <td>1</td>\n",
       "      <td>51</td>\n",
       "      <td>12</td>\n",
       "      <td>PT</td>\n",
       "      <td>447.0</td>\n",
       "      <td>812</td>\n",
       "      <td>5</td>\n",
       "      <td>8126</td>\n",
       "      <td>1</td>\n",
       "      <td>382 days 00:00:00.000000000</td>\n",
       "    </tr>\n",
       "  </tbody>\n",
       "</table>\n",
       "</div>"
      ],
      "text/plain": [
       "   UTE_ID  CodCEFP  Sexo  IdadeEmAnos  CodHabilitacao CodNacionalidade  \\\n",
       "0   24054      201     1           41              12               PT   \n",
       "1   39165      309     0           45              12               PT   \n",
       "2   77485      402     0           51              12               PT   \n",
       "3  145884      501     0           53              12               PT   \n",
       "4  155241      501     1           51              12               PT   \n",
       "\n",
       "   HorasForm  AreaFormacao NivelFormacaoAccao CodSaidaProfissional  Sucessos  \\\n",
       "0     1504.0           521                  5                52174         0   \n",
       "1     1300.0           481                  5                 4816         0   \n",
       "2      211.0           481                  5                 4817         0   \n",
       "3      465.0           812                  5                 8126         0   \n",
       "4      447.0           812                  5                 8126         1   \n",
       "\n",
       "               DuracaoFormacao  \n",
       "0  375 days 00:00:00.000000000  \n",
       "1  325 days 00:00:00.000000000  \n",
       "2  434 days 00:00:00.000000000  \n",
       "3  382 days 00:00:00.000000000  \n",
       "4  382 days 00:00:00.000000000  "
      ]
     },
     "execution_count": 6,
     "metadata": {},
     "output_type": "execute_result"
    }
   ],
   "source": [
    "form.head()"
   ]
  },
  {
   "cell_type": "markdown",
   "metadata": {},
   "source": [
    "<div style=\"border: solid 4px #2f648a; border-radius: 5px;\"> \n",
    "    <center><h3 style=\"color: #2f648a; padding: 10px;\">2.2 Leitura da bases de dados dos cursos</h3></center>\n",
    "</div>"
   ]
  },
  {
   "cell_type": "code",
   "execution_count": 7,
   "metadata": {},
   "outputs": [],
   "source": [
    "cursos = pd.read_csv(\"databases/cursos.csv\")"
   ]
  },
  {
   "cell_type": "code",
   "execution_count": 8,
   "metadata": {},
   "outputs": [],
   "source": [
    "# delete column produced by the csv\n",
    "del cursos['Unnamed: 0']"
   ]
  },
  {
   "cell_type": "code",
   "execution_count": 9,
   "metadata": {},
   "outputs": [
    {
     "data": {
      "text/plain": [
       "(162195, 3)"
      ]
     },
     "execution_count": 9,
     "metadata": {},
     "output_type": "execute_result"
    }
   ],
   "source": [
    "cursos.shape"
   ]
  },
  {
   "cell_type": "code",
   "execution_count": 10,
   "metadata": {},
   "outputs": [
    {
     "data": {
      "text/html": [
       "<div>\n",
       "<style scoped>\n",
       "    .dataframe tbody tr th:only-of-type {\n",
       "        vertical-align: middle;\n",
       "    }\n",
       "\n",
       "    .dataframe tbody tr th {\n",
       "        vertical-align: top;\n",
       "    }\n",
       "\n",
       "    .dataframe thead th {\n",
       "        text-align: right;\n",
       "    }\n",
       "</style>\n",
       "<table border=\"1\" class=\"dataframe\">\n",
       "  <thead>\n",
       "    <tr style=\"text-align: right;\">\n",
       "      <th></th>\n",
       "      <th>UTE_ID</th>\n",
       "      <th>F_CCURSO</th>\n",
       "      <th>F_DCURSO</th>\n",
       "    </tr>\n",
       "  </thead>\n",
       "  <tbody>\n",
       "    <tr>\n",
       "      <th>0</th>\n",
       "      <td>5963829</td>\n",
       "      <td>FM089AC</td>\n",
       "      <td>COMUNICAÇÃO ASSERTIVA E TÉCNICAS DE PROCURA DE...</td>\n",
       "    </tr>\n",
       "    <tr>\n",
       "      <th>1</th>\n",
       "      <td>4320275</td>\n",
       "      <td>811141A</td>\n",
       "      <td>TÉCNICO/A DE RESTAURANTE/BAR</td>\n",
       "    </tr>\n",
       "    <tr>\n",
       "      <th>2</th>\n",
       "      <td>5124212</td>\n",
       "      <td>81114ZZ</td>\n",
       "      <td>TÉCNICO/A DE RESTAURANTE/BAR (UFCD)</td>\n",
       "    </tr>\n",
       "    <tr>\n",
       "      <th>3</th>\n",
       "      <td>4787421</td>\n",
       "      <td>81205ZZ</td>\n",
       "      <td>TURISMO AMBIENTAL E RURAL</td>\n",
       "    </tr>\n",
       "    <tr>\n",
       "      <th>4</th>\n",
       "      <td>5522037</td>\n",
       "      <td>FM089AC</td>\n",
       "      <td>COMUNICAÇÃO ASSERTIVA E TÉCNICAS DE PROCURA DE...</td>\n",
       "    </tr>\n",
       "  </tbody>\n",
       "</table>\n",
       "</div>"
      ],
      "text/plain": [
       "    UTE_ID F_CCURSO                                           F_DCURSO\n",
       "0  5963829  FM089AC  COMUNICAÇÃO ASSERTIVA E TÉCNICAS DE PROCURA DE...\n",
       "1  4320275  811141A                       TÉCNICO/A DE RESTAURANTE/BAR\n",
       "2  5124212  81114ZZ                TÉCNICO/A DE RESTAURANTE/BAR (UFCD)\n",
       "3  4787421  81205ZZ                          TURISMO AMBIENTAL E RURAL\n",
       "4  5522037  FM089AC  COMUNICAÇÃO ASSERTIVA E TÉCNICAS DE PROCURA DE..."
      ]
     },
     "execution_count": 10,
     "metadata": {},
     "output_type": "execute_result"
    }
   ],
   "source": [
    "cursos.head()"
   ]
  },
  {
   "cell_type": "markdown",
   "metadata": {},
   "source": [
    "<div style=\"border: solid 4px #2f648a; border-radius: 5px;\"> \n",
    "    <center><h3 style=\"color: #2f648a; padding: 10px;\">2.3 Leitura da bases de dados dos pedidos</h3></center>\n",
    "</div>"
   ]
  },
  {
   "cell_type": "code",
   "execution_count": 11,
   "metadata": {},
   "outputs": [
    {
     "name": "stderr",
     "output_type": "stream",
     "text": [
      "C:\\Users\\sarro\\anaconda3\\lib\\site-packages\\IPython\\core\\interactiveshell.py:3071: DtypeWarning: Columns (4) have mixed types.Specify dtype option on import or set low_memory=False.\n",
      "  has_raised = await self.run_ast_nodes(code_ast.body, cell_name,\n"
     ]
    }
   ],
   "source": [
    "pedidos = pd.read_csv(\"databases/pedidos.csv\")"
   ]
  },
  {
   "cell_type": "code",
   "execution_count": 12,
   "metadata": {},
   "outputs": [
    {
     "data": {
      "text/plain": [
       "(384551, 6)"
      ]
     },
     "execution_count": 12,
     "metadata": {},
     "output_type": "execute_result"
    }
   ],
   "source": [
    "pedidos.shape"
   ]
  },
  {
   "cell_type": "code",
   "execution_count": 13,
   "metadata": {},
   "outputs": [
    {
     "data": {
      "text/html": [
       "<div>\n",
       "<style scoped>\n",
       "    .dataframe tbody tr th:only-of-type {\n",
       "        vertical-align: middle;\n",
       "    }\n",
       "\n",
       "    .dataframe tbody tr th {\n",
       "        vertical-align: top;\n",
       "    }\n",
       "\n",
       "    .dataframe thead th {\n",
       "        text-align: right;\n",
       "    }\n",
       "</style>\n",
       "<table border=\"1\" class=\"dataframe\">\n",
       "  <thead>\n",
       "    <tr style=\"text-align: right;\">\n",
       "      <th></th>\n",
       "      <th>Unnamed: 0</th>\n",
       "      <th>UTE_ID</th>\n",
       "      <th>CENTROA</th>\n",
       "      <th>DCENTRO_AB</th>\n",
       "      <th>FREGUESIA</th>\n",
       "      <th>DFREGUESIA</th>\n",
       "    </tr>\n",
       "  </thead>\n",
       "  <tbody>\n",
       "    <tr>\n",
       "      <th>0</th>\n",
       "      <td>0</td>\n",
       "      <td>4853974</td>\n",
       "      <td>123</td>\n",
       "      <td>CTEF Bragança</td>\n",
       "      <td>040544</td>\n",
       "      <td>U.F. DE TALHINHAS E BAGUEIXE</td>\n",
       "    </tr>\n",
       "    <tr>\n",
       "      <th>1</th>\n",
       "      <td>1</td>\n",
       "      <td>4853974</td>\n",
       "      <td>123</td>\n",
       "      <td>CTEF Bragança</td>\n",
       "      <td>040544</td>\n",
       "      <td>U.F. DE TALHINHAS E BAGUEIXE</td>\n",
       "    </tr>\n",
       "    <tr>\n",
       "      <th>2</th>\n",
       "      <td>2</td>\n",
       "      <td>1102550</td>\n",
       "      <td>123</td>\n",
       "      <td>CTEF Bragança</td>\n",
       "      <td>040544</td>\n",
       "      <td>U.F. DE TALHINHAS E BAGUEIXE</td>\n",
       "    </tr>\n",
       "    <tr>\n",
       "      <th>3</th>\n",
       "      <td>3</td>\n",
       "      <td>1102550</td>\n",
       "      <td>123</td>\n",
       "      <td>CTEF Bragança</td>\n",
       "      <td>040544</td>\n",
       "      <td>U.F. DE TALHINHAS E BAGUEIXE</td>\n",
       "    </tr>\n",
       "    <tr>\n",
       "      <th>4</th>\n",
       "      <td>4</td>\n",
       "      <td>6172405</td>\n",
       "      <td>123</td>\n",
       "      <td>CTEF Bragança</td>\n",
       "      <td>040544</td>\n",
       "      <td>U.F. DE TALHINHAS E BAGUEIXE</td>\n",
       "    </tr>\n",
       "  </tbody>\n",
       "</table>\n",
       "</div>"
      ],
      "text/plain": [
       "   Unnamed: 0   UTE_ID  CENTROA     DCENTRO_AB FREGUESIA  \\\n",
       "0           0  4853974      123  CTEF Bragança    040544   \n",
       "1           1  4853974      123  CTEF Bragança    040544   \n",
       "2           2  1102550      123  CTEF Bragança    040544   \n",
       "3           3  1102550      123  CTEF Bragança    040544   \n",
       "4           4  6172405      123  CTEF Bragança    040544   \n",
       "\n",
       "                     DFREGUESIA  \n",
       "0  U.F. DE TALHINHAS E BAGUEIXE  \n",
       "1  U.F. DE TALHINHAS E BAGUEIXE  \n",
       "2  U.F. DE TALHINHAS E BAGUEIXE  \n",
       "3  U.F. DE TALHINHAS E BAGUEIXE  \n",
       "4  U.F. DE TALHINHAS E BAGUEIXE  "
      ]
     },
     "execution_count": 13,
     "metadata": {},
     "output_type": "execute_result"
    }
   ],
   "source": [
    "pedidos.head()"
   ]
  },
  {
   "cell_type": "markdown",
   "metadata": {},
   "source": [
    "<div style=\"background-color: #2f648a; border-radius: 5px;\">\n",
    "    <center><h1 style=\"color: white; padding: 20px;\">3. Junção das duas bases de dados</h1></center>\n",
    "</div>"
   ]
  },
  {
   "cell_type": "code",
   "execution_count": 14,
   "metadata": {},
   "outputs": [],
   "source": [
    "merged = form.merge(cursos, on=\"UTE_ID\", how=\"inner\")"
   ]
  },
  {
   "cell_type": "code",
   "execution_count": 15,
   "metadata": {},
   "outputs": [
    {
     "data": {
      "text/plain": [
       "(113359, 14)"
      ]
     },
     "execution_count": 15,
     "metadata": {},
     "output_type": "execute_result"
    }
   ],
   "source": [
    "merged.shape"
   ]
  },
  {
   "cell_type": "code",
   "execution_count": 16,
   "metadata": {},
   "outputs": [
    {
     "data": {
      "text/html": [
       "<div>\n",
       "<style scoped>\n",
       "    .dataframe tbody tr th:only-of-type {\n",
       "        vertical-align: middle;\n",
       "    }\n",
       "\n",
       "    .dataframe tbody tr th {\n",
       "        vertical-align: top;\n",
       "    }\n",
       "\n",
       "    .dataframe thead th {\n",
       "        text-align: right;\n",
       "    }\n",
       "</style>\n",
       "<table border=\"1\" class=\"dataframe\">\n",
       "  <thead>\n",
       "    <tr style=\"text-align: right;\">\n",
       "      <th></th>\n",
       "      <th>UTE_ID</th>\n",
       "      <th>CodCEFP</th>\n",
       "      <th>Sexo</th>\n",
       "      <th>IdadeEmAnos</th>\n",
       "      <th>CodHabilitacao</th>\n",
       "      <th>CodNacionalidade</th>\n",
       "      <th>HorasForm</th>\n",
       "      <th>AreaFormacao</th>\n",
       "      <th>NivelFormacaoAccao</th>\n",
       "      <th>CodSaidaProfissional</th>\n",
       "      <th>Sucessos</th>\n",
       "      <th>DuracaoFormacao</th>\n",
       "      <th>F_CCURSO</th>\n",
       "      <th>F_DCURSO</th>\n",
       "    </tr>\n",
       "  </thead>\n",
       "  <tbody>\n",
       "    <tr>\n",
       "      <th>0</th>\n",
       "      <td>24054</td>\n",
       "      <td>201</td>\n",
       "      <td>1</td>\n",
       "      <td>41</td>\n",
       "      <td>12</td>\n",
       "      <td>PT</td>\n",
       "      <td>1504.0</td>\n",
       "      <td>521</td>\n",
       "      <td>5</td>\n",
       "      <td>52174</td>\n",
       "      <td>0</td>\n",
       "      <td>375 days 00:00:00.000000000</td>\n",
       "      <td>62110ZZ</td>\n",
       "      <td>OPERADOR/A AGRÍCOLA (UFCD)</td>\n",
       "    </tr>\n",
       "    <tr>\n",
       "      <th>1</th>\n",
       "      <td>24054</td>\n",
       "      <td>201</td>\n",
       "      <td>1</td>\n",
       "      <td>41</td>\n",
       "      <td>12</td>\n",
       "      <td>PT</td>\n",
       "      <td>1504.0</td>\n",
       "      <td>521</td>\n",
       "      <td>5</td>\n",
       "      <td>52174</td>\n",
       "      <td>0</td>\n",
       "      <td>375 days 00:00:00.000000000</td>\n",
       "      <td>521641E</td>\n",
       "      <td>TÉCNICO/A ESPECIALISTA EM TECNOLOGIA MECATRÓNICA</td>\n",
       "    </tr>\n",
       "    <tr>\n",
       "      <th>2</th>\n",
       "      <td>39165</td>\n",
       "      <td>309</td>\n",
       "      <td>0</td>\n",
       "      <td>45</td>\n",
       "      <td>12</td>\n",
       "      <td>PT</td>\n",
       "      <td>1300.0</td>\n",
       "      <td>481</td>\n",
       "      <td>5</td>\n",
       "      <td>4816</td>\n",
       "      <td>0</td>\n",
       "      <td>325 days 00:00:00.000000000</td>\n",
       "      <td>48102ZZ</td>\n",
       "      <td>TÉCNICO/A DE INFORMÁTICA - SISTEMAS</td>\n",
       "    </tr>\n",
       "    <tr>\n",
       "      <th>3</th>\n",
       "      <td>39165</td>\n",
       "      <td>309</td>\n",
       "      <td>0</td>\n",
       "      <td>45</td>\n",
       "      <td>12</td>\n",
       "      <td>PT</td>\n",
       "      <td>1300.0</td>\n",
       "      <td>481</td>\n",
       "      <td>5</td>\n",
       "      <td>4816</td>\n",
       "      <td>0</td>\n",
       "      <td>325 days 00:00:00.000000000</td>\n",
       "      <td>481061E</td>\n",
       "      <td>GESTÃO DE REDES E SISTEMAS INFORMÁTICOS</td>\n",
       "    </tr>\n",
       "    <tr>\n",
       "      <th>4</th>\n",
       "      <td>77485</td>\n",
       "      <td>402</td>\n",
       "      <td>0</td>\n",
       "      <td>51</td>\n",
       "      <td>12</td>\n",
       "      <td>PT</td>\n",
       "      <td>211.0</td>\n",
       "      <td>481</td>\n",
       "      <td>5</td>\n",
       "      <td>4817</td>\n",
       "      <td>0</td>\n",
       "      <td>434 days 00:00:00.000000000</td>\n",
       "      <td>48102ZZ</td>\n",
       "      <td>TÉCNICO/A DE INFORMÁTICA - SISTEMAS</td>\n",
       "    </tr>\n",
       "  </tbody>\n",
       "</table>\n",
       "</div>"
      ],
      "text/plain": [
       "   UTE_ID  CodCEFP  Sexo  IdadeEmAnos  CodHabilitacao CodNacionalidade  \\\n",
       "0   24054      201     1           41              12               PT   \n",
       "1   24054      201     1           41              12               PT   \n",
       "2   39165      309     0           45              12               PT   \n",
       "3   39165      309     0           45              12               PT   \n",
       "4   77485      402     0           51              12               PT   \n",
       "\n",
       "   HorasForm  AreaFormacao NivelFormacaoAccao CodSaidaProfissional  Sucessos  \\\n",
       "0     1504.0           521                  5                52174         0   \n",
       "1     1504.0           521                  5                52174         0   \n",
       "2     1300.0           481                  5                 4816         0   \n",
       "3     1300.0           481                  5                 4816         0   \n",
       "4      211.0           481                  5                 4817         0   \n",
       "\n",
       "               DuracaoFormacao F_CCURSO  \\\n",
       "0  375 days 00:00:00.000000000  62110ZZ   \n",
       "1  375 days 00:00:00.000000000  521641E   \n",
       "2  325 days 00:00:00.000000000  48102ZZ   \n",
       "3  325 days 00:00:00.000000000  481061E   \n",
       "4  434 days 00:00:00.000000000  48102ZZ   \n",
       "\n",
       "                                           F_DCURSO  \n",
       "0                        OPERADOR/A AGRÍCOLA (UFCD)  \n",
       "1  TÉCNICO/A ESPECIALISTA EM TECNOLOGIA MECATRÓNICA  \n",
       "2               TÉCNICO/A DE INFORMÁTICA - SISTEMAS  \n",
       "3           GESTÃO DE REDES E SISTEMAS INFORMÁTICOS  \n",
       "4               TÉCNICO/A DE INFORMÁTICA - SISTEMAS  "
      ]
     },
     "execution_count": 16,
     "metadata": {},
     "output_type": "execute_result"
    }
   ],
   "source": [
    "merged.head()"
   ]
  },
  {
   "cell_type": "markdown",
   "metadata": {},
   "source": [
    "<div style=\"background-color: #2f648a; border-radius: 5px;\">\n",
    "    <center><h1 style=\"color: white; padding: 20px;\">4. Taxa de sucesso por curso</h1></center>\n",
    "</div>"
   ]
  },
  {
   "cell_type": "code",
   "execution_count": 17,
   "metadata": {},
   "outputs": [
    {
     "data": {
      "text/html": [
       "<div>\n",
       "<style scoped>\n",
       "    .dataframe tbody tr th:only-of-type {\n",
       "        vertical-align: middle;\n",
       "    }\n",
       "\n",
       "    .dataframe tbody tr th {\n",
       "        vertical-align: top;\n",
       "    }\n",
       "\n",
       "    .dataframe thead th {\n",
       "        text-align: right;\n",
       "    }\n",
       "</style>\n",
       "<table border=\"1\" class=\"dataframe\">\n",
       "  <thead>\n",
       "    <tr style=\"text-align: right;\">\n",
       "      <th></th>\n",
       "      <th>Count</th>\n",
       "    </tr>\n",
       "    <tr>\n",
       "      <th>F_DCURSO</th>\n",
       "      <th></th>\n",
       "    </tr>\n",
       "  </thead>\n",
       "  <tbody>\n",
       "    <tr>\n",
       "      <th>ARRANJOS FLORAIS E DECORAÇÃO</th>\n",
       "      <td>20</td>\n",
       "    </tr>\n",
       "    <tr>\n",
       "      <th>INTRODUÇÃO AOS CUIDADOS DE BELEZA</th>\n",
       "      <td>21</td>\n",
       "    </tr>\n",
       "    <tr>\n",
       "      <th>LOGÍSTICA - CADEIA DE ABASTECIMENTO (B3) Q+</th>\n",
       "      <td>11</td>\n",
       "    </tr>\n",
       "    <tr>\n",
       "      <th>LÍNGUA ESPANHOLA - ATENDIMENTO E VENDAS</th>\n",
       "      <td>59</td>\n",
       "    </tr>\n",
       "    <tr>\n",
       "      <th>LÍNGUA ESPANHOLA - INFORMAÇÃO E ATENDIMENTO TÉCNICO</th>\n",
       "      <td>2</td>\n",
       "    </tr>\n",
       "    <tr>\n",
       "      <th>...</th>\n",
       "      <td>...</td>\n",
       "    </tr>\n",
       "    <tr>\n",
       "      <th>WEB E MULTIMÉDIA</th>\n",
       "      <td>28</td>\n",
       "    </tr>\n",
       "    <tr>\n",
       "      <th>WINDOWS SERVER - REDE E SERVIÇOS</th>\n",
       "      <td>4</td>\n",
       "    </tr>\n",
       "    <tr>\n",
       "      <th>WORLDSKILLS KAZAN 2019 - FORMAÇÃO ESPECÍFICA EM SOLDADURA</th>\n",
       "      <td>1</td>\n",
       "    </tr>\n",
       "    <tr>\n",
       "      <th>ÇÃO EDUCATIVA - PROTEÇÃO E RESPOSTAS SOCIAIS PARA CRIANÇAS E JOVENS (B3) Q+</th>\n",
       "      <td>1</td>\n",
       "    </tr>\n",
       "    <tr>\n",
       "      <th>ÉTICA, DEONTOLOGIA E COMUNICAÇÃO EMPRESARIAL</th>\n",
       "      <td>14</td>\n",
       "    </tr>\n",
       "  </tbody>\n",
       "</table>\n",
       "<p>944 rows × 1 columns</p>\n",
       "</div>"
      ],
      "text/plain": [
       "                                                    Count\n",
       "F_DCURSO                                                 \n",
       " ARRANJOS FLORAIS E DECORAÇÃO                          20\n",
       " INTRODUÇÃO AOS CUIDADOS DE BELEZA                     21\n",
       " LOGÍSTICA - CADEIA DE ABASTECIMENTO (B3) Q+           11\n",
       " LÍNGUA ESPANHOLA - ATENDIMENTO E VENDAS               59\n",
       " LÍNGUA ESPANHOLA - INFORMAÇÃO E ATENDIMENTO TÉ...      2\n",
       "...                                                   ...\n",
       "WEB E MULTIMÉDIA                                       28\n",
       "WINDOWS SERVER - REDE E SERVIÇOS                        4\n",
       "WORLDSKILLS KAZAN 2019 - FORMAÇÃO ESPECÍFICA EM...      1\n",
       "ÇÃO EDUCATIVA - PROTEÇÃO E RESPOSTAS SOCIAIS PA...      1\n",
       "ÉTICA, DEONTOLOGIA E COMUNICAÇÃO EMPRESARIAL           14\n",
       "\n",
       "[944 rows x 1 columns]"
      ]
     },
     "execution_count": 17,
     "metadata": {},
     "output_type": "execute_result"
    }
   ],
   "source": [
    "# criar tabela com contagem de cada formação\n",
    "count_form = merged[['F_DCURSO', \"UTE_ID\"]] \\\n",
    "            .groupby(\"F_DCURSO\") \\\n",
    "            .count() \\\n",
    "            .rename(columns = {'UTE_ID': 'Count'})\n",
    "\n",
    "count_form"
   ]
  },
  {
   "cell_type": "code",
   "execution_count": 18,
   "metadata": {},
   "outputs": [
    {
     "data": {
      "text/html": [
       "<div>\n",
       "<style scoped>\n",
       "    .dataframe tbody tr th:only-of-type {\n",
       "        vertical-align: middle;\n",
       "    }\n",
       "\n",
       "    .dataframe tbody tr th {\n",
       "        vertical-align: top;\n",
       "    }\n",
       "\n",
       "    .dataframe thead th {\n",
       "        text-align: right;\n",
       "    }\n",
       "</style>\n",
       "<table border=\"1\" class=\"dataframe\">\n",
       "  <thead>\n",
       "    <tr style=\"text-align: right;\">\n",
       "      <th></th>\n",
       "      <th>Count_succ</th>\n",
       "    </tr>\n",
       "    <tr>\n",
       "      <th>F_DCURSO</th>\n",
       "      <th></th>\n",
       "    </tr>\n",
       "  </thead>\n",
       "  <tbody>\n",
       "    <tr>\n",
       "      <th>ARRANJOS FLORAIS E DECORAÇÃO</th>\n",
       "      <td>2</td>\n",
       "    </tr>\n",
       "    <tr>\n",
       "      <th>INTRODUÇÃO AOS CUIDADOS DE BELEZA</th>\n",
       "      <td>5</td>\n",
       "    </tr>\n",
       "    <tr>\n",
       "      <th>LOGÍSTICA - CADEIA DE ABASTECIMENTO (B3) Q+</th>\n",
       "      <td>1</td>\n",
       "    </tr>\n",
       "    <tr>\n",
       "      <th>LÍNGUA ESPANHOLA - ATENDIMENTO E VENDAS</th>\n",
       "      <td>9</td>\n",
       "    </tr>\n",
       "    <tr>\n",
       "      <th>TÉCNICO/A DE BANCA E SEGUROS</th>\n",
       "      <td>2</td>\n",
       "    </tr>\n",
       "    <tr>\n",
       "      <th>...</th>\n",
       "      <td>...</td>\n",
       "    </tr>\n",
       "    <tr>\n",
       "      <th>VIDREIRO/A</th>\n",
       "      <td>43</td>\n",
       "    </tr>\n",
       "    <tr>\n",
       "      <th>WEB E MULTIMÉDIA</th>\n",
       "      <td>2</td>\n",
       "    </tr>\n",
       "    <tr>\n",
       "      <th>WINDOWS SERVER - REDE E SERVIÇOS</th>\n",
       "      <td>1</td>\n",
       "    </tr>\n",
       "    <tr>\n",
       "      <th>WORLDSKILLS KAZAN 2019 - FORMAÇÃO ESPECÍFICA EM SOLDADURA</th>\n",
       "      <td>1</td>\n",
       "    </tr>\n",
       "    <tr>\n",
       "      <th>ÉTICA, DEONTOLOGIA E COMUNICAÇÃO EMPRESARIAL</th>\n",
       "      <td>5</td>\n",
       "    </tr>\n",
       "  </tbody>\n",
       "</table>\n",
       "<p>717 rows × 1 columns</p>\n",
       "</div>"
      ],
      "text/plain": [
       "                                                    Count_succ\n",
       "F_DCURSO                                                      \n",
       " ARRANJOS FLORAIS E DECORAÇÃO                                2\n",
       " INTRODUÇÃO AOS CUIDADOS DE BELEZA                           5\n",
       " LOGÍSTICA - CADEIA DE ABASTECIMENTO (B3) Q+                 1\n",
       " LÍNGUA ESPANHOLA - ATENDIMENTO E VENDAS                     9\n",
       " TÉCNICO/A DE BANCA E SEGUROS                                2\n",
       "...                                                        ...\n",
       "VIDREIRO/A                                                  43\n",
       "WEB E MULTIMÉDIA                                             2\n",
       "WINDOWS SERVER - REDE E SERVIÇOS                             1\n",
       "WORLDSKILLS KAZAN 2019 - FORMAÇÃO ESPECÍFICA EM...           1\n",
       "ÉTICA, DEONTOLOGIA E COMUNICAÇÃO EMPRESARIAL                 5\n",
       "\n",
       "[717 rows x 1 columns]"
      ]
     },
     "execution_count": 18,
     "metadata": {},
     "output_type": "execute_result"
    }
   ],
   "source": [
    "# filtrar apenas os casos de sucesso\n",
    "succ = merged[merged[\"Sucessos\"]==1]\n",
    "\n",
    "\n",
    "# criar tabela com contagem de cada formação com outcome <sucesso>\n",
    "count_form_succ = succ[['F_DCURSO', \"UTE_ID\"]] \\\n",
    "            .groupby(\"F_DCURSO\") \\\n",
    "            .count() \\\n",
    "            .rename(columns = {'UTE_ID': 'Count_succ'})\n",
    "\n",
    "count_form_succ"
   ]
  },
  {
   "cell_type": "code",
   "execution_count": 19,
   "metadata": {},
   "outputs": [
    {
     "data": {
      "text/html": [
       "<div>\n",
       "<style scoped>\n",
       "    .dataframe tbody tr th:only-of-type {\n",
       "        vertical-align: middle;\n",
       "    }\n",
       "\n",
       "    .dataframe tbody tr th {\n",
       "        vertical-align: top;\n",
       "    }\n",
       "\n",
       "    .dataframe thead th {\n",
       "        text-align: right;\n",
       "    }\n",
       "</style>\n",
       "<table border=\"1\" class=\"dataframe\">\n",
       "  <thead>\n",
       "    <tr style=\"text-align: right;\">\n",
       "      <th></th>\n",
       "      <th>Count</th>\n",
       "      <th>Count_succ</th>\n",
       "    </tr>\n",
       "    <tr>\n",
       "      <th>F_DCURSO</th>\n",
       "      <th></th>\n",
       "      <th></th>\n",
       "    </tr>\n",
       "  </thead>\n",
       "  <tbody>\n",
       "    <tr>\n",
       "      <th>ARRANJOS FLORAIS E DECORAÇÃO</th>\n",
       "      <td>20</td>\n",
       "      <td>2.0</td>\n",
       "    </tr>\n",
       "    <tr>\n",
       "      <th>INTRODUÇÃO AOS CUIDADOS DE BELEZA</th>\n",
       "      <td>21</td>\n",
       "      <td>5.0</td>\n",
       "    </tr>\n",
       "    <tr>\n",
       "      <th>LOGÍSTICA - CADEIA DE ABASTECIMENTO (B3) Q+</th>\n",
       "      <td>11</td>\n",
       "      <td>1.0</td>\n",
       "    </tr>\n",
       "    <tr>\n",
       "      <th>LÍNGUA ESPANHOLA - ATENDIMENTO E VENDAS</th>\n",
       "      <td>59</td>\n",
       "      <td>9.0</td>\n",
       "    </tr>\n",
       "    <tr>\n",
       "      <th>LÍNGUA ESPANHOLA - INFORMAÇÃO E ATENDIMENTO TÉCNICO</th>\n",
       "      <td>2</td>\n",
       "      <td>0.0</td>\n",
       "    </tr>\n",
       "    <tr>\n",
       "      <th>...</th>\n",
       "      <td>...</td>\n",
       "      <td>...</td>\n",
       "    </tr>\n",
       "    <tr>\n",
       "      <th>WEB E MULTIMÉDIA</th>\n",
       "      <td>28</td>\n",
       "      <td>2.0</td>\n",
       "    </tr>\n",
       "    <tr>\n",
       "      <th>WINDOWS SERVER - REDE E SERVIÇOS</th>\n",
       "      <td>4</td>\n",
       "      <td>1.0</td>\n",
       "    </tr>\n",
       "    <tr>\n",
       "      <th>WORLDSKILLS KAZAN 2019 - FORMAÇÃO ESPECÍFICA EM SOLDADURA</th>\n",
       "      <td>1</td>\n",
       "      <td>1.0</td>\n",
       "    </tr>\n",
       "    <tr>\n",
       "      <th>ÇÃO EDUCATIVA - PROTEÇÃO E RESPOSTAS SOCIAIS PARA CRIANÇAS E JOVENS (B3) Q+</th>\n",
       "      <td>1</td>\n",
       "      <td>0.0</td>\n",
       "    </tr>\n",
       "    <tr>\n",
       "      <th>ÉTICA, DEONTOLOGIA E COMUNICAÇÃO EMPRESARIAL</th>\n",
       "      <td>14</td>\n",
       "      <td>5.0</td>\n",
       "    </tr>\n",
       "  </tbody>\n",
       "</table>\n",
       "<p>944 rows × 2 columns</p>\n",
       "</div>"
      ],
      "text/plain": [
       "                                                    Count  Count_succ\n",
       "F_DCURSO                                                             \n",
       " ARRANJOS FLORAIS E DECORAÇÃO                          20         2.0\n",
       " INTRODUÇÃO AOS CUIDADOS DE BELEZA                     21         5.0\n",
       " LOGÍSTICA - CADEIA DE ABASTECIMENTO (B3) Q+           11         1.0\n",
       " LÍNGUA ESPANHOLA - ATENDIMENTO E VENDAS               59         9.0\n",
       " LÍNGUA ESPANHOLA - INFORMAÇÃO E ATENDIMENTO TÉ...      2         0.0\n",
       "...                                                   ...         ...\n",
       "WEB E MULTIMÉDIA                                       28         2.0\n",
       "WINDOWS SERVER - REDE E SERVIÇOS                        4         1.0\n",
       "WORLDSKILLS KAZAN 2019 - FORMAÇÃO ESPECÍFICA EM...      1         1.0\n",
       "ÇÃO EDUCATIVA - PROTEÇÃO E RESPOSTAS SOCIAIS PA...      1         0.0\n",
       "ÉTICA, DEONTOLOGIA E COMUNICAÇÃO EMPRESARIAL           14         5.0\n",
       "\n",
       "[944 rows x 2 columns]"
      ]
     },
     "execution_count": 19,
     "metadata": {},
     "output_type": "execute_result"
    }
   ],
   "source": [
    "# merge both dataframe based on F_CCURSO\n",
    "merge_count = count_form.merge(count_form_succ, on=\"F_DCURSO\", how=\"left\")\n",
    "\n",
    "# change NAN to zeros\n",
    "merge_count[\"Count_succ\"] = merge_count[\"Count_succ\"].fillna(0)\n",
    "merge_count"
   ]
  },
  {
   "cell_type": "code",
   "execution_count": 20,
   "metadata": {},
   "outputs": [
    {
     "data": {
      "text/html": [
       "<div>\n",
       "<style scoped>\n",
       "    .dataframe tbody tr th:only-of-type {\n",
       "        vertical-align: middle;\n",
       "    }\n",
       "\n",
       "    .dataframe tbody tr th {\n",
       "        vertical-align: top;\n",
       "    }\n",
       "\n",
       "    .dataframe thead th {\n",
       "        text-align: right;\n",
       "    }\n",
       "</style>\n",
       "<table border=\"1\" class=\"dataframe\">\n",
       "  <thead>\n",
       "    <tr style=\"text-align: right;\">\n",
       "      <th></th>\n",
       "      <th>Count</th>\n",
       "      <th>Count_succ</th>\n",
       "      <th>succ_rate</th>\n",
       "    </tr>\n",
       "    <tr>\n",
       "      <th>F_DCURSO</th>\n",
       "      <th></th>\n",
       "      <th></th>\n",
       "      <th></th>\n",
       "    </tr>\n",
       "  </thead>\n",
       "  <tbody>\n",
       "    <tr>\n",
       "      <th>ARRANJOS FLORAIS E DECORAÇÃO</th>\n",
       "      <td>20</td>\n",
       "      <td>2.0</td>\n",
       "      <td>0.100000</td>\n",
       "    </tr>\n",
       "    <tr>\n",
       "      <th>INTRODUÇÃO AOS CUIDADOS DE BELEZA</th>\n",
       "      <td>21</td>\n",
       "      <td>5.0</td>\n",
       "      <td>0.238095</td>\n",
       "    </tr>\n",
       "    <tr>\n",
       "      <th>LOGÍSTICA - CADEIA DE ABASTECIMENTO (B3) Q+</th>\n",
       "      <td>11</td>\n",
       "      <td>1.0</td>\n",
       "      <td>0.090909</td>\n",
       "    </tr>\n",
       "    <tr>\n",
       "      <th>LÍNGUA ESPANHOLA - ATENDIMENTO E VENDAS</th>\n",
       "      <td>59</td>\n",
       "      <td>9.0</td>\n",
       "      <td>0.152542</td>\n",
       "    </tr>\n",
       "    <tr>\n",
       "      <th>LÍNGUA ESPANHOLA - INFORMAÇÃO E ATENDIMENTO TÉCNICO</th>\n",
       "      <td>2</td>\n",
       "      <td>0.0</td>\n",
       "      <td>0.000000</td>\n",
       "    </tr>\n",
       "    <tr>\n",
       "      <th>...</th>\n",
       "      <td>...</td>\n",
       "      <td>...</td>\n",
       "      <td>...</td>\n",
       "    </tr>\n",
       "    <tr>\n",
       "      <th>WEB E MULTIMÉDIA</th>\n",
       "      <td>28</td>\n",
       "      <td>2.0</td>\n",
       "      <td>0.071429</td>\n",
       "    </tr>\n",
       "    <tr>\n",
       "      <th>WINDOWS SERVER - REDE E SERVIÇOS</th>\n",
       "      <td>4</td>\n",
       "      <td>1.0</td>\n",
       "      <td>0.250000</td>\n",
       "    </tr>\n",
       "    <tr>\n",
       "      <th>WORLDSKILLS KAZAN 2019 - FORMAÇÃO ESPECÍFICA EM SOLDADURA</th>\n",
       "      <td>1</td>\n",
       "      <td>1.0</td>\n",
       "      <td>1.000000</td>\n",
       "    </tr>\n",
       "    <tr>\n",
       "      <th>ÇÃO EDUCATIVA - PROTEÇÃO E RESPOSTAS SOCIAIS PARA CRIANÇAS E JOVENS (B3) Q+</th>\n",
       "      <td>1</td>\n",
       "      <td>0.0</td>\n",
       "      <td>0.000000</td>\n",
       "    </tr>\n",
       "    <tr>\n",
       "      <th>ÉTICA, DEONTOLOGIA E COMUNICAÇÃO EMPRESARIAL</th>\n",
       "      <td>14</td>\n",
       "      <td>5.0</td>\n",
       "      <td>0.357143</td>\n",
       "    </tr>\n",
       "  </tbody>\n",
       "</table>\n",
       "<p>944 rows × 3 columns</p>\n",
       "</div>"
      ],
      "text/plain": [
       "                                                    Count  Count_succ  \\\n",
       "F_DCURSO                                                                \n",
       " ARRANJOS FLORAIS E DECORAÇÃO                          20         2.0   \n",
       " INTRODUÇÃO AOS CUIDADOS DE BELEZA                     21         5.0   \n",
       " LOGÍSTICA - CADEIA DE ABASTECIMENTO (B3) Q+           11         1.0   \n",
       " LÍNGUA ESPANHOLA - ATENDIMENTO E VENDAS               59         9.0   \n",
       " LÍNGUA ESPANHOLA - INFORMAÇÃO E ATENDIMENTO TÉ...      2         0.0   \n",
       "...                                                   ...         ...   \n",
       "WEB E MULTIMÉDIA                                       28         2.0   \n",
       "WINDOWS SERVER - REDE E SERVIÇOS                        4         1.0   \n",
       "WORLDSKILLS KAZAN 2019 - FORMAÇÃO ESPECÍFICA EM...      1         1.0   \n",
       "ÇÃO EDUCATIVA - PROTEÇÃO E RESPOSTAS SOCIAIS PA...      1         0.0   \n",
       "ÉTICA, DEONTOLOGIA E COMUNICAÇÃO EMPRESARIAL           14         5.0   \n",
       "\n",
       "                                                    succ_rate  \n",
       "F_DCURSO                                                       \n",
       " ARRANJOS FLORAIS E DECORAÇÃO                        0.100000  \n",
       " INTRODUÇÃO AOS CUIDADOS DE BELEZA                   0.238095  \n",
       " LOGÍSTICA - CADEIA DE ABASTECIMENTO (B3) Q+         0.090909  \n",
       " LÍNGUA ESPANHOLA - ATENDIMENTO E VENDAS             0.152542  \n",
       " LÍNGUA ESPANHOLA - INFORMAÇÃO E ATENDIMENTO TÉ...   0.000000  \n",
       "...                                                       ...  \n",
       "WEB E MULTIMÉDIA                                     0.071429  \n",
       "WINDOWS SERVER - REDE E SERVIÇOS                     0.250000  \n",
       "WORLDSKILLS KAZAN 2019 - FORMAÇÃO ESPECÍFICA EM...   1.000000  \n",
       "ÇÃO EDUCATIVA - PROTEÇÃO E RESPOSTAS SOCIAIS PA...   0.000000  \n",
       "ÉTICA, DEONTOLOGIA E COMUNICAÇÃO EMPRESARIAL         0.357143  \n",
       "\n",
       "[944 rows x 3 columns]"
      ]
     },
     "execution_count": 20,
     "metadata": {},
     "output_type": "execute_result"
    }
   ],
   "source": [
    "# criar uma variável para guardar a taxa de sucesso de cada curso após a sua conclusão\n",
    "merge_count[\"succ_rate\"] = merge_count[\"Count_succ\"] / merge_count[\"Count\"]\n",
    "merge_count"
   ]
  },
  {
   "cell_type": "markdown",
   "metadata": {},
   "source": [
    "<div style=\"background-color: #2f648a; border-radius: 5px;\">\n",
    "    <center><h1 style=\"color: white; padding: 20px;\">5. Recommender System</h1></center>\n",
    "</div>"
   ]
  },
  {
   "cell_type": "code",
   "execution_count": 21,
   "metadata": {},
   "outputs": [],
   "source": [
    "# input utilizador\n",
    "\n",
    "# descrição do utente\n",
    "sexo = 1\n",
    "idade = 30\n",
    "hab = 12\n",
    "\n",
    "# descrição do curso pretendido\n",
    "horas = 500\n",
    "centro = 309\n",
    "area = 481"
   ]
  },
  {
   "cell_type": "code",
   "execution_count": 22,
   "metadata": {},
   "outputs": [
    {
     "data": {
      "text/plain": [
       "(113359, 14)"
      ]
     },
     "execution_count": 22,
     "metadata": {},
     "output_type": "execute_result"
    }
   ],
   "source": [
    "merged.shape"
   ]
  },
  {
   "cell_type": "code",
   "execution_count": 23,
   "metadata": {},
   "outputs": [],
   "source": [
    "# aplicar filtros relativos ao sexo do utente\n",
    "semelhantes = merged[merged[\"Sexo\"]==sexo]"
   ]
  },
  {
   "cell_type": "code",
   "execution_count": 261,
   "metadata": {
    "scrolled": true
   },
   "outputs": [
    {
     "data": {
      "text/plain": [
       "(74816, 14)"
      ]
     },
     "execution_count": 261,
     "metadata": {},
     "output_type": "execute_result"
    }
   ],
   "source": [
    "semelhantes.shape"
   ]
  },
  {
   "cell_type": "code",
   "execution_count": 262,
   "metadata": {},
   "outputs": [],
   "source": [
    "# criação de duas variáveis relativas à idade minima e máxima na qual vamos basear o filtro \n",
    "scale = semelhantes[\"IdadeEmAnos\"].max() - semelhantes[\"IdadeEmAnos\"].min()\n",
    "\n",
    "proportion = 0.15\n",
    "\n",
    "min_age = idade - scale * 0.15\n",
    "max_age = idade + scale * 0.15\n",
    "\n",
    "# aplicar filtros relativos à idade do utente\n",
    "semelhantes = semelhantes[(semelhantes[\"IdadeEmAnos\"] > min_age) & (semelhantes[\"IdadeEmAnos\"] < max_age)]"
   ]
  },
  {
   "cell_type": "code",
   "execution_count": 263,
   "metadata": {},
   "outputs": [
    {
     "data": {
      "text/plain": [
       "(22285, 14)"
      ]
     },
     "execution_count": 263,
     "metadata": {},
     "output_type": "execute_result"
    }
   ],
   "source": [
    "semelhantes.shape"
   ]
  },
  {
   "cell_type": "code",
   "execution_count": 264,
   "metadata": {},
   "outputs": [],
   "source": [
    "# criação de duas variáveis relativas ao tempo minimo e máximo em horas da formação.\n",
    "scale = semelhantes[\"HorasForm\"].max() - semelhantes[\"HorasForm\"].min()\n",
    "\n",
    "proportion = 0.10\n",
    "\n",
    "min_hours = idade - scale * 0.15\n",
    "max_hours = idade + scale * 0.15\n",
    "\n",
    "# aplicar filtros relativos à idade do utente\n",
    "semelhantes = semelhantes[(semelhantes[\"HorasForm\"] > min_hours) & (semelhantes[\"HorasForm\"] < max_hours)]"
   ]
  },
  {
   "cell_type": "code",
   "execution_count": 265,
   "metadata": {},
   "outputs": [
    {
     "data": {
      "text/plain": [
       "(17449, 14)"
      ]
     },
     "execution_count": 265,
     "metadata": {},
     "output_type": "execute_result"
    }
   ],
   "source": [
    "semelhantes.shape"
   ]
  },
  {
   "cell_type": "code",
   "execution_count": 266,
   "metadata": {},
   "outputs": [],
   "source": [
    "# aplicar filtros relativos ao sexo do utente\n",
    "semelhantes = semelhantes[semelhantes[\"CodCEFP\"]==centro]"
   ]
  },
  {
   "cell_type": "code",
   "execution_count": 267,
   "metadata": {},
   "outputs": [
    {
     "data": {
      "text/plain": [
       "(453, 14)"
      ]
     },
     "execution_count": 267,
     "metadata": {},
     "output_type": "execute_result"
    }
   ],
   "source": [
    "semelhantes.shape"
   ]
  },
  {
   "cell_type": "code",
   "execution_count": 255,
   "metadata": {},
   "outputs": [],
   "source": [
    "# aplicar filtros relativos à AreaFormacao do utente\n",
    "semelhantes = semelhantes[semelhantes[\"AreaFormacao\"]==area]"
   ]
  },
  {
   "cell_type": "code",
   "execution_count": 256,
   "metadata": {},
   "outputs": [
    {
     "data": {
      "text/plain": [
       "(8, 14)"
      ]
     },
     "execution_count": 256,
     "metadata": {},
     "output_type": "execute_result"
    }
   ],
   "source": [
    "semelhantes.shape"
   ]
  },
  {
   "cell_type": "markdown",
   "metadata": {},
   "source": [
    "<div style=\"background-color: #2f648a; border-radius: 5px;\">\n",
    "    <center><h1 style=\"color: white; padding: 20px;\">6. Output</h1></center>\n",
    "</div>"
   ]
  },
  {
   "cell_type": "code",
   "execution_count": 268,
   "metadata": {},
   "outputs": [
    {
     "data": {
      "text/plain": [
       "TÉCNICAS DE APOIO À GESTÃO (UFCD)                                                      81\n",
       "TÉCNICO/A COMERCIAL (UFCD)                                                             32\n",
       "TÉCNICO/A AUXILIAR DE SAÚDE                                                            24\n",
       "TÉCNICO/A DE CONTABILIDADE                                                             23\n",
       "TÉCNICO/A DE RELAÇÕES LABORAIS                                                         23\n",
       "ASSISTENTE FAMILIAR E DE APOIO À COMUNIDADE (UFCD)                                     21\n",
       "MANICURA-PEDICURA                                                                      18\n",
       "OPERADOR/A DE CERÂMICA                                                                 16\n",
       "AGENTE EM GERIATRIA                                                                    15\n",
       "OPERADOR/A DE DISTRIBUIÇÃO (UFCD)                                                      14\n",
       "COZINHEIRO/A (UFCD)                                                                    13\n",
       "TÉCNICO/A DE COMUNICAÇÃO E SERVIÇO DIGITAL (UFCD)                                      13\n",
       "ARTESÃO/Ã DAS ARTES DO TÊXTIL                                                          11\n",
       "EMPREGADO/A DE RESTAURANTE/BAR (UFCD)                                                  10\n",
       "ASSISTENTE ADMINISTRATIVO/A                                                             9\n",
       "OPERADOR/A DE LOGÍSTICA (UFCD)                                                          9\n",
       "CABELEIREIRO/A UNISSEXO                                                                 8\n",
       "OPERADOR/A DE INFORMÁTICA                                                               8\n",
       "OPERADOR/A AGRÍCOLA (UFCD)                                                              7\n",
       "ACOMPANHANTE DE TURISMO EQUESTRE                                                        7\n",
       "TÉCNICO/A DE COZINHA/PASTELARIA (UFCD)                                                  7\n",
       "TÉCNICO/A DE PRODUÇÃO AUTOMÓVEL                                                         6\n",
       "FORMAÇÃO CONTÍNUA DE FORMADORES                                                         5\n",
       "TÉCNICO/A DE LOGÍSTICA (UFCD)                                                           5\n",
       "COSTUREIRO/A MODISTA                                                                    5\n",
       "TÉCNICO/A DE ORGANIZAÇÃO DE EVENTOS (UFCD)                                              5\n",
       "GESTÃO DE REDES E SISTEMAS INFORMÁTICOS                                                 4\n",
       "COMPETÊNCIAS EMPREENDEDORAS E TÉCNICAS DE PROCURA DE EMPREGO - FORMAÇÃO TRANSVERSAL     4\n",
       "TÉCNICAS DE APOIO À GESTÃO                                                              4\n",
       "TÉCNICO/A DE INFORMAÇÃO E ANIMAÇÃO TURÍSTICA                                            4\n",
       "TÉCNICO/A DE MULTIMÉDIA                                                                 4\n",
       "TÉCNICO DE TURISMO AMBIENTAL E RURAL                                                    3\n",
       "TÉCNICO/A DE GERIATRIA                                                                  3\n",
       "ESTETICISTA (UFCD)                                                                      3\n",
       "TÉCNICO/A DE ANÁLISE LABORATORIAL                                                       3\n",
       "OPERADOR/A DE DISTRIBUIÇÃO                                                              2\n",
       "OPERADOR/A DE TRANSFORMAÇÃO DO PESCADO (UFCD)                                           2\n",
       "TÉCNICO/A DE AÇÃO EDUCATIVA                                                             2\n",
       "APOIO FAMILIAR E À COMUNIDADE (UFCD)                                                    2\n",
       "ASSISTENTE DE CUIDADOS DE BELEZA                                                        2\n",
       "CUIDADOR/A DE CRIANÇAS E JOVENS                                                         2\n",
       "TÉCNICO/A DE APOIO FAMILIAR E DE APOIO À COMUNIDADE                                     2\n",
       "TÉCNICO/A DE INFORMÁTICA - SISTEMAS                                                     1\n",
       "CABELEIREIRO/A                                                                          1\n",
       "PROGRAMA PORTUGUES PARA TODOS - PERCURSO A                                              1\n",
       "TÉCNICO/A DE MUSEOGRAFIA E GESTÃO DO PATRIMÓNIO                                         1\n",
       "PREPARAÇÃO PARA O CAMPEONATO DAS PROFISSÕES                                             1\n",
       "OPERADOR/A DE LOGÍSTICA                                                                 1\n",
       "ESTETICISTA                                                                             1\n",
       "ELETRICISTA DE INSTALAÇÕES                                                              1\n",
       "TÉCNICO/A AUXILIAR DE SAÚDE (APRENDIZAGEM)                                              1\n",
       "TÉCNICO/A ADMINISTRATIVO/A (UFCD)                                                       1\n",
       "TÉCNICO/A DE VENDAS  (UFCD)                                                             1\n",
       "TÉCNICO/A DE FABRICO DE COMPONENTES DE CONSTRUÇÃO METÁLICA                              1\n",
       "Name: F_DCURSO, dtype: int64"
      ]
     },
     "execution_count": 268,
     "metadata": {},
     "output_type": "execute_result"
    }
   ],
   "source": [
    "semelhantes[\"F_DCURSO\"].value_counts()"
   ]
  },
  {
   "cell_type": "code",
   "execution_count": null,
   "metadata": {},
   "outputs": [],
   "source": []
  }
 ],
 "metadata": {
  "kernelspec": {
   "display_name": "Python 3",
   "language": "python",
   "name": "python3"
  },
  "language_info": {
   "codemirror_mode": {
    "name": "ipython",
    "version": 3
   },
   "file_extension": ".py",
   "mimetype": "text/x-python",
   "name": "python",
   "nbconvert_exporter": "python",
   "pygments_lexer": "ipython3",
   "version": "3.8.3"
  }
 },
 "nbformat": 4,
 "nbformat_minor": 4
}
