{
 "cells": [
  {
   "cell_type": "markdown",
   "metadata": {},
   "source": [
    "<img src=\"images/intro.jpeg\">"
   ]
  },
  {
   "cell_type": "markdown",
   "metadata": {},
   "source": [
    "# Project - Pedidos"
   ]
  },
  {
   "cell_type": "markdown",
   "metadata": {},
   "source": [
    "<div style=\"background-color: #2f648a; border-radius: 5px;\"> \n",
    "    <center><h1 style=\"color: white; padding: 20px;\">1. Imports</h1></center>\n",
    "</div>"
   ]
  },
  {
   "cell_type": "code",
   "execution_count": 1,
   "metadata": {},
   "outputs": [],
   "source": [
    "import pandas as pd\n",
    "from pandas import ExcelWriter\n",
    "from pandas import ExcelFile\n",
    "import seaborn as sns\n",
    "from matplotlib import pyplot as plt"
   ]
  },
  {
   "cell_type": "markdown",
   "metadata": {},
   "source": [
    "<div style=\"background-color: #2f648a; border-radius: 5px;\"> \n",
    "    <center><h1 style=\"color: white; padding: 20px;\">2. Read Files</h1></center>\n",
    "</div>\n",
    "\n",
    "Importar as 3 bases de dados relativas às intervenções para 3 DataFrames pandas."
   ]
  },
  {
   "cell_type": "code",
   "execution_count": 2,
   "metadata": {},
   "outputs": [],
   "source": [
    "pedidos1 = pd.read_excel(\"databases/apura_iscte_lpedidos_ant.xlsx\")\n",
    "pedidos1.shape"
   ]
  },
  {
   "cell_type": "code",
   "execution_count": 3,
   "metadata": {},
   "outputs": [],
   "source": [
    "pedidos2 = pd.read_excel(\"databases/apura_iscte_lpedidos_apos.xlsx\")\n",
    "pedidos2.shape"
   ]
  },
  {
   "cell_type": "code",
   "execution_count": 4,
   "metadata": {},
   "outputs": [],
   "source": [
    "pedidos3 = pd.read_excel(\"databases/apura_iscte_m01.xlsx\")"
   ]
  },
  {
   "cell_type": "code",
   "execution_count": 5,
   "metadata": {},
   "outputs": [
    {
     "data": {
      "text/html": [
       "<div>\n",
       "<style scoped>\n",
       "    .dataframe tbody tr th:only-of-type {\n",
       "        vertical-align: middle;\n",
       "    }\n",
       "\n",
       "    .dataframe tbody tr th {\n",
       "        vertical-align: top;\n",
       "    }\n",
       "\n",
       "    .dataframe thead th {\n",
       "        text-align: right;\n",
       "    }\n",
       "</style>\n",
       "<table border=\"1\" class=\"dataframe\">\n",
       "  <thead>\n",
       "    <tr style=\"text-align: right;\">\n",
       "      <th></th>\n",
       "      <th>UTE_ID</th>\n",
       "      <th>ANO_MES</th>\n",
       "      <th>DATA_MOVIMENTO</th>\n",
       "      <th>TIPO_MOVIMENTO</th>\n",
       "      <th>DTIPO_MOVIMENTO</th>\n",
       "      <th>CENTROA</th>\n",
       "      <th>DCENTRO_AB</th>\n",
       "      <th>AREA_CURSO</th>\n",
       "      <th>ANO_CONCLUSAO_CURSO</th>\n",
       "      <th>CEST_SUPERIOR</th>\n",
       "      <th>...</th>\n",
       "      <th>DCPP</th>\n",
       "      <th>CAE_COLOCACAO</th>\n",
       "      <th>DCAE_COLOCACAO</th>\n",
       "      <th>TIPO_CONTRATO_COLOC</th>\n",
       "      <th>REGIME_CONTRATO_COLOC</th>\n",
       "      <th>REGIME_HORARIO</th>\n",
       "      <th>PAIS_COLOCACAO</th>\n",
       "      <th>TIPO_OCUPACAO</th>\n",
       "      <th>ANOMES_12INI</th>\n",
       "      <th>ANOMES_INI</th>\n",
       "    </tr>\n",
       "  </thead>\n",
       "  <tbody>\n",
       "    <tr>\n",
       "      <th>0</th>\n",
       "      <td>4853974</td>\n",
       "      <td>201805</td>\n",
       "      <td>2018-05-11 18:03:16</td>\n",
       "      <td>43</td>\n",
       "      <td>MUDANÇAS CATEGORIA</td>\n",
       "      <td>123</td>\n",
       "      <td>CTEF Bragança</td>\n",
       "      <td>NaN</td>\n",
       "      <td>NaN</td>\n",
       "      <td>NaN</td>\n",
       "      <td>...</td>\n",
       "      <td>NaN</td>\n",
       "      <td>NaN</td>\n",
       "      <td>NaN</td>\n",
       "      <td>NaN</td>\n",
       "      <td>NaN</td>\n",
       "      <td>NaN</td>\n",
       "      <td>NaN</td>\n",
       "      <td>521.0</td>\n",
       "      <td>201705</td>\n",
       "      <td>201805</td>\n",
       "    </tr>\n",
       "    <tr>\n",
       "      <th>1</th>\n",
       "      <td>4853974</td>\n",
       "      <td>201803</td>\n",
       "      <td>2018-03-09 10:15:46</td>\n",
       "      <td>11</td>\n",
       "      <td>PEDIDOS DE EMPREGO AO LONGO DO MÊS</td>\n",
       "      <td>123</td>\n",
       "      <td>CTEF Bragança</td>\n",
       "      <td>NaN</td>\n",
       "      <td>NaN</td>\n",
       "      <td>NaN</td>\n",
       "      <td>...</td>\n",
       "      <td>NaN</td>\n",
       "      <td>NaN</td>\n",
       "      <td>NaN</td>\n",
       "      <td>NaN</td>\n",
       "      <td>NaN</td>\n",
       "      <td>NaN</td>\n",
       "      <td>NaN</td>\n",
       "      <td>NaN</td>\n",
       "      <td>201705</td>\n",
       "      <td>201805</td>\n",
       "    </tr>\n",
       "  </tbody>\n",
       "</table>\n",
       "<p>2 rows × 47 columns</p>\n",
       "</div>"
      ],
      "text/plain": [
       "    UTE_ID  ANO_MES      DATA_MOVIMENTO  TIPO_MOVIMENTO  \\\n",
       "0  4853974   201805 2018-05-11 18:03:16              43   \n",
       "1  4853974   201803 2018-03-09 10:15:46              11   \n",
       "\n",
       "                      DTIPO_MOVIMENTO  CENTROA     DCENTRO_AB AREA_CURSO  \\\n",
       "0                  MUDANÇAS CATEGORIA      123  CTEF Bragança        NaN   \n",
       "1  PEDIDOS DE EMPREGO AO LONGO DO MÊS      123  CTEF Bragança        NaN   \n",
       "\n",
       "   ANO_CONCLUSAO_CURSO  CEST_SUPERIOR  ...  DCPP CAE_COLOCACAO DCAE_COLOCACAO  \\\n",
       "0                  NaN            NaN  ...   NaN           NaN            NaN   \n",
       "1                  NaN            NaN  ...   NaN           NaN            NaN   \n",
       "\n",
       "  TIPO_CONTRATO_COLOC REGIME_CONTRATO_COLOC  REGIME_HORARIO PAIS_COLOCACAO  \\\n",
       "0                 NaN                   NaN             NaN            NaN   \n",
       "1                 NaN                   NaN             NaN            NaN   \n",
       "\n",
       "  TIPO_OCUPACAO ANOMES_12INI ANOMES_INI  \n",
       "0         521.0       201705     201805  \n",
       "1           NaN       201705     201805  \n",
       "\n",
       "[2 rows x 47 columns]"
      ]
     },
     "execution_count": 5,
     "metadata": {},
     "output_type": "execute_result"
    }
   ],
   "source": [
    "pedidos1.head(2)"
   ]
  },
  {
   "cell_type": "code",
   "execution_count": 6,
   "metadata": {},
   "outputs": [
    {
     "data": {
      "text/html": [
       "<div>\n",
       "<style scoped>\n",
       "    .dataframe tbody tr th:only-of-type {\n",
       "        vertical-align: middle;\n",
       "    }\n",
       "\n",
       "    .dataframe tbody tr th {\n",
       "        vertical-align: top;\n",
       "    }\n",
       "\n",
       "    .dataframe thead th {\n",
       "        text-align: right;\n",
       "    }\n",
       "</style>\n",
       "<table border=\"1\" class=\"dataframe\">\n",
       "  <thead>\n",
       "    <tr style=\"text-align: right;\">\n",
       "      <th></th>\n",
       "      <th>UTE_ID</th>\n",
       "      <th>ANO_MES</th>\n",
       "      <th>DATA_MOVIMENTO</th>\n",
       "      <th>TIPO_MOVIMENTO</th>\n",
       "      <th>DTIPO_MOVIMENTO</th>\n",
       "      <th>CENTROA</th>\n",
       "      <th>DCENTRO_AB</th>\n",
       "      <th>AREA_CURSO</th>\n",
       "      <th>ANO_CONCLUSAO_CURSO</th>\n",
       "      <th>CEST_SUPERIOR</th>\n",
       "      <th>...</th>\n",
       "      <th>DCPP</th>\n",
       "      <th>CAE_COLOCACAO</th>\n",
       "      <th>DCAE_COLOCACAO</th>\n",
       "      <th>TIPO_CONTRATO_COLOC</th>\n",
       "      <th>REGIME_CONTRATO_COLOC</th>\n",
       "      <th>REGIME_HORARIO</th>\n",
       "      <th>PAIS_COLOCACAO</th>\n",
       "      <th>TIPO_OCUPACAO</th>\n",
       "      <th>ANOMES_FIM</th>\n",
       "      <th>ANOMES_12FIM</th>\n",
       "    </tr>\n",
       "  </thead>\n",
       "  <tbody>\n",
       "    <tr>\n",
       "      <th>0</th>\n",
       "      <td>4853974</td>\n",
       "      <td>201902</td>\n",
       "      <td>2019-02-04 15:50:35</td>\n",
       "      <td>11</td>\n",
       "      <td>PEDIDOS DE EMPREGO AO LONGO DO MÊS</td>\n",
       "      <td>123</td>\n",
       "      <td>CTEF Bragança</td>\n",
       "      <td>NaN</td>\n",
       "      <td>NaN</td>\n",
       "      <td>NaN</td>\n",
       "      <td>...</td>\n",
       "      <td>NaN</td>\n",
       "      <td>NaN</td>\n",
       "      <td>NaN</td>\n",
       "      <td>NaN</td>\n",
       "      <td>NaN</td>\n",
       "      <td>NaN</td>\n",
       "      <td>NaN</td>\n",
       "      <td>NaN</td>\n",
       "      <td>201807</td>\n",
       "      <td>201907</td>\n",
       "    </tr>\n",
       "    <tr>\n",
       "      <th>1</th>\n",
       "      <td>4853974</td>\n",
       "      <td>201807</td>\n",
       "      <td>2018-07-09 11:07:13</td>\n",
       "      <td>31</td>\n",
       "      <td>ANULAÇÕES AO LONGO DO MÊS</td>\n",
       "      <td>123</td>\n",
       "      <td>CTEF Bragança</td>\n",
       "      <td>NaN</td>\n",
       "      <td>NaN</td>\n",
       "      <td>NaN</td>\n",
       "      <td>...</td>\n",
       "      <td>NaN</td>\n",
       "      <td>NaN</td>\n",
       "      <td>NaN</td>\n",
       "      <td>NaN</td>\n",
       "      <td>NaN</td>\n",
       "      <td>NaN</td>\n",
       "      <td>NaN</td>\n",
       "      <td>521.0</td>\n",
       "      <td>201807</td>\n",
       "      <td>201907</td>\n",
       "    </tr>\n",
       "  </tbody>\n",
       "</table>\n",
       "<p>2 rows × 47 columns</p>\n",
       "</div>"
      ],
      "text/plain": [
       "    UTE_ID  ANO_MES      DATA_MOVIMENTO  TIPO_MOVIMENTO  \\\n",
       "0  4853974   201902 2019-02-04 15:50:35              11   \n",
       "1  4853974   201807 2018-07-09 11:07:13              31   \n",
       "\n",
       "                      DTIPO_MOVIMENTO  CENTROA     DCENTRO_AB AREA_CURSO  \\\n",
       "0  PEDIDOS DE EMPREGO AO LONGO DO MÊS      123  CTEF Bragança        NaN   \n",
       "1           ANULAÇÕES AO LONGO DO MÊS      123  CTEF Bragança        NaN   \n",
       "\n",
       "   ANO_CONCLUSAO_CURSO  CEST_SUPERIOR  ...  DCPP CAE_COLOCACAO DCAE_COLOCACAO  \\\n",
       "0                  NaN            NaN  ...   NaN           NaN            NaN   \n",
       "1                  NaN            NaN  ...   NaN           NaN            NaN   \n",
       "\n",
       "  TIPO_CONTRATO_COLOC REGIME_CONTRATO_COLOC  REGIME_HORARIO PAIS_COLOCACAO  \\\n",
       "0                 NaN                   NaN             NaN            NaN   \n",
       "1                 NaN                   NaN             NaN            NaN   \n",
       "\n",
       "  TIPO_OCUPACAO ANOMES_FIM ANOMES_12FIM  \n",
       "0           NaN     201807       201907  \n",
       "1         521.0     201807       201907  \n",
       "\n",
       "[2 rows x 47 columns]"
      ]
     },
     "execution_count": 6,
     "metadata": {},
     "output_type": "execute_result"
    }
   ],
   "source": [
    "pedidos2.head(2)"
   ]
  },
  {
   "cell_type": "code",
   "execution_count": 7,
   "metadata": {},
   "outputs": [
    {
     "data": {
      "text/html": [
       "<div>\n",
       "<style scoped>\n",
       "    .dataframe tbody tr th:only-of-type {\n",
       "        vertical-align: middle;\n",
       "    }\n",
       "\n",
       "    .dataframe tbody tr th {\n",
       "        vertical-align: top;\n",
       "    }\n",
       "\n",
       "    .dataframe thead th {\n",
       "        text-align: right;\n",
       "    }\n",
       "</style>\n",
       "<table border=\"1\" class=\"dataframe\">\n",
       "  <thead>\n",
       "    <tr style=\"text-align: right;\">\n",
       "      <th></th>\n",
       "      <th>UTE_ID</th>\n",
       "      <th>ANO_MES</th>\n",
       "      <th>DATA_MOVIMENTO</th>\n",
       "      <th>TIPO_MOVIMENTO</th>\n",
       "      <th>DTIPO_MOVIMENTO</th>\n",
       "      <th>CENTROA</th>\n",
       "      <th>DCENTRO_AB</th>\n",
       "      <th>AREA_CURSO</th>\n",
       "      <th>ANO_CONCLUSAO_CURSO</th>\n",
       "      <th>CEST_SUPERIOR</th>\n",
       "      <th>...</th>\n",
       "      <th>DATA_COLOCACAO</th>\n",
       "      <th>CPP</th>\n",
       "      <th>DCPP</th>\n",
       "      <th>CAE_COLOCACAO</th>\n",
       "      <th>DCAE_COLOCACAO</th>\n",
       "      <th>TIPO_CONTRATO_COLOC</th>\n",
       "      <th>REGIME_CONTRATO_COLOC</th>\n",
       "      <th>REGIME_HORARIO</th>\n",
       "      <th>PAIS_COLOCACAO</th>\n",
       "      <th>TIPO_OCUPACAO</th>\n",
       "    </tr>\n",
       "  </thead>\n",
       "  <tbody>\n",
       "    <tr>\n",
       "      <th>0</th>\n",
       "      <td>5062277</td>\n",
       "      <td>201402</td>\n",
       "      <td>2014-03-01 20:05:34</td>\n",
       "      <td>1</td>\n",
       "      <td>PEDIDOS DE EMPREGO NO FIM DO MÊS</td>\n",
       "      <td>302</td>\n",
       "      <td>CTE Almada</td>\n",
       "      <td>NaN</td>\n",
       "      <td>NaN</td>\n",
       "      <td>NaN</td>\n",
       "      <td>...</td>\n",
       "      <td>NaN</td>\n",
       "      <td>NaN</td>\n",
       "      <td>NaN</td>\n",
       "      <td>NaN</td>\n",
       "      <td>NaN</td>\n",
       "      <td>NaN</td>\n",
       "      <td>NaN</td>\n",
       "      <td>NaN</td>\n",
       "      <td>NaN</td>\n",
       "      <td>NaN</td>\n",
       "    </tr>\n",
       "    <tr>\n",
       "      <th>1</th>\n",
       "      <td>4127072</td>\n",
       "      <td>201402</td>\n",
       "      <td>2014-03-01 19:56:38</td>\n",
       "      <td>1</td>\n",
       "      <td>PEDIDOS DE EMPREGO NO FIM DO MÊS</td>\n",
       "      <td>151</td>\n",
       "      <td>CTE Gondomar</td>\n",
       "      <td>NaN</td>\n",
       "      <td>NaN</td>\n",
       "      <td>NaN</td>\n",
       "      <td>...</td>\n",
       "      <td>NaN</td>\n",
       "      <td>NaN</td>\n",
       "      <td>NaN</td>\n",
       "      <td>NaN</td>\n",
       "      <td>NaN</td>\n",
       "      <td>NaN</td>\n",
       "      <td>NaN</td>\n",
       "      <td>NaN</td>\n",
       "      <td>NaN</td>\n",
       "      <td>NaN</td>\n",
       "    </tr>\n",
       "    <tr>\n",
       "      <th>2</th>\n",
       "      <td>4131592</td>\n",
       "      <td>201402</td>\n",
       "      <td>2014-03-01 19:56:48</td>\n",
       "      <td>1</td>\n",
       "      <td>PEDIDOS DE EMPREGO NO FIM DO MÊS</td>\n",
       "      <td>151</td>\n",
       "      <td>CTE Gondomar</td>\n",
       "      <td>NaN</td>\n",
       "      <td>NaN</td>\n",
       "      <td>NaN</td>\n",
       "      <td>...</td>\n",
       "      <td>NaN</td>\n",
       "      <td>NaN</td>\n",
       "      <td>NaN</td>\n",
       "      <td>NaN</td>\n",
       "      <td>NaN</td>\n",
       "      <td>NaN</td>\n",
       "      <td>NaN</td>\n",
       "      <td>NaN</td>\n",
       "      <td>NaN</td>\n",
       "      <td>NaN</td>\n",
       "    </tr>\n",
       "    <tr>\n",
       "      <th>3</th>\n",
       "      <td>4287025</td>\n",
       "      <td>201402</td>\n",
       "      <td>2014-03-01 19:57:31</td>\n",
       "      <td>1</td>\n",
       "      <td>PEDIDOS DE EMPREGO NO FIM DO MÊS</td>\n",
       "      <td>140</td>\n",
       "      <td>CTE Maia</td>\n",
       "      <td>NaN</td>\n",
       "      <td>NaN</td>\n",
       "      <td>NaN</td>\n",
       "      <td>...</td>\n",
       "      <td>NaN</td>\n",
       "      <td>NaN</td>\n",
       "      <td>NaN</td>\n",
       "      <td>NaN</td>\n",
       "      <td>NaN</td>\n",
       "      <td>NaN</td>\n",
       "      <td>NaN</td>\n",
       "      <td>NaN</td>\n",
       "      <td>NaN</td>\n",
       "      <td>53.0</td>\n",
       "    </tr>\n",
       "    <tr>\n",
       "      <th>4</th>\n",
       "      <td>5631572</td>\n",
       "      <td>201402</td>\n",
       "      <td>2014-03-01 20:53:23</td>\n",
       "      <td>1</td>\n",
       "      <td>PEDIDOS DE EMPREGO NO FIM DO MÊS</td>\n",
       "      <td>310</td>\n",
       "      <td>CTEF Seixal</td>\n",
       "      <td>NaN</td>\n",
       "      <td>NaN</td>\n",
       "      <td>NaN</td>\n",
       "      <td>...</td>\n",
       "      <td>NaN</td>\n",
       "      <td>NaN</td>\n",
       "      <td>NaN</td>\n",
       "      <td>NaN</td>\n",
       "      <td>NaN</td>\n",
       "      <td>NaN</td>\n",
       "      <td>NaN</td>\n",
       "      <td>NaN</td>\n",
       "      <td>NaN</td>\n",
       "      <td>NaN</td>\n",
       "    </tr>\n",
       "  </tbody>\n",
       "</table>\n",
       "<p>5 rows × 45 columns</p>\n",
       "</div>"
      ],
      "text/plain": [
       "    UTE_ID  ANO_MES      DATA_MOVIMENTO  TIPO_MOVIMENTO  \\\n",
       "0  5062277   201402 2014-03-01 20:05:34               1   \n",
       "1  4127072   201402 2014-03-01 19:56:38               1   \n",
       "2  4131592   201402 2014-03-01 19:56:48               1   \n",
       "3  4287025   201402 2014-03-01 19:57:31               1   \n",
       "4  5631572   201402 2014-03-01 20:53:23               1   \n",
       "\n",
       "                    DTIPO_MOVIMENTO  CENTROA    DCENTRO_AB AREA_CURSO  \\\n",
       "0  PEDIDOS DE EMPREGO NO FIM DO MÊS      302    CTE Almada        NaN   \n",
       "1  PEDIDOS DE EMPREGO NO FIM DO MÊS      151  CTE Gondomar        NaN   \n",
       "2  PEDIDOS DE EMPREGO NO FIM DO MÊS      151  CTE Gondomar        NaN   \n",
       "3  PEDIDOS DE EMPREGO NO FIM DO MÊS      140      CTE Maia        NaN   \n",
       "4  PEDIDOS DE EMPREGO NO FIM DO MÊS      310   CTEF Seixal        NaN   \n",
       "\n",
       "   ANO_CONCLUSAO_CURSO  CEST_SUPERIOR  ...  DATA_COLOCACAO CPP DCPP  \\\n",
       "0                  NaN            NaN  ...             NaN NaN  NaN   \n",
       "1                  NaN            NaN  ...             NaN NaN  NaN   \n",
       "2                  NaN            NaN  ...             NaN NaN  NaN   \n",
       "3                  NaN            NaN  ...             NaN NaN  NaN   \n",
       "4                  NaN            NaN  ...             NaN NaN  NaN   \n",
       "\n",
       "  CAE_COLOCACAO DCAE_COLOCACAO  TIPO_CONTRATO_COLOC REGIME_CONTRATO_COLOC  \\\n",
       "0           NaN            NaN                  NaN                   NaN   \n",
       "1           NaN            NaN                  NaN                   NaN   \n",
       "2           NaN            NaN                  NaN                   NaN   \n",
       "3           NaN            NaN                  NaN                   NaN   \n",
       "4           NaN            NaN                  NaN                   NaN   \n",
       "\n",
       "  REGIME_HORARIO PAIS_COLOCACAO TIPO_OCUPACAO  \n",
       "0            NaN            NaN           NaN  \n",
       "1            NaN            NaN           NaN  \n",
       "2            NaN            NaN           NaN  \n",
       "3            NaN            NaN          53.0  \n",
       "4            NaN            NaN           NaN  \n",
       "\n",
       "[5 rows x 45 columns]"
      ]
     },
     "execution_count": 7,
     "metadata": {},
     "output_type": "execute_result"
    }
   ],
   "source": [
    "pedidos3.head()"
   ]
  },
  {
   "cell_type": "code",
   "execution_count": 8,
   "metadata": {},
   "outputs": [
    {
     "data": {
      "text/plain": [
       "(318253, 47)"
      ]
     },
     "execution_count": 8,
     "metadata": {},
     "output_type": "execute_result"
    }
   ],
   "source": [
    "pedidos1.shape"
   ]
  },
  {
   "cell_type": "code",
   "execution_count": 9,
   "metadata": {},
   "outputs": [
    {
     "data": {
      "text/plain": [
       "(384551, 47)"
      ]
     },
     "execution_count": 9,
     "metadata": {},
     "output_type": "execute_result"
    }
   ],
   "source": [
    "pedidos2.shape"
   ]
  },
  {
   "cell_type": "code",
   "execution_count": 10,
   "metadata": {},
   "outputs": [
    {
     "data": {
      "text/plain": [
       "(49593, 45)"
      ]
     },
     "execution_count": 10,
     "metadata": {},
     "output_type": "execute_result"
    }
   ],
   "source": [
    "pedidos3.shape"
   ]
  },
  {
   "cell_type": "code",
   "execution_count": 11,
   "metadata": {},
   "outputs": [
    {
     "data": {
      "text/plain": [
       "UTE_ID                        0\n",
       "ANO_MES                       0\n",
       "DATA_MOVIMENTO                0\n",
       "TIPO_MOVIMENTO                0\n",
       "DTIPO_MOVIMENTO               0\n",
       "CENTROA                       0\n",
       "DCENTRO_AB                   12\n",
       "AREA_CURSO               282900\n",
       "ANO_CONCLUSAO_CURSO      282921\n",
       "CEST_SUPERIOR            282940\n",
       "DEFICIENCIA                   0\n",
       "DDEFICIENCIA                  0\n",
       "HABILITACAO                   0\n",
       "DHABILITACAO_ESCOLAR          0\n",
       "DATA_NASCIMENTO               0\n",
       "IDADE                         0\n",
       "NACIONALIDADE                 0\n",
       "DNACIONALIDADE                0\n",
       "FREGUESIA                     0\n",
       "DFREGUESIA                    0\n",
       "SEXO                          0\n",
       "CATEGORIA                     0\n",
       "DCATEGORIA                    0\n",
       "DATA_INSCRICAO                0\n",
       "MOTIVO_INSCRICAO              0\n",
       "DMOTIVO_INSCRICAO             0\n",
       "RINSC                         0\n",
       "INT_TEMPO_INSCRICAO           0\n",
       "CPP_PRETENDIDA              334\n",
       "DCPP_PRETENDIDA             334\n",
       "CAE_ANTERIOR              39494\n",
       "DCAE                      39494\n",
       "DATA_ANULACAO            292622\n",
       "MOTIVO_ANULACAO          292568\n",
       "DMOTIVO_ANULACAO         292568\n",
       "DATA_COLOCACAO           312372\n",
       "CPP                      313543\n",
       "DCPP                     313543\n",
       "CAE_COLOCACAO            313543\n",
       "DCAE_COLOCACAO           313543\n",
       "TIPO_CONTRATO_COLOC      313543\n",
       "REGIME_CONTRATO_COLOC    313543\n",
       "REGIME_HORARIO           313543\n",
       "PAIS_COLOCACAO           318253\n",
       "TIPO_OCUPACAO            194319\n",
       "ANOMES_12INI                  0\n",
       "ANOMES_INI                    0\n",
       "dtype: int64"
      ]
     },
     "execution_count": 11,
     "metadata": {},
     "output_type": "execute_result"
    }
   ],
   "source": [
    "pedidos1.isnull().sum()"
   ]
  },
  {
   "cell_type": "code",
   "execution_count": 12,
   "metadata": {},
   "outputs": [
    {
     "data": {
      "text/plain": [
       "UTE_ID                        0\n",
       "ANO_MES                       0\n",
       "DATA_MOVIMENTO                0\n",
       "TIPO_MOVIMENTO                0\n",
       "DTIPO_MOVIMENTO               0\n",
       "CENTROA                       0\n",
       "DCENTRO_AB                    3\n",
       "AREA_CURSO               344608\n",
       "ANO_CONCLUSAO_CURSO      344629\n",
       "CEST_SUPERIOR            344647\n",
       "DEFICIENCIA                   0\n",
       "DDEFICIENCIA                  0\n",
       "HABILITACAO                   0\n",
       "DHABILITACAO_ESCOLAR          0\n",
       "DATA_NASCIMENTO               0\n",
       "IDADE                         0\n",
       "NACIONALIDADE                 0\n",
       "DNACIONALIDADE                0\n",
       "FREGUESIA                     0\n",
       "DFREGUESIA                    0\n",
       "SEXO                          0\n",
       "CATEGORIA                     0\n",
       "DCATEGORIA                    0\n",
       "DATA_INSCRICAO                0\n",
       "MOTIVO_INSCRICAO              0\n",
       "DMOTIVO_INSCRICAO             0\n",
       "RINSC                         0\n",
       "INT_TEMPO_INSCRICAO           0\n",
       "CPP_PRETENDIDA              260\n",
       "DCPP_PRETENDIDA             260\n",
       "CAE_ANTERIOR              45418\n",
       "DCAE                      45418\n",
       "DATA_ANULACAO            323432\n",
       "MOTIVO_ANULACAO          323308\n",
       "DMOTIVO_ANULACAO         323308\n",
       "DATA_COLOCACAO           370832\n",
       "CPP                      373582\n",
       "DCPP                     373582\n",
       "CAE_COLOCACAO            373582\n",
       "DCAE_COLOCACAO           373582\n",
       "TIPO_CONTRATO_COLOC      373582\n",
       "REGIME_CONTRATO_COLOC    373582\n",
       "REGIME_HORARIO           373582\n",
       "PAIS_COLOCACAO           384551\n",
       "TIPO_OCUPACAO            298335\n",
       "ANOMES_FIM                    0\n",
       "ANOMES_12FIM                  0\n",
       "dtype: int64"
      ]
     },
     "execution_count": 12,
     "metadata": {},
     "output_type": "execute_result"
    }
   ],
   "source": [
    "pedidos2.isnull().sum()"
   ]
  },
  {
   "cell_type": "code",
   "execution_count": 13,
   "metadata": {},
   "outputs": [
    {
     "data": {
      "text/plain": [
       "UTE_ID                       0\n",
       "ANO_MES                      0\n",
       "DATA_MOVIMENTO               0\n",
       "TIPO_MOVIMENTO               0\n",
       "DTIPO_MOVIMENTO              0\n",
       "CENTROA                      0\n",
       "DCENTRO_AB                   0\n",
       "AREA_CURSO               44545\n",
       "ANO_CONCLUSAO_CURSO      44553\n",
       "CEST_SUPERIOR            44557\n",
       "DEFICIENCIA                  0\n",
       "DDEFICIENCIA                 0\n",
       "HABILITACAO                  0\n",
       "DHABILITACAO_ESCOLAR         0\n",
       "DATA_NASCIMENTO              0\n",
       "IDADE                        0\n",
       "NACIONALIDADE                0\n",
       "DNACIONALIDADE               0\n",
       "FREGUESIA                    0\n",
       "DFREGUESIA                   0\n",
       "SEXO                         0\n",
       "CATEGORIA                    0\n",
       "DCATEGORIA                   0\n",
       "DATA_INSCRICAO               0\n",
       "MOTIVO_INSCRICAO             0\n",
       "DMOTIVO_INSCRICAO            0\n",
       "RINSC                        0\n",
       "INT_TEMPO_INSCRICAO          0\n",
       "CPP_PRETENDIDA              19\n",
       "DCPP_PRETENDIDA             19\n",
       "CAE_ANTERIOR              6711\n",
       "DCAE                      6711\n",
       "DATA_ANULACAO            49493\n",
       "MOTIVO_ANULACAO          49483\n",
       "DMOTIVO_ANULACAO         49483\n",
       "DATA_COLOCACAO           49593\n",
       "CPP                      49593\n",
       "DCPP                     49593\n",
       "CAE_COLOCACAO            49593\n",
       "DCAE_COLOCACAO           49593\n",
       "TIPO_CONTRATO_COLOC      49593\n",
       "REGIME_CONTRATO_COLOC    49593\n",
       "REGIME_HORARIO           49593\n",
       "PAIS_COLOCACAO           49593\n",
       "TIPO_OCUPACAO            36457\n",
       "dtype: int64"
      ]
     },
     "execution_count": 13,
     "metadata": {},
     "output_type": "execute_result"
    }
   ],
   "source": [
    "pedidos3.isnull().sum()"
   ]
  },
  {
   "cell_type": "markdown",
   "metadata": {},
   "source": [
    "<div style=\"background-color: #2f648a; border-radius: 5px;\"> \n",
    "    <center><h1 style=\"color: white; padding: 20px;\">3. Análise de variáveis</h1></center>\n",
    "</div>"
   ]
  },
  {
   "cell_type": "code",
   "execution_count": 11,
   "metadata": {},
   "outputs": [
    {
     "data": {
      "text/plain": [
       "array(['MUDANÇAS CATEGORIA', 'PEDIDOS DE EMPREGO AO LONGO DO MÊS',\n",
       "       'ANULAÇÕES AO LONGO DO MÊS', 'COLOCAÇÕES AO LONGO DO MÊS'],\n",
       "      dtype=object)"
      ]
     },
     "execution_count": 11,
     "metadata": {},
     "output_type": "execute_result"
    }
   ],
   "source": [
    "pedidos1['DTIPO_MOVIMENTO'].unique()"
   ]
  },
  {
   "cell_type": "markdown",
   "metadata": {},
   "source": [
    "<div style=\"background-color: #2f648a; border-radius: 5px;\"> \n",
    "    <center><h1 style=\"color: white; padding: 20px;\">4. Exportar dataset final</h1></center>\n",
    "</div>"
   ]
  },
  {
   "cell_type": "code",
   "execution_count": 12,
   "metadata": {},
   "outputs": [
    {
     "data": {
      "text/html": [
       "<div>\n",
       "<style scoped>\n",
       "    .dataframe tbody tr th:only-of-type {\n",
       "        vertical-align: middle;\n",
       "    }\n",
       "\n",
       "    .dataframe tbody tr th {\n",
       "        vertical-align: top;\n",
       "    }\n",
       "\n",
       "    .dataframe thead th {\n",
       "        text-align: right;\n",
       "    }\n",
       "</style>\n",
       "<table border=\"1\" class=\"dataframe\">\n",
       "  <thead>\n",
       "    <tr style=\"text-align: right;\">\n",
       "      <th></th>\n",
       "      <th>UTE_ID</th>\n",
       "      <th>IDADE</th>\n",
       "      <th>SEXO</th>\n",
       "      <th>CATEGORIA</th>\n",
       "      <th>DCATEGORIA</th>\n",
       "      <th>CPP_PRETENDIDA</th>\n",
       "      <th>DCPP_PRETENDIDA</th>\n",
       "    </tr>\n",
       "  </thead>\n",
       "  <tbody>\n",
       "    <tr>\n",
       "      <th>0</th>\n",
       "      <td>4853974</td>\n",
       "      <td>34</td>\n",
       "      <td>M</td>\n",
       "      <td>1</td>\n",
       "      <td>DESEMPREGADO-1º EMPREGO</td>\n",
       "      <td>52230.0</td>\n",
       "      <td>VENDEDOR EM LOJA (ESTABELECIMENTO)</td>\n",
       "    </tr>\n",
       "    <tr>\n",
       "      <th>1</th>\n",
       "      <td>4853974</td>\n",
       "      <td>34</td>\n",
       "      <td>M</td>\n",
       "      <td>5</td>\n",
       "      <td>OCUPADO</td>\n",
       "      <td>52230.0</td>\n",
       "      <td>VENDEDOR EM LOJA (ESTABELECIMENTO)</td>\n",
       "    </tr>\n",
       "    <tr>\n",
       "      <th>2</th>\n",
       "      <td>1102550</td>\n",
       "      <td>56</td>\n",
       "      <td>M</td>\n",
       "      <td>2</td>\n",
       "      <td>DESEMPREGADO-NOVO EMPREGO</td>\n",
       "      <td>63100.0</td>\n",
       "      <td>AGRICULTOR DE SUBSISTÊNCIA</td>\n",
       "    </tr>\n",
       "    <tr>\n",
       "      <th>3</th>\n",
       "      <td>1102550</td>\n",
       "      <td>56</td>\n",
       "      <td>M</td>\n",
       "      <td>2</td>\n",
       "      <td>DESEMPREGADO-NOVO EMPREGO</td>\n",
       "      <td>63100.0</td>\n",
       "      <td>AGRICULTOR DE SUBSISTÊNCIA</td>\n",
       "    </tr>\n",
       "    <tr>\n",
       "      <th>4</th>\n",
       "      <td>6172405</td>\n",
       "      <td>23</td>\n",
       "      <td>M</td>\n",
       "      <td>2</td>\n",
       "      <td>DESEMPREGADO-NOVO EMPREGO</td>\n",
       "      <td>82110.0</td>\n",
       "      <td>MONTADOR DE MAQUINARIA MECÂNICA</td>\n",
       "    </tr>\n",
       "  </tbody>\n",
       "</table>\n",
       "</div>"
      ],
      "text/plain": [
       "    UTE_ID  IDADE SEXO  CATEGORIA                 DCATEGORIA  CPP_PRETENDIDA  \\\n",
       "0  4853974     34    M          1    DESEMPREGADO-1º EMPREGO         52230.0   \n",
       "1  4853974     34    M          5                    OCUPADO         52230.0   \n",
       "2  1102550     56    M          2  DESEMPREGADO-NOVO EMPREGO         63100.0   \n",
       "3  1102550     56    M          2  DESEMPREGADO-NOVO EMPREGO         63100.0   \n",
       "4  6172405     23    M          2  DESEMPREGADO-NOVO EMPREGO         82110.0   \n",
       "\n",
       "                      DCPP_PRETENDIDA  \n",
       "0  VENDEDOR EM LOJA (ESTABELECIMENTO)  \n",
       "1  VENDEDOR EM LOJA (ESTABELECIMENTO)  \n",
       "2          AGRICULTOR DE SUBSISTÊNCIA  \n",
       "3          AGRICULTOR DE SUBSISTÊNCIA  \n",
       "4     MONTADOR DE MAQUINARIA MECÂNICA  "
      ]
     },
     "execution_count": 12,
     "metadata": {},
     "output_type": "execute_result"
    }
   ],
   "source": [
    "# dataset para permitir a identificação da região, consoante o centro de emprego\n",
    "final = pedidos2[['UTE_ID', 'IDADE','SEXO','CATEGORIA', 'DCATEGORIA', 'CPP_PRETENDIDA','DCPP_PRETENDIDA']]\n",
    "final.head()"
   ]
  },
  {
   "cell_type": "code",
   "execution_count": 13,
   "metadata": {},
   "outputs": [
    {
     "data": {
      "text/plain": [
       "UTE_ID               0\n",
       "IDADE                0\n",
       "SEXO                 0\n",
       "CATEGORIA            0\n",
       "DCATEGORIA           0\n",
       "CPP_PRETENDIDA     260\n",
       "DCPP_PRETENDIDA    260\n",
       "dtype: int64"
      ]
     },
     "execution_count": 13,
     "metadata": {},
     "output_type": "execute_result"
    }
   ],
   "source": [
    "final.isnull().sum()"
   ]
  },
  {
   "cell_type": "code",
   "execution_count": 14,
   "metadata": {},
   "outputs": [
    {
     "data": {
      "text/plain": [
       "(384551, 7)"
      ]
     },
     "execution_count": 14,
     "metadata": {},
     "output_type": "execute_result"
    }
   ],
   "source": [
    "final.shape"
   ]
  },
  {
   "cell_type": "code",
   "execution_count": 15,
   "metadata": {},
   "outputs": [],
   "source": [
    "final.to_csv(\"databases/pedidos.csv\")"
   ]
  }
 ],
 "metadata": {
  "kernelspec": {
   "display_name": "Python 3",
   "language": "python",
   "name": "python3"
  },
  "language_info": {
   "codemirror_mode": {
    "name": "ipython",
    "version": 3
   },
   "file_extension": ".py",
   "mimetype": "text/x-python",
   "name": "python",
   "nbconvert_exporter": "python",
   "pygments_lexer": "ipython3",
   "version": "3.8.3"
  }
 },
 "nbformat": 4,
 "nbformat_minor": 4
}
