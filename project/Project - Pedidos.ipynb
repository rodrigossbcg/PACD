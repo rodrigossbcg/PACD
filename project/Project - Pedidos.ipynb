{
 "cells": [
  {
   "cell_type": "markdown",
   "metadata": {},
   "source": [
    "<img src=\"images/intro.jpeg\">"
   ]
  },
  {
   "cell_type": "markdown",
   "metadata": {},
   "source": [
    "<center><h1><b> Project - Pedidos </b></h1></center>"
   ]
  },
  {
   "cell_type": "markdown",
   "metadata": {},
   "source": [
    "<div style=\"background-color: #047800; border-radius: 5px;\"> \n",
    "    <center><h1 style=\"color: white; padding: 20px;\">1. Imports</h1></center>\n",
    "</div>"
   ]
  },
  {
   "cell_type": "code",
   "execution_count": 1,
   "metadata": {},
   "outputs": [],
   "source": [
    "import pandas as pd\n",
    "from pandas import ExcelWriter\n",
    "from pandas import ExcelFile\n",
    "import seaborn as sns\n",
    "from matplotlib import pyplot as plt"
   ]
  },
  {
   "cell_type": "markdown",
   "metadata": {},
   "source": [
    "<div style=\"background-color: #047800; border-radius: 5px;\"> \n",
    "    <center><h1 style=\"color: white; padding: 20px;\">2. Read Files</h1></center>\n",
    "</div>\n",
    "\n",
    "Importar as 3 bases de dados relativas às intervenções para 3 DataFrames pandas."
   ]
  },
  {
   "cell_type": "code",
   "execution_count": 2,
   "metadata": {},
   "outputs": [
    {
     "data": {
      "text/plain": [
       "(318253, 47)"
      ]
     },
     "execution_count": 2,
     "metadata": {},
     "output_type": "execute_result"
    }
   ],
   "source": [
    "pedidos1 = pd.read_excel(\"databases/apura_iscte_lpedidos_ant.xlsx\")\n",
    "pedidos1.shape"
   ]
  },
  {
   "cell_type": "code",
   "execution_count": 3,
   "metadata": {},
   "outputs": [
    {
     "data": {
      "text/plain": [
       "(384551, 47)"
      ]
     },
     "execution_count": 3,
     "metadata": {},
     "output_type": "execute_result"
    }
   ],
   "source": [
    "pedidos2 = pd.read_excel(\"databases/apura_iscte_lpedidos_apos.xlsx\")\n",
    "pedidos2.shape"
   ]
  },
  {
   "cell_type": "code",
   "execution_count": 4,
   "metadata": {},
   "outputs": [
    {
     "data": {
      "text/plain": [
       "(49593, 45)"
      ]
     },
     "execution_count": 4,
     "metadata": {},
     "output_type": "execute_result"
    }
   ],
   "source": [
    "pedidos3 = pd.read_excel(\"databases/apura_iscte_m01.xlsx\")\n",
    "pedidos3.shape"
   ]
  },
  {
   "cell_type": "markdown",
   "metadata": {},
   "source": [
    "<div style=\"background-color: #047800; border-radius: 5px;\"> \n",
    "    <center><h1 style=\"color: white; padding: 20px;\">3. Limpeza das bases de dados </h1></center>\n",
    "</div>"
   ]
  },
  {
   "cell_type": "markdown",
   "metadata": {},
   "source": [
    "<div style=\"border: solid 4px #047800; border-radius: 5px;\"> \n",
    "    <center><h3 style=\"color: #047800; padding: 10px;\">3.1. Seleção de variáveis para análise</h3></center>\n",
    "</div>"
   ]
  },
  {
   "cell_type": "code",
   "execution_count": 5,
   "metadata": {},
   "outputs": [],
   "source": [
    "pedidos1 = pedidos1[['UTE_ID','ANO_MES','DTIPO_MOVIMENTO','CENTROA','DCENTRO_AB',\n",
    "                     'DEFICIENCIA', 'DDEFICIENCIA', 'HABILITACAO','IDADE','NACIONALIDADE', \n",
    "                     'DNACIONALIDADE','SEXO','CATEGORIA','CPP_PRETENDIDA','DCPP_PRETENDIDA', 'CAE_ANTERIOR','MOTIVO_INSCRICAO','DMOTIVO_INSCRICAO']]"
   ]
  },
  {
   "cell_type": "code",
   "execution_count": 6,
   "metadata": {},
   "outputs": [],
   "source": [
    "pedidos2 = pedidos2[['UTE_ID','ANO_MES','DTIPO_MOVIMENTO','CENTROA','DCENTRO_AB',\n",
    "                     'DEFICIENCIA', 'DDEFICIENCIA', 'HABILITACAO','IDADE','NACIONALIDADE', \n",
    "                     'DNACIONALIDADE','SEXO','CATEGORIA','CPP_PRETENDIDA','DCPP_PRETENDIDA', 'CAE_ANTERIOR','MOTIVO_INSCRICAO','DMOTIVO_INSCRICAO']]"
   ]
  },
  {
   "cell_type": "code",
   "execution_count": 7,
   "metadata": {},
   "outputs": [],
   "source": [
    "pedidos3 = pedidos3[['UTE_ID','ANO_MES','DTIPO_MOVIMENTO','CENTROA','DCENTRO_AB',\n",
    "                     'DEFICIENCIA', 'DDEFICIENCIA', 'HABILITACAO','IDADE','NACIONALIDADE', \n",
    "                     'DNACIONALIDADE','SEXO','CATEGORIA','CPP_PRETENDIDA','DCPP_PRETENDIDA', 'CAE_ANTERIOR','MOTIVO_INSCRICAO','DMOTIVO_INSCRICAO']]"
   ]
  },
  {
   "cell_type": "markdown",
   "metadata": {},
   "source": [
    "<div style=\"border: solid 4px #047800; border-radius: 5px;\"> \n",
    "    <center><h3 style=\"color: #047800; padding: 10px;\">3.2. Tratamento de valores omissos</h3></center>\n",
    "</div>"
   ]
  },
  {
   "cell_type": "code",
   "execution_count": 8,
   "metadata": {},
   "outputs": [
    {
     "data": {
      "text/plain": [
       "UTE_ID                   0\n",
       "ANO_MES                  0\n",
       "DTIPO_MOVIMENTO          0\n",
       "CENTROA                  0\n",
       "DCENTRO_AB              12\n",
       "DEFICIENCIA              0\n",
       "DDEFICIENCIA             0\n",
       "HABILITACAO              0\n",
       "IDADE                    0\n",
       "NACIONALIDADE            0\n",
       "DNACIONALIDADE           0\n",
       "SEXO                     0\n",
       "CATEGORIA                0\n",
       "CPP_PRETENDIDA         334\n",
       "DCPP_PRETENDIDA        334\n",
       "CAE_ANTERIOR         39494\n",
       "MOTIVO_INSCRICAO         0\n",
       "DMOTIVO_INSCRICAO        0\n",
       "dtype: int64"
      ]
     },
     "execution_count": 8,
     "metadata": {},
     "output_type": "execute_result"
    }
   ],
   "source": [
    "pedidos1.isnull().sum()"
   ]
  },
  {
   "cell_type": "code",
   "execution_count": 9,
   "metadata": {},
   "outputs": [
    {
     "data": {
      "text/plain": [
       "(278621, 18)"
      ]
     },
     "execution_count": 9,
     "metadata": {},
     "output_type": "execute_result"
    }
   ],
   "source": [
    "pedidos1 = pedidos1.dropna()\n",
    "pedidos1.shape"
   ]
  },
  {
   "cell_type": "code",
   "execution_count": 10,
   "metadata": {},
   "outputs": [
    {
     "data": {
      "text/plain": [
       "UTE_ID                   0\n",
       "ANO_MES                  0\n",
       "DTIPO_MOVIMENTO          0\n",
       "CENTROA                  0\n",
       "DCENTRO_AB               3\n",
       "DEFICIENCIA              0\n",
       "DDEFICIENCIA             0\n",
       "HABILITACAO              0\n",
       "IDADE                    0\n",
       "NACIONALIDADE            0\n",
       "DNACIONALIDADE           0\n",
       "SEXO                     0\n",
       "CATEGORIA                0\n",
       "CPP_PRETENDIDA         260\n",
       "DCPP_PRETENDIDA        260\n",
       "CAE_ANTERIOR         45418\n",
       "MOTIVO_INSCRICAO         0\n",
       "DMOTIVO_INSCRICAO        0\n",
       "dtype: int64"
      ]
     },
     "execution_count": 10,
     "metadata": {},
     "output_type": "execute_result"
    }
   ],
   "source": [
    "pedidos2.isnull().sum()"
   ]
  },
  {
   "cell_type": "code",
   "execution_count": 11,
   "metadata": {},
   "outputs": [
    {
     "data": {
      "text/plain": [
       "(339028, 18)"
      ]
     },
     "execution_count": 11,
     "metadata": {},
     "output_type": "execute_result"
    }
   ],
   "source": [
    "pedidos2 = pedidos2.dropna()\n",
    "pedidos2.shape"
   ]
  },
  {
   "cell_type": "code",
   "execution_count": 12,
   "metadata": {},
   "outputs": [
    {
     "data": {
      "text/plain": [
       "UTE_ID                  0\n",
       "ANO_MES                 0\n",
       "DTIPO_MOVIMENTO         0\n",
       "CENTROA                 0\n",
       "DCENTRO_AB              0\n",
       "DEFICIENCIA             0\n",
       "DDEFICIENCIA            0\n",
       "HABILITACAO             0\n",
       "IDADE                   0\n",
       "NACIONALIDADE           0\n",
       "DNACIONALIDADE          0\n",
       "SEXO                    0\n",
       "CATEGORIA               0\n",
       "CPP_PRETENDIDA         19\n",
       "DCPP_PRETENDIDA        19\n",
       "CAE_ANTERIOR         6711\n",
       "MOTIVO_INSCRICAO        0\n",
       "DMOTIVO_INSCRICAO       0\n",
       "dtype: int64"
      ]
     },
     "execution_count": 12,
     "metadata": {},
     "output_type": "execute_result"
    }
   ],
   "source": [
    "pedidos3.isnull().sum()"
   ]
  },
  {
   "cell_type": "code",
   "execution_count": 13,
   "metadata": {},
   "outputs": [
    {
     "data": {
      "text/plain": [
       "(42872, 18)"
      ]
     },
     "execution_count": 13,
     "metadata": {},
     "output_type": "execute_result"
    }
   ],
   "source": [
    "pedidos3 = pedidos3.dropna()\n",
    "pedidos3.shape"
   ]
  },
  {
   "cell_type": "markdown",
   "metadata": {},
   "source": [
    "<div style=\"border: solid 4px #047800; border-radius: 5px;\"> \n",
    "    <center><h3 style=\"color: #047800; padding: 10px;\">3.4. Junção das bases de dados</h3></center>\n",
    "</div>"
   ]
  },
  {
   "cell_type": "code",
   "execution_count": 14,
   "metadata": {},
   "outputs": [
    {
     "data": {
      "text/plain": [
       "(660521, 18)"
      ]
     },
     "execution_count": 14,
     "metadata": {},
     "output_type": "execute_result"
    }
   ],
   "source": [
    "# junção vertical das tabelas\n",
    "pedidos_final = [pedidos1, pedidos2, pedidos3]\n",
    "pedidos_final = pd.concat(pedidos_final)\n",
    "\n",
    "pedidos_final.shape"
   ]
  },
  {
   "cell_type": "markdown",
   "metadata": {},
   "source": [
    "<div style=\"background-color: #047800; border-radius: 5px;\"> \n",
    "    <center><h1 style=\"color: white; padding: 20px;\">4. Análise de variáveis</h1></center>\n",
    "</div>"
   ]
  },
  {
   "cell_type": "markdown",
   "metadata": {},
   "source": [
    "<div style=\"border: solid 4px #047800; border-radius: 5px;\"> \n",
    "    <center><h3 style=\"color: #047800; padding: 10px;\">4.1. Análise UTE_ID</h3></center>\n",
    "</div>"
   ]
  },
  {
   "cell_type": "code",
   "execution_count": 15,
   "metadata": {},
   "outputs": [
    {
     "data": {
      "text/plain": [
       "73316"
      ]
     },
     "execution_count": 15,
     "metadata": {},
     "output_type": "execute_result"
    }
   ],
   "source": [
    "# Em 660521 observações existem apenas 73316 valores diferentes para UTE_ID\n",
    "pedidos_final['UTE_ID'].nunique()"
   ]
  },
  {
   "cell_type": "code",
   "execution_count": 16,
   "metadata": {},
   "outputs": [
    {
     "data": {
      "text/html": [
       "<div>\n",
       "<style scoped>\n",
       "    .dataframe tbody tr th:only-of-type {\n",
       "        vertical-align: middle;\n",
       "    }\n",
       "\n",
       "    .dataframe tbody tr th {\n",
       "        vertical-align: top;\n",
       "    }\n",
       "\n",
       "    .dataframe thead th {\n",
       "        text-align: right;\n",
       "    }\n",
       "</style>\n",
       "<table border=\"1\" class=\"dataframe\">\n",
       "  <thead>\n",
       "    <tr style=\"text-align: right;\">\n",
       "      <th></th>\n",
       "      <th>UTE_ID</th>\n",
       "      <th>ANO_MES</th>\n",
       "      <th>DTIPO_MOVIMENTO</th>\n",
       "      <th>CENTROA</th>\n",
       "      <th>DCENTRO_AB</th>\n",
       "      <th>DEFICIENCIA</th>\n",
       "      <th>DDEFICIENCIA</th>\n",
       "      <th>HABILITACAO</th>\n",
       "      <th>IDADE</th>\n",
       "      <th>NACIONALIDADE</th>\n",
       "      <th>DNACIONALIDADE</th>\n",
       "      <th>SEXO</th>\n",
       "      <th>CATEGORIA</th>\n",
       "      <th>CPP_PRETENDIDA</th>\n",
       "      <th>DCPP_PRETENDIDA</th>\n",
       "      <th>CAE_ANTERIOR</th>\n",
       "      <th>MOTIVO_INSCRICAO</th>\n",
       "      <th>DMOTIVO_INSCRICAO</th>\n",
       "    </tr>\n",
       "  </thead>\n",
       "  <tbody>\n",
       "    <tr>\n",
       "      <th>6</th>\n",
       "      <td>1102550</td>\n",
       "      <td>201703</td>\n",
       "      <td>PEDIDOS DE EMPREGO AO LONGO DO MÊS</td>\n",
       "      <td>123</td>\n",
       "      <td>CTEF Bragança</td>\n",
       "      <td>0</td>\n",
       "      <td>NÃO DEFICIENTE</td>\n",
       "      <td>04</td>\n",
       "      <td>55</td>\n",
       "      <td>PT</td>\n",
       "      <td>PORTUGAL</td>\n",
       "      <td>M</td>\n",
       "      <td>2</td>\n",
       "      <td>63100.0</td>\n",
       "      <td>AGRICULTOR DE SUBSISTÊNCIA</td>\n",
       "      <td>2100.0</td>\n",
       "      <td>8</td>\n",
       "      <td>FIM DE TRABALHO NÃO PERMANENTE</td>\n",
       "    </tr>\n",
       "    <tr>\n",
       "      <th>11</th>\n",
       "      <td>5113515</td>\n",
       "      <td>201709</td>\n",
       "      <td>MUDANÇAS CATEGORIA</td>\n",
       "      <td>123</td>\n",
       "      <td>CTEF Bragança</td>\n",
       "      <td>0</td>\n",
       "      <td>NÃO DEFICIENTE</td>\n",
       "      <td>LC</td>\n",
       "      <td>27</td>\n",
       "      <td>PT</td>\n",
       "      <td>PORTUGAL</td>\n",
       "      <td>F</td>\n",
       "      <td>2</td>\n",
       "      <td>42210.0</td>\n",
       "      <td>EMPREGADO DAS AGÊNCIAS DE VIAGENS</td>\n",
       "      <td>47111.0</td>\n",
       "      <td>8</td>\n",
       "      <td>FIM DE TRABALHO NÃO PERMANENTE</td>\n",
       "    </tr>\n",
       "    <tr>\n",
       "      <th>14</th>\n",
       "      <td>1126019</td>\n",
       "      <td>201803</td>\n",
       "      <td>MUDANÇAS CATEGORIA</td>\n",
       "      <td>123</td>\n",
       "      <td>CTEF Bragança</td>\n",
       "      <td>0</td>\n",
       "      <td>NÃO DEFICIENTE</td>\n",
       "      <td>12</td>\n",
       "      <td>43</td>\n",
       "      <td>PT</td>\n",
       "      <td>PORTUGAL</td>\n",
       "      <td>F</td>\n",
       "      <td>2</td>\n",
       "      <td>52230.0</td>\n",
       "      <td>VENDEDOR EM LOJA (ESTABELECIMENTO)</td>\n",
       "      <td>86100.0</td>\n",
       "      <td>3</td>\n",
       "      <td>FIM DE CURSO DE FORMAÇÃO</td>\n",
       "    </tr>\n",
       "    <tr>\n",
       "      <th>15</th>\n",
       "      <td>1126019</td>\n",
       "      <td>201611</td>\n",
       "      <td>MUDANÇAS CATEGORIA</td>\n",
       "      <td>123</td>\n",
       "      <td>CTEF Bragança</td>\n",
       "      <td>0</td>\n",
       "      <td>NÃO DEFICIENTE</td>\n",
       "      <td>12</td>\n",
       "      <td>41</td>\n",
       "      <td>PT</td>\n",
       "      <td>PORTUGAL</td>\n",
       "      <td>F</td>\n",
       "      <td>5</td>\n",
       "      <td>52230.0</td>\n",
       "      <td>VENDEDOR EM LOJA (ESTABELECIMENTO)</td>\n",
       "      <td>86100.0</td>\n",
       "      <td>3</td>\n",
       "      <td>FIM DE CURSO DE FORMAÇÃO</td>\n",
       "    </tr>\n",
       "    <tr>\n",
       "      <th>16</th>\n",
       "      <td>1126019</td>\n",
       "      <td>201608</td>\n",
       "      <td>MUDANÇAS CATEGORIA</td>\n",
       "      <td>123</td>\n",
       "      <td>CTEF Bragança</td>\n",
       "      <td>0</td>\n",
       "      <td>NÃO DEFICIENTE</td>\n",
       "      <td>12</td>\n",
       "      <td>41</td>\n",
       "      <td>PT</td>\n",
       "      <td>PORTUGAL</td>\n",
       "      <td>F</td>\n",
       "      <td>2</td>\n",
       "      <td>52230.0</td>\n",
       "      <td>VENDEDOR EM LOJA (ESTABELECIMENTO)</td>\n",
       "      <td>86100.0</td>\n",
       "      <td>3</td>\n",
       "      <td>FIM DE CURSO DE FORMAÇÃO</td>\n",
       "    </tr>\n",
       "  </tbody>\n",
       "</table>\n",
       "</div>"
      ],
      "text/plain": [
       "     UTE_ID  ANO_MES                     DTIPO_MOVIMENTO  CENTROA  \\\n",
       "6   1102550   201703  PEDIDOS DE EMPREGO AO LONGO DO MÊS      123   \n",
       "11  5113515   201709                  MUDANÇAS CATEGORIA      123   \n",
       "14  1126019   201803                  MUDANÇAS CATEGORIA      123   \n",
       "15  1126019   201611                  MUDANÇAS CATEGORIA      123   \n",
       "16  1126019   201608                  MUDANÇAS CATEGORIA      123   \n",
       "\n",
       "       DCENTRO_AB  DEFICIENCIA    DDEFICIENCIA HABILITACAO  IDADE  \\\n",
       "6   CTEF Bragança            0  NÃO DEFICIENTE          04     55   \n",
       "11  CTEF Bragança            0  NÃO DEFICIENTE          LC     27   \n",
       "14  CTEF Bragança            0  NÃO DEFICIENTE          12     43   \n",
       "15  CTEF Bragança            0  NÃO DEFICIENTE          12     41   \n",
       "16  CTEF Bragança            0  NÃO DEFICIENTE          12     41   \n",
       "\n",
       "   NACIONALIDADE DNACIONALIDADE SEXO  CATEGORIA  CPP_PRETENDIDA  \\\n",
       "6             PT       PORTUGAL    M          2         63100.0   \n",
       "11            PT       PORTUGAL    F          2         42210.0   \n",
       "14            PT       PORTUGAL    F          2         52230.0   \n",
       "15            PT       PORTUGAL    F          5         52230.0   \n",
       "16            PT       PORTUGAL    F          2         52230.0   \n",
       "\n",
       "                       DCPP_PRETENDIDA  CAE_ANTERIOR  MOTIVO_INSCRICAO  \\\n",
       "6           AGRICULTOR DE SUBSISTÊNCIA        2100.0                 8   \n",
       "11   EMPREGADO DAS AGÊNCIAS DE VIAGENS       47111.0                 8   \n",
       "14  VENDEDOR EM LOJA (ESTABELECIMENTO)       86100.0                 3   \n",
       "15  VENDEDOR EM LOJA (ESTABELECIMENTO)       86100.0                 3   \n",
       "16  VENDEDOR EM LOJA (ESTABELECIMENTO)       86100.0                 3   \n",
       "\n",
       "                 DMOTIVO_INSCRICAO  \n",
       "6   FIM DE TRABALHO NÃO PERMANENTE  \n",
       "11  FIM DE TRABALHO NÃO PERMANENTE  \n",
       "14        FIM DE CURSO DE FORMAÇÃO  \n",
       "15        FIM DE CURSO DE FORMAÇÃO  \n",
       "16        FIM DE CURSO DE FORMAÇÃO  "
      ]
     },
     "execution_count": 16,
     "metadata": {},
     "output_type": "execute_result"
    }
   ],
   "source": [
    "# Visualizar alguns dos duplicados\n",
    "duplicados = pedidos_final.duplicated(subset=['UTE_ID'])\n",
    "teste_duplicados = pedidos_final[duplicados]\n",
    "teste_duplicados.head(5)"
   ]
  },
  {
   "cell_type": "code",
   "execution_count": 17,
   "metadata": {},
   "outputs": [
    {
     "data": {
      "text/plain": [
       "(82855, 18)"
      ]
     },
     "execution_count": 17,
     "metadata": {},
     "output_type": "execute_result"
    }
   ],
   "source": [
    "# eliminar duplicados do subconjunto UTE_ID e CPP_PRETENDIDA\n",
    "pedidos_final = pedidos_final.drop_duplicates(subset=[\"UTE_ID\", \"CPP_PRETENDIDA\"])\n",
    "pedidos_final.shape"
   ]
  },
  {
   "cell_type": "markdown",
   "metadata": {},
   "source": [
    "<div style=\"border: solid 4px #047800; border-radius: 5px;\"> \n",
    "    <center><h3 style=\"color: #047800; padding: 10px;\">4.2. Análise Tipo de Movimento</h3></center>\n",
    "</div>"
   ]
  },
  {
   "cell_type": "code",
   "execution_count": 18,
   "metadata": {},
   "outputs": [
    {
     "data": {
      "text/plain": [
       "array(['PEDIDOS DE EMPREGO AO LONGO DO MÊS', 'MUDANÇAS CATEGORIA',\n",
       "       'ANULAÇÕES AO LONGO DO MÊS', 'COLOCAÇÕES AO LONGO DO MÊS',\n",
       "       'PEDIDOS DE EMPREGO NO FIM DO MÊS'], dtype=object)"
      ]
     },
     "execution_count": 18,
     "metadata": {},
     "output_type": "execute_result"
    }
   ],
   "source": [
    "# diferentes tipos de movimentos\n",
    "pedidos_final['DTIPO_MOVIMENTO'].unique()"
   ]
  },
  {
   "cell_type": "code",
   "execution_count": 19,
   "metadata": {},
   "outputs": [
    {
     "data": {
      "text/plain": [
       "MUDANÇAS CATEGORIA                    62399\n",
       "ANULAÇÕES AO LONGO DO MÊS              9643\n",
       "PEDIDOS DE EMPREGO AO LONGO DO MÊS     9001\n",
       "COLOCAÇÕES AO LONGO DO MÊS             1359\n",
       "PEDIDOS DE EMPREGO NO FIM DO MÊS        453\n",
       "Name: DTIPO_MOVIMENTO, dtype: int64"
      ]
     },
     "execution_count": 19,
     "metadata": {},
     "output_type": "execute_result"
    }
   ],
   "source": [
    "pedidos_final['DTIPO_MOVIMENTO'].value_counts()"
   ]
  },
  {
   "cell_type": "markdown",
   "metadata": {},
   "source": [
    "<div style=\"border: solid 4px #047800; border-radius: 5px;\"> \n",
    "    <center><h3 style=\"color: #047800; padding: 10px;\">4.3. Análise Habilitação</h3></center>\n",
    "</div>"
   ]
  },
  {
   "cell_type": "code",
   "execution_count": 20,
   "metadata": {},
   "outputs": [
    {
     "data": {
      "text/plain": [
       "12    26914\n",
       "09    20978\n",
       "06    11989\n",
       "04     7874\n",
       "LC     7663\n",
       "SL     2331\n",
       "11     2172\n",
       "MT     1411\n",
       "NS      515\n",
       "BM      509\n",
       "PS      445\n",
       "DT       54\n",
       "Name: HABILITACAO, dtype: int64"
      ]
     },
     "execution_count": 20,
     "metadata": {},
     "output_type": "execute_result"
    }
   ],
   "source": [
    "pedidos_final['HABILITACAO'].value_counts()"
   ]
  },
  {
   "cell_type": "code",
   "execution_count": 21,
   "metadata": {},
   "outputs": [
    {
     "data": {
      "text/plain": [
       "Text(0.5, 0, 'Nº de ocurrencias')"
      ]
     },
     "execution_count": 21,
     "metadata": {},
     "output_type": "execute_result"
    },
    {
     "data": {
      "image/png": "[encoded data removed]",
      "text/plain": [
       "<Figure size 432x288 with 1 Axes>"
      ]
     },
     "metadata": {
      "needs_background": "light"
     },
     "output_type": "display_data"
    }
   ],
   "source": [
    "# Gráfico Habilitacao dos pedidos de emprego\n",
    "\n",
    "freq_abs = pedidos_final[\"HABILITACAO\"].value_counts()\n",
    "\n",
    "habilitações = [\"12 Anos\", \"9 Anos\", \"Licenciatura\", \"6 Anos\", \"4 Anos\", \n",
    "                \"11 Anos\", \"Ler/Escrever sem grau de Ensino\", \"Mestrado\", \n",
    "                \"Bacharelato\", \"Pós-Secundário\", \"Não Sabe Ler/Escrever\", \"Doutoramento\"]\n",
    "\n",
    "plt.barh(habilitações, freq_abs, color=[\"#00BFFF\", \"#1E90FF\", \"#4169E1\"])\n",
    "plt.title(\"Habilitações dos utentes \\n com pedidos de intervenções\", size=19)\n",
    "plt.xlabel(\"Nº de ocurrencias\", size=14)"
   ]
  },
  {
   "cell_type": "markdown",
   "metadata": {},
   "source": [
    "<div style=\"border: solid 4px #047800; border-radius: 5px;\"> \n",
    "    <center><h3 style=\"color: #047800; padding: 10px;\">4.4. Análise da area profissional pretendida</h3></center>\n",
    "</div>"
   ]
  },
  {
   "cell_type": "code",
   "execution_count": 40,
   "metadata": {},
   "outputs": [
    {
     "data": {
      "text/plain": [
       "EMPREGADO DE ESCRITÓRIO EM GERAL                                           6424\n",
       "TRABALHADOR DE LIMPEZA EM ESCRITÓRIOS, HOTÉIS E OUTROS ESTABELECIMENTOS    4991\n",
       "VENDEDOR EM LOJA (ESTABELECIMENTO)                                         4907\n",
       "OUTROS TRABALHADORES NÃO QUALIFICADOS DA INDÚSTRIA TRANSFORMADORA          4047\n",
       "ASSISTENTE DE VENDA DE ALIMENTOS AO BALCÃO                                 2767\n",
       "AUXILIAR DE CUIDADOS DE CRIANÇAS                                           2449\n",
       "AJUDANTE DE COZINHA                                                        2425\n",
       "AJUDANTE FAMILIAR                                                          2146\n",
       "EMPREGADO DE MESA                                                          1698\n",
       "EMPREGADO DE ARMAZÉM                                                       1551\n",
       "Name: DCPP_PRETENDIDA, dtype: int64"
      ]
     },
     "execution_count": 40,
     "metadata": {},
     "output_type": "execute_result"
    }
   ],
   "source": [
    "pedidos_final['DCPP_PRETENDIDA'].value_counts().head(10)"
   ]
  },
  {
   "cell_type": "code",
   "execution_count": 41,
   "metadata": {},
   "outputs": [
    {
     "data": {
      "text/plain": [
       "Text(0.5, 0, 'Nº de ocurrencias')"
      ]
     },
     "execution_count": 41,
     "metadata": {},
     "output_type": "execute_result"
    },
    {
     "data": {
      "image/png": "[encoded data removed]",
      "text/plain": [
       "<Figure size 432x288 with 1 Axes>"
      ]
     },
     "metadata": {
      "needs_background": "light"
     },
     "output_type": "display_data"
    }
   ],
   "source": [
    "# Gráfico Areas pretendidas do top 10 dos pedidos de emprego\n",
    "\n",
    "freq_abs_areas = pd.DataFrame(pedidos_final[\"DCPP_PRETENDIDA\"].value_counts().head(10))\n",
    "\n",
    "\n",
    "areas = freq_abs.index\n",
    "\n",
    "plt.barh(areas, freq_abs_areas['DCPP_PRETENDIDA'], color=[\"#00BFFF\", \"#1E90FF\", \"#4169E1\"])\n",
    "plt.title(\"Areas profissionais mais apeteciveis\", size=19)\n",
    "plt.xlabel(\"Nº de ocurrencias\", size=14)"
   ]
  },
  {
   "cell_type": "markdown",
   "metadata": {},
   "source": [
    "<div style=\"border: solid 4px #047800; border-radius: 5px;\"> \n",
    "    <center><h3 style=\"color: #047800; padding: 10px;\">4.5. Análise da idade</h3></center>\n",
    "</div>"
   ]
  },
  {
   "cell_type": "code",
   "execution_count": 25,
   "metadata": {},
   "outputs": [
    {
     "data": {
      "text/plain": [
       "41.100199143081284"
      ]
     },
     "execution_count": 25,
     "metadata": {},
     "output_type": "execute_result"
    }
   ],
   "source": [
    "pedidos_final['IDADE'].mean()"
   ]
  },
  {
   "cell_type": "code",
   "execution_count": 26,
   "metadata": {
    "scrolled": true
   },
   "outputs": [
    {
     "data": {
      "text/plain": [
       "(array([4.4530e+03, 1.0859e+04, 1.1197e+04, 1.0813e+04, 1.3902e+04,\n",
       "        1.2552e+04, 1.0100e+04, 7.4540e+03, 1.5160e+03, 9.0000e+00]),\n",
       " array([17. , 22.7, 28.4, 34.1, 39.8, 45.5, 51.2, 56.9, 62.6, 68.3, 74. ]),\n",
       " <a list of 10 Patch objects>)"
      ]
     },
     "execution_count": 26,
     "metadata": {},
     "output_type": "execute_result"
    },
    {
     "data": {
      "image/png": "[encoded data removed]",
      "text/plain": [
       "<Figure size 432x288 with 1 Axes>"
      ]
     },
     "metadata": {
      "needs_background": "light"
     },
     "output_type": "display_data"
    }
   ],
   "source": [
    "plt.hist(pedidos_final['IDADE'])"
   ]
  },
  {
   "cell_type": "markdown",
   "metadata": {},
   "source": [
    "<div style=\"border: solid 4px #047800; border-radius: 5px;\"> \n",
    "    <center><h3 style=\"color: #047800; padding: 10px;\">4.6. Análise do Motivo de inscrição</h3></center>\n",
    "</div>"
   ]
  },
  {
   "cell_type": "code",
   "execution_count": 27,
   "metadata": {},
   "outputs": [
    {
     "data": {
      "text/plain": [
       "FIM DE TRABALHO NÃO PERMANENTE                                32995\n",
       "REINSCRIÇÃO NA SEQUÊNCIA DE FALTA CONV/CONTROLO               14185\n",
       "FOI DESPEDIDO                                                 12793\n",
       "DESPEDIMENTO COM MÚTUO ACORDO                                  5157\n",
       "MÁS CONDIÇÕES DE TRABALHO, SUB-UTILIZAÇÃO OU BAIXO SALÁRIO     3323\n",
       "Name: DMOTIVO_INSCRICAO, dtype: int64"
      ]
     },
     "execution_count": 27,
     "metadata": {},
     "output_type": "execute_result"
    }
   ],
   "source": [
    "freq_abs_motivo = pedidos_final['DMOTIVO_INSCRICAO'].value_counts().head(5)"
   ]
  },
  {
   "cell_type": "code",
   "execution_count": 44,
   "metadata": {},
   "outputs": [
    {
     "data": {
      "text/plain": [
       "Text(0.5, 0, 'Nº de ocurrencias')"
      ]
     },
     "execution_count": 44,
     "metadata": {},
     "output_type": "execute_result"
    },
    {
     "data": {
      "image/png": "[encoded data removed]",
      "text/plain": [
       "<Figure size 432x288 with 1 Axes>"
      ]
     },
     "metadata": {
      "needs_background": "light"
     },
     "output_type": "display_data"
    }
   ],
   "source": [
    "# Gráfico Motivo de inscriçao do top 5 dos pedidos de emprego\n",
    "\n",
    "freq_abs_motivo = pd.DataFrame(pedidos_final[\"DMOTIVO_INSCRICAO\"].value_counts().head(5))\n",
    "\n",
    "\n",
    "motivos_insc = freq_abs_motivo.index\n",
    "\n",
    "plt.barh(motivos_insc , freq_abs_motivo['DMOTIVO_INSCRICAO'], color=[\"#00BFFF\", \"#1E90FF\", \"#4169E1\"])\n",
    "plt.title(\"Motivos de inscrição\", size=19)\n",
    "plt.xlabel(\"Nº de ocurrencias\", size=14)"
   ]
  },
  {
   "cell_type": "markdown",
   "metadata": {},
   "source": [
    "<div style=\"background-color: #047800; border-radius: 5px;\"> \n",
    "    <center><h1 style=\"color: white; padding: 20px;\">5. Exportar dataset final</h1></center>\n",
    "</div>"
   ]
  },
  {
   "cell_type": "code",
   "execution_count": 47,
   "metadata": {},
   "outputs": [
    {
     "data": {
      "text/html": [
       "<div>\n",
       "<style scoped>\n",
       "    .dataframe tbody tr th:only-of-type {\n",
       "        vertical-align: middle;\n",
       "    }\n",
       "\n",
       "    .dataframe tbody tr th {\n",
       "        vertical-align: top;\n",
       "    }\n",
       "\n",
       "    .dataframe thead th {\n",
       "        text-align: right;\n",
       "    }\n",
       "</style>\n",
       "<table border=\"1\" class=\"dataframe\">\n",
       "  <thead>\n",
       "    <tr style=\"text-align: right;\">\n",
       "      <th></th>\n",
       "      <th>UTE_ID</th>\n",
       "      <th>CPP_PRETENDIDA</th>\n",
       "      <th>DCPP_PRETENDIDA</th>\n",
       "      <th>MOTIVO_INSCRICAO</th>\n",
       "      <th>DMOTIVO_INSCRICAO</th>\n",
       "    </tr>\n",
       "  </thead>\n",
       "  <tbody>\n",
       "    <tr>\n",
       "      <th>4</th>\n",
       "      <td>2548412</td>\n",
       "      <td>91110.0</td>\n",
       "      <td>TRABALHADOR DE LIMPEZA EM CASAS PARTICULARES</td>\n",
       "      <td>12</td>\n",
       "      <td>REINSCRIÇÃO NA SEQUÊNCIA DE FALTA CONV/CONTROLO</td>\n",
       "    </tr>\n",
       "    <tr>\n",
       "      <th>5</th>\n",
       "      <td>1102550</td>\n",
       "      <td>63100.0</td>\n",
       "      <td>AGRICULTOR DE SUBSISTÊNCIA</td>\n",
       "      <td>8</td>\n",
       "      <td>FIM DE TRABALHO NÃO PERMANENTE</td>\n",
       "    </tr>\n",
       "    <tr>\n",
       "      <th>7</th>\n",
       "      <td>6172405</td>\n",
       "      <td>82110.0</td>\n",
       "      <td>MONTADOR DE MAQUINARIA MECÂNICA</td>\n",
       "      <td>5</td>\n",
       "      <td>FOI DESPEDIDO</td>\n",
       "    </tr>\n",
       "    <tr>\n",
       "      <th>9</th>\n",
       "      <td>1068668</td>\n",
       "      <td>52490.0</td>\n",
       "      <td>OUTROS TRABALHADORES RELACIONADOS COM VENDAS, NE</td>\n",
       "      <td>5</td>\n",
       "      <td>FOI DESPEDIDO</td>\n",
       "    </tr>\n",
       "    <tr>\n",
       "      <th>10</th>\n",
       "      <td>5113515</td>\n",
       "      <td>42210.0</td>\n",
       "      <td>EMPREGADO DAS AGÊNCIAS DE VIAGENS</td>\n",
       "      <td>8</td>\n",
       "      <td>FIM DE TRABALHO NÃO PERMANENTE</td>\n",
       "    </tr>\n",
       "  </tbody>\n",
       "</table>\n",
       "</div>"
      ],
      "text/plain": [
       "     UTE_ID  CPP_PRETENDIDA                                   DCPP_PRETENDIDA  \\\n",
       "4   2548412         91110.0      TRABALHADOR DE LIMPEZA EM CASAS PARTICULARES   \n",
       "5   1102550         63100.0                        AGRICULTOR DE SUBSISTÊNCIA   \n",
       "7   6172405         82110.0                   MONTADOR DE MAQUINARIA MECÂNICA   \n",
       "9   1068668         52490.0  OUTROS TRABALHADORES RELACIONADOS COM VENDAS, NE   \n",
       "10  5113515         42210.0                 EMPREGADO DAS AGÊNCIAS DE VIAGENS   \n",
       "\n",
       "    MOTIVO_INSCRICAO                                DMOTIVO_INSCRICAO  \n",
       "4                 12  REINSCRIÇÃO NA SEQUÊNCIA DE FALTA CONV/CONTROLO  \n",
       "5                  8                   FIM DE TRABALHO NÃO PERMANENTE  \n",
       "7                  5                                    FOI DESPEDIDO  \n",
       "9                  5                                    FOI DESPEDIDO  \n",
       "10                 8                   FIM DE TRABALHO NÃO PERMANENTE  "
      ]
     },
     "execution_count": 47,
     "metadata": {},
     "output_type": "execute_result"
    }
   ],
   "source": [
    "# dataset para permitir a identificação da região, consoante o centro de emprego\n",
    "pedidos_final = pedidos_final[['UTE_ID', 'CPP_PRETENDIDA', 'DCPP_PRETENDIDA' ,'MOTIVO_INSCRICAO','DMOTIVO_INSCRICAO']]\n",
    "pedidos_final.head()"
   ]
  },
  {
   "cell_type": "code",
   "execution_count": 48,
   "metadata": {},
   "outputs": [
    {
     "data": {
      "text/plain": [
       "UTE_ID               0\n",
       "CPP_PRETENDIDA       0\n",
       "DCPP_PRETENDIDA      0\n",
       "MOTIVO_INSCRICAO     0\n",
       "DMOTIVO_INSCRICAO    0\n",
       "dtype: int64"
      ]
     },
     "execution_count": 48,
     "metadata": {},
     "output_type": "execute_result"
    }
   ],
   "source": [
    "pedidos_final.isnull().sum()"
   ]
  },
  {
   "cell_type": "code",
   "execution_count": 49,
   "metadata": {},
   "outputs": [
    {
     "data": {
      "text/plain": [
       "(82855, 5)"
      ]
     },
     "execution_count": 49,
     "metadata": {},
     "output_type": "execute_result"
    }
   ],
   "source": [
    "pedidos_final.shape"
   ]
  },
  {
   "cell_type": "code",
   "execution_count": 50,
   "metadata": {},
   "outputs": [],
   "source": [
    "pedidos_final.to_csv(\"databases/pedidos.csv\")"
   ]
  }
 ],
 "metadata": {
  "kernelspec": {
   "display_name": "Python 3",
   "language": "python",
   "name": "python3"
  },
  "language_info": {
   "codemirror_mode": {
    "name": "ipython",
    "version": 3
   },
   "file_extension": ".py",
   "mimetype": "text/x-python",
   "name": "python",
   "nbconvert_exporter": "python",
   "pygments_lexer": "ipython3",
   "version": "3.8.3"
  }
 },
 "nbformat": 4,
 "nbformat_minor": 4
}
