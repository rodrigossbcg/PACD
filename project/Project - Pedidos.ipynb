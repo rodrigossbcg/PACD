{
 "cells": [
  {
   "cell_type": "markdown",
   "metadata": {},
   "source": [
    "<img src=\"images/intro.jpeg\">"
   ]
  },
  {
   "cell_type": "markdown",
   "metadata": {},
   "source": [
    "# Project - Pedidos"
   ]
  },
  {
   "cell_type": "markdown",
   "metadata": {},
   "source": [
    "<div style=\"background-color: #2f648a; border-radius: 5px;\"> \n",
    "    <center><h1 style=\"color: white; padding: 20px;\">1. Imports</h1></center>\n",
    "</div>"
   ]
  },
  {
   "cell_type": "code",
   "execution_count": 2,
   "metadata": {},
   "outputs": [],
   "source": [
    "import pandas as pd\n",
    "from pandas import ExcelWriter\n",
    "from pandas import ExcelFile\n",
    "import seaborn as sns\n",
    "from matplotlib import pyplot as plt"
   ]
  },
  {
   "cell_type": "markdown",
   "metadata": {},
   "source": [
    "<div style=\"background-color: #2f648a; border-radius: 5px;\"> \n",
    "    <center><h1 style=\"color: white; padding: 20px;\">2. Read Files</h1></center>\n",
    "</div>\n",
    "\n",
    "Importar as 3 bases de dados relativas às intervenções para 3 DataFrames pandas."
   ]
  },
  {
   "cell_type": "code",
   "execution_count": 3,
   "metadata": {},
   "outputs": [],
   "source": [
    "pedidos1 = pd.read_excel(\"databases/apura_iscte_lpedidos_ant.xlsx\")"
   ]
  },
  {
   "cell_type": "code",
   "execution_count": 2,
   "metadata": {},
   "outputs": [],
   "source": [
    "pedidos2 = pd.read_excel(\"databases/apura_iscte_lpedidos_apos.xlsx\")"
   ]
  },
  {
   "cell_type": "code",
   "execution_count": 51,
   "metadata": {},
   "outputs": [],
   "source": [
    "pedidos3 = pd.read_excel(\"databases/apura_iscte_m01.xlsx\")"
   ]
  },
  {
   "cell_type": "code",
   "execution_count": 4,
   "metadata": {},
   "outputs": [
    {
     "data": {
      "text/html": [
       "<div>\n",
       "<style scoped>\n",
       "    .dataframe tbody tr th:only-of-type {\n",
       "        vertical-align: middle;\n",
       "    }\n",
       "\n",
       "    .dataframe tbody tr th {\n",
       "        vertical-align: top;\n",
       "    }\n",
       "\n",
       "    .dataframe thead th {\n",
       "        text-align: right;\n",
       "    }\n",
       "</style>\n",
       "<table border=\"1\" class=\"dataframe\">\n",
       "  <thead>\n",
       "    <tr style=\"text-align: right;\">\n",
       "      <th></th>\n",
       "      <th>UTE_ID</th>\n",
       "      <th>ANO_MES</th>\n",
       "      <th>DATA_MOVIMENTO</th>\n",
       "      <th>TIPO_MOVIMENTO</th>\n",
       "      <th>DTIPO_MOVIMENTO</th>\n",
       "      <th>CENTROA</th>\n",
       "      <th>DCENTRO_AB</th>\n",
       "      <th>AREA_CURSO</th>\n",
       "      <th>ANO_CONCLUSAO_CURSO</th>\n",
       "      <th>CEST_SUPERIOR</th>\n",
       "      <th>...</th>\n",
       "      <th>DCPP</th>\n",
       "      <th>CAE_COLOCACAO</th>\n",
       "      <th>DCAE_COLOCACAO</th>\n",
       "      <th>TIPO_CONTRATO_COLOC</th>\n",
       "      <th>REGIME_CONTRATO_COLOC</th>\n",
       "      <th>REGIME_HORARIO</th>\n",
       "      <th>PAIS_COLOCACAO</th>\n",
       "      <th>TIPO_OCUPACAO</th>\n",
       "      <th>ANOMES_12INI</th>\n",
       "      <th>ANOMES_INI</th>\n",
       "    </tr>\n",
       "  </thead>\n",
       "  <tbody>\n",
       "    <tr>\n",
       "      <th>0</th>\n",
       "      <td>4853974</td>\n",
       "      <td>201805</td>\n",
       "      <td>2018-05-11 18:03:16</td>\n",
       "      <td>43</td>\n",
       "      <td>MUDANÇAS CATEGORIA</td>\n",
       "      <td>123</td>\n",
       "      <td>CTEF Bragança</td>\n",
       "      <td>NaN</td>\n",
       "      <td>NaN</td>\n",
       "      <td>NaN</td>\n",
       "      <td>...</td>\n",
       "      <td>NaN</td>\n",
       "      <td>NaN</td>\n",
       "      <td>NaN</td>\n",
       "      <td>NaN</td>\n",
       "      <td>NaN</td>\n",
       "      <td>NaN</td>\n",
       "      <td>NaN</td>\n",
       "      <td>521.0</td>\n",
       "      <td>201705</td>\n",
       "      <td>201805</td>\n",
       "    </tr>\n",
       "    <tr>\n",
       "      <th>1</th>\n",
       "      <td>4853974</td>\n",
       "      <td>201803</td>\n",
       "      <td>2018-03-09 10:15:46</td>\n",
       "      <td>11</td>\n",
       "      <td>PEDIDOS DE EMPREGO AO LONGO DO MÊS</td>\n",
       "      <td>123</td>\n",
       "      <td>CTEF Bragança</td>\n",
       "      <td>NaN</td>\n",
       "      <td>NaN</td>\n",
       "      <td>NaN</td>\n",
       "      <td>...</td>\n",
       "      <td>NaN</td>\n",
       "      <td>NaN</td>\n",
       "      <td>NaN</td>\n",
       "      <td>NaN</td>\n",
       "      <td>NaN</td>\n",
       "      <td>NaN</td>\n",
       "      <td>NaN</td>\n",
       "      <td>NaN</td>\n",
       "      <td>201705</td>\n",
       "      <td>201805</td>\n",
       "    </tr>\n",
       "  </tbody>\n",
       "</table>\n",
       "<p>2 rows × 47 columns</p>\n",
       "</div>"
      ],
      "text/plain": [
       "    UTE_ID  ANO_MES      DATA_MOVIMENTO  TIPO_MOVIMENTO  \\\n",
       "0  4853974   201805 2018-05-11 18:03:16              43   \n",
       "1  4853974   201803 2018-03-09 10:15:46              11   \n",
       "\n",
       "                      DTIPO_MOVIMENTO  CENTROA     DCENTRO_AB AREA_CURSO  \\\n",
       "0                  MUDANÇAS CATEGORIA      123  CTEF Bragança        NaN   \n",
       "1  PEDIDOS DE EMPREGO AO LONGO DO MÊS      123  CTEF Bragança        NaN   \n",
       "\n",
       "   ANO_CONCLUSAO_CURSO  CEST_SUPERIOR  ...  DCPP CAE_COLOCACAO DCAE_COLOCACAO  \\\n",
       "0                  NaN            NaN  ...   NaN           NaN            NaN   \n",
       "1                  NaN            NaN  ...   NaN           NaN            NaN   \n",
       "\n",
       "  TIPO_CONTRATO_COLOC REGIME_CONTRATO_COLOC  REGIME_HORARIO PAIS_COLOCACAO  \\\n",
       "0                 NaN                   NaN             NaN            NaN   \n",
       "1                 NaN                   NaN             NaN            NaN   \n",
       "\n",
       "  TIPO_OCUPACAO ANOMES_12INI ANOMES_INI  \n",
       "0         521.0       201705     201805  \n",
       "1           NaN       201705     201805  \n",
       "\n",
       "[2 rows x 47 columns]"
      ]
     },
     "execution_count": 4,
     "metadata": {},
     "output_type": "execute_result"
    }
   ],
   "source": [
    "pedidos1.head(2)"
   ]
  },
  {
   "cell_type": "code",
   "execution_count": 32,
   "metadata": {},
   "outputs": [
    {
     "data": {
      "text/html": [
       "<div>\n",
       "<style scoped>\n",
       "    .dataframe tbody tr th:only-of-type {\n",
       "        vertical-align: middle;\n",
       "    }\n",
       "\n",
       "    .dataframe tbody tr th {\n",
       "        vertical-align: top;\n",
       "    }\n",
       "\n",
       "    .dataframe thead th {\n",
       "        text-align: right;\n",
       "    }\n",
       "</style>\n",
       "<table border=\"1\" class=\"dataframe\">\n",
       "  <thead>\n",
       "    <tr style=\"text-align: right;\">\n",
       "      <th></th>\n",
       "      <th>UTE_ID</th>\n",
       "      <th>CodCEFP</th>\n",
       "      <th>CodMedidaOrcam</th>\n",
       "      <th>Descritivo CodMedidaOrcam</th>\n",
       "      <th>Sexo</th>\n",
       "      <th>DataNascimento</th>\n",
       "      <th>IdadeEmAnos</th>\n",
       "      <th>Categoria</th>\n",
       "      <th>CodHabilitacao</th>\n",
       "      <th>Habilitacao</th>\n",
       "      <th>...</th>\n",
       "      <th>Mes10</th>\n",
       "      <th>Mes10_Remuneracao</th>\n",
       "      <th>Mes10_Tipo</th>\n",
       "      <th>Mes11</th>\n",
       "      <th>Mes11_Remuneracao</th>\n",
       "      <th>Mes11_Tipo</th>\n",
       "      <th>Mes12</th>\n",
       "      <th>Mes12_Remuneracao</th>\n",
       "      <th>Mes12_Tipo</th>\n",
       "      <th>SomaMesesRemunerados</th>\n",
       "    </tr>\n",
       "  </thead>\n",
       "  <tbody>\n",
       "    <tr>\n",
       "      <th>0</th>\n",
       "      <td>7206</td>\n",
       "      <td>308</td>\n",
       "      <td>D111206</td>\n",
       "      <td>Cursos de Especialização Tecnológica</td>\n",
       "      <td>M</td>\n",
       "      <td>1964-01-18</td>\n",
       "      <td>55</td>\n",
       "      <td>2</td>\n",
       "      <td>12</td>\n",
       "      <td>12 Anos</td>\n",
       "      <td>...</td>\n",
       "      <td>0</td>\n",
       "      <td>NaN</td>\n",
       "      <td>NaN</td>\n",
       "      <td>0</td>\n",
       "      <td>NaN</td>\n",
       "      <td>NaN</td>\n",
       "      <td>0</td>\n",
       "      <td>NaN</td>\n",
       "      <td>NaN</td>\n",
       "      <td>0</td>\n",
       "    </tr>\n",
       "    <tr>\n",
       "      <th>1</th>\n",
       "      <td>17170</td>\n",
       "      <td>206</td>\n",
       "      <td>D111206</td>\n",
       "      <td>Cursos de Especialização Tecnológica</td>\n",
       "      <td>F</td>\n",
       "      <td>1976-03-24</td>\n",
       "      <td>42</td>\n",
       "      <td>2</td>\n",
       "      <td>12</td>\n",
       "      <td>12 Anos</td>\n",
       "      <td>...</td>\n",
       "      <td>1</td>\n",
       "      <td>360.0</td>\n",
       "      <td>TCO</td>\n",
       "      <td>0</td>\n",
       "      <td>NaN</td>\n",
       "      <td>NaN</td>\n",
       "      <td>0</td>\n",
       "      <td>NaN</td>\n",
       "      <td>NaN</td>\n",
       "      <td>1</td>\n",
       "    </tr>\n",
       "  </tbody>\n",
       "</table>\n",
       "<p>2 rows × 64 columns</p>\n",
       "</div>"
      ],
      "text/plain": [
       "   UTE_ID  CodCEFP CodMedidaOrcam             Descritivo CodMedidaOrcam Sexo  \\\n",
       "0    7206      308        D111206  Cursos de Especialização Tecnológica    M   \n",
       "1   17170      206        D111206  Cursos de Especialização Tecnológica    F   \n",
       "\n",
       "  DataNascimento  IdadeEmAnos  Categoria CodHabilitacao Habilitacao  ...  \\\n",
       "0     1964-01-18           55          2             12     12 Anos  ...   \n",
       "1     1976-03-24           42          2             12     12 Anos  ...   \n",
       "\n",
       "  Mes10 Mes10_Remuneracao Mes10_Tipo Mes11  Mes11_Remuneracao Mes11_Tipo  \\\n",
       "0     0               NaN        NaN     0                NaN        NaN   \n",
       "1     1             360.0        TCO     0                NaN        NaN   \n",
       "\n",
       "  Mes12 Mes12_Remuneracao Mes12_Tipo  SomaMesesRemunerados  \n",
       "0     0               NaN        NaN                     0  \n",
       "1     0               NaN        NaN                     1  \n",
       "\n",
       "[2 rows x 64 columns]"
      ]
     },
     "execution_count": 32,
     "metadata": {},
     "output_type": "execute_result"
    }
   ],
   "source": [
    "pedidos2.head(2)"
   ]
  },
  {
   "cell_type": "code",
   "execution_count": 52,
   "metadata": {},
   "outputs": [
    {
     "data": {
      "text/html": [
       "<div>\n",
       "<style scoped>\n",
       "    .dataframe tbody tr th:only-of-type {\n",
       "        vertical-align: middle;\n",
       "    }\n",
       "\n",
       "    .dataframe tbody tr th {\n",
       "        vertical-align: top;\n",
       "    }\n",
       "\n",
       "    .dataframe thead th {\n",
       "        text-align: right;\n",
       "    }\n",
       "</style>\n",
       "<table border=\"1\" class=\"dataframe\">\n",
       "  <thead>\n",
       "    <tr style=\"text-align: right;\">\n",
       "      <th></th>\n",
       "      <th>UTE_ID</th>\n",
       "      <th>CodCEFP</th>\n",
       "      <th>CodMedidaOrcam</th>\n",
       "      <th>Descritivo CodMedidaOrcam</th>\n",
       "      <th>Sexo</th>\n",
       "      <th>DataNascimento</th>\n",
       "      <th>IdadeEmAnos</th>\n",
       "      <th>Categoria</th>\n",
       "      <th>CodHabilitacao</th>\n",
       "      <th>Habilitacao</th>\n",
       "      <th>...</th>\n",
       "      <th>Mes10_Remuneracao</th>\n",
       "      <th>Mes10_Tipo</th>\n",
       "      <th>Mes11</th>\n",
       "      <th>Mes11_Remuneracao</th>\n",
       "      <th>Mes11_Tipo</th>\n",
       "      <th>Mes12</th>\n",
       "      <th>Mes12_Remuneracao</th>\n",
       "      <th>Mes12_Tipo</th>\n",
       "      <th>SomaMesesRemunerados</th>\n",
       "      <th>Sucessos</th>\n",
       "    </tr>\n",
       "  </thead>\n",
       "  <tbody>\n",
       "    <tr>\n",
       "      <th>0</th>\n",
       "      <td>7206</td>\n",
       "      <td>308</td>\n",
       "      <td>D111206</td>\n",
       "      <td>Cursos de Especialização Tecnológica</td>\n",
       "      <td>M</td>\n",
       "      <td>1964-01-18</td>\n",
       "      <td>55</td>\n",
       "      <td>2</td>\n",
       "      <td>12</td>\n",
       "      <td>12 Anos</td>\n",
       "      <td>...</td>\n",
       "      <td>NaN</td>\n",
       "      <td>NaN</td>\n",
       "      <td>0</td>\n",
       "      <td>NaN</td>\n",
       "      <td>NaN</td>\n",
       "      <td>0</td>\n",
       "      <td>NaN</td>\n",
       "      <td>NaN</td>\n",
       "      <td>0</td>\n",
       "      <td>0</td>\n",
       "    </tr>\n",
       "    <tr>\n",
       "      <th>1</th>\n",
       "      <td>17170</td>\n",
       "      <td>206</td>\n",
       "      <td>D111206</td>\n",
       "      <td>Cursos de Especialização Tecnológica</td>\n",
       "      <td>F</td>\n",
       "      <td>1976-03-24</td>\n",
       "      <td>42</td>\n",
       "      <td>2</td>\n",
       "      <td>12</td>\n",
       "      <td>12 Anos</td>\n",
       "      <td>...</td>\n",
       "      <td>360.0</td>\n",
       "      <td>TCO</td>\n",
       "      <td>0</td>\n",
       "      <td>NaN</td>\n",
       "      <td>NaN</td>\n",
       "      <td>0</td>\n",
       "      <td>NaN</td>\n",
       "      <td>NaN</td>\n",
       "      <td>1</td>\n",
       "      <td>0</td>\n",
       "    </tr>\n",
       "    <tr>\n",
       "      <th>2</th>\n",
       "      <td>24054</td>\n",
       "      <td>201</td>\n",
       "      <td>D111206</td>\n",
       "      <td>Cursos de Especialização Tecnológica</td>\n",
       "      <td>F</td>\n",
       "      <td>1978-01-03</td>\n",
       "      <td>41</td>\n",
       "      <td>2</td>\n",
       "      <td>12</td>\n",
       "      <td>12 Anos</td>\n",
       "      <td>...</td>\n",
       "      <td>NaN</td>\n",
       "      <td>NaN</td>\n",
       "      <td>0</td>\n",
       "      <td>NaN</td>\n",
       "      <td>NaN</td>\n",
       "      <td>0</td>\n",
       "      <td>NaN</td>\n",
       "      <td>NaN</td>\n",
       "      <td>0</td>\n",
       "      <td>0</td>\n",
       "    </tr>\n",
       "    <tr>\n",
       "      <th>3</th>\n",
       "      <td>39165</td>\n",
       "      <td>309</td>\n",
       "      <td>D111206</td>\n",
       "      <td>Cursos de Especialização Tecnológica</td>\n",
       "      <td>M</td>\n",
       "      <td>1973-11-23</td>\n",
       "      <td>45</td>\n",
       "      <td>2</td>\n",
       "      <td>12</td>\n",
       "      <td>12 Anos</td>\n",
       "      <td>...</td>\n",
       "      <td>NaN</td>\n",
       "      <td>NaN</td>\n",
       "      <td>0</td>\n",
       "      <td>NaN</td>\n",
       "      <td>NaN</td>\n",
       "      <td>0</td>\n",
       "      <td>NaN</td>\n",
       "      <td>NaN</td>\n",
       "      <td>0</td>\n",
       "      <td>0</td>\n",
       "    </tr>\n",
       "    <tr>\n",
       "      <th>4</th>\n",
       "      <td>72408</td>\n",
       "      <td>132</td>\n",
       "      <td>D111206</td>\n",
       "      <td>Cursos de Especialização Tecnológica</td>\n",
       "      <td>M</td>\n",
       "      <td>1967-08-28</td>\n",
       "      <td>51</td>\n",
       "      <td>2</td>\n",
       "      <td>12</td>\n",
       "      <td>12 Anos</td>\n",
       "      <td>...</td>\n",
       "      <td>700.0</td>\n",
       "      <td>TCO</td>\n",
       "      <td>1</td>\n",
       "      <td>226.0</td>\n",
       "      <td>TCO</td>\n",
       "      <td>1</td>\n",
       "      <td>700.0</td>\n",
       "      <td>TCO</td>\n",
       "      <td>5</td>\n",
       "      <td>0</td>\n",
       "    </tr>\n",
       "  </tbody>\n",
       "</table>\n",
       "<p>5 rows × 65 columns</p>\n",
       "</div>"
      ],
      "text/plain": [
       "   UTE_ID  CodCEFP CodMedidaOrcam             Descritivo CodMedidaOrcam Sexo  \\\n",
       "0    7206      308        D111206  Cursos de Especialização Tecnológica    M   \n",
       "1   17170      206        D111206  Cursos de Especialização Tecnológica    F   \n",
       "2   24054      201        D111206  Cursos de Especialização Tecnológica    F   \n",
       "3   39165      309        D111206  Cursos de Especialização Tecnológica    M   \n",
       "4   72408      132        D111206  Cursos de Especialização Tecnológica    M   \n",
       "\n",
       "  DataNascimento  IdadeEmAnos  Categoria CodHabilitacao Habilitacao  ...  \\\n",
       "0     1964-01-18           55          2             12     12 Anos  ...   \n",
       "1     1976-03-24           42          2             12     12 Anos  ...   \n",
       "2     1978-01-03           41          2             12     12 Anos  ...   \n",
       "3     1973-11-23           45          2             12     12 Anos  ...   \n",
       "4     1967-08-28           51          2             12     12 Anos  ...   \n",
       "\n",
       "  Mes10_Remuneracao Mes10_Tipo Mes11 Mes11_Remuneracao  Mes11_Tipo Mes12  \\\n",
       "0               NaN        NaN     0               NaN         NaN     0   \n",
       "1             360.0        TCO     0               NaN         NaN     0   \n",
       "2               NaN        NaN     0               NaN         NaN     0   \n",
       "3               NaN        NaN     0               NaN         NaN     0   \n",
       "4             700.0        TCO     1             226.0         TCO     1   \n",
       "\n",
       "  Mes12_Remuneracao Mes12_Tipo SomaMesesRemunerados  Sucessos  \n",
       "0               NaN        NaN                    0         0  \n",
       "1               NaN        NaN                    1         0  \n",
       "2               NaN        NaN                    0         0  \n",
       "3               NaN        NaN                    0         0  \n",
       "4             700.0        TCO                    5         0  \n",
       "\n",
       "[5 rows x 65 columns]"
      ]
     },
     "execution_count": 52,
     "metadata": {},
     "output_type": "execute_result"
    }
   ],
   "source": [
    "pedidos3.head()"
   ]
  },
  {
   "cell_type": "code",
   "execution_count": 33,
   "metadata": {},
   "outputs": [
    {
     "data": {
      "text/plain": [
       "(318253, 47)"
      ]
     },
     "execution_count": 33,
     "metadata": {},
     "output_type": "execute_result"
    }
   ],
   "source": [
    "pedidos1.shape"
   ]
  },
  {
   "cell_type": "code",
   "execution_count": 34,
   "metadata": {},
   "outputs": [
    {
     "data": {
      "text/plain": [
       "(384551, 47)"
      ]
     },
     "execution_count": 34,
     "metadata": {},
     "output_type": "execute_result"
    }
   ],
   "source": [
    "pedidos2.shape"
   ]
  },
  {
   "cell_type": "code",
   "execution_count": 54,
   "metadata": {},
   "outputs": [
    {
     "data": {
      "text/plain": [
       "(124056, 65)"
      ]
     },
     "execution_count": 54,
     "metadata": {},
     "output_type": "execute_result"
    }
   ],
   "source": [
    "pedidos3.shape"
   ]
  },
  {
   "cell_type": "markdown",
   "metadata": {},
   "source": [
    "<div style=\"background-color: #2f648a; border-radius: 5px;\"> \n",
    "    <center><h1 style=\"color: white; padding: 20px;\">3. Análise de variáveis</h1></center>\n",
    "</div>"
   ]
  },
  {
   "cell_type": "code",
   "execution_count": 36,
   "metadata": {},
   "outputs": [
    {
     "data": {
      "text/plain": [
       "array(['MUDANÇAS CATEGORIA', 'PEDIDOS DE EMPREGO AO LONGO DO MÊS',\n",
       "       'ANULAÇÕES AO LONGO DO MÊS', 'COLOCAÇÕES AO LONGO DO MÊS'],\n",
       "      dtype=object)"
      ]
     },
     "execution_count": 36,
     "metadata": {},
     "output_type": "execute_result"
    }
   ],
   "source": [
    "pedidos1['DTIPO_MOVIMENTO'].unique()"
   ]
  }
 ],
 "metadata": {
  "kernelspec": {
   "display_name": "Python 3",
   "language": "python",
   "name": "python3"
  },
  "language_info": {
   "codemirror_mode": {
    "name": "ipython",
    "version": 3
   },
   "file_extension": ".py",
   "mimetype": "text/x-python",
   "name": "python",
   "nbconvert_exporter": "python",
   "pygments_lexer": "ipython3",
   "version": "3.8.3"
  }
 },
 "nbformat": 4,
 "nbformat_minor": 4
}
