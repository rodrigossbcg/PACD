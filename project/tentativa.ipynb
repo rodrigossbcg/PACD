{
 "cells": [
  {
   "cell_type": "markdown",
   "metadata": {},
   "source": [
    "<img src=\"images/intro.jpeg\">"
   ]
  },
  {
   "cell_type": "markdown",
   "metadata": {},
   "source": [
    "# Project - Tentativa"
   ]
  },
  {
   "cell_type": "markdown",
   "metadata": {},
   "source": [
    "<div style=\"background-color: #2f648a; border-radius: 5px;\"> \n",
    "    <center><h1 style=\"color: white; padding: 20px;\">1. Imports</h1></center>\n",
    "</div>"
   ]
  },
  {
   "cell_type": "code",
   "execution_count": 1,
   "metadata": {},
   "outputs": [],
   "source": [
    "import pandas as pd\n",
    "from pandas import ExcelWriter\n",
    "from pandas import ExcelFile\n",
    "from datetime import datetime\n",
    "import seaborn as sn\n",
    "from matplotlib import pyplot as plt"
   ]
  },
  {
   "cell_type": "code",
   "execution_count": 2,
   "metadata": {},
   "outputs": [],
   "source": [
    "format = \"%d\""
   ]
  },
  {
   "cell_type": "markdown",
   "metadata": {},
   "source": [
    "<div style=\"background-color: #2f648a; border-radius: 5px;\"> \n",
    "    <center><h1 style=\"color: white; padding: 20px;\">2. Read files </h1></center>\n",
    "</div>"
   ]
  },
  {
   "cell_type": "markdown",
   "metadata": {},
   "source": [
    "<div style=\"border: solid 4px #2f648a; border-radius: 5px;\"> \n",
    "    <center><h3 style=\"color: #2f648a; padding: 10px;\">2.1 Leitura da bases de dados dos formandos</h3></center>\n",
    "</div>"
   ]
  },
  {
   "cell_type": "code",
   "execution_count": 3,
   "metadata": {},
   "outputs": [
    {
     "name": "stderr",
     "output_type": "stream",
     "text": [
      "C:\\Users\\sarro\\anaconda3\\lib\\site-packages\\IPython\\core\\interactiveshell.py:3071: DtypeWarning: Columns (10) have mixed types.Specify dtype option on import or set low_memory=False.\n",
      "  has_raised = await self.run_ast_nodes(code_ast.body, cell_name,\n"
     ]
    }
   ],
   "source": [
    "form = pd.read_csv(\"databases/formandos_limpo.csv\")"
   ]
  },
  {
   "cell_type": "code",
   "execution_count": 4,
   "metadata": {},
   "outputs": [],
   "source": [
    "# delete column produced by the csv\n",
    "del form['Unnamed: 0']"
   ]
  },
  {
   "cell_type": "code",
   "execution_count": 5,
   "metadata": {},
   "outputs": [
    {
     "data": {
      "text/plain": [
       "(84260, 12)"
      ]
     },
     "execution_count": 5,
     "metadata": {},
     "output_type": "execute_result"
    }
   ],
   "source": [
    "form.shape"
   ]
  },
  {
   "cell_type": "code",
   "execution_count": 6,
   "metadata": {},
   "outputs": [
    {
     "data": {
      "text/html": [
       "<div>\n",
       "<style scoped>\n",
       "    .dataframe tbody tr th:only-of-type {\n",
       "        vertical-align: middle;\n",
       "    }\n",
       "\n",
       "    .dataframe tbody tr th {\n",
       "        vertical-align: top;\n",
       "    }\n",
       "\n",
       "    .dataframe thead th {\n",
       "        text-align: right;\n",
       "    }\n",
       "</style>\n",
       "<table border=\"1\" class=\"dataframe\">\n",
       "  <thead>\n",
       "    <tr style=\"text-align: right;\">\n",
       "      <th></th>\n",
       "      <th>UTE_ID</th>\n",
       "      <th>CodCEFP</th>\n",
       "      <th>Sexo</th>\n",
       "      <th>IdadeEmAnos</th>\n",
       "      <th>CodHabilitacao</th>\n",
       "      <th>CodNacionalidade</th>\n",
       "      <th>HorasForm</th>\n",
       "      <th>AreaFormacao</th>\n",
       "      <th>NivelFormacaoAccao</th>\n",
       "      <th>CodSaidaProfissional</th>\n",
       "      <th>Sucessos</th>\n",
       "      <th>DuracaoFormacao</th>\n",
       "    </tr>\n",
       "  </thead>\n",
       "  <tbody>\n",
       "    <tr>\n",
       "      <th>0</th>\n",
       "      <td>24054</td>\n",
       "      <td>201</td>\n",
       "      <td>1</td>\n",
       "      <td>41</td>\n",
       "      <td>12</td>\n",
       "      <td>PT</td>\n",
       "      <td>1504.0</td>\n",
       "      <td>521</td>\n",
       "      <td>5</td>\n",
       "      <td>52174</td>\n",
       "      <td>0</td>\n",
       "      <td>375 days 00:00:00.000000000</td>\n",
       "    </tr>\n",
       "    <tr>\n",
       "      <th>1</th>\n",
       "      <td>39165</td>\n",
       "      <td>309</td>\n",
       "      <td>0</td>\n",
       "      <td>45</td>\n",
       "      <td>12</td>\n",
       "      <td>PT</td>\n",
       "      <td>1300.0</td>\n",
       "      <td>481</td>\n",
       "      <td>5</td>\n",
       "      <td>4816</td>\n",
       "      <td>0</td>\n",
       "      <td>325 days 00:00:00.000000000</td>\n",
       "    </tr>\n",
       "    <tr>\n",
       "      <th>2</th>\n",
       "      <td>77485</td>\n",
       "      <td>402</td>\n",
       "      <td>0</td>\n",
       "      <td>51</td>\n",
       "      <td>12</td>\n",
       "      <td>PT</td>\n",
       "      <td>211.0</td>\n",
       "      <td>481</td>\n",
       "      <td>5</td>\n",
       "      <td>4817</td>\n",
       "      <td>0</td>\n",
       "      <td>434 days 00:00:00.000000000</td>\n",
       "    </tr>\n",
       "    <tr>\n",
       "      <th>3</th>\n",
       "      <td>145884</td>\n",
       "      <td>501</td>\n",
       "      <td>0</td>\n",
       "      <td>53</td>\n",
       "      <td>12</td>\n",
       "      <td>PT</td>\n",
       "      <td>465.0</td>\n",
       "      <td>812</td>\n",
       "      <td>5</td>\n",
       "      <td>8126</td>\n",
       "      <td>0</td>\n",
       "      <td>382 days 00:00:00.000000000</td>\n",
       "    </tr>\n",
       "    <tr>\n",
       "      <th>4</th>\n",
       "      <td>155241</td>\n",
       "      <td>501</td>\n",
       "      <td>1</td>\n",
       "      <td>51</td>\n",
       "      <td>12</td>\n",
       "      <td>PT</td>\n",
       "      <td>447.0</td>\n",
       "      <td>812</td>\n",
       "      <td>5</td>\n",
       "      <td>8126</td>\n",
       "      <td>1</td>\n",
       "      <td>382 days 00:00:00.000000000</td>\n",
       "    </tr>\n",
       "  </tbody>\n",
       "</table>\n",
       "</div>"
      ],
      "text/plain": [
       "   UTE_ID  CodCEFP  Sexo  IdadeEmAnos  CodHabilitacao CodNacionalidade  \\\n",
       "0   24054      201     1           41              12               PT   \n",
       "1   39165      309     0           45              12               PT   \n",
       "2   77485      402     0           51              12               PT   \n",
       "3  145884      501     0           53              12               PT   \n",
       "4  155241      501     1           51              12               PT   \n",
       "\n",
       "   HorasForm  AreaFormacao NivelFormacaoAccao CodSaidaProfissional  Sucessos  \\\n",
       "0     1504.0           521                  5                52174         0   \n",
       "1     1300.0           481                  5                 4816         0   \n",
       "2      211.0           481                  5                 4817         0   \n",
       "3      465.0           812                  5                 8126         0   \n",
       "4      447.0           812                  5                 8126         1   \n",
       "\n",
       "               DuracaoFormacao  \n",
       "0  375 days 00:00:00.000000000  \n",
       "1  325 days 00:00:00.000000000  \n",
       "2  434 days 00:00:00.000000000  \n",
       "3  382 days 00:00:00.000000000  \n",
       "4  382 days 00:00:00.000000000  "
      ]
     },
     "execution_count": 6,
     "metadata": {},
     "output_type": "execute_result"
    }
   ],
   "source": [
    "form.head()"
   ]
  },
  {
   "cell_type": "code",
   "execution_count": null,
   "metadata": {},
   "outputs": [],
   "source": []
  },
  {
   "cell_type": "markdown",
   "metadata": {},
   "source": [
    "<div style=\"border: solid 4px #2f648a; border-radius: 5px;\"> \n",
    "    <center><h3 style=\"color: #2f648a; padding: 10px;\">2.2 Leitura da bases de dados dos cursos</h3></center>\n",
    "</div>"
   ]
  },
  {
   "cell_type": "code",
   "execution_count": 7,
   "metadata": {},
   "outputs": [],
   "source": [
    "cursos = pd.read_csv(\"databases/cursos.csv\")"
   ]
  },
  {
   "cell_type": "code",
   "execution_count": 8,
   "metadata": {},
   "outputs": [],
   "source": [
    "# delete column produced by the csv\n",
    "del cursos['Unnamed: 0']"
   ]
  },
  {
   "cell_type": "code",
   "execution_count": 9,
   "metadata": {},
   "outputs": [
    {
     "data": {
      "text/plain": [
       "(67278, 3)"
      ]
     },
     "execution_count": 9,
     "metadata": {},
     "output_type": "execute_result"
    }
   ],
   "source": [
    "cursos.shape"
   ]
  },
  {
   "cell_type": "code",
   "execution_count": 10,
   "metadata": {},
   "outputs": [
    {
     "data": {
      "text/html": [
       "<div>\n",
       "<style scoped>\n",
       "    .dataframe tbody tr th:only-of-type {\n",
       "        vertical-align: middle;\n",
       "    }\n",
       "\n",
       "    .dataframe tbody tr th {\n",
       "        vertical-align: top;\n",
       "    }\n",
       "\n",
       "    .dataframe thead th {\n",
       "        text-align: right;\n",
       "    }\n",
       "</style>\n",
       "<table border=\"1\" class=\"dataframe\">\n",
       "  <thead>\n",
       "    <tr style=\"text-align: right;\">\n",
       "      <th></th>\n",
       "      <th>UTE_ID</th>\n",
       "      <th>F_CCURSO</th>\n",
       "      <th>F_DCURSO</th>\n",
       "    </tr>\n",
       "  </thead>\n",
       "  <tbody>\n",
       "    <tr>\n",
       "      <th>0</th>\n",
       "      <td>5963829</td>\n",
       "      <td>FM089AC</td>\n",
       "      <td>COMUNICAÇÃO ASSERTIVA E TÉCNICAS DE PROCURA DE...</td>\n",
       "    </tr>\n",
       "    <tr>\n",
       "      <th>1</th>\n",
       "      <td>4320275</td>\n",
       "      <td>811141A</td>\n",
       "      <td>TÉCNICO/A DE RESTAURANTE/BAR</td>\n",
       "    </tr>\n",
       "    <tr>\n",
       "      <th>2</th>\n",
       "      <td>5124212</td>\n",
       "      <td>81114ZZ</td>\n",
       "      <td>TÉCNICO/A DE RESTAURANTE/BAR (UFCD)</td>\n",
       "    </tr>\n",
       "    <tr>\n",
       "      <th>3</th>\n",
       "      <td>4787421</td>\n",
       "      <td>81205ZZ</td>\n",
       "      <td>TURISMO AMBIENTAL E RURAL</td>\n",
       "    </tr>\n",
       "    <tr>\n",
       "      <th>4</th>\n",
       "      <td>5522037</td>\n",
       "      <td>FM089AC</td>\n",
       "      <td>COMUNICAÇÃO ASSERTIVA E TÉCNICAS DE PROCURA DE...</td>\n",
       "    </tr>\n",
       "  </tbody>\n",
       "</table>\n",
       "</div>"
      ],
      "text/plain": [
       "    UTE_ID F_CCURSO                                           F_DCURSO\n",
       "0  5963829  FM089AC  COMUNICAÇÃO ASSERTIVA E TÉCNICAS DE PROCURA DE...\n",
       "1  4320275  811141A                       TÉCNICO/A DE RESTAURANTE/BAR\n",
       "2  5124212  81114ZZ                TÉCNICO/A DE RESTAURANTE/BAR (UFCD)\n",
       "3  4787421  81205ZZ                          TURISMO AMBIENTAL E RURAL\n",
       "4  5522037  FM089AC  COMUNICAÇÃO ASSERTIVA E TÉCNICAS DE PROCURA DE..."
      ]
     },
     "execution_count": 10,
     "metadata": {},
     "output_type": "execute_result"
    }
   ],
   "source": [
    "cursos.head()"
   ]
  },
  {
   "cell_type": "markdown",
   "metadata": {},
   "source": [
    "<div style=\"background-color: #2f648a; border-radius: 5px;\">\n",
    "    <center><h1 style=\"color: white; padding: 20px;\">3. Junção das duas bases de dados</h1></center>\n",
    "</div>"
   ]
  },
  {
   "cell_type": "code",
   "execution_count": 11,
   "metadata": {},
   "outputs": [],
   "source": [
    "merged = form.merge(cursos, on=\"UTE_ID\", how=\"inner\")"
   ]
  },
  {
   "cell_type": "code",
   "execution_count": 12,
   "metadata": {},
   "outputs": [
    {
     "data": {
      "text/plain": [
       "(283452, 14)"
      ]
     },
     "execution_count": 12,
     "metadata": {},
     "output_type": "execute_result"
    }
   ],
   "source": [
    "merged.shape"
   ]
  },
  {
   "cell_type": "code",
   "execution_count": 13,
   "metadata": {},
   "outputs": [
    {
     "data": {
      "text/html": [
       "<div>\n",
       "<style scoped>\n",
       "    .dataframe tbody tr th:only-of-type {\n",
       "        vertical-align: middle;\n",
       "    }\n",
       "\n",
       "    .dataframe tbody tr th {\n",
       "        vertical-align: top;\n",
       "    }\n",
       "\n",
       "    .dataframe thead th {\n",
       "        text-align: right;\n",
       "    }\n",
       "</style>\n",
       "<table border=\"1\" class=\"dataframe\">\n",
       "  <thead>\n",
       "    <tr style=\"text-align: right;\">\n",
       "      <th></th>\n",
       "      <th>UTE_ID</th>\n",
       "      <th>CodCEFP</th>\n",
       "      <th>Sexo</th>\n",
       "      <th>IdadeEmAnos</th>\n",
       "      <th>CodHabilitacao</th>\n",
       "      <th>CodNacionalidade</th>\n",
       "      <th>HorasForm</th>\n",
       "      <th>AreaFormacao</th>\n",
       "      <th>NivelFormacaoAccao</th>\n",
       "      <th>CodSaidaProfissional</th>\n",
       "      <th>Sucessos</th>\n",
       "      <th>DuracaoFormacao</th>\n",
       "      <th>F_CCURSO</th>\n",
       "      <th>F_DCURSO</th>\n",
       "    </tr>\n",
       "  </thead>\n",
       "  <tbody>\n",
       "    <tr>\n",
       "      <th>0</th>\n",
       "      <td>24054</td>\n",
       "      <td>201</td>\n",
       "      <td>1</td>\n",
       "      <td>41</td>\n",
       "      <td>12</td>\n",
       "      <td>PT</td>\n",
       "      <td>1504.0</td>\n",
       "      <td>521</td>\n",
       "      <td>5</td>\n",
       "      <td>52174</td>\n",
       "      <td>0</td>\n",
       "      <td>375 days 00:00:00.000000000</td>\n",
       "      <td>62110ZZ</td>\n",
       "      <td>OPERADOR/A AGRÍCOLA (UFCD)</td>\n",
       "    </tr>\n",
       "    <tr>\n",
       "      <th>1</th>\n",
       "      <td>39165</td>\n",
       "      <td>309</td>\n",
       "      <td>0</td>\n",
       "      <td>45</td>\n",
       "      <td>12</td>\n",
       "      <td>PT</td>\n",
       "      <td>1300.0</td>\n",
       "      <td>481</td>\n",
       "      <td>5</td>\n",
       "      <td>4816</td>\n",
       "      <td>0</td>\n",
       "      <td>325 days 00:00:00.000000000</td>\n",
       "      <td>48102ZZ</td>\n",
       "      <td>TÉCNICO/A DE INFORMÁTICA - SISTEMAS</td>\n",
       "    </tr>\n",
       "    <tr>\n",
       "      <th>2</th>\n",
       "      <td>77485</td>\n",
       "      <td>402</td>\n",
       "      <td>0</td>\n",
       "      <td>51</td>\n",
       "      <td>12</td>\n",
       "      <td>PT</td>\n",
       "      <td>211.0</td>\n",
       "      <td>481</td>\n",
       "      <td>5</td>\n",
       "      <td>4817</td>\n",
       "      <td>0</td>\n",
       "      <td>434 days 00:00:00.000000000</td>\n",
       "      <td>48102ZZ</td>\n",
       "      <td>TÉCNICO/A DE INFORMÁTICA - SISTEMAS</td>\n",
       "    </tr>\n",
       "    <tr>\n",
       "      <th>3</th>\n",
       "      <td>347421</td>\n",
       "      <td>204</td>\n",
       "      <td>0</td>\n",
       "      <td>50</td>\n",
       "      <td>12</td>\n",
       "      <td>PT</td>\n",
       "      <td>649.0</td>\n",
       "      <td>523</td>\n",
       "      <td>5</td>\n",
       "      <td>52321</td>\n",
       "      <td>1</td>\n",
       "      <td>351 days 00:00:00.000000000</td>\n",
       "      <td>34401ZZ</td>\n",
       "      <td>TÉCNICO/A DE CONTABILIDADE</td>\n",
       "    </tr>\n",
       "    <tr>\n",
       "      <th>4</th>\n",
       "      <td>397308</td>\n",
       "      <td>206</td>\n",
       "      <td>1</td>\n",
       "      <td>45</td>\n",
       "      <td>12</td>\n",
       "      <td>PT</td>\n",
       "      <td>1011.0</td>\n",
       "      <td>341</td>\n",
       "      <td>5</td>\n",
       "      <td>3419</td>\n",
       "      <td>0</td>\n",
       "      <td>343 days 00:00:00.000000000</td>\n",
       "      <td>34102ZZ</td>\n",
       "      <td>TÉCNICO/A COMERCIAL (UFCD)</td>\n",
       "    </tr>\n",
       "  </tbody>\n",
       "</table>\n",
       "</div>"
      ],
      "text/plain": [
       "   UTE_ID  CodCEFP  Sexo  IdadeEmAnos  CodHabilitacao CodNacionalidade  \\\n",
       "0   24054      201     1           41              12               PT   \n",
       "1   39165      309     0           45              12               PT   \n",
       "2   77485      402     0           51              12               PT   \n",
       "3  347421      204     0           50              12               PT   \n",
       "4  397308      206     1           45              12               PT   \n",
       "\n",
       "   HorasForm  AreaFormacao NivelFormacaoAccao CodSaidaProfissional  Sucessos  \\\n",
       "0     1504.0           521                  5                52174         0   \n",
       "1     1300.0           481                  5                 4816         0   \n",
       "2      211.0           481                  5                 4817         0   \n",
       "3      649.0           523                  5                52321         1   \n",
       "4     1011.0           341                  5                 3419         0   \n",
       "\n",
       "               DuracaoFormacao F_CCURSO                             F_DCURSO  \n",
       "0  375 days 00:00:00.000000000  62110ZZ           OPERADOR/A AGRÍCOLA (UFCD)  \n",
       "1  325 days 00:00:00.000000000  48102ZZ  TÉCNICO/A DE INFORMÁTICA - SISTEMAS  \n",
       "2  434 days 00:00:00.000000000  48102ZZ  TÉCNICO/A DE INFORMÁTICA - SISTEMAS  \n",
       "3  351 days 00:00:00.000000000  34401ZZ           TÉCNICO/A DE CONTABILIDADE  \n",
       "4  343 days 00:00:00.000000000  34102ZZ           TÉCNICO/A COMERCIAL (UFCD)  "
      ]
     },
     "execution_count": 13,
     "metadata": {},
     "output_type": "execute_result"
    }
   ],
   "source": [
    "merged.head()"
   ]
  },
  {
   "cell_type": "markdown",
   "metadata": {},
   "source": [
    "<div style=\"background-color: #2f648a; border-radius: 5px;\">\n",
    "    <center><h1 style=\"color: white; padding: 20px;\">4. Taxa de sucesso por curso</h1></center>\n",
    "</div>"
   ]
  },
  {
   "cell_type": "code",
   "execution_count": 14,
   "metadata": {},
   "outputs": [
    {
     "data": {
      "text/html": [
       "<div>\n",
       "<style scoped>\n",
       "    .dataframe tbody tr th:only-of-type {\n",
       "        vertical-align: middle;\n",
       "    }\n",
       "\n",
       "    .dataframe tbody tr th {\n",
       "        vertical-align: top;\n",
       "    }\n",
       "\n",
       "    .dataframe thead th {\n",
       "        text-align: right;\n",
       "    }\n",
       "</style>\n",
       "<table border=\"1\" class=\"dataframe\">\n",
       "  <thead>\n",
       "    <tr style=\"text-align: right;\">\n",
       "      <th></th>\n",
       "      <th>Count</th>\n",
       "    </tr>\n",
       "    <tr>\n",
       "      <th>F_CCURSO</th>\n",
       "      <th></th>\n",
       "    </tr>\n",
       "  </thead>\n",
       "  <tbody>\n",
       "    <tr>\n",
       "      <th>01001CI</th>\n",
       "      <td>1</td>\n",
       "    </tr>\n",
       "    <tr>\n",
       "      <th>01001ZZ</th>\n",
       "      <td>229</td>\n",
       "    </tr>\n",
       "    <tr>\n",
       "      <th>01003ZZ</th>\n",
       "      <td>2</td>\n",
       "    </tr>\n",
       "    <tr>\n",
       "      <th>01004BE</th>\n",
       "      <td>4</td>\n",
       "    </tr>\n",
       "    <tr>\n",
       "      <th>01004CD</th>\n",
       "      <td>1</td>\n",
       "    </tr>\n",
       "    <tr>\n",
       "      <th>...</th>\n",
       "      <td>...</td>\n",
       "    </tr>\n",
       "    <tr>\n",
       "      <th>FM957ZZ</th>\n",
       "      <td>26</td>\n",
       "    </tr>\n",
       "    <tr>\n",
       "      <th>FM963ZZ</th>\n",
       "      <td>1</td>\n",
       "    </tr>\n",
       "    <tr>\n",
       "      <th>KNXP.01</th>\n",
       "      <td>1</td>\n",
       "    </tr>\n",
       "    <tr>\n",
       "      <th>MATFIS</th>\n",
       "      <td>1</td>\n",
       "    </tr>\n",
       "    <tr>\n",
       "      <th>PRPAV2</th>\n",
       "      <td>1</td>\n",
       "    </tr>\n",
       "  </tbody>\n",
       "</table>\n",
       "<p>601 rows × 1 columns</p>\n",
       "</div>"
      ],
      "text/plain": [
       "          Count\n",
       "F_CCURSO       \n",
       "01001CI       1\n",
       "01001ZZ     229\n",
       "01003ZZ       2\n",
       "01004BE       4\n",
       "01004CD       1\n",
       "...         ...\n",
       "FM957ZZ      26\n",
       "FM963ZZ       1\n",
       "KNXP.01       1\n",
       "MATFIS        1\n",
       "PRPAV2        1\n",
       "\n",
       "[601 rows x 1 columns]"
      ]
     },
     "execution_count": 14,
     "metadata": {},
     "output_type": "execute_result"
    }
   ],
   "source": [
    "# criar tabela com contagem de cada formação\n",
    "count_form = merged[['F_CCURSO', \"UTE_ID\"]] \\\n",
    "            .groupby(\"F_CCURSO\") \\\n",
    "            .count() \\\n",
    "            .rename(columns = {'UTE_ID': 'Count'})\n",
    "\n",
    "count_form"
   ]
  },
  {
   "cell_type": "code",
   "execution_count": 15,
   "metadata": {},
   "outputs": [
    {
     "data": {
      "text/html": [
       "<div>\n",
       "<style scoped>\n",
       "    .dataframe tbody tr th:only-of-type {\n",
       "        vertical-align: middle;\n",
       "    }\n",
       "\n",
       "    .dataframe tbody tr th {\n",
       "        vertical-align: top;\n",
       "    }\n",
       "\n",
       "    .dataframe thead th {\n",
       "        text-align: right;\n",
       "    }\n",
       "</style>\n",
       "<table border=\"1\" class=\"dataframe\">\n",
       "  <thead>\n",
       "    <tr style=\"text-align: right;\">\n",
       "      <th></th>\n",
       "      <th>Count_succ</th>\n",
       "    </tr>\n",
       "    <tr>\n",
       "      <th>F_CCURSO</th>\n",
       "      <th></th>\n",
       "    </tr>\n",
       "  </thead>\n",
       "  <tbody>\n",
       "    <tr>\n",
       "      <th>01001ZZ</th>\n",
       "      <td>43</td>\n",
       "    </tr>\n",
       "    <tr>\n",
       "      <th>09097AB</th>\n",
       "      <td>1</td>\n",
       "    </tr>\n",
       "    <tr>\n",
       "      <th>09097ZZ</th>\n",
       "      <td>11</td>\n",
       "    </tr>\n",
       "    <tr>\n",
       "      <th>09098ZZ</th>\n",
       "      <td>27</td>\n",
       "    </tr>\n",
       "    <tr>\n",
       "      <th>14667AB</th>\n",
       "      <td>101</td>\n",
       "    </tr>\n",
       "    <tr>\n",
       "      <th>...</th>\n",
       "      <td>...</td>\n",
       "    </tr>\n",
       "    <tr>\n",
       "      <th>FM921ZZ</th>\n",
       "      <td>1</td>\n",
       "    </tr>\n",
       "    <tr>\n",
       "      <th>FM925ZZ</th>\n",
       "      <td>1</td>\n",
       "    </tr>\n",
       "    <tr>\n",
       "      <th>FM956ZZ</th>\n",
       "      <td>14</td>\n",
       "    </tr>\n",
       "    <tr>\n",
       "      <th>FM957ZZ</th>\n",
       "      <td>23</td>\n",
       "    </tr>\n",
       "    <tr>\n",
       "      <th>PRPAV2</th>\n",
       "      <td>1</td>\n",
       "    </tr>\n",
       "  </tbody>\n",
       "</table>\n",
       "<p>444 rows × 1 columns</p>\n",
       "</div>"
      ],
      "text/plain": [
       "          Count_succ\n",
       "F_CCURSO            \n",
       "01001ZZ           43\n",
       "09097AB            1\n",
       "09097ZZ           11\n",
       "09098ZZ           27\n",
       "14667AB          101\n",
       "...              ...\n",
       "FM921ZZ            1\n",
       "FM925ZZ            1\n",
       "FM956ZZ           14\n",
       "FM957ZZ           23\n",
       "PRPAV2             1\n",
       "\n",
       "[444 rows x 1 columns]"
      ]
     },
     "execution_count": 15,
     "metadata": {},
     "output_type": "execute_result"
    }
   ],
   "source": [
    "# filtrar apenas os casos de sucesso\n",
    "succ = merged[merged[\"Sucessos\"]==1]\n",
    "\n",
    "\n",
    "# criar tabela com contagem de cada formação com outcome <sucesso>\n",
    "count_form_succ = succ[['F_CCURSO', \"UTE_ID\"]] \\\n",
    "            .groupby(\"F_CCURSO\") \\\n",
    "            .count() \\\n",
    "            .rename(columns = {'UTE_ID': 'Count_succ'})\n",
    "\n",
    "count_form_succ"
   ]
  },
  {
   "cell_type": "code",
   "execution_count": 16,
   "metadata": {},
   "outputs": [
    {
     "data": {
      "text/html": [
       "<div>\n",
       "<style scoped>\n",
       "    .dataframe tbody tr th:only-of-type {\n",
       "        vertical-align: middle;\n",
       "    }\n",
       "\n",
       "    .dataframe tbody tr th {\n",
       "        vertical-align: top;\n",
       "    }\n",
       "\n",
       "    .dataframe thead th {\n",
       "        text-align: right;\n",
       "    }\n",
       "</style>\n",
       "<table border=\"1\" class=\"dataframe\">\n",
       "  <thead>\n",
       "    <tr style=\"text-align: right;\">\n",
       "      <th></th>\n",
       "      <th>Count</th>\n",
       "      <th>Count_succ</th>\n",
       "    </tr>\n",
       "    <tr>\n",
       "      <th>F_CCURSO</th>\n",
       "      <th></th>\n",
       "      <th></th>\n",
       "    </tr>\n",
       "  </thead>\n",
       "  <tbody>\n",
       "    <tr>\n",
       "      <th>01001CI</th>\n",
       "      <td>1</td>\n",
       "      <td>0.0</td>\n",
       "    </tr>\n",
       "    <tr>\n",
       "      <th>01001ZZ</th>\n",
       "      <td>229</td>\n",
       "      <td>43.0</td>\n",
       "    </tr>\n",
       "    <tr>\n",
       "      <th>01003ZZ</th>\n",
       "      <td>2</td>\n",
       "      <td>0.0</td>\n",
       "    </tr>\n",
       "    <tr>\n",
       "      <th>01004BE</th>\n",
       "      <td>4</td>\n",
       "      <td>0.0</td>\n",
       "    </tr>\n",
       "    <tr>\n",
       "      <th>01004CD</th>\n",
       "      <td>1</td>\n",
       "      <td>0.0</td>\n",
       "    </tr>\n",
       "    <tr>\n",
       "      <th>...</th>\n",
       "      <td>...</td>\n",
       "      <td>...</td>\n",
       "    </tr>\n",
       "    <tr>\n",
       "      <th>FM957ZZ</th>\n",
       "      <td>26</td>\n",
       "      <td>23.0</td>\n",
       "    </tr>\n",
       "    <tr>\n",
       "      <th>FM963ZZ</th>\n",
       "      <td>1</td>\n",
       "      <td>0.0</td>\n",
       "    </tr>\n",
       "    <tr>\n",
       "      <th>KNXP.01</th>\n",
       "      <td>1</td>\n",
       "      <td>0.0</td>\n",
       "    </tr>\n",
       "    <tr>\n",
       "      <th>MATFIS</th>\n",
       "      <td>1</td>\n",
       "      <td>0.0</td>\n",
       "    </tr>\n",
       "    <tr>\n",
       "      <th>PRPAV2</th>\n",
       "      <td>1</td>\n",
       "      <td>1.0</td>\n",
       "    </tr>\n",
       "  </tbody>\n",
       "</table>\n",
       "<p>601 rows × 2 columns</p>\n",
       "</div>"
      ],
      "text/plain": [
       "          Count  Count_succ\n",
       "F_CCURSO                   \n",
       "01001CI       1         0.0\n",
       "01001ZZ     229        43.0\n",
       "01003ZZ       2         0.0\n",
       "01004BE       4         0.0\n",
       "01004CD       1         0.0\n",
       "...         ...         ...\n",
       "FM957ZZ      26        23.0\n",
       "FM963ZZ       1         0.0\n",
       "KNXP.01       1         0.0\n",
       "MATFIS        1         0.0\n",
       "PRPAV2        1         1.0\n",
       "\n",
       "[601 rows x 2 columns]"
      ]
     },
     "execution_count": 16,
     "metadata": {},
     "output_type": "execute_result"
    }
   ],
   "source": [
    "# merge both dataframe based on F_CCURSO\n",
    "merge_count = count_form.merge(count_form_succ, on=\"F_CCURSO\", how=\"left\")\n",
    "\n",
    "# change NAN to zeros\n",
    "merge_count[\"Count_succ\"] = merge_count[\"Count_succ\"].fillna(0)\n",
    "merge_count"
   ]
  },
  {
   "cell_type": "code",
   "execution_count": 17,
   "metadata": {},
   "outputs": [
    {
     "data": {
      "text/html": [
       "<div>\n",
       "<style scoped>\n",
       "    .dataframe tbody tr th:only-of-type {\n",
       "        vertical-align: middle;\n",
       "    }\n",
       "\n",
       "    .dataframe tbody tr th {\n",
       "        vertical-align: top;\n",
       "    }\n",
       "\n",
       "    .dataframe thead th {\n",
       "        text-align: right;\n",
       "    }\n",
       "</style>\n",
       "<table border=\"1\" class=\"dataframe\">\n",
       "  <thead>\n",
       "    <tr style=\"text-align: right;\">\n",
       "      <th></th>\n",
       "      <th>Count</th>\n",
       "      <th>Count_succ</th>\n",
       "      <th>succ_rate</th>\n",
       "    </tr>\n",
       "    <tr>\n",
       "      <th>F_CCURSO</th>\n",
       "      <th></th>\n",
       "      <th></th>\n",
       "      <th></th>\n",
       "    </tr>\n",
       "  </thead>\n",
       "  <tbody>\n",
       "    <tr>\n",
       "      <th>01001CI</th>\n",
       "      <td>1</td>\n",
       "      <td>0.0</td>\n",
       "      <td>0.000000</td>\n",
       "    </tr>\n",
       "    <tr>\n",
       "      <th>01001ZZ</th>\n",
       "      <td>229</td>\n",
       "      <td>43.0</td>\n",
       "      <td>0.187773</td>\n",
       "    </tr>\n",
       "    <tr>\n",
       "      <th>01003ZZ</th>\n",
       "      <td>2</td>\n",
       "      <td>0.0</td>\n",
       "      <td>0.000000</td>\n",
       "    </tr>\n",
       "    <tr>\n",
       "      <th>01004BE</th>\n",
       "      <td>4</td>\n",
       "      <td>0.0</td>\n",
       "      <td>0.000000</td>\n",
       "    </tr>\n",
       "    <tr>\n",
       "      <th>01004CD</th>\n",
       "      <td>1</td>\n",
       "      <td>0.0</td>\n",
       "      <td>0.000000</td>\n",
       "    </tr>\n",
       "    <tr>\n",
       "      <th>...</th>\n",
       "      <td>...</td>\n",
       "      <td>...</td>\n",
       "      <td>...</td>\n",
       "    </tr>\n",
       "    <tr>\n",
       "      <th>FM957ZZ</th>\n",
       "      <td>26</td>\n",
       "      <td>23.0</td>\n",
       "      <td>0.884615</td>\n",
       "    </tr>\n",
       "    <tr>\n",
       "      <th>FM963ZZ</th>\n",
       "      <td>1</td>\n",
       "      <td>0.0</td>\n",
       "      <td>0.000000</td>\n",
       "    </tr>\n",
       "    <tr>\n",
       "      <th>KNXP.01</th>\n",
       "      <td>1</td>\n",
       "      <td>0.0</td>\n",
       "      <td>0.000000</td>\n",
       "    </tr>\n",
       "    <tr>\n",
       "      <th>MATFIS</th>\n",
       "      <td>1</td>\n",
       "      <td>0.0</td>\n",
       "      <td>0.000000</td>\n",
       "    </tr>\n",
       "    <tr>\n",
       "      <th>PRPAV2</th>\n",
       "      <td>1</td>\n",
       "      <td>1.0</td>\n",
       "      <td>1.000000</td>\n",
       "    </tr>\n",
       "  </tbody>\n",
       "</table>\n",
       "<p>601 rows × 3 columns</p>\n",
       "</div>"
      ],
      "text/plain": [
       "          Count  Count_succ  succ_rate\n",
       "F_CCURSO                              \n",
       "01001CI       1         0.0   0.000000\n",
       "01001ZZ     229        43.0   0.187773\n",
       "01003ZZ       2         0.0   0.000000\n",
       "01004BE       4         0.0   0.000000\n",
       "01004CD       1         0.0   0.000000\n",
       "...         ...         ...        ...\n",
       "FM957ZZ      26        23.0   0.884615\n",
       "FM963ZZ       1         0.0   0.000000\n",
       "KNXP.01       1         0.0   0.000000\n",
       "MATFIS        1         0.0   0.000000\n",
       "PRPAV2        1         1.0   1.000000\n",
       "\n",
       "[601 rows x 3 columns]"
      ]
     },
     "execution_count": 17,
     "metadata": {},
     "output_type": "execute_result"
    }
   ],
   "source": [
    "# criar uma variável para guardar a taxa de sucesso de cada curso após a sua conclusão\n",
    "merge_count[\"succ_rate\"] = merge_count[\"Count_succ\"] / merge_count[\"Count\"]\n",
    "merge_count"
   ]
  },
  {
   "cell_type": "markdown",
   "metadata": {},
   "source": [
    "<div style=\"background-color: #2f648a; border-radius: 5px;\">\n",
    "    <center><h1 style=\"color: white; padding: 20px;\">5. Recommender System</h1></center>\n",
    "</div>"
   ]
  },
  {
   "cell_type": "code",
   "execution_count": 58,
   "metadata": {},
   "outputs": [],
   "source": [
    "# input utilizador\n",
    "\n",
    "sexo = 1\n",
    "idade = 30\n",
    "hab = 9\n",
    "horas = 500\n",
    "centro = 309\n",
    "area = 481"
   ]
  },
  {
   "cell_type": "code",
   "execution_count": 59,
   "metadata": {},
   "outputs": [
    {
     "data": {
      "text/plain": [
       "(283452, 14)"
      ]
     },
     "execution_count": 59,
     "metadata": {},
     "output_type": "execute_result"
    }
   ],
   "source": [
    "merged.shape"
   ]
  },
  {
   "cell_type": "code",
   "execution_count": 60,
   "metadata": {},
   "outputs": [],
   "source": [
    "# aplicar filtros relativos ao sexo do utente\n",
    "semelhantes = merged[merged[\"Sexo\"]==sexo]"
   ]
  },
  {
   "cell_type": "code",
   "execution_count": 61,
   "metadata": {},
   "outputs": [
    {
     "data": {
      "text/plain": [
       "(225556, 14)"
      ]
     },
     "execution_count": 61,
     "metadata": {},
     "output_type": "execute_result"
    }
   ],
   "source": [
    "semelhantes.shape"
   ]
  },
  {
   "cell_type": "code",
   "execution_count": 62,
   "metadata": {},
   "outputs": [],
   "source": [
    "# criação de duas variáveis relativas à idade minima e máxima na qual vamos basear o filtro \n",
    "scale = semelhantes[\"IdadeEmAnos\"].max() - semelhantes[\"IdadeEmAnos\"].min()\n",
    "\n",
    "proportion = 0.15\n",
    "\n",
    "min_age = idade - scale * 0.15\n",
    "max_age = idade + scale * 0.15\n",
    "\n",
    "# aplicar filtros relativos à idade do utente\n",
    "semelhantes = semelhantes[(semelhantes[\"IdadeEmAnos\"] > min_age) & (semelhantes[\"IdadeEmAnos\"] < max_age)]"
   ]
  },
  {
   "cell_type": "code",
   "execution_count": 63,
   "metadata": {},
   "outputs": [
    {
     "data": {
      "text/plain": [
       "(75173, 14)"
      ]
     },
     "execution_count": 63,
     "metadata": {},
     "output_type": "execute_result"
    }
   ],
   "source": [
    "semelhantes.shape"
   ]
  },
  {
   "cell_type": "code",
   "execution_count": 64,
   "metadata": {},
   "outputs": [],
   "source": [
    "# criação de duas variáveis relativas ao tempo minimo e máximo em horas da formação.\n",
    "scale = semelhantes[\"HorasForm\"].max() - semelhantes[\"HorasForm\"].min()\n",
    "\n",
    "proportion = 0.10\n",
    "\n",
    "min_hours = idade - scale * 0.15\n",
    "max_hours = idade + scale * 0.15\n",
    "\n",
    "# aplicar filtros relativos à idade do utente\n",
    "semelhantes = semelhantes[(semelhantes[\"HorasForm\"] > min_hours) & (semelhantes[\"HorasForm\"] < max_hours)]"
   ]
  },
  {
   "cell_type": "code",
   "execution_count": 65,
   "metadata": {},
   "outputs": [
    {
     "data": {
      "text/plain": [
       "(73297, 14)"
      ]
     },
     "execution_count": 65,
     "metadata": {},
     "output_type": "execute_result"
    }
   ],
   "source": [
    "semelhantes.shape"
   ]
  },
  {
   "cell_type": "code",
   "execution_count": 66,
   "metadata": {},
   "outputs": [],
   "source": [
    "# aplicar filtros relativos ao sexo do utente\n",
    "semelhantes = semelhantes[semelhantes[\"CodCEFP\"]==centro]"
   ]
  },
  {
   "cell_type": "code",
   "execution_count": 67,
   "metadata": {},
   "outputs": [
    {
     "data": {
      "text/plain": [
       "(105, 14)"
      ]
     },
     "execution_count": 67,
     "metadata": {},
     "output_type": "execute_result"
    }
   ],
   "source": [
    "semelhantes.shape"
   ]
  },
  {
   "cell_type": "code",
   "execution_count": 68,
   "metadata": {},
   "outputs": [],
   "source": [
    "# aplicar filtros relativos à AreaFormacao do utente\n",
    "semelhantes = semelhantes[semelhantes[\"AreaFormacao\"]==area]"
   ]
  },
  {
   "cell_type": "code",
   "execution_count": 69,
   "metadata": {},
   "outputs": [
    {
     "data": {
      "text/plain": [
       "(4, 14)"
      ]
     },
     "execution_count": 69,
     "metadata": {},
     "output_type": "execute_result"
    }
   ],
   "source": [
    "semelhantes.shape"
   ]
  },
  {
   "cell_type": "markdown",
   "metadata": {},
   "source": [
    "<div style=\"background-color: #2f648a; border-radius: 5px;\">\n",
    "    <center><h1 style=\"color: white; padding: 20px;\">6. Output</h1></center>\n",
    "</div>"
   ]
  },
  {
   "cell_type": "code",
   "execution_count": 70,
   "metadata": {},
   "outputs": [
    {
     "data": {
      "text/plain": [
       "ASSISTENTE ADMINISTRATIVO/A    2\n",
       "OPERADOR/A DE INFORMÁTICA      2\n",
       "Name: F_DCURSO, dtype: int64"
      ]
     },
     "execution_count": 70,
     "metadata": {},
     "output_type": "execute_result"
    }
   ],
   "source": [
    "semelhantes[\"F_DCURSO\"].value_counts()"
   ]
  }
 ],
 "metadata": {
  "kernelspec": {
   "display_name": "Python 3",
   "language": "python",
   "name": "python3"
  },
  "language_info": {
   "codemirror_mode": {
    "name": "ipython",
    "version": 3
   },
   "file_extension": ".py",
   "mimetype": "text/x-python",
   "name": "python",
   "nbconvert_exporter": "python",
   "pygments_lexer": "ipython3",
   "version": "3.8.3"
  }
 },
 "nbformat": 4,
 "nbformat_minor": 4
}
