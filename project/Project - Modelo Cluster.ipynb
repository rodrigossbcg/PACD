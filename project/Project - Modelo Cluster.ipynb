{
 "cells": [
  {
   "cell_type": "markdown",
   "metadata": {},
   "source": [
    "<img src=\"images/intro.jpeg\">"
   ]
  },
  {
   "cell_type": "markdown",
   "metadata": {},
   "source": [
    "# Project - Modelo Clustering"
   ]
  },
  {
   "cell_type": "markdown",
   "metadata": {},
   "source": [
    "<div style=\"background-color: #2f648a; border-radius: 5px;\"> \n",
    "    <center><h1 style=\"color: white; padding: 20px;\">1. Imports</h1></center>\n",
    "</div>"
   ]
  },
  {
   "cell_type": "code",
   "execution_count": 1,
   "metadata": {},
   "outputs": [],
   "source": [
    "# !pip install scikit-fuzzy"
   ]
  },
  {
   "cell_type": "code",
   "execution_count": 2,
   "metadata": {},
   "outputs": [],
   "source": [
    "import pandas as pd                   # pandas\n",
    "from pandas import ExcelWriter        # write excel file\n",
    "import numpy as np                    # numpy\n",
    "import scipy                          # scipy\n",
    "import seaborn as sn                  # seaborn graphs\n",
    "import skfuzzy                        # fuzzy clustering\n",
    "import matplotlib.pyplot as plt       # matplotlib graphs\n",
    "from sklearn.preprocessing import *   # normalização"
   ]
  },
  {
   "cell_type": "markdown",
   "metadata": {},
   "source": [
    "<div style=\"background-color: #2f648a; border-radius: 5px;\"> \n",
    "    <center><h1 style=\"color: white; padding: 20px;\">2. Read Files</h1></center>\n",
    "</div>"
   ]
  },
  {
   "cell_type": "code",
   "execution_count": 14,
   "metadata": {},
   "outputs": [
    {
     "data": {
      "text/plain": [
       "Index(['UTE_ID', 'F_CCURSO', 'F_DCURSO', 'F_HORAS', 'TIPO_UTENTE', 'CATEGORIA',\n",
       "       'DCATEGORIA'],\n",
       "      dtype='object')"
      ]
     },
     "execution_count": 14,
     "metadata": {},
     "output_type": "execute_result"
    }
   ],
   "source": [
    "# ler base de dados relativa aos cursos\n",
    "cursos = pd.read_csv(\"databases/cursos.csv\")\n",
    "\n",
    "del cursos[\"Unnamed: 0\"]\n",
    "cursos.columns"
   ]
  },
  {
   "cell_type": "code",
   "execution_count": 15,
   "metadata": {},
   "outputs": [
    {
     "name": "stderr",
     "output_type": "stream",
     "text": [
      "C:\\Users\\sarro\\anaconda3\\lib\\site-packages\\IPython\\core\\interactiveshell.py:3071: DtypeWarning: Columns (10) have mixed types.Specify dtype option on import or set low_memory=False.\n",
      "  has_raised = await self.run_ast_nodes(code_ast.body, cell_name,\n"
     ]
    },
    {
     "data": {
      "text/plain": [
       "Index(['UTE_ID', 'CodCEFP', 'Sexo', 'IdadeEmAnos', 'CodHabilitacao',\n",
       "       'CodNacionalidade', 'HorasForm', 'AreaFormacao', 'NivelFormacaoAccao',\n",
       "       'CodSaidaProfissional', 'Sucessos', 'DuracaoFormacao'],\n",
       "      dtype='object')"
      ]
     },
     "execution_count": 15,
     "metadata": {},
     "output_type": "execute_result"
    }
   ],
   "source": [
    "# ler base de dados relativa aos formandos\n",
    "formandos = pd.read_csv(\"databases/formandos_limpo.csv\")\n",
    "\n",
    "del formandos[\"Unnamed: 0\"]\n",
    "formandos.columns"
   ]
  },
  {
   "cell_type": "markdown",
   "metadata": {},
   "source": [
    "<div style=\"background-color: #2f648a; border-radius: 5px;\"> \n",
    "    <center><h1 style=\"color: white; padding: 20px;\">3. Merge DataFrames cursos e formandos</h1></center>\n",
    "</div>"
   ]
  },
  {
   "cell_type": "code",
   "execution_count": 16,
   "metadata": {},
   "outputs": [
    {
     "data": {
      "text/plain": [
       "(117139, 18)"
      ]
     },
     "execution_count": 16,
     "metadata": {},
     "output_type": "execute_result"
    }
   ],
   "source": [
    "# realizar o merge entre tabela de formandos e de cursos\n",
    "final_forms = formandos.merge(cursos, on=\"UTE_ID\", how=\"left\")\n",
    "final_forms.shape"
   ]
  },
  {
   "cell_type": "markdown",
   "metadata": {},
   "source": [
    "<div style=\"background-color: #2f648a; border-radius: 5px;\"> \n",
    "    <center><h1 style=\"color: white; padding: 20px;\">4. Final DataFrame</h1></center>\n",
    "</div>"
   ]
  },
  {
   "cell_type": "code",
   "execution_count": 17,
   "metadata": {},
   "outputs": [
    {
     "data": {
      "text/plain": [
       "(42217, 18)"
      ]
     },
     "execution_count": 17,
     "metadata": {},
     "output_type": "execute_result"
    }
   ],
   "source": [
    "# filtrar apenas casos de sucesso\n",
    "final_forms = final_forms[final_forms['Sucessos'] == 1]\n",
    "final_forms.shape"
   ]
  },
  {
   "cell_type": "code",
   "execution_count": 18,
   "metadata": {},
   "outputs": [
    {
     "data": {
      "text/plain": [
       "0"
      ]
     },
     "execution_count": 18,
     "metadata": {},
     "output_type": "execute_result"
    }
   ],
   "source": [
    "# verificar que não existem duplicados no subconjunto utente / curso\n",
    "final_forms.duplicated(subset=[\"UTE_ID\", \"F_CCURSO\"]).sum()"
   ]
  },
  {
   "cell_type": "code",
   "execution_count": 19,
   "metadata": {},
   "outputs": [
    {
     "data": {
      "text/plain": [
       "UTE_ID                     0\n",
       "CodCEFP                    0\n",
       "Sexo                       0\n",
       "IdadeEmAnos                0\n",
       "CodHabilitacao             0\n",
       "CodNacionalidade           0\n",
       "HorasForm                  0\n",
       "AreaFormacao               0\n",
       "NivelFormacaoAccao         0\n",
       "CodSaidaProfissional       0\n",
       "Sucessos                   0\n",
       "DuracaoFormacao            0\n",
       "F_CCURSO                4691\n",
       "F_DCURSO                4691\n",
       "F_HORAS                 4691\n",
       "TIPO_UTENTE             4691\n",
       "CATEGORIA               4691\n",
       "DCATEGORIA              4691\n",
       "dtype: int64"
      ]
     },
     "execution_count": 19,
     "metadata": {},
     "output_type": "execute_result"
    }
   ],
   "source": [
    "# verificar valores omissos\n",
    "final_forms.isnull().sum()"
   ]
  },
  {
   "cell_type": "code",
   "execution_count": 20,
   "metadata": {},
   "outputs": [
    {
     "data": {
      "text/plain": [
       "(37526, 18)"
      ]
     },
     "execution_count": 20,
     "metadata": {},
     "output_type": "execute_result"
    }
   ],
   "source": [
    "# eliminar NA's\n",
    "final_forms = final_forms.dropna()\n",
    "final_forms.shape"
   ]
  },
  {
   "cell_type": "code",
   "execution_count": 21,
   "metadata": {},
   "outputs": [],
   "source": [
    "# guardar num csv final\n",
    "final_forms.to_csv('databases/iefp_dados_combinados.csv')"
   ]
  },
  {
   "cell_type": "code",
   "execution_count": 22,
   "metadata": {},
   "outputs": [
    {
     "data": {
      "text/html": [
       "<div>\n",
       "<style scoped>\n",
       "    .dataframe tbody tr th:only-of-type {\n",
       "        vertical-align: middle;\n",
       "    }\n",
       "\n",
       "    .dataframe tbody tr th {\n",
       "        vertical-align: top;\n",
       "    }\n",
       "\n",
       "    .dataframe thead th {\n",
       "        text-align: right;\n",
       "    }\n",
       "</style>\n",
       "<table border=\"1\" class=\"dataframe\">\n",
       "  <thead>\n",
       "    <tr style=\"text-align: right;\">\n",
       "      <th></th>\n",
       "      <th>UTE_ID</th>\n",
       "      <th>CodCEFP</th>\n",
       "      <th>Sexo</th>\n",
       "      <th>IdadeEmAnos</th>\n",
       "      <th>CodHabilitacao</th>\n",
       "      <th>HorasForm</th>\n",
       "      <th>AreaFormacao</th>\n",
       "      <th>Sucessos</th>\n",
       "      <th>F_HORAS</th>\n",
       "      <th>CATEGORIA</th>\n",
       "    </tr>\n",
       "  </thead>\n",
       "  <tbody>\n",
       "    <tr>\n",
       "      <th>count</th>\n",
       "      <td>3.752600e+04</td>\n",
       "      <td>37526.000000</td>\n",
       "      <td>37526.000000</td>\n",
       "      <td>37526.000000</td>\n",
       "      <td>37526.000000</td>\n",
       "      <td>37526.000000</td>\n",
       "      <td>37526.000000</td>\n",
       "      <td>37526.0</td>\n",
       "      <td>37526.000000</td>\n",
       "      <td>37526.000000</td>\n",
       "    </tr>\n",
       "    <tr>\n",
       "      <th>mean</th>\n",
       "      <td>3.548072e+06</td>\n",
       "      <td>255.217929</td>\n",
       "      <td>0.655865</td>\n",
       "      <td>38.869770</td>\n",
       "      <td>10.743858</td>\n",
       "      <td>202.297074</td>\n",
       "      <td>587.569179</td>\n",
       "      <td>1.0</td>\n",
       "      <td>873.366706</td>\n",
       "      <td>3.563156</td>\n",
       "    </tr>\n",
       "    <tr>\n",
       "      <th>std</th>\n",
       "      <td>1.955249e+06</td>\n",
       "      <td>106.650216</td>\n",
       "      <td>0.475092</td>\n",
       "      <td>10.770625</td>\n",
       "      <td>3.156972</td>\n",
       "      <td>302.390600</td>\n",
       "      <td>212.578572</td>\n",
       "      <td>0.0</td>\n",
       "      <td>571.052858</td>\n",
       "      <td>1.501159</td>\n",
       "    </tr>\n",
       "    <tr>\n",
       "      <th>min</th>\n",
       "      <td>1.070000e+02</td>\n",
       "      <td>122.000000</td>\n",
       "      <td>0.000000</td>\n",
       "      <td>17.000000</td>\n",
       "      <td>2.000000</td>\n",
       "      <td>0.000000</td>\n",
       "      <td>10.000000</td>\n",
       "      <td>1.0</td>\n",
       "      <td>0.000000</td>\n",
       "      <td>1.000000</td>\n",
       "    </tr>\n",
       "    <tr>\n",
       "      <th>25%</th>\n",
       "      <td>1.922062e+06</td>\n",
       "      <td>149.000000</td>\n",
       "      <td>0.000000</td>\n",
       "      <td>30.000000</td>\n",
       "      <td>9.000000</td>\n",
       "      <td>25.000000</td>\n",
       "      <td>345.000000</td>\n",
       "      <td>1.0</td>\n",
       "      <td>650.000000</td>\n",
       "      <td>2.000000</td>\n",
       "    </tr>\n",
       "    <tr>\n",
       "      <th>50%</th>\n",
       "      <td>3.418716e+06</td>\n",
       "      <td>208.000000</td>\n",
       "      <td>1.000000</td>\n",
       "      <td>39.000000</td>\n",
       "      <td>12.000000</td>\n",
       "      <td>50.000000</td>\n",
       "      <td>543.000000</td>\n",
       "      <td>1.0</td>\n",
       "      <td>900.000000</td>\n",
       "      <td>4.000000</td>\n",
       "    </tr>\n",
       "    <tr>\n",
       "      <th>75%</th>\n",
       "      <td>5.145498e+06</td>\n",
       "      <td>313.000000</td>\n",
       "      <td>1.000000</td>\n",
       "      <td>47.000000</td>\n",
       "      <td>12.000000</td>\n",
       "      <td>203.000000</td>\n",
       "      <td>762.000000</td>\n",
       "      <td>1.0</td>\n",
       "      <td>1050.000000</td>\n",
       "      <td>5.000000</td>\n",
       "    </tr>\n",
       "    <tr>\n",
       "      <th>max</th>\n",
       "      <td>6.809101e+06</td>\n",
       "      <td>502.000000</td>\n",
       "      <td>1.000000</td>\n",
       "      <td>70.000000</td>\n",
       "      <td>20.000000</td>\n",
       "      <td>2302.000000</td>\n",
       "      <td>999.000000</td>\n",
       "      <td>1.0</td>\n",
       "      <td>6750.000000</td>\n",
       "      <td>5.000000</td>\n",
       "    </tr>\n",
       "  </tbody>\n",
       "</table>\n",
       "</div>"
      ],
      "text/plain": [
       "             UTE_ID       CodCEFP          Sexo   IdadeEmAnos  CodHabilitacao  \\\n",
       "count  3.752600e+04  37526.000000  37526.000000  37526.000000    37526.000000   \n",
       "mean   3.548072e+06    255.217929      0.655865     38.869770       10.743858   \n",
       "std    1.955249e+06    106.650216      0.475092     10.770625        3.156972   \n",
       "min    1.070000e+02    122.000000      0.000000     17.000000        2.000000   \n",
       "25%    1.922062e+06    149.000000      0.000000     30.000000        9.000000   \n",
       "50%    3.418716e+06    208.000000      1.000000     39.000000       12.000000   \n",
       "75%    5.145498e+06    313.000000      1.000000     47.000000       12.000000   \n",
       "max    6.809101e+06    502.000000      1.000000     70.000000       20.000000   \n",
       "\n",
       "          HorasForm  AreaFormacao  Sucessos       F_HORAS     CATEGORIA  \n",
       "count  37526.000000  37526.000000   37526.0  37526.000000  37526.000000  \n",
       "mean     202.297074    587.569179       1.0    873.366706      3.563156  \n",
       "std      302.390600    212.578572       0.0    571.052858      1.501159  \n",
       "min        0.000000     10.000000       1.0      0.000000      1.000000  \n",
       "25%       25.000000    345.000000       1.0    650.000000      2.000000  \n",
       "50%       50.000000    543.000000       1.0    900.000000      4.000000  \n",
       "75%      203.000000    762.000000       1.0   1050.000000      5.000000  \n",
       "max     2302.000000    999.000000       1.0   6750.000000      5.000000  "
      ]
     },
     "execution_count": 22,
     "metadata": {},
     "output_type": "execute_result"
    }
   ],
   "source": [
    "final_forms.describe()"
   ]
  },
  {
   "cell_type": "markdown",
   "metadata": {},
   "source": [
    "<div style=\"background-color: #2f648a; border-radius: 5px;\"> \n",
    "    <center><h1 style=\"color: white; padding: 20px;\">5. Preparação dos dados para modelação</h1></center>\n",
    "</div>\n",
    "\n",
    "<br>\n",
    "\n",
    "Para efetuar o modelo sobre os dados, é necessário selecionar as variáveis em modelação e normalizá-las."
   ]
  },
  {
   "cell_type": "code",
   "execution_count": 31,
   "metadata": {},
   "outputs": [
    {
     "name": "stderr",
     "output_type": "stream",
     "text": [
      "C:\\Users\\sarro\\anaconda3\\lib\\site-packages\\IPython\\core\\interactiveshell.py:3071: DtypeWarning: Columns (10) have mixed types.Specify dtype option on import or set low_memory=False.\n",
      "  has_raised = await self.run_ast_nodes(code_ast.body, cell_name,\n"
     ]
    },
    {
     "data": {
      "text/html": [
       "<div>\n",
       "<style scoped>\n",
       "    .dataframe tbody tr th:only-of-type {\n",
       "        vertical-align: middle;\n",
       "    }\n",
       "\n",
       "    .dataframe tbody tr th {\n",
       "        vertical-align: top;\n",
       "    }\n",
       "\n",
       "    .dataframe thead th {\n",
       "        text-align: right;\n",
       "    }\n",
       "</style>\n",
       "<table border=\"1\" class=\"dataframe\">\n",
       "  <thead>\n",
       "    <tr style=\"text-align: right;\">\n",
       "      <th></th>\n",
       "      <th>UTE_ID</th>\n",
       "      <th>CodCEFP</th>\n",
       "      <th>Sexo</th>\n",
       "      <th>IdadeEmAnos</th>\n",
       "      <th>CodHabilitacao</th>\n",
       "      <th>CodNacionalidade</th>\n",
       "      <th>HorasForm</th>\n",
       "      <th>AreaFormacao</th>\n",
       "      <th>NivelFormacaoAccao</th>\n",
       "      <th>CodSaidaProfissional</th>\n",
       "      <th>Sucessos</th>\n",
       "      <th>DuracaoFormacao</th>\n",
       "      <th>F_CCURSO</th>\n",
       "      <th>F_DCURSO</th>\n",
       "      <th>F_HORAS</th>\n",
       "      <th>TIPO_UTENTE</th>\n",
       "      <th>CATEGORIA</th>\n",
       "      <th>DCATEGORIA</th>\n",
       "    </tr>\n",
       "  </thead>\n",
       "  <tbody>\n",
       "    <tr>\n",
       "      <th>0</th>\n",
       "      <td>155241</td>\n",
       "      <td>501</td>\n",
       "      <td>1</td>\n",
       "      <td>51</td>\n",
       "      <td>12</td>\n",
       "      <td>PT</td>\n",
       "      <td>447.0</td>\n",
       "      <td>812</td>\n",
       "      <td>5</td>\n",
       "      <td>8126</td>\n",
       "      <td>1</td>\n",
       "      <td>382 days 00:00:00.000000000</td>\n",
       "      <td>812061E</td>\n",
       "      <td>TÉCNICO/A ESPECIALISTA EM TURISMO DE AR LIVRE ...</td>\n",
       "      <td>1425.0</td>\n",
       "      <td>A</td>\n",
       "      <td>2.0</td>\n",
       "      <td>DESEMPREGADO-NOVO EMPREGO</td>\n",
       "    </tr>\n",
       "    <tr>\n",
       "      <th>1</th>\n",
       "      <td>347421</td>\n",
       "      <td>204</td>\n",
       "      <td>0</td>\n",
       "      <td>50</td>\n",
       "      <td>12</td>\n",
       "      <td>PT</td>\n",
       "      <td>649.0</td>\n",
       "      <td>523</td>\n",
       "      <td>5</td>\n",
       "      <td>52321</td>\n",
       "      <td>1</td>\n",
       "      <td>351 days 00:00:00.000000000</td>\n",
       "      <td>34401ZZ</td>\n",
       "      <td>TÉCNICO/A DE CONTABILIDADE</td>\n",
       "      <td>1000.0</td>\n",
       "      <td>A</td>\n",
       "      <td>5.0</td>\n",
       "      <td>OCUPADO</td>\n",
       "    </tr>\n",
       "    <tr>\n",
       "      <th>2</th>\n",
       "      <td>347421</td>\n",
       "      <td>204</td>\n",
       "      <td>0</td>\n",
       "      <td>50</td>\n",
       "      <td>12</td>\n",
       "      <td>PT</td>\n",
       "      <td>649.0</td>\n",
       "      <td>523</td>\n",
       "      <td>5</td>\n",
       "      <td>52321</td>\n",
       "      <td>1</td>\n",
       "      <td>351 days 00:00:00.000000000</td>\n",
       "      <td>523101E</td>\n",
       "      <td>AUTOMAÇÃO, ROBÓTICA E CONTROLO INDUSTRIAL</td>\n",
       "      <td>1560.0</td>\n",
       "      <td>A</td>\n",
       "      <td>5.0</td>\n",
       "      <td>OCUPADO</td>\n",
       "    </tr>\n",
       "  </tbody>\n",
       "</table>\n",
       "</div>"
      ],
      "text/plain": [
       "   UTE_ID  CodCEFP  Sexo  IdadeEmAnos  CodHabilitacao CodNacionalidade  \\\n",
       "0  155241      501     1           51              12               PT   \n",
       "1  347421      204     0           50              12               PT   \n",
       "2  347421      204     0           50              12               PT   \n",
       "\n",
       "   HorasForm  AreaFormacao NivelFormacaoAccao CodSaidaProfissional  Sucessos  \\\n",
       "0      447.0           812                  5                 8126         1   \n",
       "1      649.0           523                  5                52321         1   \n",
       "2      649.0           523                  5                52321         1   \n",
       "\n",
       "               DuracaoFormacao F_CCURSO  \\\n",
       "0  382 days 00:00:00.000000000  812061E   \n",
       "1  351 days 00:00:00.000000000  34401ZZ   \n",
       "2  351 days 00:00:00.000000000  523101E   \n",
       "\n",
       "                                            F_DCURSO  F_HORAS TIPO_UTENTE  \\\n",
       "0  TÉCNICO/A ESPECIALISTA EM TURISMO DE AR LIVRE ...   1425.0           A   \n",
       "1                         TÉCNICO/A DE CONTABILIDADE   1000.0           A   \n",
       "2          AUTOMAÇÃO, ROBÓTICA E CONTROLO INDUSTRIAL   1560.0           A   \n",
       "\n",
       "   CATEGORIA                 DCATEGORIA  \n",
       "0        2.0  DESEMPREGADO-NOVO EMPREGO  \n",
       "1        5.0                    OCUPADO  \n",
       "2        5.0                    OCUPADO  "
      ]
     },
     "execution_count": 31,
     "metadata": {},
     "output_type": "execute_result"
    }
   ],
   "source": [
    "# leitura do csv com os dados combinados\n",
    "iefp = pd.read_csv('databases/iefp_dados_combinados.csv')\n",
    "\n",
    "del iefp[\"Unnamed: 0\"]\n",
    "iefp.head(3)"
   ]
  },
  {
   "cell_type": "markdown",
   "metadata": {},
   "source": [
    "<div style=\"border: solid 4px #2f648a; border-radius: 5px;\"> \n",
    "    <center><h3 style=\"color: #2f648a; padding: 10px;\">5.1. Seleção de features</h3></center>\n",
    "</div>"
   ]
  },
  {
   "cell_type": "code",
   "execution_count": 32,
   "metadata": {},
   "outputs": [
    {
     "data": {
      "text/html": [
       "<div>\n",
       "<style scoped>\n",
       "    .dataframe tbody tr th:only-of-type {\n",
       "        vertical-align: middle;\n",
       "    }\n",
       "\n",
       "    .dataframe tbody tr th {\n",
       "        vertical-align: top;\n",
       "    }\n",
       "\n",
       "    .dataframe thead th {\n",
       "        text-align: right;\n",
       "    }\n",
       "</style>\n",
       "<table border=\"1\" class=\"dataframe\">\n",
       "  <thead>\n",
       "    <tr style=\"text-align: right;\">\n",
       "      <th></th>\n",
       "      <th>CodCEFP</th>\n",
       "      <th>IdadeEmAnos</th>\n",
       "      <th>CodHabilitacao</th>\n",
       "      <th>HorasForm</th>\n",
       "      <th>AreaFormacao</th>\n",
       "      <th>NivelFormacaoAccao</th>\n",
       "      <th>CodSaidaProfissional</th>\n",
       "      <th>CATEGORIA</th>\n",
       "    </tr>\n",
       "  </thead>\n",
       "  <tbody>\n",
       "    <tr>\n",
       "      <th>0</th>\n",
       "      <td>501</td>\n",
       "      <td>51</td>\n",
       "      <td>12</td>\n",
       "      <td>447.0</td>\n",
       "      <td>812</td>\n",
       "      <td>5</td>\n",
       "      <td>8126</td>\n",
       "      <td>2.0</td>\n",
       "    </tr>\n",
       "    <tr>\n",
       "      <th>1</th>\n",
       "      <td>204</td>\n",
       "      <td>50</td>\n",
       "      <td>12</td>\n",
       "      <td>649.0</td>\n",
       "      <td>523</td>\n",
       "      <td>5</td>\n",
       "      <td>52321</td>\n",
       "      <td>5.0</td>\n",
       "    </tr>\n",
       "    <tr>\n",
       "      <th>2</th>\n",
       "      <td>204</td>\n",
       "      <td>50</td>\n",
       "      <td>12</td>\n",
       "      <td>649.0</td>\n",
       "      <td>523</td>\n",
       "      <td>5</td>\n",
       "      <td>52321</td>\n",
       "      <td>5.0</td>\n",
       "    </tr>\n",
       "    <tr>\n",
       "      <th>3</th>\n",
       "      <td>502</td>\n",
       "      <td>50</td>\n",
       "      <td>12</td>\n",
       "      <td>812.0</td>\n",
       "      <td>344</td>\n",
       "      <td>5</td>\n",
       "      <td>3443</td>\n",
       "      <td>5.0</td>\n",
       "    </tr>\n",
       "    <tr>\n",
       "      <th>4</th>\n",
       "      <td>315</td>\n",
       "      <td>54</td>\n",
       "      <td>12</td>\n",
       "      <td>1099.0</td>\n",
       "      <td>481</td>\n",
       "      <td>5</td>\n",
       "      <td>4816</td>\n",
       "      <td>5.0</td>\n",
       "    </tr>\n",
       "  </tbody>\n",
       "</table>\n",
       "</div>"
      ],
      "text/plain": [
       "   CodCEFP  IdadeEmAnos  CodHabilitacao  HorasForm  AreaFormacao  \\\n",
       "0      501           51              12      447.0           812   \n",
       "1      204           50              12      649.0           523   \n",
       "2      204           50              12      649.0           523   \n",
       "3      502           50              12      812.0           344   \n",
       "4      315           54              12     1099.0           481   \n",
       "\n",
       "  NivelFormacaoAccao CodSaidaProfissional  CATEGORIA  \n",
       "0                  5                 8126        2.0  \n",
       "1                  5                52321        5.0  \n",
       "2                  5                52321        5.0  \n",
       "3                  5                 3443        5.0  \n",
       "4                  5                 4816        5.0  "
      ]
     },
     "execution_count": 32,
     "metadata": {},
     "output_type": "execute_result"
    }
   ],
   "source": [
    "# selecao das features para o clustering\n",
    "features = ['CodCEFP', 'IdadeEmAnos', 'CodHabilitacao',\n",
    "            'HorasForm', 'AreaFormacao', 'NivelFormacaoAccao',\n",
    "            'CodSaidaProfissional', 'CATEGORIA']\n",
    "\n",
    "iefp = iefp[features]\n",
    "iefp.head()"
   ]
  },
  {
   "cell_type": "code",
   "execution_count": 33,
   "metadata": {},
   "outputs": [
    {
     "data": {
      "text/plain": [
       "CodCEFP                   int64\n",
       "IdadeEmAnos               int64\n",
       "CodHabilitacao            int64\n",
       "HorasForm               float64\n",
       "AreaFormacao              int64\n",
       "NivelFormacaoAccao       object\n",
       "CodSaidaProfissional     object\n",
       "CATEGORIA               float64\n",
       "dtype: object"
      ]
     },
     "execution_count": 33,
     "metadata": {},
     "output_type": "execute_result"
    }
   ],
   "source": [
    "# tipos das variaveis\n",
    "iefp.dtypes"
   ]
  },
  {
   "cell_type": "markdown",
   "metadata": {},
   "source": [
    "<div style=\"border: solid 4px #2f648a; border-radius: 5px;\"> \n",
    "    <center><h3 style=\"color: #2f648a; padding: 10px;\">5.2. Transformar variáveis em numéricas</h3></center>\n",
    "</div>"
   ]
  },
  {
   "cell_type": "code",
   "execution_count": 34,
   "metadata": {
    "scrolled": true
   },
   "outputs": [
    {
     "data": {
      "text/plain": [
       "CodCEFP                   int64\n",
       "IdadeEmAnos               int64\n",
       "CodHabilitacao            int64\n",
       "HorasForm               float64\n",
       "AreaFormacao              int64\n",
       "NivelFormacaoAccao      float64\n",
       "CodSaidaProfissional    float64\n",
       "CATEGORIA               float64\n",
       "dtype: object"
      ]
     },
     "execution_count": 34,
     "metadata": {},
     "output_type": "execute_result"
    }
   ],
   "source": [
    "# converter variaveis object para float\n",
    "iefp['NivelFormacaoAccao'] = pd.to_numeric(iefp['NivelFormacaoAccao'], errors = 'coerce')\n",
    "iefp['CodSaidaProfissional'] = pd.to_numeric(iefp['CodSaidaProfissional'], errors = 'coerce')\n",
    "iefp.dtypes"
   ]
  },
  {
   "cell_type": "markdown",
   "metadata": {},
   "source": [
    "<div style=\"border: solid 4px #2f648a; border-radius: 5px;\"> \n",
    "    <center><h3 style=\"color: #2f648a; padding: 10px;\">5.3. Normalização dos dados</h3></center>\n",
    "</div>"
   ]
  },
  {
   "cell_type": "code",
   "execution_count": 35,
   "metadata": {},
   "outputs": [],
   "source": [
    "# eliminar NA's\n",
    "iefp = iefp.dropna()"
   ]
  },
  {
   "cell_type": "code",
   "execution_count": 36,
   "metadata": {},
   "outputs": [],
   "source": [
    "# normalizacao das variaveis\n",
    "scaler = MinMaxScaler().fit(iefp)\n",
    "iefp_norm = pd.DataFrame(scaler.transform(iefp)) # dados dos utentes de sucesso normalizados"
   ]
  },
  {
   "cell_type": "code",
   "execution_count": 38,
   "metadata": {},
   "outputs": [
    {
     "data": {
      "text/html": [
       "<div>\n",
       "<style scoped>\n",
       "    .dataframe tbody tr th:only-of-type {\n",
       "        vertical-align: middle;\n",
       "    }\n",
       "\n",
       "    .dataframe tbody tr th {\n",
       "        vertical-align: top;\n",
       "    }\n",
       "\n",
       "    .dataframe thead th {\n",
       "        text-align: right;\n",
       "    }\n",
       "</style>\n",
       "<table border=\"1\" class=\"dataframe\">\n",
       "  <thead>\n",
       "    <tr style=\"text-align: right;\">\n",
       "      <th></th>\n",
       "      <th>0</th>\n",
       "      <th>1</th>\n",
       "      <th>2</th>\n",
       "      <th>3</th>\n",
       "      <th>4</th>\n",
       "      <th>5</th>\n",
       "      <th>6</th>\n",
       "      <th>7</th>\n",
       "    </tr>\n",
       "  </thead>\n",
       "  <tbody>\n",
       "    <tr>\n",
       "      <th>count</th>\n",
       "      <td>36284.000000</td>\n",
       "      <td>36284.000000</td>\n",
       "      <td>36284.000000</td>\n",
       "      <td>36284.000000</td>\n",
       "      <td>36284.000000</td>\n",
       "      <td>36284.000000</td>\n",
       "      <td>36284.000000</td>\n",
       "      <td>36284.000000</td>\n",
       "    </tr>\n",
       "    <tr>\n",
       "      <th>mean</th>\n",
       "      <td>0.350941</td>\n",
       "      <td>0.411687</td>\n",
       "      <td>0.488697</td>\n",
       "      <td>0.083181</td>\n",
       "      <td>0.584064</td>\n",
       "      <td>0.546957</td>\n",
       "      <td>0.166355</td>\n",
       "      <td>0.643204</td>\n",
       "    </tr>\n",
       "    <tr>\n",
       "      <th>std</th>\n",
       "      <td>0.280967</td>\n",
       "      <td>0.202540</td>\n",
       "      <td>0.177490</td>\n",
       "      <td>0.126924</td>\n",
       "      <td>0.215654</td>\n",
       "      <td>0.247858</td>\n",
       "      <td>0.226929</td>\n",
       "      <td>0.371747</td>\n",
       "    </tr>\n",
       "    <tr>\n",
       "      <th>min</th>\n",
       "      <td>0.000000</td>\n",
       "      <td>0.000000</td>\n",
       "      <td>0.000000</td>\n",
       "      <td>0.000000</td>\n",
       "      <td>0.000000</td>\n",
       "      <td>0.000000</td>\n",
       "      <td>0.000000</td>\n",
       "      <td>0.000000</td>\n",
       "    </tr>\n",
       "    <tr>\n",
       "      <th>25%</th>\n",
       "      <td>0.071053</td>\n",
       "      <td>0.250000</td>\n",
       "      <td>0.388889</td>\n",
       "      <td>0.010860</td>\n",
       "      <td>0.338726</td>\n",
       "      <td>0.400000</td>\n",
       "      <td>0.042216</td>\n",
       "      <td>0.250000</td>\n",
       "    </tr>\n",
       "    <tr>\n",
       "      <th>50%</th>\n",
       "      <td>0.226316</td>\n",
       "      <td>0.403846</td>\n",
       "      <td>0.555556</td>\n",
       "      <td>0.021720</td>\n",
       "      <td>0.538928</td>\n",
       "      <td>0.400000</td>\n",
       "      <td>0.089474</td>\n",
       "      <td>0.750000</td>\n",
       "    </tr>\n",
       "    <tr>\n",
       "      <th>75%</th>\n",
       "      <td>0.502632</td>\n",
       "      <td>0.557692</td>\n",
       "      <td>0.555556</td>\n",
       "      <td>0.086012</td>\n",
       "      <td>0.760364</td>\n",
       "      <td>0.800000</td>\n",
       "      <td>0.099779</td>\n",
       "      <td>1.000000</td>\n",
       "    </tr>\n",
       "    <tr>\n",
       "      <th>max</th>\n",
       "      <td>1.000000</td>\n",
       "      <td>1.000000</td>\n",
       "      <td>1.000000</td>\n",
       "      <td>1.000000</td>\n",
       "      <td>1.000000</td>\n",
       "      <td>1.000000</td>\n",
       "      <td>1.000000</td>\n",
       "      <td>1.000000</td>\n",
       "    </tr>\n",
       "  </tbody>\n",
       "</table>\n",
       "</div>"
      ],
      "text/plain": [
       "                  0             1             2             3             4  \\\n",
       "count  36284.000000  36284.000000  36284.000000  36284.000000  36284.000000   \n",
       "mean       0.350941      0.411687      0.488697      0.083181      0.584064   \n",
       "std        0.280967      0.202540      0.177490      0.126924      0.215654   \n",
       "min        0.000000      0.000000      0.000000      0.000000      0.000000   \n",
       "25%        0.071053      0.250000      0.388889      0.010860      0.338726   \n",
       "50%        0.226316      0.403846      0.555556      0.021720      0.538928   \n",
       "75%        0.502632      0.557692      0.555556      0.086012      0.760364   \n",
       "max        1.000000      1.000000      1.000000      1.000000      1.000000   \n",
       "\n",
       "                  5             6             7  \n",
       "count  36284.000000  36284.000000  36284.000000  \n",
       "mean       0.546957      0.166355      0.643204  \n",
       "std        0.247858      0.226929      0.371747  \n",
       "min        0.000000      0.000000      0.000000  \n",
       "25%        0.400000      0.042216      0.250000  \n",
       "50%        0.400000      0.089474      0.750000  \n",
       "75%        0.800000      0.099779      1.000000  \n",
       "max        1.000000      1.000000      1.000000  "
      ]
     },
     "execution_count": 38,
     "metadata": {},
     "output_type": "execute_result"
    }
   ],
   "source": [
    "# verificar os processo de normalização\n",
    "iefp_norm.describe()"
   ]
  },
  {
   "cell_type": "markdown",
   "metadata": {},
   "source": [
    "<div style=\"background-color: #2f648a; border-radius: 5px;\"> \n",
    "    <center><h1 style=\"color: white; padding: 20px;\">6. Conjunto treino / teste</h1></center>\n",
    "</div>\n",
    "\n",
    "<br>\n",
    "\n",
    "Para testar o modelo, são divididos os dados em 80% para o conjunto treino e os restantes para o conjunto de teste."
   ]
  },
  {
   "cell_type": "code",
   "execution_count": 39,
   "metadata": {},
   "outputs": [],
   "source": [
    "from sklearn.model_selection import train_test_split\n",
    "\n",
    "# divisao treino/teste dos dados normalizados\n",
    "train, test = train_test_split(iefp_norm, \n",
    "                 train_size=0.8, \n",
    "                 random_state=5)"
   ]
  },
  {
   "cell_type": "markdown",
   "metadata": {},
   "source": [
    "<div style=\"background-color: #2f648a; border-radius: 5px;\"> \n",
    "    <center><h1 style=\"color: white; padding: 20px;\">7. Clustering</h1></center>\n",
    "</div>\n",
    "\n",
    "<br>\n",
    "\n",
    "Para testar o modelo, são divididos os dados em 80% para o conjunto treino e os restantes para o conjunto de teste."
   ]
  },
  {
   "cell_type": "markdown",
   "metadata": {},
   "source": [
    "<div style=\"border: solid 4px #2f648a; border-radius: 5px;\"> \n",
    "    <center><h3 style=\"color: #2f648a; padding: 10px;\">7.1. Escolha do número de clusters</h3></center>\n",
    "</div>"
   ]
  },
  {
   "cell_type": "markdown",
   "metadata": {},
   "source": [
    "Modelo C-Means com os dados de treino.\n",
    "O número de centróides é definido tendo em conta o **FPC - Fuzzy Partition Coefficient** - quanto mais elevado o valor do FPC, melhor o modelo descreve os dados."
   ]
  },
  {
   "cell_type": "code",
   "execution_count": 40,
   "metadata": {},
   "outputs": [],
   "source": [
    "fpcs = []     # guarda os fpc scores testados\n",
    "scores = {}   # relaciona o numero de centroides com cada score\n",
    "\n",
    "for ncenters in range(1, 20):\n",
    "    \n",
    "    cntr, u, u0, d, jm, p, fpc = skfuzzy.cluster.cmeans(\n",
    "        train, ncenters, 2, error=0.0001, maxiter=1000000, init=None)\n",
    "    \n",
    "    fpcs.append(fpc)\n",
    "    scores[fpc] = ncenters"
   ]
  },
  {
   "cell_type": "code",
   "execution_count": 41,
   "metadata": {
    "scrolled": true
   },
   "outputs": [
    {
     "data": {
      "image/png": "[encoded data removed]",
      "text/plain": [
       "<Figure size 432x288 with 1 Axes>"
      ]
     },
     "metadata": {
      "needs_background": "light"
     },
     "output_type": "display_data"
    }
   ],
   "source": [
    "# plot dos valores do fpc\n",
    "\n",
    "plt.plot(range(1,20), fpcs)\n",
    "plt.title('FPC Score por número de centróides')\n",
    "plt.xlabel('Número de centróides')\n",
    "plt.ylabel('Valor do FPC Score')\n",
    "plt.show()"
   ]
  },
  {
   "cell_type": "code",
   "execution_count": 42,
   "metadata": {
    "scrolled": true
   },
   "outputs": [
    {
     "data": {
      "text/plain": [
       "[1.0,\n",
       " 0.6511904270539592,\n",
       " 0.6010965124785359,\n",
       " 0.603465344558815,\n",
       " 0.6721092472216998,\n",
       " 0.7829249684042108,\n",
       " 0.8886058995268867,\n",
       " 1.0,\n",
       " 1.0,\n",
       " 0.9166666666666667,\n",
       " 1.0,\n",
       " 0.9375,\n",
       " 0.8541666666666667,\n",
       " 1.0,\n",
       " 0.8333333333333333,\n",
       " 0.9166666666666667,\n",
       " 0.9166666666666667,\n",
       " 0.9166666666666665,\n",
       " 0.78125]"
      ]
     },
     "execution_count": 42,
     "metadata": {},
     "output_type": "execute_result"
    }
   ],
   "source": [
    "fpcs"
   ]
  },
  {
   "cell_type": "markdown",
   "metadata": {},
   "source": [
    "<div style=\"border: solid 4px #2f648a; border-radius: 5px;\"> \n",
    "    <center><h3 style=\"color: #2f648a; padding: 10px;\">7.2. Clustering com 7 centroids</h3></center>\n",
    "</div>"
   ]
  },
  {
   "cell_type": "code",
   "execution_count": 45,
   "metadata": {},
   "outputs": [],
   "source": [
    "# clustering com 9 centroides\n",
    "\n",
    "cntr, u, u0, d, jm, p, fpc = skfuzzy.cluster.cmeans(\n",
    "        train, 7, 2, error=0.0001, maxiter=1000000, init=None)"
   ]
  },
  {
   "cell_type": "code",
   "execution_count": 46,
   "metadata": {},
   "outputs": [
    {
     "data": {
      "text/html": [
       "<div>\n",
       "<style scoped>\n",
       "    .dataframe tbody tr th:only-of-type {\n",
       "        vertical-align: middle;\n",
       "    }\n",
       "\n",
       "    .dataframe tbody tr th {\n",
       "        vertical-align: top;\n",
       "    }\n",
       "\n",
       "    .dataframe thead th {\n",
       "        text-align: right;\n",
       "    }\n",
       "</style>\n",
       "<table border=\"1\" class=\"dataframe\">\n",
       "  <thead>\n",
       "    <tr style=\"text-align: right;\">\n",
       "      <th></th>\n",
       "      <th>0</th>\n",
       "      <th>1</th>\n",
       "      <th>2</th>\n",
       "      <th>3</th>\n",
       "      <th>4</th>\n",
       "      <th>5</th>\n",
       "      <th>6</th>\n",
       "      <th>7</th>\n",
       "    </tr>\n",
       "  </thead>\n",
       "  <tbody>\n",
       "    <tr>\n",
       "      <th>0</th>\n",
       "      <td>0.000345</td>\n",
       "      <td>0.000633</td>\n",
       "      <td>0.000376</td>\n",
       "      <td>0.004348</td>\n",
       "      <td>0.999583</td>\n",
       "      <td>0.000101</td>\n",
       "      <td>0.077227</td>\n",
       "      <td>0.000014</td>\n",
       "    </tr>\n",
       "    <tr>\n",
       "      <th>1</th>\n",
       "      <td>0.000375</td>\n",
       "      <td>0.000444</td>\n",
       "      <td>0.000169</td>\n",
       "      <td>0.964979</td>\n",
       "      <td>0.000033</td>\n",
       "      <td>0.000049</td>\n",
       "      <td>0.384027</td>\n",
       "      <td>0.000006</td>\n",
       "    </tr>\n",
       "    <tr>\n",
       "      <th>2</th>\n",
       "      <td>0.000347</td>\n",
       "      <td>0.000540</td>\n",
       "      <td>0.000475</td>\n",
       "      <td>0.004973</td>\n",
       "      <td>0.000078</td>\n",
       "      <td>0.999430</td>\n",
       "      <td>0.084084</td>\n",
       "      <td>0.000014</td>\n",
       "    </tr>\n",
       "    <tr>\n",
       "      <th>3</th>\n",
       "      <td>0.000465</td>\n",
       "      <td>0.000710</td>\n",
       "      <td>0.998198</td>\n",
       "      <td>0.006427</td>\n",
       "      <td>0.000108</td>\n",
       "      <td>0.000176</td>\n",
       "      <td>0.116469</td>\n",
       "      <td>0.000013</td>\n",
       "    </tr>\n",
       "    <tr>\n",
       "      <th>4</th>\n",
       "      <td>0.000542</td>\n",
       "      <td>0.996752</td>\n",
       "      <td>0.000340</td>\n",
       "      <td>0.008117</td>\n",
       "      <td>0.000087</td>\n",
       "      <td>0.000097</td>\n",
       "      <td>0.148339</td>\n",
       "      <td>0.000010</td>\n",
       "    </tr>\n",
       "    <tr>\n",
       "      <th>5</th>\n",
       "      <td>0.000183</td>\n",
       "      <td>0.000288</td>\n",
       "      <td>0.000179</td>\n",
       "      <td>0.003117</td>\n",
       "      <td>0.000054</td>\n",
       "      <td>0.000074</td>\n",
       "      <td>0.048854</td>\n",
       "      <td>0.999935</td>\n",
       "    </tr>\n",
       "    <tr>\n",
       "      <th>6</th>\n",
       "      <td>0.997743</td>\n",
       "      <td>0.000633</td>\n",
       "      <td>0.000261</td>\n",
       "      <td>0.008038</td>\n",
       "      <td>0.000056</td>\n",
       "      <td>0.000073</td>\n",
       "      <td>0.141000</td>\n",
       "      <td>0.000008</td>\n",
       "    </tr>\n",
       "  </tbody>\n",
       "</table>\n",
       "</div>"
      ],
      "text/plain": [
       "          0         1         2         3         4         5         6  \\\n",
       "0  0.000345  0.000633  0.000376  0.004348  0.999583  0.000101  0.077227   \n",
       "1  0.000375  0.000444  0.000169  0.964979  0.000033  0.000049  0.384027   \n",
       "2  0.000347  0.000540  0.000475  0.004973  0.000078  0.999430  0.084084   \n",
       "3  0.000465  0.000710  0.998198  0.006427  0.000108  0.000176  0.116469   \n",
       "4  0.000542  0.996752  0.000340  0.008117  0.000087  0.000097  0.148339   \n",
       "5  0.000183  0.000288  0.000179  0.003117  0.000054  0.000074  0.048854   \n",
       "6  0.997743  0.000633  0.000261  0.008038  0.000056  0.000073  0.141000   \n",
       "\n",
       "          7  \n",
       "0  0.000014  \n",
       "1  0.000006  \n",
       "2  0.000014  \n",
       "3  0.000013  \n",
       "4  0.000010  \n",
       "5  0.999935  \n",
       "6  0.000008  "
      ]
     },
     "execution_count": 46,
     "metadata": {},
     "output_type": "execute_result"
    }
   ],
   "source": [
    "# Centroids\n",
    "\n",
    "centroids = pd.DataFrame(u)\n",
    "\n",
    "centroid_0 = u[0]\n",
    "centroid_1 = u[1]\n",
    "centroid_2 = u[2]\n",
    "centroid_3 = u[3]\n",
    "centroid_4 = u[4]\n",
    "centroid_5 = u[5]\n",
    "centroid_6 = u[6]\n",
    "\n",
    "centroids # cada linha representa um centroid"
   ]
  },
  {
   "cell_type": "code",
   "execution_count": null,
   "metadata": {},
   "outputs": [],
   "source": [
    "# Perguntar ao professor de MANS o output do fuzzy clustering"
   ]
  },
  {
   "cell_type": "markdown",
   "metadata": {},
   "source": [
    "<div style=\"border: solid 4px #2f648a; border-radius: 5px;\"> \n",
    "    <center><h3 style=\"color: #2f648a; padding: 10px;\">7.3. Análise de outputs</h3></center>\n",
    "</div>"
   ]
  },
  {
   "cell_type": "code",
   "execution_count": 438,
   "metadata": {},
   "outputs": [],
   "source": [
    "obs1 = train.sort_index().iloc[0, :]\n",
    "\n",
    "centroids_list = [centroid_0, centroid_1, centroid_2, centroid_3,\n",
    "                  centroid_4, centroid_5, centroid_6, centroid_7]"
   ]
  },
  {
   "cell_type": "code",
   "execution_count": 439,
   "metadata": {},
   "outputs": [],
   "source": [
    "dist_to_centroid = []\n",
    "\n",
    "for i in centroids_list:\n",
    "    dist_to_centroid.append(scipy.spatial.distance.euclidean(i, obs1))\n",
    "    "
   ]
  },
  {
   "cell_type": "code",
   "execution_count": 440,
   "metadata": {},
   "outputs": [
    {
     "data": {
      "text/plain": [
       "[1.9909899748210265,\n",
       " 2.0247291218401973,\n",
       " 1.5705061566888028,\n",
       " 1.684825769927736,\n",
       " 1.568508102787655,\n",
       " 1.7860027618114216,\n",
       " 1.829391921865232,\n",
       " 1.9934538114435238]"
      ]
     },
     "execution_count": 440,
     "metadata": {},
     "output_type": "execute_result"
    }
   ],
   "source": [
    "dist_to_centroid"
   ]
  }
 ],
 "metadata": {
  "kernelspec": {
   "display_name": "Python 3",
   "language": "python",
   "name": "python3"
  },
  "language_info": {
   "codemirror_mode": {
    "name": "ipython",
    "version": 3
   },
   "file_extension": ".py",
   "mimetype": "text/x-python",
   "name": "python",
   "nbconvert_exporter": "python",
   "pygments_lexer": "ipython3",
   "version": "3.8.3"
  }
 },
 "nbformat": 4,
 "nbformat_minor": 4
}
