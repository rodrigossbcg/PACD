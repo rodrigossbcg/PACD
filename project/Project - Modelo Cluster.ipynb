{
 "cells": [
  {
   "cell_type": "markdown",
   "metadata": {},
   "source": [
    "<img src=\"images/intro.jpeg\">"
   ]
  },
  {
   "cell_type": "markdown",
   "metadata": {},
   "source": [
    "# Project - Modelo Clustering"
   ]
  },
  {
   "cell_type": "markdown",
   "metadata": {},
   "source": [
    "<div style=\"background-color: #2f648a; border-radius: 5px;\"> \n",
    "    <center><h1 style=\"color: white; padding: 20px;\">1. Imports</h1></center>\n",
    "</div>"
   ]
  },
  {
   "cell_type": "code",
   "execution_count": 13,
   "metadata": {},
   "outputs": [],
   "source": [
    "import pandas as pd\n",
    "from pandas import ExcelWriter\n",
    "from pandas import ExcelFile\n",
    "\n",
    "import seaborn as sn\n",
    "from matplotlib import pyplot as plt"
   ]
  },
  {
   "cell_type": "markdown",
   "metadata": {},
   "source": [
    "<div style=\"background-color: #2f648a; border-radius: 5px;\"> \n",
    "    <center><h1 style=\"color: white; padding: 20px;\">2. Read Files</h1></center>\n",
    "</div>"
   ]
  },
  {
   "cell_type": "code",
   "execution_count": 106,
   "metadata": {},
   "outputs": [
    {
     "data": {
      "text/plain": [
       "Index(['UTE_ID', 'F_CCURSO', 'F_DCURSO', 'F_HORAS', 'TIPO_UTENTE', 'CATEGORIA',\n",
       "       'DCATEGORIA'],\n",
       "      dtype='object')"
      ]
     },
     "execution_count": 106,
     "metadata": {},
     "output_type": "execute_result"
    }
   ],
   "source": [
    "# ler base de dados relativa aos cursos\n",
    "cursos = pd.read_csv(\"databases/cursos.csv\")\n",
    "\n",
    "del cursos[\"Unnamed: 0\"]\n",
    "cursos.columns"
   ]
  },
  {
   "cell_type": "code",
   "execution_count": 193,
   "metadata": {},
   "outputs": [
    {
     "data": {
      "text/plain": [
       "Index(['UTE_ID', 'ANO_MES', 'DATA_MOVIMENTO', 'TIPO_MOVIMENTO',\n",
       "       'DTIPO_MOVIMENTO', 'CENTROA', 'DCENTRO_AB', 'AREA_CURSO',\n",
       "       'ANO_CONCLUSAO_CURSO', 'CEST_SUPERIOR', 'DEFICIENCIA', 'DDEFICIENCIA',\n",
       "       'HABILITACAO', 'DHABILITACAO_ESCOLAR', 'DATA_NASCIMENTO', 'IDADE',\n",
       "       'NACIONALIDADE', 'DNACIONALIDADE', 'FREGUESIA', 'DFREGUESIA', 'SEXO',\n",
       "       'CATEGORIA', 'DCATEGORIA', 'DATA_INSCRICAO', 'MOTIVO_INSCRICAO',\n",
       "       'DMOTIVO_INSCRICAO', 'RINSC', 'INT_TEMPO_INSCRICAO', 'CPP_PRETENDIDA',\n",
       "       'DCPP_PRETENDIDA', 'CAE_ANTERIOR', 'DCAE', 'DATA_ANULACAO',\n",
       "       'MOTIVO_ANULACAO', 'DMOTIVO_ANULACAO', 'DATA_COLOCACAO', 'CPP', 'DCPP',\n",
       "       'CAE_COLOCACAO', 'DCAE_COLOCACAO', 'TIPO_CONTRATO_COLOC',\n",
       "       'REGIME_CONTRATO_COLOC', 'REGIME_HORARIO', 'PAIS_COLOCACAO',\n",
       "       'TIPO_OCUPACAO', 'ANOMES_FIM', 'ANOMES_12FIM'],\n",
       "      dtype='object')"
      ]
     },
     "execution_count": 193,
     "metadata": {},
     "output_type": "execute_result"
    }
   ],
   "source": [
    "# ler base de dados relativa aos pedidos\n",
    "pedidos = pd.read_excel(\"databases/apura_iscte_lpedidos_apos.xlsx\")\n",
    "pedidos = pedidos.dropna()\n",
    "pedidos.columns"
   ]
  },
  {
   "cell_type": "code",
   "execution_count": 194,
   "metadata": {},
   "outputs": [
    {
     "name": "stderr",
     "output_type": "stream",
     "text": [
      "C:\\Users\\sarro\\anaconda3\\lib\\site-packages\\IPython\\core\\interactiveshell.py:3071: DtypeWarning: Columns (10) have mixed types.Specify dtype option on import or set low_memory=False.\n",
      "  has_raised = await self.run_ast_nodes(code_ast.body, cell_name,\n"
     ]
    },
    {
     "data": {
      "text/plain": [
       "Index(['UTE_ID', 'CodCEFP', 'Sexo', 'IdadeEmAnos', 'CodHabilitacao',\n",
       "       'CodNacionalidade', 'HorasForm', 'AreaFormacao', 'NivelFormacaoAccao',\n",
       "       'CodSaidaProfissional', 'Sucessos', 'DuracaoFormacao'],\n",
       "      dtype='object')"
      ]
     },
     "execution_count": 194,
     "metadata": {},
     "output_type": "execute_result"
    }
   ],
   "source": [
    "# ler base de dados relativa aos formandos\n",
    "formandos = pd.read_csv(\"databases/formandos_limpo.csv\")\n",
    "\n",
    "del formandos[\"Unnamed: 0\"]\n",
    "formandos.columns"
   ]
  },
  {
   "cell_type": "markdown",
   "metadata": {},
   "source": [
    "<div style=\"background-color: #2f648a; border-radius: 5px;\"> \n",
    "    <center><h1 style=\"color: white; padding: 20px;\">3. Merge DataFrames cursos e formandos</h1></center>\n",
    "</div>"
   ]
  },
  {
   "cell_type": "code",
   "execution_count": 224,
   "metadata": {},
   "outputs": [
    {
     "data": {
      "text/plain": [
       "(117139, 18)"
      ]
     },
     "execution_count": 224,
     "metadata": {},
     "output_type": "execute_result"
    }
   ],
   "source": [
    "# realizar o merge entre tabela de formandos e de cursos\n",
    "final_forms = formandos.merge(cursos, on=\"UTE_ID\", how=\"left\")\n",
    "final_forms.shape"
   ]
  },
  {
   "cell_type": "markdown",
   "metadata": {},
   "source": [
    "<div style=\"background-color: #2f648a; border-radius: 5px;\"> \n",
    "    <center><h1 style=\"color: white; padding: 20px;\">4. Final DataFrame</h1></center>\n",
    "</div>"
   ]
  },
  {
   "cell_type": "code",
   "execution_count": 225,
   "metadata": {},
   "outputs": [
    {
     "data": {
      "text/plain": [
       "(42217, 18)"
      ]
     },
     "execution_count": 225,
     "metadata": {},
     "output_type": "execute_result"
    }
   ],
   "source": [
    "# filtrar apenas casos de sucesso\n",
    "final_forms = final_forms[final_forms['Sucessos'] == 1]\n",
    "final_forms.shape"
   ]
  },
  {
   "cell_type": "code",
   "execution_count": 226,
   "metadata": {},
   "outputs": [
    {
     "data": {
      "text/plain": [
       "0"
      ]
     },
     "execution_count": 226,
     "metadata": {},
     "output_type": "execute_result"
    }
   ],
   "source": [
    "# verificar que não existem duplicados no subconjunto utente / curso\n",
    "final_forms.duplicated(subset=[\"UTE_ID\", \"F_CCURSO\"]).sum()"
   ]
  },
  {
   "cell_type": "code",
   "execution_count": 227,
   "metadata": {},
   "outputs": [
    {
     "data": {
      "text/plain": [
       "UTE_ID                     0\n",
       "CodCEFP                    0\n",
       "Sexo                       0\n",
       "IdadeEmAnos                0\n",
       "CodHabilitacao             0\n",
       "CodNacionalidade           0\n",
       "HorasForm                  0\n",
       "AreaFormacao               0\n",
       "NivelFormacaoAccao         0\n",
       "CodSaidaProfissional       0\n",
       "Sucessos                   0\n",
       "DuracaoFormacao            0\n",
       "F_CCURSO                4691\n",
       "F_DCURSO                4691\n",
       "F_HORAS                 4691\n",
       "TIPO_UTENTE             4691\n",
       "CATEGORIA               4691\n",
       "DCATEGORIA              4691\n",
       "dtype: int64"
      ]
     },
     "execution_count": 227,
     "metadata": {},
     "output_type": "execute_result"
    }
   ],
   "source": [
    "# verificar valores omissos\n",
    "final_forms.isnull().sum()"
   ]
  },
  {
   "cell_type": "code",
   "execution_count": 228,
   "metadata": {},
   "outputs": [
    {
     "data": {
      "text/plain": [
       "(37526, 18)"
      ]
     },
     "execution_count": 228,
     "metadata": {},
     "output_type": "execute_result"
    }
   ],
   "source": [
    "# eliminar NA's\n",
    "final_forms = final_forms.dropna()\n",
    "final_forms.shape"
   ]
  },
  {
   "cell_type": "code",
   "execution_count": 229,
   "metadata": {},
   "outputs": [],
   "source": [
    "# guardar num csv final\n",
    "final_forms.to_csv('databases/iefp_dados_combinados.csv')"
   ]
  },
  {
   "cell_type": "code",
   "execution_count": 230,
   "metadata": {},
   "outputs": [
    {
     "data": {
      "text/html": [
       "<div>\n",
       "<style scoped>\n",
       "    .dataframe tbody tr th:only-of-type {\n",
       "        vertical-align: middle;\n",
       "    }\n",
       "\n",
       "    .dataframe tbody tr th {\n",
       "        vertical-align: top;\n",
       "    }\n",
       "\n",
       "    .dataframe thead th {\n",
       "        text-align: right;\n",
       "    }\n",
       "</style>\n",
       "<table border=\"1\" class=\"dataframe\">\n",
       "  <thead>\n",
       "    <tr style=\"text-align: right;\">\n",
       "      <th></th>\n",
       "      <th>UTE_ID</th>\n",
       "      <th>CodCEFP</th>\n",
       "      <th>Sexo</th>\n",
       "      <th>IdadeEmAnos</th>\n",
       "      <th>CodHabilitacao</th>\n",
       "      <th>HorasForm</th>\n",
       "      <th>AreaFormacao</th>\n",
       "      <th>Sucessos</th>\n",
       "      <th>F_HORAS</th>\n",
       "      <th>CATEGORIA</th>\n",
       "    </tr>\n",
       "  </thead>\n",
       "  <tbody>\n",
       "    <tr>\n",
       "      <th>count</th>\n",
       "      <td>3.752600e+04</td>\n",
       "      <td>37526.000000</td>\n",
       "      <td>37526.000000</td>\n",
       "      <td>37526.000000</td>\n",
       "      <td>37526.000000</td>\n",
       "      <td>37526.000000</td>\n",
       "      <td>37526.000000</td>\n",
       "      <td>37526.0</td>\n",
       "      <td>37526.000000</td>\n",
       "      <td>37526.000000</td>\n",
       "    </tr>\n",
       "    <tr>\n",
       "      <th>mean</th>\n",
       "      <td>3.548072e+06</td>\n",
       "      <td>255.217929</td>\n",
       "      <td>0.655865</td>\n",
       "      <td>38.869770</td>\n",
       "      <td>10.743858</td>\n",
       "      <td>202.297074</td>\n",
       "      <td>587.569179</td>\n",
       "      <td>1.0</td>\n",
       "      <td>873.366706</td>\n",
       "      <td>3.563156</td>\n",
       "    </tr>\n",
       "    <tr>\n",
       "      <th>std</th>\n",
       "      <td>1.955249e+06</td>\n",
       "      <td>106.650216</td>\n",
       "      <td>0.475092</td>\n",
       "      <td>10.770625</td>\n",
       "      <td>3.156972</td>\n",
       "      <td>302.390600</td>\n",
       "      <td>212.578572</td>\n",
       "      <td>0.0</td>\n",
       "      <td>571.052858</td>\n",
       "      <td>1.501159</td>\n",
       "    </tr>\n",
       "    <tr>\n",
       "      <th>min</th>\n",
       "      <td>1.070000e+02</td>\n",
       "      <td>122.000000</td>\n",
       "      <td>0.000000</td>\n",
       "      <td>17.000000</td>\n",
       "      <td>2.000000</td>\n",
       "      <td>0.000000</td>\n",
       "      <td>10.000000</td>\n",
       "      <td>1.0</td>\n",
       "      <td>0.000000</td>\n",
       "      <td>1.000000</td>\n",
       "    </tr>\n",
       "    <tr>\n",
       "      <th>25%</th>\n",
       "      <td>1.922062e+06</td>\n",
       "      <td>149.000000</td>\n",
       "      <td>0.000000</td>\n",
       "      <td>30.000000</td>\n",
       "      <td>9.000000</td>\n",
       "      <td>25.000000</td>\n",
       "      <td>345.000000</td>\n",
       "      <td>1.0</td>\n",
       "      <td>650.000000</td>\n",
       "      <td>2.000000</td>\n",
       "    </tr>\n",
       "    <tr>\n",
       "      <th>50%</th>\n",
       "      <td>3.418716e+06</td>\n",
       "      <td>208.000000</td>\n",
       "      <td>1.000000</td>\n",
       "      <td>39.000000</td>\n",
       "      <td>12.000000</td>\n",
       "      <td>50.000000</td>\n",
       "      <td>543.000000</td>\n",
       "      <td>1.0</td>\n",
       "      <td>900.000000</td>\n",
       "      <td>4.000000</td>\n",
       "    </tr>\n",
       "    <tr>\n",
       "      <th>75%</th>\n",
       "      <td>5.145498e+06</td>\n",
       "      <td>313.000000</td>\n",
       "      <td>1.000000</td>\n",
       "      <td>47.000000</td>\n",
       "      <td>12.000000</td>\n",
       "      <td>203.000000</td>\n",
       "      <td>762.000000</td>\n",
       "      <td>1.0</td>\n",
       "      <td>1050.000000</td>\n",
       "      <td>5.000000</td>\n",
       "    </tr>\n",
       "    <tr>\n",
       "      <th>max</th>\n",
       "      <td>6.809101e+06</td>\n",
       "      <td>502.000000</td>\n",
       "      <td>1.000000</td>\n",
       "      <td>70.000000</td>\n",
       "      <td>20.000000</td>\n",
       "      <td>2302.000000</td>\n",
       "      <td>999.000000</td>\n",
       "      <td>1.0</td>\n",
       "      <td>6750.000000</td>\n",
       "      <td>5.000000</td>\n",
       "    </tr>\n",
       "  </tbody>\n",
       "</table>\n",
       "</div>"
      ],
      "text/plain": [
       "             UTE_ID       CodCEFP          Sexo   IdadeEmAnos  CodHabilitacao  \\\n",
       "count  3.752600e+04  37526.000000  37526.000000  37526.000000    37526.000000   \n",
       "mean   3.548072e+06    255.217929      0.655865     38.869770       10.743858   \n",
       "std    1.955249e+06    106.650216      0.475092     10.770625        3.156972   \n",
       "min    1.070000e+02    122.000000      0.000000     17.000000        2.000000   \n",
       "25%    1.922062e+06    149.000000      0.000000     30.000000        9.000000   \n",
       "50%    3.418716e+06    208.000000      1.000000     39.000000       12.000000   \n",
       "75%    5.145498e+06    313.000000      1.000000     47.000000       12.000000   \n",
       "max    6.809101e+06    502.000000      1.000000     70.000000       20.000000   \n",
       "\n",
       "          HorasForm  AreaFormacao  Sucessos       F_HORAS     CATEGORIA  \n",
       "count  37526.000000  37526.000000   37526.0  37526.000000  37526.000000  \n",
       "mean     202.297074    587.569179       1.0    873.366706      3.563156  \n",
       "std      302.390600    212.578572       0.0    571.052858      1.501159  \n",
       "min        0.000000     10.000000       1.0      0.000000      1.000000  \n",
       "25%       25.000000    345.000000       1.0    650.000000      2.000000  \n",
       "50%       50.000000    543.000000       1.0    900.000000      4.000000  \n",
       "75%      203.000000    762.000000       1.0   1050.000000      5.000000  \n",
       "max     2302.000000    999.000000       1.0   6750.000000      5.000000  "
      ]
     },
     "execution_count": 230,
     "metadata": {},
     "output_type": "execute_result"
    }
   ],
   "source": [
    "final_forms.describe()"
   ]
  },
  {
   "cell_type": "markdown",
   "metadata": {},
   "source": [
    "<div style=\"background-color: #2f648a; border-radius: 5px;\"> \n",
    "    <center><h1 style=\"color: white; padding: 20px;\">5. Preparação dos dados para modelação</h1></center>\n",
    "</div>\n",
    "\n",
    "<br>\n",
    "\n",
    "Para efetuar o modelo sobre os dados, é necessário selecionar as variáveis em modelação e normalizá-las."
   ]
  },
  {
   "cell_type": "code",
   "execution_count": 231,
   "metadata": {},
   "outputs": [],
   "source": [
    "# !pip install scikit-fuzzy"
   ]
  },
  {
   "cell_type": "code",
   "execution_count": 232,
   "metadata": {},
   "outputs": [],
   "source": [
    "import pandas as pd\n",
    "import skfuzzy # package para fuzzy logic\n",
    "import matplotlib.pyplot as plt"
   ]
  },
  {
   "cell_type": "code",
   "execution_count": 233,
   "metadata": {},
   "outputs": [
    {
     "name": "stderr",
     "output_type": "stream",
     "text": [
      "C:\\Users\\sarro\\anaconda3\\lib\\site-packages\\IPython\\core\\interactiveshell.py:3071: DtypeWarning: Columns (10) have mixed types.Specify dtype option on import or set low_memory=False.\n",
      "  has_raised = await self.run_ast_nodes(code_ast.body, cell_name,\n"
     ]
    },
    {
     "data": {
      "text/html": [
       "<div>\n",
       "<style scoped>\n",
       "    .dataframe tbody tr th:only-of-type {\n",
       "        vertical-align: middle;\n",
       "    }\n",
       "\n",
       "    .dataframe tbody tr th {\n",
       "        vertical-align: top;\n",
       "    }\n",
       "\n",
       "    .dataframe thead th {\n",
       "        text-align: right;\n",
       "    }\n",
       "</style>\n",
       "<table border=\"1\" class=\"dataframe\">\n",
       "  <thead>\n",
       "    <tr style=\"text-align: right;\">\n",
       "      <th></th>\n",
       "      <th>UTE_ID</th>\n",
       "      <th>CodCEFP</th>\n",
       "      <th>Sexo</th>\n",
       "      <th>IdadeEmAnos</th>\n",
       "      <th>CodHabilitacao</th>\n",
       "      <th>CodNacionalidade</th>\n",
       "      <th>HorasForm</th>\n",
       "      <th>AreaFormacao</th>\n",
       "      <th>NivelFormacaoAccao</th>\n",
       "      <th>CodSaidaProfissional</th>\n",
       "      <th>Sucessos</th>\n",
       "      <th>DuracaoFormacao</th>\n",
       "      <th>F_CCURSO</th>\n",
       "      <th>F_DCURSO</th>\n",
       "      <th>F_HORAS</th>\n",
       "      <th>TIPO_UTENTE</th>\n",
       "      <th>CATEGORIA</th>\n",
       "      <th>DCATEGORIA</th>\n",
       "    </tr>\n",
       "  </thead>\n",
       "  <tbody>\n",
       "    <tr>\n",
       "      <th>0</th>\n",
       "      <td>155241</td>\n",
       "      <td>501</td>\n",
       "      <td>1</td>\n",
       "      <td>51</td>\n",
       "      <td>12</td>\n",
       "      <td>PT</td>\n",
       "      <td>447.0</td>\n",
       "      <td>812</td>\n",
       "      <td>5</td>\n",
       "      <td>8126</td>\n",
       "      <td>1</td>\n",
       "      <td>382 days 00:00:00.000000000</td>\n",
       "      <td>812061E</td>\n",
       "      <td>TÉCNICO/A ESPECIALISTA EM TURISMO DE AR LIVRE ...</td>\n",
       "      <td>1425.0</td>\n",
       "      <td>A</td>\n",
       "      <td>2.0</td>\n",
       "      <td>DESEMPREGADO-NOVO EMPREGO</td>\n",
       "    </tr>\n",
       "    <tr>\n",
       "      <th>1</th>\n",
       "      <td>347421</td>\n",
       "      <td>204</td>\n",
       "      <td>0</td>\n",
       "      <td>50</td>\n",
       "      <td>12</td>\n",
       "      <td>PT</td>\n",
       "      <td>649.0</td>\n",
       "      <td>523</td>\n",
       "      <td>5</td>\n",
       "      <td>52321</td>\n",
       "      <td>1</td>\n",
       "      <td>351 days 00:00:00.000000000</td>\n",
       "      <td>34401ZZ</td>\n",
       "      <td>TÉCNICO/A DE CONTABILIDADE</td>\n",
       "      <td>1000.0</td>\n",
       "      <td>A</td>\n",
       "      <td>5.0</td>\n",
       "      <td>OCUPADO</td>\n",
       "    </tr>\n",
       "    <tr>\n",
       "      <th>2</th>\n",
       "      <td>347421</td>\n",
       "      <td>204</td>\n",
       "      <td>0</td>\n",
       "      <td>50</td>\n",
       "      <td>12</td>\n",
       "      <td>PT</td>\n",
       "      <td>649.0</td>\n",
       "      <td>523</td>\n",
       "      <td>5</td>\n",
       "      <td>52321</td>\n",
       "      <td>1</td>\n",
       "      <td>351 days 00:00:00.000000000</td>\n",
       "      <td>523101E</td>\n",
       "      <td>AUTOMAÇÃO, ROBÓTICA E CONTROLO INDUSTRIAL</td>\n",
       "      <td>1560.0</td>\n",
       "      <td>A</td>\n",
       "      <td>5.0</td>\n",
       "      <td>OCUPADO</td>\n",
       "    </tr>\n",
       "  </tbody>\n",
       "</table>\n",
       "</div>"
      ],
      "text/plain": [
       "   UTE_ID  CodCEFP  Sexo  IdadeEmAnos  CodHabilitacao CodNacionalidade  \\\n",
       "0  155241      501     1           51              12               PT   \n",
       "1  347421      204     0           50              12               PT   \n",
       "2  347421      204     0           50              12               PT   \n",
       "\n",
       "   HorasForm  AreaFormacao NivelFormacaoAccao CodSaidaProfissional  Sucessos  \\\n",
       "0      447.0           812                  5                 8126         1   \n",
       "1      649.0           523                  5                52321         1   \n",
       "2      649.0           523                  5                52321         1   \n",
       "\n",
       "               DuracaoFormacao F_CCURSO  \\\n",
       "0  382 days 00:00:00.000000000  812061E   \n",
       "1  351 days 00:00:00.000000000  34401ZZ   \n",
       "2  351 days 00:00:00.000000000  523101E   \n",
       "\n",
       "                                            F_DCURSO  F_HORAS TIPO_UTENTE  \\\n",
       "0  TÉCNICO/A ESPECIALISTA EM TURISMO DE AR LIVRE ...   1425.0           A   \n",
       "1                         TÉCNICO/A DE CONTABILIDADE   1000.0           A   \n",
       "2          AUTOMAÇÃO, ROBÓTICA E CONTROLO INDUSTRIAL   1560.0           A   \n",
       "\n",
       "   CATEGORIA                 DCATEGORIA  \n",
       "0        2.0  DESEMPREGADO-NOVO EMPREGO  \n",
       "1        5.0                    OCUPADO  \n",
       "2        5.0                    OCUPADO  "
      ]
     },
     "execution_count": 233,
     "metadata": {},
     "output_type": "execute_result"
    }
   ],
   "source": [
    "# leitura do csv com os dados combinados\n",
    "iefp = pd.read_csv('databases/iefp_dados_combinados.csv')\n",
    "\n",
    "del iefp[\"Unnamed: 0\"]\n",
    "iefp.head(3)"
   ]
  },
  {
   "cell_type": "markdown",
   "metadata": {},
   "source": [
    "<div style=\"border: solid 4px #2f648a; border-radius: 5px;\"> \n",
    "    <center><h3 style=\"color: #2f648a; padding: 10px;\">5.1. Seleção de features</h3></center>\n",
    "</div>"
   ]
  },
  {
   "cell_type": "code",
   "execution_count": 234,
   "metadata": {},
   "outputs": [
    {
     "data": {
      "text/html": [
       "<div>\n",
       "<style scoped>\n",
       "    .dataframe tbody tr th:only-of-type {\n",
       "        vertical-align: middle;\n",
       "    }\n",
       "\n",
       "    .dataframe tbody tr th {\n",
       "        vertical-align: top;\n",
       "    }\n",
       "\n",
       "    .dataframe thead th {\n",
       "        text-align: right;\n",
       "    }\n",
       "</style>\n",
       "<table border=\"1\" class=\"dataframe\">\n",
       "  <thead>\n",
       "    <tr style=\"text-align: right;\">\n",
       "      <th></th>\n",
       "      <th>CodCEFP</th>\n",
       "      <th>Sexo</th>\n",
       "      <th>IdadeEmAnos</th>\n",
       "      <th>CodHabilitacao</th>\n",
       "      <th>HorasForm</th>\n",
       "      <th>AreaFormacao</th>\n",
       "      <th>NivelFormacaoAccao</th>\n",
       "      <th>CodSaidaProfissional</th>\n",
       "      <th>CATEGORIA</th>\n",
       "    </tr>\n",
       "  </thead>\n",
       "  <tbody>\n",
       "    <tr>\n",
       "      <th>0</th>\n",
       "      <td>501</td>\n",
       "      <td>1</td>\n",
       "      <td>51</td>\n",
       "      <td>12</td>\n",
       "      <td>447.0</td>\n",
       "      <td>812</td>\n",
       "      <td>5</td>\n",
       "      <td>8126</td>\n",
       "      <td>2.0</td>\n",
       "    </tr>\n",
       "    <tr>\n",
       "      <th>1</th>\n",
       "      <td>204</td>\n",
       "      <td>0</td>\n",
       "      <td>50</td>\n",
       "      <td>12</td>\n",
       "      <td>649.0</td>\n",
       "      <td>523</td>\n",
       "      <td>5</td>\n",
       "      <td>52321</td>\n",
       "      <td>5.0</td>\n",
       "    </tr>\n",
       "    <tr>\n",
       "      <th>2</th>\n",
       "      <td>204</td>\n",
       "      <td>0</td>\n",
       "      <td>50</td>\n",
       "      <td>12</td>\n",
       "      <td>649.0</td>\n",
       "      <td>523</td>\n",
       "      <td>5</td>\n",
       "      <td>52321</td>\n",
       "      <td>5.0</td>\n",
       "    </tr>\n",
       "    <tr>\n",
       "      <th>3</th>\n",
       "      <td>502</td>\n",
       "      <td>1</td>\n",
       "      <td>50</td>\n",
       "      <td>12</td>\n",
       "      <td>812.0</td>\n",
       "      <td>344</td>\n",
       "      <td>5</td>\n",
       "      <td>3443</td>\n",
       "      <td>5.0</td>\n",
       "    </tr>\n",
       "    <tr>\n",
       "      <th>4</th>\n",
       "      <td>315</td>\n",
       "      <td>0</td>\n",
       "      <td>54</td>\n",
       "      <td>12</td>\n",
       "      <td>1099.0</td>\n",
       "      <td>481</td>\n",
       "      <td>5</td>\n",
       "      <td>4816</td>\n",
       "      <td>5.0</td>\n",
       "    </tr>\n",
       "  </tbody>\n",
       "</table>\n",
       "</div>"
      ],
      "text/plain": [
       "   CodCEFP  Sexo  IdadeEmAnos  CodHabilitacao  HorasForm  AreaFormacao  \\\n",
       "0      501     1           51              12      447.0           812   \n",
       "1      204     0           50              12      649.0           523   \n",
       "2      204     0           50              12      649.0           523   \n",
       "3      502     1           50              12      812.0           344   \n",
       "4      315     0           54              12     1099.0           481   \n",
       "\n",
       "  NivelFormacaoAccao CodSaidaProfissional  CATEGORIA  \n",
       "0                  5                 8126        2.0  \n",
       "1                  5                52321        5.0  \n",
       "2                  5                52321        5.0  \n",
       "3                  5                 3443        5.0  \n",
       "4                  5                 4816        5.0  "
      ]
     },
     "execution_count": 234,
     "metadata": {},
     "output_type": "execute_result"
    }
   ],
   "source": [
    "# selecao das features para o clustering\n",
    "features = ['CodCEFP', 'Sexo', 'IdadeEmAnos', 'CodHabilitacao',\n",
    "            'HorasForm', 'AreaFormacao', 'NivelFormacaoAccao',\n",
    "            'CodSaidaProfissional', 'CATEGORIA']\n",
    "\n",
    "iefp = iefp[features]\n",
    "iefp.head()"
   ]
  },
  {
   "cell_type": "code",
   "execution_count": 235,
   "metadata": {},
   "outputs": [
    {
     "data": {
      "text/plain": [
       "CodCEFP                   int64\n",
       "Sexo                      int64\n",
       "IdadeEmAnos               int64\n",
       "CodHabilitacao            int64\n",
       "HorasForm               float64\n",
       "AreaFormacao              int64\n",
       "NivelFormacaoAccao       object\n",
       "CodSaidaProfissional     object\n",
       "CATEGORIA               float64\n",
       "dtype: object"
      ]
     },
     "execution_count": 235,
     "metadata": {},
     "output_type": "execute_result"
    }
   ],
   "source": [
    "# tipos das variaveis\n",
    "iefp.dtypes"
   ]
  },
  {
   "cell_type": "markdown",
   "metadata": {},
   "source": [
    "<div style=\"border: solid 4px #2f648a; border-radius: 5px;\"> \n",
    "    <center><h3 style=\"color: #2f648a; padding: 10px;\">5.2. Transformar variáveis em numéricas</h3></center>\n",
    "</div>"
   ]
  },
  {
   "cell_type": "code",
   "execution_count": 236,
   "metadata": {
    "scrolled": true
   },
   "outputs": [
    {
     "data": {
      "text/plain": [
       "CodCEFP                   int64\n",
       "Sexo                      int64\n",
       "IdadeEmAnos               int64\n",
       "CodHabilitacao            int64\n",
       "HorasForm               float64\n",
       "AreaFormacao              int64\n",
       "NivelFormacaoAccao      float64\n",
       "CodSaidaProfissional    float64\n",
       "CATEGORIA               float64\n",
       "dtype: object"
      ]
     },
     "execution_count": 236,
     "metadata": {},
     "output_type": "execute_result"
    }
   ],
   "source": [
    "# converter variaveis object para float\n",
    "iefp['NivelFormacaoAccao'] = pd.to_numeric(iefp['NivelFormacaoAccao'], errors = 'coerce')\n",
    "iefp['CodSaidaProfissional'] = pd.to_numeric(iefp['CodSaidaProfissional'], errors = 'coerce')\n",
    "iefp.dtypes"
   ]
  },
  {
   "cell_type": "markdown",
   "metadata": {},
   "source": [
    "<div style=\"border: solid 4px #2f648a; border-radius: 5px;\"> \n",
    "    <center><h3 style=\"color: #2f648a; padding: 10px;\">5.3. Normalização dos dados</h3></center>\n",
    "</div>"
   ]
  },
  {
   "cell_type": "code",
   "execution_count": 253,
   "metadata": {},
   "outputs": [],
   "source": [
    "iefp = iefp.dropna()"
   ]
  },
  {
   "cell_type": "code",
   "execution_count": 254,
   "metadata": {},
   "outputs": [],
   "source": [
    "# normalizacao das variaveis\n",
    "from sklearn.preprocessing import *\n",
    "\n",
    "scaler = MinMaxScaler().fit(iefp)\n",
    "iefp_norm = pd.DataFrame(scaler.transform(iefp)) # dados dos utentes de sucesso normalizados"
   ]
  },
  {
   "cell_type": "code",
   "execution_count": 255,
   "metadata": {},
   "outputs": [
    {
     "data": {
      "text/html": [
       "<div>\n",
       "<style scoped>\n",
       "    .dataframe tbody tr th:only-of-type {\n",
       "        vertical-align: middle;\n",
       "    }\n",
       "\n",
       "    .dataframe tbody tr th {\n",
       "        vertical-align: top;\n",
       "    }\n",
       "\n",
       "    .dataframe thead th {\n",
       "        text-align: right;\n",
       "    }\n",
       "</style>\n",
       "<table border=\"1\" class=\"dataframe\">\n",
       "  <thead>\n",
       "    <tr style=\"text-align: right;\">\n",
       "      <th></th>\n",
       "      <th>0</th>\n",
       "      <th>1</th>\n",
       "      <th>2</th>\n",
       "      <th>3</th>\n",
       "      <th>4</th>\n",
       "      <th>5</th>\n",
       "      <th>6</th>\n",
       "      <th>7</th>\n",
       "      <th>8</th>\n",
       "    </tr>\n",
       "  </thead>\n",
       "  <tbody>\n",
       "    <tr>\n",
       "      <th>count</th>\n",
       "      <td>36284.000000</td>\n",
       "      <td>36284.000000</td>\n",
       "      <td>36284.000000</td>\n",
       "      <td>36284.000000</td>\n",
       "      <td>36284.000000</td>\n",
       "      <td>36284.000000</td>\n",
       "      <td>36284.000000</td>\n",
       "      <td>36284.000000</td>\n",
       "      <td>36284.000000</td>\n",
       "    </tr>\n",
       "    <tr>\n",
       "      <th>mean</th>\n",
       "      <td>0.350941</td>\n",
       "      <td>0.665114</td>\n",
       "      <td>0.411687</td>\n",
       "      <td>0.488697</td>\n",
       "      <td>0.083181</td>\n",
       "      <td>0.584064</td>\n",
       "      <td>0.546957</td>\n",
       "      <td>0.166355</td>\n",
       "      <td>0.643204</td>\n",
       "    </tr>\n",
       "    <tr>\n",
       "      <th>std</th>\n",
       "      <td>0.280967</td>\n",
       "      <td>0.471957</td>\n",
       "      <td>0.202540</td>\n",
       "      <td>0.177490</td>\n",
       "      <td>0.126924</td>\n",
       "      <td>0.215654</td>\n",
       "      <td>0.247858</td>\n",
       "      <td>0.226929</td>\n",
       "      <td>0.371747</td>\n",
       "    </tr>\n",
       "    <tr>\n",
       "      <th>min</th>\n",
       "      <td>0.000000</td>\n",
       "      <td>0.000000</td>\n",
       "      <td>0.000000</td>\n",
       "      <td>0.000000</td>\n",
       "      <td>0.000000</td>\n",
       "      <td>0.000000</td>\n",
       "      <td>0.000000</td>\n",
       "      <td>0.000000</td>\n",
       "      <td>0.000000</td>\n",
       "    </tr>\n",
       "    <tr>\n",
       "      <th>25%</th>\n",
       "      <td>0.071053</td>\n",
       "      <td>0.000000</td>\n",
       "      <td>0.250000</td>\n",
       "      <td>0.388889</td>\n",
       "      <td>0.010860</td>\n",
       "      <td>0.338726</td>\n",
       "      <td>0.400000</td>\n",
       "      <td>0.042216</td>\n",
       "      <td>0.250000</td>\n",
       "    </tr>\n",
       "    <tr>\n",
       "      <th>50%</th>\n",
       "      <td>0.226316</td>\n",
       "      <td>1.000000</td>\n",
       "      <td>0.403846</td>\n",
       "      <td>0.555556</td>\n",
       "      <td>0.021720</td>\n",
       "      <td>0.538928</td>\n",
       "      <td>0.400000</td>\n",
       "      <td>0.089474</td>\n",
       "      <td>0.750000</td>\n",
       "    </tr>\n",
       "    <tr>\n",
       "      <th>75%</th>\n",
       "      <td>0.502632</td>\n",
       "      <td>1.000000</td>\n",
       "      <td>0.557692</td>\n",
       "      <td>0.555556</td>\n",
       "      <td>0.086012</td>\n",
       "      <td>0.760364</td>\n",
       "      <td>0.800000</td>\n",
       "      <td>0.099779</td>\n",
       "      <td>1.000000</td>\n",
       "    </tr>\n",
       "    <tr>\n",
       "      <th>max</th>\n",
       "      <td>1.000000</td>\n",
       "      <td>1.000000</td>\n",
       "      <td>1.000000</td>\n",
       "      <td>1.000000</td>\n",
       "      <td>1.000000</td>\n",
       "      <td>1.000000</td>\n",
       "      <td>1.000000</td>\n",
       "      <td>1.000000</td>\n",
       "      <td>1.000000</td>\n",
       "    </tr>\n",
       "  </tbody>\n",
       "</table>\n",
       "</div>"
      ],
      "text/plain": [
       "                  0             1             2             3             4  \\\n",
       "count  36284.000000  36284.000000  36284.000000  36284.000000  36284.000000   \n",
       "mean       0.350941      0.665114      0.411687      0.488697      0.083181   \n",
       "std        0.280967      0.471957      0.202540      0.177490      0.126924   \n",
       "min        0.000000      0.000000      0.000000      0.000000      0.000000   \n",
       "25%        0.071053      0.000000      0.250000      0.388889      0.010860   \n",
       "50%        0.226316      1.000000      0.403846      0.555556      0.021720   \n",
       "75%        0.502632      1.000000      0.557692      0.555556      0.086012   \n",
       "max        1.000000      1.000000      1.000000      1.000000      1.000000   \n",
       "\n",
       "                  5             6             7             8  \n",
       "count  36284.000000  36284.000000  36284.000000  36284.000000  \n",
       "mean       0.584064      0.546957      0.166355      0.643204  \n",
       "std        0.215654      0.247858      0.226929      0.371747  \n",
       "min        0.000000      0.000000      0.000000      0.000000  \n",
       "25%        0.338726      0.400000      0.042216      0.250000  \n",
       "50%        0.538928      0.400000      0.089474      0.750000  \n",
       "75%        0.760364      0.800000      0.099779      1.000000  \n",
       "max        1.000000      1.000000      1.000000      1.000000  "
      ]
     },
     "execution_count": 255,
     "metadata": {},
     "output_type": "execute_result"
    }
   ],
   "source": [
    "iefp_norm.describe()"
   ]
  },
  {
   "cell_type": "markdown",
   "metadata": {},
   "source": [
    "<div style=\"background-color: #2f648a; border-radius: 5px;\"> \n",
    "    <center><h1 style=\"color: white; padding: 20px;\">6. Conjunto treino / teste</h1></center>\n",
    "</div>\n",
    "\n",
    "<br>\n",
    "\n",
    "Para testar o modelo, são divididos os dados em 80% para o conjunto treino e os restantes para o conjunto de teste."
   ]
  },
  {
   "cell_type": "code",
   "execution_count": 256,
   "metadata": {},
   "outputs": [],
   "source": [
    "from sklearn.model_selection import train_test_split\n",
    "\n",
    "# divisao treino/teste dos dados normalizados\n",
    "train, test = train_test_split(iefp_norm, \n",
    "                 train_size=0.8, \n",
    "                 random_state=5)"
   ]
  },
  {
   "cell_type": "markdown",
   "metadata": {},
   "source": [
    "<div style=\"background-color: #2f648a; border-radius: 5px;\"> \n",
    "    <center><h1 style=\"color: white; padding: 20px;\">7. Clustering</h1></center>\n",
    "</div>\n",
    "\n",
    "<br>\n",
    "\n",
    "Para testar o modelo, são divididos os dados em 80% para o conjunto treino e os restantes para o conjunto de teste."
   ]
  },
  {
   "cell_type": "markdown",
   "metadata": {},
   "source": [
    "Modelo C-Means com os dados de treino.\n",
    "O número de centróides é definido tendo em conta o **FPC - Fuzzy Partition Coefficient** - quanto mais elevado o valor do FPC, melhor o modelo descreve os dados."
   ]
  },
  {
   "cell_type": "code",
   "execution_count": 291,
   "metadata": {},
   "outputs": [],
   "source": [
    "fpcs = [] # guarda os fpc scores testados\n",
    "scores = {} # relaciona o numero de centroides com cada score\n",
    "\n",
    "for ncenters in range(1, 20):\n",
    "    \n",
    "    cntr, u, u0, d, jm, p, fpc = skfuzzy.cluster.cmeans(\n",
    "        train, ncenters, 2, error=0.0001, maxiter=1000000, init=None)\n",
    "    \n",
    "    fpcs.append(fpc)\n",
    "    scores[fpc] = ncenters"
   ]
  },
  {
   "cell_type": "code",
   "execution_count": 292,
   "metadata": {
    "scrolled": false
   },
   "outputs": [
    {
     "data": {
      "image/png": "[encoded data removed]",
      "text/plain": [
       "<Figure size 432x288 with 1 Axes>"
      ]
     },
     "metadata": {
      "needs_background": "light"
     },
     "output_type": "display_data"
    }
   ],
   "source": [
    "# plot dos valores do fpc\n",
    "\n",
    "plt.plot(range(1,20), fpcs)\n",
    "plt.title('FPC Score por número de centróides')\n",
    "plt.xlabel('Número de centróides')\n",
    "plt.ylabel('Valor do FPC Score')\n",
    "plt.show()"
   ]
  },
  {
   "cell_type": "code",
   "execution_count": 293,
   "metadata": {},
   "outputs": [
    {
     "data": {
      "text/plain": [
       "[1.0,\n",
       " 0.6123523748983016,\n",
       " 0.46864437408365844,\n",
       " 0.518524212790119,\n",
       " 0.6083613219205394,\n",
       " 0.6998677907346763,\n",
       " 0.8012415317209692,\n",
       " 0.9004010995302829,\n",
       " 1.0,\n",
       " 0.9444444444444444,\n",
       " 0.9999999999999998,\n",
       " 0.8888888888888888,\n",
       " 0.9166666666666666,\n",
       " 0.8888888888888888,\n",
       " 0.9259259259259258,\n",
       " 0.925925925925926,\n",
       " 0.999999999974762,\n",
       " 0.8148148148148149,\n",
       " 0.9444444444444444]"
      ]
     },
     "execution_count": 293,
     "metadata": {},
     "output_type": "execute_result"
    }
   ],
   "source": [
    "fpcs"
   ]
  },
  {
   "cell_type": "code",
   "execution_count": 260,
   "metadata": {},
   "outputs": [
    {
     "data": {
      "text/plain": [
       "11"
      ]
     },
     "execution_count": 260,
     "metadata": {},
     "output_type": "execute_result"
    }
   ],
   "source": [
    "del scores[1]\n",
    "fpc_max = scores[max(scores.keys())] # numero de centroides que permite obter fpc maximo\n",
    "fpc_max"
   ]
  },
  {
   "cell_type": "markdown",
   "metadata": {},
   "source": [
    "O valor que permite obter o máximo FPC é 2."
   ]
  }
 ],
 "metadata": {
  "kernelspec": {
   "display_name": "Python 3",
   "language": "python",
   "name": "python3"
  },
  "language_info": {
   "codemirror_mode": {
    "name": "ipython",
    "version": 3
   },
   "file_extension": ".py",
   "mimetype": "text/x-python",
   "name": "python",
   "nbconvert_exporter": "python",
   "pygments_lexer": "ipython3",
   "version": "3.8.3"
  }
 },
 "nbformat": 4,
 "nbformat_minor": 4
}
